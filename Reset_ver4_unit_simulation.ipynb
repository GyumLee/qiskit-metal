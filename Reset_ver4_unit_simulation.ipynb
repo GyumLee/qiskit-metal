{
 "cells": [
  {
   "cell_type": "markdown",
   "metadata": {},
   "source": [
    "# Example full chip design"
   ]
  },
  {
   "cell_type": "code",
   "execution_count": 1,
   "metadata": {},
   "outputs": [],
   "source": [
    "%load_ext autoreload\n",
    "%autoreload 2"
   ]
  },
  {
   "cell_type": "markdown",
   "metadata": {},
   "source": [
    "# Import Modules"
   ]
  },
  {
   "cell_type": "code",
   "execution_count": 2,
   "metadata": {
    "scrolled": true
   },
   "outputs": [],
   "source": [
    "import qiskit_metal as metal\n",
    "from qiskit_metal import designs, draw\n",
    "from qiskit_metal import MetalGUI, Dict, open_docs"
   ]
  },
  {
   "cell_type": "code",
   "execution_count": 3,
   "metadata": {},
   "outputs": [],
   "source": [
    "from qiskit_metal.analyses.em.cpw_calculations import guided_wavelength\n",
    "from qiskit_metal.qlibrary.tlines.meandered import RouteMeander\n",
    "from qiskit_metal.qlibrary.tlines.pathfinder import RoutePathfinder\n",
    "from qiskit_metal.qlibrary.tlines.anchored_path import RouteAnchors\n",
    "\n",
    "from qiskit_metal.qlibrary.lumped.cap_n_interdigital import CapNInterdigital\n",
    "from qiskit_metal.qlibrary.couplers.cap_n_interdigital_tee import CapNInterdigitalTee\n",
    "from qiskit_metal.qlibrary.couplers.coupled_line_tee import CoupledLineTee\n",
    "from qiskit_metal.qlibrary.couplers.line_tee import LineTee\n",
    "\n",
    "from qiskit_metal.qlibrary.terminations.launchpad_wb import LaunchpadWirebond\n",
    "from qiskit_metal.qlibrary.terminations.launchpad_wb_coupled import LaunchpadWirebondCoupled\n",
    "\n",
    "from qiskit_metal.qlibrary.tlines.framed_path import RouteFramed\n",
    "from qiskit_metal.qlibrary.terminations.short_to_ground import ShortToGround\n",
    "from qiskit_metal.qlibrary.terminations.open_to_ground import OpenToGround\n",
    "\n",
    "from collections import OrderedDict\n",
    "\n",
    "from qiskit_metal.qlibrary.tlines.straight_path import RouteStraight"
   ]
  },
  {
   "cell_type": "markdown",
   "metadata": {},
   "source": [
    "## Define \"TransmonPocket_sqnl\""
   ]
  },
  {
   "cell_type": "code",
   "execution_count": 4,
   "metadata": {},
   "outputs": [],
   "source": [
    "from qiskit_metal.qlibrary.core import BaseQubit\n",
    "import numpy as np\n",
    "class TransmonPocket_sqnl(BaseQubit):\n",
    "    default_options = Dict(\n",
    "        pad_gap='30um',\n",
    "        inductor_width='20um',\n",
    "        pad_width='455um',\n",
    "        pad_height='90um',\n",
    "        pocket_width='650um',\n",
    "        pocket_height='650um',\n",
    "        # 90 has dipole aligned along the +X axis,\n",
    "        # while 0 has dipole aligned along the +Y axis\n",
    "        _default_connection_pads=Dict(\n",
    "            connector_type='0',  # 0 = Claw type, 1 = T-shape\n",
    "            pad_width='125um',\n",
    "            pad_height='30um',\n",
    "            pad_cpw_shift='0um',\n",
    "            pad_cpw_extent='25um',\n",
    "            claw_length='30um',\n",
    "            claw_width='10um',\n",
    "            claw_gap='6um',\n",
    "            claw_cpw_length='40um',\n",
    "            claw_cpw_width='10um',\n",
    "            ground_spacing='5um',\n",
    "            connector_location= '0'  # 0~5 means six locations with rotated CCW starting from right-top site\n",
    "        ))\n",
    "    \"\"\"Default drawing options\"\"\"\n",
    "\n",
    "    component_metadata = Dict(short_name='Pocket_claw',\n",
    "                              _qgeometry_table_path='True',\n",
    "                              _qgeometry_table_poly='True',\n",
    "                              _qgeometry_table_junction='True')\n",
    "    \"\"\"Component metadata\"\"\"\n",
    "\n",
    "    TOOLTIP = \"\"\"The base `TransmonPocket_sqnl` class.\"\"\"\n",
    "\n",
    "    def make(self):\n",
    "        \"\"\"Define the way the options are turned into QGeometry.\n",
    "\n",
    "        The make function implements the logic that creates the geoemtry\n",
    "        (poly, path, etc.) from the qcomponent.options dictionary of\n",
    "        parameters, and the adds them to the design, using\n",
    "        qcomponent.add_qgeometry(...), adding in extra needed\n",
    "        information, such as layer, subtract, etc.\n",
    "        \"\"\"\n",
    "        self.make_pocket()\n",
    "        self.make_connection_pads()\n",
    "\n",
    "    def make_pocket(self):\n",
    "        \"\"\"Makes standard transmon in a pocket.\"\"\"\n",
    "\n",
    "        # self.p allows us to directly access parsed values (string -> numbers) form the user option\n",
    "        p = self.p\n",
    "\n",
    "        # extract chip name\n",
    "        chip = p.chip\n",
    "\n",
    "        # since we will reuse these options, parse them once and define them as varaibles\n",
    "        pad_width = p.pad_width\n",
    "        pad_height = p.pad_height\n",
    "        pad_gap = p.pad_gap\n",
    "\n",
    "        # make the pads as rectangles (shapely polygons)\n",
    "        pad = draw.rectangle(pad_width, pad_height)\n",
    "        pad_top = draw.translate(pad, 0, +(pad_height + pad_gap) / 2.)\n",
    "        pad_bot = draw.translate(pad, 0, -(pad_height + pad_gap) / 2.)\n",
    "\n",
    "        rect_jj = draw.LineString([(0, -pad_gap / 2), (0, +pad_gap / 2)])\n",
    "        # the draw.rectangle representing the josephson junction\n",
    "        # rect_jj = draw.rectangle(p.inductor_width, pad_gap)\n",
    "\n",
    "        rect_pk = draw.rectangle(p.pocket_width, p.pocket_height)\n",
    "\n",
    "        # Rotate and translate all qgeometry as needed.\n",
    "        # Done with utility functions in Metal 'draw_utility' for easy rotation/translation\n",
    "        # NOTE: Should modify so rotate/translate accepts qgeometry, would allow for\n",
    "        # smoother implementation.\n",
    "        polys = [rect_jj, pad_top, pad_bot, rect_pk]\n",
    "        polys = draw.rotate(polys, p.orientation, origin=(0, 0))\n",
    "        polys = draw.translate(polys, p.pos_x, p.pos_y)\n",
    "        [rect_jj, pad_top, pad_bot, rect_pk] = polys\n",
    "\n",
    "        # Use the geometry to create Metal qgeometry\n",
    "        self.add_qgeometry('poly',\n",
    "                           dict(pad_top=pad_top, pad_bot=pad_bot),\n",
    "                           chip=chip)\n",
    "        self.add_qgeometry('poly',\n",
    "                           dict(rect_pk=rect_pk),\n",
    "                           subtract=True,\n",
    "                           chip=chip)\n",
    "        # self.add_qgeometry('poly', dict(\n",
    "        #     rect_jj=rect_jj), helper=True)\n",
    "        self.add_qgeometry('junction',\n",
    "                           dict(rect_jj=rect_jj),\n",
    "                           width=p.inductor_width,\n",
    "                           chip=chip)\n",
    "\n",
    "    def make_connection_pads(self):\n",
    "        \"\"\"Makes standard transmon in a pocket.\"\"\"\n",
    "        for name in self.options.connection_pads:\n",
    "            self.make_connection_pad(name)\n",
    "\n",
    "    def make_connection_pad(self, name: str):\n",
    "        \"\"\"Makes n individual connector.\n",
    "\n",
    "        Args:\n",
    "            name (str) : Name of the connector\n",
    "        \"\"\"\n",
    "        # self.p allows us to directly access parsed values (string -> numbers) form the user option\n",
    "        p = self.p\n",
    "        pc = self.p.connection_pads[name]  # parser on connector options\n",
    "        # extract chip name\n",
    "        chip = p.chip\n",
    "    \n",
    "        if pc.connector_type == 0:  # Claw connector\n",
    "            \n",
    "            # define commonly used variables once\n",
    "            pad_width = p.pad_width\n",
    "            pad_height = p.pad_height\n",
    "            pad_gap = p.pad_gap\n",
    "            pocket_width = p.pocket_width\n",
    "            pocket_height = p.pocket_height\n",
    "    \n",
    "            c_g = pc.claw_gap\n",
    "            c_l = pc.claw_length\n",
    "            c_w = pc.claw_width\n",
    "            c_c_w = pc.claw_cpw_width\n",
    "            c_c_l = pc.claw_cpw_length\n",
    "            g_s = pc.ground_spacing\n",
    "            con_loc = pc.connector_location\n",
    "    \n",
    "            claw_cpw = draw.box(-c_w, -c_c_w / 2, -c_c_l - c_w, c_c_w / 2)\n",
    "            if con_loc == 0 or  con_loc == 2 or  con_loc == 3 or  con_loc == 5:\n",
    "                t_claw_height = 2*c_g + 2 * c_w + pad_height  # temp value\n",
    "    \n",
    "                claw_base     = draw.box(-c_w, -(t_claw_height) / 2, c_l, t_claw_height / 2)\n",
    "                claw_subtract = draw.box(0, -t_claw_height / 2 + c_w, c_l, t_claw_height / 2 - c_w)\n",
    "                claw_base = claw_base.difference(claw_subtract)\n",
    "    \n",
    "                connector_arm = draw.shapely.ops.unary_union([claw_base, claw_cpw])\n",
    "                connector_etcher = draw.buffer(connector_arm, c_g)\n",
    "            elif con_loc == 1 or  con_loc == 4:\n",
    "                t_claw_height = 2*c_g + 2 * c_w + pad_width  # temp value\n",
    "    \n",
    "                claw_base     = draw.box(-c_w, -(t_claw_height) / 2, c_l, t_claw_height / 2)\n",
    "                claw_subtract = draw.box(0, -t_claw_height / 2 + c_w, c_l, t_claw_height / 2 - c_w)\n",
    "                claw_base = claw_base.difference(claw_subtract)\n",
    "    \n",
    "                connector_arm = draw.shapely.ops.unary_union([claw_base, claw_cpw])\n",
    "                connector_etcher = draw.buffer(connector_arm, g_s)\n",
    "            else:\n",
    "                print('Not appropriate position of connector')\n",
    "            \n",
    "            port_line = draw.LineString([(- c_w, 0),\n",
    "                                     (-c_c_l - c_w, 0)])\n",
    "\n",
    "            claw_rotate = 0\n",
    "            if con_loc == 0:\n",
    "                claw_rotate = -180\n",
    "            elif con_loc == 1:\n",
    "                claw_rotate = -90\n",
    "            elif con_loc == 2:\n",
    "                claw_rotate = 0\n",
    "            elif con_loc == 3:\n",
    "                claw_rotate = 0\n",
    "            elif con_loc == 4:\n",
    "                claw_rotate = 90\n",
    "            elif con_loc == 5:\n",
    "                claw_rotate = 180\n",
    "    \n",
    "            claw_translate_x = (con_loc==0 or con_loc==5)*(pad_width/2 + g_s) + (con_loc==2 or con_loc==3)*(-pad_width/2 - g_s)\n",
    "            claw_translate_y = (con_loc==0 or con_loc==2)*(pad_height + pad_gap)/2 + (con_loc==5 or con_loc==3)*(-pad_height - pad_gap)/2 + (con_loc==1)*(pad_height + pad_gap/2 + g_s) - (con_loc==4)*(pad_height + pad_gap/2 + g_s)\n",
    "            \n",
    "            # Rotates and translates the connector polygons (and temporary port_line)\n",
    "            polys = [connector_arm, connector_etcher, port_line]\n",
    "            polys = draw.rotate(polys, claw_rotate, origin=(0, 0))\n",
    "            polys = draw.translate(polys, claw_translate_x, claw_translate_y)\n",
    "            #polys = draw.rotate(polys, p.orientation, origin=(0, 0))\n",
    "            polys = draw.translate(polys, p.pos_x, p.pos_y)\n",
    "            [connector_arm, connector_etcher, port_line] = polys\n",
    "    \n",
    "            # Generates qgeometry for the connector pads\n",
    "            self.add_qgeometry('poly', {f'{name}_connector_arm': connector_arm},\n",
    "                               chip=chip)\n",
    "            self.add_qgeometry('poly',\n",
    "                               {f'{name}_connector_etcher': connector_etcher},\n",
    "                               subtract=True,\n",
    "                               chip=chip)\n",
    "    \n",
    "            self.add_pin(name, points=port_line.coords, width=c_c_w,input_as_norm=True)\n",
    "        elif pc.connector_type == 1:  # T-shape connector\n",
    "            \n",
    "            # define commonly used variables once\n",
    "            pad_width = p.pad_width\n",
    "            pad_height = p.pad_height\n",
    "            pad_gap = p.pad_gap\n",
    "            pocket_width = p.pocket_width\n",
    "            pocket_height = p.pocket_height\n",
    "    \n",
    "            c_g = pc.claw_gap\n",
    "            c_l = 0\n",
    "            c_w = pc.claw_width\n",
    "            c_c_w = pc.claw_cpw_width\n",
    "            c_c_l = pc.claw_cpw_length\n",
    "            g_s = pc.ground_spacing\n",
    "            con_loc = pc.connector_location\n",
    "    \n",
    "            claw_cpw = draw.box(-c_w, -c_c_w / 2, -c_c_l - c_w, c_c_w / 2)\n",
    "            if con_loc == 0 or  con_loc == 2 or  con_loc == 3 or  con_loc == 5:\n",
    "                t_claw_height = pc.t_claw_height\n",
    "    \n",
    "                claw_base     = draw.box(-c_w, -(t_claw_height) / 2, c_l, t_claw_height / 2)\n",
    "                claw_subtract = draw.box(0, -t_claw_height / 2 + c_w, c_l, t_claw_height / 2 - c_w)\n",
    "                claw_base = claw_base.difference(claw_subtract)\n",
    "    \n",
    "                connector_arm = draw.shapely.ops.unary_union([claw_base, claw_cpw])\n",
    "                connector_etcher = draw.buffer(connector_arm, c_g)\n",
    "            elif con_loc == 1 or  con_loc == 4:\n",
    "                t_claw_height = pc.t_claw_height\n",
    "    \n",
    "                claw_base     = draw.box(-c_w, -(t_claw_height) / 2, c_l, t_claw_height / 2)\n",
    "                claw_subtract = draw.box(0, -t_claw_height / 2 + c_w, c_l, t_claw_height / 2 - c_w)\n",
    "                claw_base = claw_base.difference(claw_subtract)\n",
    "    \n",
    "                connector_arm = draw.shapely.ops.unary_union([claw_base, claw_cpw])\n",
    "                connector_etcher = draw.buffer(connector_arm, c_g)\n",
    "            else:\n",
    "                print('Not appropriate position of connector')\n",
    "            \n",
    "            port_line = draw.LineString([(- c_w, 0),\n",
    "                                     (-c_c_l - c_w, 0)])\n",
    "\n",
    "            claw_rotate = 0\n",
    "            if con_loc == 0:\n",
    "                claw_rotate = -180\n",
    "            elif con_loc == 1:\n",
    "                claw_rotate = -90\n",
    "            elif con_loc == 2:\n",
    "                claw_rotate = 0\n",
    "            elif con_loc == 3:\n",
    "                claw_rotate = 0\n",
    "            elif con_loc == 4:\n",
    "                claw_rotate = 90\n",
    "            elif con_loc == 5:\n",
    "                claw_rotate = 180\n",
    "    \n",
    "            claw_translate_x = (con_loc==0 or con_loc==5)*(pad_width/2 + g_s) + (con_loc==2 or con_loc==3)*(-pad_width/2 - g_s)\n",
    "            claw_translate_y = (con_loc==0 or con_loc==2)*(pad_height + pad_gap)/2 + (con_loc==5 or con_loc==3)*(-pad_height - pad_gap)/2 + (con_loc==1)*(pad_height + pad_gap/2 + g_s) - (con_loc==4)*(pad_height + pad_gap/2 + g_s)\n",
    "            \n",
    "            # Rotates and translates the connector polygons (and temporary port_line)\n",
    "            polys = [connector_arm, connector_etcher, port_line]\n",
    "            polys = draw.rotate(polys, claw_rotate, origin=(0, 0))\n",
    "            polys = draw.translate(polys, claw_translate_x, claw_translate_y)\n",
    "            polys = draw.rotate(polys, p.orientation, origin=(0, 0))\n",
    "            polys = draw.translate(polys, p.pos_x, p.pos_y)\n",
    "            [connector_arm, connector_etcher, port_line] = polys\n",
    "    \n",
    "            # Generates qgeometry for the connector pads\n",
    "            self.add_qgeometry('poly', {f'{name}_connector_arm': connector_arm},\n",
    "                               chip=chip)\n",
    "            self.add_qgeometry('poly',\n",
    "                               {f'{name}_connector_etcher': connector_etcher},\n",
    "                               subtract=True,\n",
    "                               chip=chip)\n",
    "    \n",
    "            self.add_pin(name, points=port_line.coords, width=c_c_w,input_as_norm=True)\n",
    "\n",
    "        else:\n",
    "            print('Incorrect connector type')\n",
    "            \n",
    "        "
   ]
  },
  {
   "cell_type": "markdown",
   "metadata": {},
   "source": [
    "## Define \"LineTee_sqnl\""
   ]
  },
  {
   "cell_type": "code",
   "execution_count": 5,
   "metadata": {},
   "outputs": [],
   "source": [
    "from qiskit_metal.qlibrary.core import QComponent\n",
    "class LineTee_sqnl(QComponent):\n",
    "    \"\"\"Generates a three pin (+) structure comprised of a primary two pin CPW\n",
    "    transmission line, and a secondary one pin neighboring CPW transmission\n",
    "    line that is capacitively coupled to the primary. Such a structure can be\n",
    "    used, as an example, for generating CPW resonator hangars off of a\n",
    "    transmission line. (0,0) represents the center position of the component.\n",
    "\n",
    "    Inherits QComponent class.\n",
    "\n",
    "    ::\n",
    "\n",
    "                  (0,0)\n",
    "        +--------------------------+\n",
    "                    |\n",
    "                    |\n",
    "                    |\n",
    "                    |\n",
    "                    |\n",
    "                    +\n",
    "\n",
    "    .. image::\n",
    "        LineTee.png\n",
    "\n",
    "    .. meta::\n",
    "        Line Tee\n",
    "\n",
    "    Options:\n",
    "        * prime_width: '10um' -- The width of the trace of the two pin CPW transmission line\n",
    "        * prime_gap: '6um' -- The dielectric gap of the two pin CPW transmission line\n",
    "        * second_width: '10um' -- The width of the trace of the one pin CPW transmission line\n",
    "        * second_gap: '6um' -- The dielectric gap of the one pin CPW transmission line (also for the capacitor)\n",
    "        * t_length: '50um' -- The length for the t branches\n",
    "        * C_box_width: '50um'\n",
    "        * C_box_height: '20um'\n",
    "        * C_box_gap: '20um'\n",
    "        * C_gap: '5um'\n",
    "    \"\"\"\n",
    "    component_metadata = Dict(short_name='cpw', _qgeometry_table_path='True')\n",
    "    \"\"\"Component metadata\"\"\"\n",
    "\n",
    "    #Currently setting the primary CPW length based on the coupling_length\n",
    "    #May want it to be it's own value that the user can control?\n",
    "    default_options = Dict(prime_width='10um',\n",
    "                           prime_gap='6um',\n",
    "                           second_width='10um',\n",
    "                           second_gap='6um',\n",
    "                           t_length='50um')\n",
    "    \"\"\"Default connector options\"\"\"\n",
    "\n",
    "    TOOLTIP = \"\"\"Generates a three pin (+) structure comprised of a primary two pin CPW\n",
    "    transmission line, and a secondary one pin neighboring CPW transmission\n",
    "    line that is capacitively coupled to the primary.\"\"\"\n",
    "\n",
    "    def make(self):\n",
    "        \"\"\"Build the component.\"\"\"\n",
    "        p = self.p\n",
    "        prime_cpw_length = p.t_length * 2\n",
    "        C_box_width = p.C_box_width\n",
    "        C_box_height = p.C_box_height\n",
    "        C_box_gap = p.C_box_gap\n",
    "        C_gap = p.C_gap\n",
    "        \n",
    "        #Primary CPW\n",
    "        prime_cpw = draw.LineString([[-prime_cpw_length / 2, 0],\n",
    "                                     [prime_cpw_length / 2, 0]])\n",
    "\n",
    "        #Secondary CPW\n",
    "        second_cpw = draw.LineString([[0, -p.prime_width / 2], [0,\n",
    "                                                                -p.t_length]])\n",
    "        \n",
    "        #Capacitor\n",
    "        C_box = draw.box(-C_box_width/2,-p.t_length-C_box_height,C_box_width/2,-p.t_length)\n",
    "        C_gap = draw.box(-C_box_width/2-C_box_gap,-p.t_length-C_box_height-C_gap,C_box_width/2+C_box_gap,-p.t_length+C_box_gap)\n",
    "        \n",
    "        #Rotate and Translate\n",
    "        c_items = [prime_cpw, second_cpw]\n",
    "        c_items = draw.rotate(c_items, p.orientation, origin=(0, 0))\n",
    "        c_items = draw.translate(c_items, p.pos_x, p.pos_y)\n",
    "        [prime_cpw, second_cpw] = c_items\n",
    "        \n",
    "        C_boxes = [C_box,C_gap]\n",
    "        C_boxes = draw.rotate(C_boxes, p.orientation, origin=(0, 0))\n",
    "        C_boxes = draw.translate(C_boxes, p.pos_x, p.pos_y)\n",
    "        [C_box,C_gap] = C_boxes\n",
    "        \n",
    "        #Add to qgeometry tables\n",
    "        self.add_qgeometry('path', {'prime_cpw': prime_cpw},\n",
    "                           width=p.prime_width,\n",
    "                           layer=p.layer)\n",
    "        self.add_qgeometry('path', {'prime_cpw_sub': prime_cpw},\n",
    "                           width=p.prime_width + 2 * p.prime_gap,\n",
    "                           subtract=True,\n",
    "                           layer=p.layer)\n",
    "        self.add_qgeometry('path', {'second_cpw': second_cpw},\n",
    "                           width=p.second_width,\n",
    "                           layer=p.layer)\n",
    "        self.add_qgeometry('path', {'second_cpw_sub': second_cpw},\n",
    "                           width=p.second_width + 2 * p.second_gap,\n",
    "                           subtract=True,\n",
    "                           layer=p.layer)\n",
    "        \n",
    "        self.add_qgeometry('poly', {'C_box': C_box},\n",
    "                           layer=p.layer)\n",
    "        self.add_qgeometry('poly', {'C_gap': C_gap},\n",
    "                           subtract=True,\n",
    "                           layer=p.layer)\n",
    "\n",
    "        #Add pins\n",
    "        prime_pin_list = prime_cpw.coords\n",
    "        second_pin_list = second_cpw.coords\n",
    "\n",
    "        self.add_pin('prime_start',\n",
    "                     points=np.array(prime_pin_list[::-1]),\n",
    "                     width=p.prime_width,\n",
    "                     input_as_norm=True)\n",
    "        self.add_pin('prime_end',\n",
    "                     points=np.array(prime_pin_list),\n",
    "                     width=p.prime_width,\n",
    "                     input_as_norm=True)\n",
    "        self.add_pin('second_end',\n",
    "                     points=np.array(second_pin_list),\n",
    "                     width=p.second_width,\n",
    "                     input_as_norm=True)\n"
   ]
  },
  {
   "cell_type": "markdown",
   "metadata": {},
   "source": [
    "## Chip dimensions"
   ]
  },
  {
   "cell_type": "code",
   "execution_count": 6,
   "metadata": {},
   "outputs": [],
   "source": [
    "design = metal.designs.DesignPlanar()\n",
    "\n",
    "gui = metal.MetalGUI(design)"
   ]
  },
  {
   "cell_type": "code",
   "execution_count": 7,
   "metadata": {},
   "outputs": [
    {
     "data": {
      "text/plain": [
       "{'material': 'silicon',\n",
       " 'layer_start': '0',\n",
       " 'layer_end': '2048',\n",
       " 'size': {'center_x': '0.0mm',\n",
       "  'center_y': '0.0mm',\n",
       "  'center_z': '0.0mm',\n",
       "  'size_x': '9mm',\n",
       "  'size_y': '6mm',\n",
       "  'size_z': '-750um',\n",
       "  'sample_holder_top': '890um',\n",
       "  'sample_holder_bottom': '1650um'}}"
      ]
     },
     "execution_count": 7,
     "metadata": {},
     "output_type": "execute_result"
    }
   ],
   "source": [
    "design.overwrite_enabled = True\n",
    "design.chips.main"
   ]
  },
  {
   "cell_type": "code",
   "execution_count": 8,
   "metadata": {},
   "outputs": [
    {
     "data": {
      "text/plain": [
       "{'main': {'material': 'silicon',\n",
       "  'layer_start': '0',\n",
       "  'layer_end': '2048',\n",
       "  'size': {'center_x': '0.0mm',\n",
       "   'center_y': '0.0mm',\n",
       "   'center_z': '0.0mm',\n",
       "   'size_x': '9mm',\n",
       "   'size_y': '6mm',\n",
       "   'size_z': '-750um',\n",
       "   'sample_holder_top': '890um',\n",
       "   'sample_holder_bottom': '1650um'}}}"
      ]
     },
     "execution_count": 8,
     "metadata": {},
     "output_type": "execute_result"
    }
   ],
   "source": [
    "design.chips"
   ]
  },
  {
   "cell_type": "code",
   "execution_count": 9,
   "metadata": {},
   "outputs": [],
   "source": [
    "design.chips.main.size.size_x = '10mm'\n",
    "design.chips.main.size.size_y = '10mm'"
   ]
  },
  {
   "cell_type": "markdown",
   "metadata": {},
   "source": [
    "# Qubits"
   ]
  },
  {
   "cell_type": "code",
   "execution_count": 10,
   "metadata": {},
   "outputs": [
    {
     "data": {
      "text/plain": [
       "{'pos_x': '0.0um',\n",
       " 'pos_y': '0.0um',\n",
       " 'orientation': '0.0',\n",
       " 'chip': 'main',\n",
       " 'layer': '1',\n",
       " 'connection_pads': {},\n",
       " '_default_connection_pads': {'connector_type': '0',\n",
       "  'pad_width': '125um',\n",
       "  'pad_height': '30um',\n",
       "  'pad_cpw_shift': '0um',\n",
       "  'pad_cpw_extent': '25um',\n",
       "  'claw_length': '30um',\n",
       "  'claw_width': '10um',\n",
       "  'claw_gap': '6um',\n",
       "  'claw_cpw_length': '40um',\n",
       "  'claw_cpw_width': '10um',\n",
       "  'ground_spacing': '5um',\n",
       "  'connector_location': '0'},\n",
       " 'pad_gap': '30um',\n",
       " 'inductor_width': '20um',\n",
       " 'pad_width': '455um',\n",
       " 'pad_height': '90um',\n",
       " 'pocket_width': '650um',\n",
       " 'pocket_height': '650um',\n",
       " 'hfss_wire_bonds': False,\n",
       " 'q3d_wire_bonds': False,\n",
       " 'aedt_q3d_wire_bonds': False,\n",
       " 'aedt_hfss_wire_bonds': False,\n",
       " 'hfss_inductance': '10nH',\n",
       " 'hfss_capacitance': 0,\n",
       " 'hfss_resistance': 0,\n",
       " 'hfss_mesh_kw_jj': 7e-06,\n",
       " 'q3d_inductance': '10nH',\n",
       " 'q3d_capacitance': 0,\n",
       " 'q3d_resistance': 0,\n",
       " 'q3d_mesh_kw_jj': 7e-06,\n",
       " 'gds_cell_name': 'my_other_junction',\n",
       " 'aedt_q3d_inductance': 1e-08,\n",
       " 'aedt_q3d_capacitance': 0,\n",
       " 'aedt_hfss_inductance': 1e-08,\n",
       " 'aedt_hfss_capacitance': 0}"
      ]
     },
     "execution_count": 10,
     "metadata": {},
     "output_type": "execute_result"
    }
   ],
   "source": [
    "TransmonPocket_sqnl.get_template_options(design)"
   ]
  },
  {
   "cell_type": "code",
   "execution_count": 11,
   "metadata": {},
   "outputs": [],
   "source": [
    "options_1 =  dict(\n",
    "    pad_width = '540 um', \n",
    "    pad_height = '132.5 um',\n",
    "    pad_gap = '65 um', \n",
    "    pocket_width = '740 um',\n",
    "    pocket_height = '530 um',\n",
    "    connection_pads=dict(\n",
    "        readout1 = dict(connector_type='0',  # 0 = Claw type, 1 = T-shape type\n",
    "                       t_claw_height = '400um',\n",
    "                       ground_spacing='10um',\n",
    "                       claw_width='20um',\n",
    "                       claw_gap='10um',\n",
    "                       claw_cpw_length='400um',\n",
    "                       claw_cpw_width='20um',\n",
    "                       connector_location=\n",
    "                       '0'  # 0 => 'west' arm, 90 => 'north' arm, 180 => 'east' arm\n",
    "                       ) ,\n",
    "        control = dict(connector_type='1',  # 0 = Claw type, 1 = T-shape type\n",
    "                       t_claw_height = '30um',\n",
    "                       ground_spacing='100um',\n",
    "                       claw_width='30um',\n",
    "                       claw_gap='18um',\n",
    "                       claw_cpw_length='100um',\n",
    "                       claw_cpw_width='30um',\n",
    "                       connector_location=\n",
    "                       '1'  # 0 => 'west' arm, 90 => 'north' arm, 180 => 'east' arm\n",
    "                       ) \n",
    "    ))"
   ]
  },
  {
   "cell_type": "code",
   "execution_count": 12,
   "metadata": {},
   "outputs": [],
   "source": [
    "q_1 = TransmonPocket_sqnl(design,'Q_1', options = dict(\n",
    "        pos_x='0mm', \n",
    "        pos_y='2.5mm', \n",
    "        gds_cell_name ='FakeJunction_01',\n",
    "        hfss_inductance ='14nH',\n",
    "        **options_1))\n",
    "gui.rebuild()\n",
    "gui.autoscale()"
   ]
  },
  {
   "cell_type": "markdown",
   "metadata": {},
   "source": [
    "# Resoantors"
   ]
  },
  {
   "cell_type": "markdown",
   "metadata": {},
   "source": [
    "## Launch Pads"
   ]
  },
  {
   "cell_type": "code",
   "execution_count": 13,
   "metadata": {},
   "outputs": [],
   "source": [
    "launch_TL_read_11 = LaunchpadWirebond(design, \n",
    "                                   'launch_TL_read_11', \n",
    "                                   options = dict(\n",
    "                                       pos_x = '2.5mm', \n",
    "                                       pos_y ='4.3mm', \n",
    "                                       orientation = '270',\n",
    "                                       trace_gap = '10um',\n",
    "                                       trace_width = '20um',\n",
    "                                       taper_height = '375um',\n",
    "                                       pad_width='250um',\n",
    "                                       pad_height='300um',\n",
    "                                       pad_gap = '100um'\n",
    "                                   ))\n",
    "launch_TL_read_12 = LaunchpadWirebond(design, \n",
    "                                   'launch_TL_read_12', \n",
    "                                   options = dict(\n",
    "                                       pos_x = '0mm', \n",
    "                                       pos_y ='4.3mm', \n",
    "                                       orientation = '270',\n",
    "                                       trace_gap = '18um',\n",
    "                                       trace_width = '30um',\n",
    "                                       taper_height = '375um',\n",
    "                                       pad_width='250um',\n",
    "                                       pad_height='300um',\n",
    "                                       pad_gap = '100um'\n",
    "                                   ))\n",
    "\n",
    "gui.rebuild()\n",
    "gui.autoscale()"
   ]
  },
  {
   "cell_type": "code",
   "execution_count": 14,
   "metadata": {},
   "outputs": [
    {
     "data": {
      "text/plain": [
       "{'pos_x': '0.0um',\n",
       " 'pos_y': '0.0um',\n",
       " 'orientation': '0.0',\n",
       " 'chip': 'main',\n",
       " 'layer': '1',\n",
       " 'north_width': '10um',\n",
       " 'north_gap': '6um',\n",
       " 'south_width': '10um',\n",
       " 'south_gap': '6um',\n",
       " 'cap_width': '10um',\n",
       " 'cap_gap': '6um',\n",
       " 'cap_gap_ground': '6um',\n",
       " 'finger_length': '20um',\n",
       " 'finger_count': '5',\n",
       " 'cap_distance': '50um',\n",
       " 'hfss_wire_bonds': False,\n",
       " 'q3d_wire_bonds': False,\n",
       " 'aedt_q3d_wire_bonds': False,\n",
       " 'aedt_hfss_wire_bonds': False}"
      ]
     },
     "execution_count": 14,
     "metadata": {},
     "output_type": "execute_result"
    }
   ],
   "source": [
    "CapNInterdigital.get_template_options(design)"
   ]
  },
  {
   "cell_type": "markdown",
   "metadata": {},
   "source": [
    "## IDCs"
   ]
  },
  {
   "cell_type": "markdown",
   "metadata": {},
   "source": [
    "### Definition"
   ]
  },
  {
   "cell_type": "code",
   "execution_count": 15,
   "metadata": {},
   "outputs": [],
   "source": [
    "from qiskit_metal.qlibrary.core import QComponent\n",
    "class CapNInterdigital_sqnl(QComponent):\n",
    "    \n",
    "    component_metadata = Dict(short_name='cpw',\n",
    "                              _qgeometry_table_poly='True',\n",
    "                              _qgeometry_table_path='True')\n",
    "    \"\"\"Component metadata\"\"\"\n",
    "\n",
    "    #Currently setting the primary CPW length based on the coupling_length\n",
    "    #May want it to be it's own value that the user can control?\n",
    "    default_options = Dict(north_width='10um',\n",
    "                           north_gap='6um',\n",
    "                           south_width='10um',\n",
    "                           south_gap='6um',\n",
    "                           cap_width='10um',\n",
    "                           cap_gap='6um',\n",
    "                           cap_gap_ground='6um',\n",
    "                           finger_length='20um',\n",
    "                           finger_count='5',\n",
    "                           cap_distance='50um',\n",
    "                           taper_length='200um'\n",
    "                          )\n",
    "    \"\"\"Default connector options\"\"\"\n",
    "\n",
    "    TOOLTIP = \"\"\"Generates a two pin (+) structure\n",
    "     comprised of a north CPW transmission line, \n",
    "     and a south transmission line, coupled \n",
    "     together via a finger capacitor.\"\"\"\n",
    "\n",
    "    def make(self):\n",
    "        \"\"\"Build the component.\"\"\"\n",
    "        p = self.p\n",
    "        N = int(p.finger_count)\n",
    "\n",
    "        #Finger Capacitor\n",
    "        cap_box = draw.Polygon([[(N * p.cap_width + (N - 1) * p.cap_gap)/2, (p.cap_gap + 2 * p.cap_width + p.finger_length)/2],\n",
    "                                [p.north_width/2, (p.cap_gap + 2 * p.cap_width + p.finger_length)/2 + p.taper_length],\n",
    "                                [-p.north_width/2, (p.cap_gap + 2 * p.cap_width + p.finger_length)/2 + p.taper_length],\n",
    "                                [-(N * p.cap_width + (N - 1) * p.cap_gap)/2, (p.cap_gap + 2 * p.cap_width + p.finger_length)/2],\n",
    "                                [-(N * p.cap_width + (N - 1) * p.cap_gap)/2, -(p.cap_gap + 2 * p.cap_width + p.finger_length)/2],\n",
    "                                [-p.south_width/2, -(p.cap_gap + 2 * p.cap_width + p.finger_length)/2 - p.taper_length],\n",
    "                                [p.south_width/2, -(p.cap_gap + 2 * p.cap_width + p.finger_length)/2 - p.taper_length],\n",
    "                                [(N * p.cap_width + (N - 1) * p.cap_gap)/2, -(p.cap_gap + 2 * p.cap_width + p.finger_length)/2]\n",
    "                               ])\n",
    "        make_cut_list = []\n",
    "        make_cut_list.append([0, (p.finger_length) / 2])\n",
    "        make_cut_list.append([(p.cap_width) + (p.cap_gap / 2),\n",
    "                              (p.finger_length) / 2])\n",
    "        flip = -1\n",
    "\n",
    "        for i in range(1, N):\n",
    "            make_cut_list.append([\n",
    "                i * (p.cap_width) + (2 * i - 1) * (p.cap_gap / 2),\n",
    "                flip * (p.finger_length) / 2\n",
    "            ])\n",
    "            make_cut_list.append([\n",
    "                (i + 1) * (p.cap_width) + (2 * i + 1) * (p.cap_gap / 2),\n",
    "                flip * (p.finger_length) / 2\n",
    "            ])\n",
    "            flip = flip * -1\n",
    "\n",
    "        cap_cut = draw.LineString(make_cut_list).buffer(p.cap_gap / 2,\n",
    "                                                        cap_style=2,\n",
    "                                                        join_style=2)\n",
    "        cap_cut = draw.translate(cap_cut,\n",
    "                                 -(N * p.cap_width + (N - 1) * p.cap_gap) / 2,\n",
    "                                 0)\n",
    "\n",
    "        cap_body = draw.subtract(cap_box, cap_cut)\n",
    "        cap_body = draw.translate(\n",
    "            cap_body, 0, -p.cap_distance -\n",
    "            (p.cap_gap + 2 * p.cap_width + p.finger_length) / 2)\n",
    "\n",
    "        cap_etch = draw.Polygon([[(N * p.cap_width + (N - 1) * p.cap_gap)/2+p.cap_gap_ground, (p.cap_gap + 2 * p.cap_width + p.finger_length)/2],\n",
    "                                [p.north_width/2+p.north_gap, (p.cap_gap + 2 * p.cap_width + p.finger_length)/2 + p.taper_length],\n",
    "                                [-p.north_width/2-p.north_gap, (p.cap_gap + 2 * p.cap_width + p.finger_length)/2 + p.taper_length],\n",
    "                                [-(N * p.cap_width + (N - 1) * p.cap_gap)/2-p.cap_gap_ground, (p.cap_gap + 2 * p.cap_width + p.finger_length)/2],\n",
    "                                [-(N * p.cap_width + (N - 1) * p.cap_gap)/2-p.cap_gap_ground, -(p.cap_gap + 2 * p.cap_width + p.finger_length)/2],\n",
    "                                [-p.south_width/2-p.south_gap, -(p.cap_gap + 2 * p.cap_width + p.finger_length)/2 - p.taper_length],\n",
    "                                [p.south_width/2+p.south_gap, -(p.cap_gap + 2 * p.cap_width + p.finger_length)/2 - p.taper_length],\n",
    "                                [(N * p.cap_width + (N - 1) * p.cap_gap)/2+p.cap_gap_ground, -(p.cap_gap + 2 * p.cap_width + p.finger_length)/2]\n",
    "                               ])\n",
    "\n",
    "        cap_etch = draw.translate(\n",
    "            cap_etch, 0, -p.cap_distance -\n",
    "            (p.cap_gap + 2 * p.cap_width + p.finger_length) / 2)\n",
    "\n",
    "        #CPW\n",
    "        north_cpw = draw.LineString([[0, p.taper_length], [0, p.taper_length-p.cap_distance]])\n",
    "\n",
    "        south_cpw = draw.LineString(\n",
    "            [[\n",
    "                0, -p.taper_length-p.cap_distance -\n",
    "                (p.cap_gap + 2 * p.cap_width + p.finger_length)\n",
    "            ],\n",
    "             [\n",
    "                 0, -p.taper_length-2 * p.cap_distance -\n",
    "                 (p.cap_gap + 2 * p.cap_width + p.finger_length)\n",
    "             ]])\n",
    "\n",
    "        #Rotate and Translate\n",
    "        c_items = [north_cpw, south_cpw, cap_body, cap_etch]\n",
    "        c_items = draw.rotate(c_items, p.orientation, origin=(0, 0))\n",
    "        c_items = draw.translate(c_items, p.pos_x, p.pos_y)\n",
    "        [north_cpw, south_cpw, cap_body, cap_etch] = c_items\n",
    "\n",
    "        #Add to qgeometry tables\n",
    "        self.add_qgeometry('path', {'north_cpw': north_cpw},\n",
    "                           width=p.north_width,\n",
    "                           layer=p.layer)\n",
    "        self.add_qgeometry('path', {'north_cpw_sub': north_cpw},\n",
    "                           width=p.north_width + 2 * p.north_gap,\n",
    "                           layer=p.layer,\n",
    "                           subtract=True)\n",
    "\n",
    "        self.add_qgeometry('path', {'south_cpw': south_cpw},\n",
    "                           width=p.south_width,\n",
    "                           layer=p.layer)\n",
    "        self.add_qgeometry('path', {'south_cpw_sub': south_cpw},\n",
    "                           width=p.south_width + 2 * p.south_gap,\n",
    "                           layer=p.layer,\n",
    "                           subtract=True)\n",
    "\n",
    "        self.add_qgeometry('poly', {'cap_body': cap_body}, layer=p.layer)\n",
    "        self.add_qgeometry('poly', {'cap_etch': cap_etch},\n",
    "                           layer=p.layer,\n",
    "                           subtract=True)\n",
    "\n",
    "        #Add pins\n",
    "        north_pin_list = north_cpw.coords\n",
    "        south_pin_list = south_cpw.coords\n",
    "\n",
    "        self.add_pin('north_end',\n",
    "                     points=np.array(north_pin_list[::-1]),\n",
    "                     width=p.north_width,\n",
    "                     input_as_norm=True)\n",
    "        self.add_pin('south_end',\n",
    "                     points=np.array(south_pin_list),\n",
    "                     width=p.south_width,\n",
    "                     input_as_norm=True)"
   ]
  },
  {
   "cell_type": "markdown",
   "metadata": {},
   "source": [
    "### Draw"
   ]
  },
  {
   "cell_type": "code",
   "execution_count": 16,
   "metadata": {},
   "outputs": [],
   "source": [
    "highC_PF_TL_11 = CapNInterdigital_sqnl(design, \n",
    "                               'highC_PF_TL_11', \n",
    "                               options = dict(\n",
    "                                   pos_x = '2.5mm',\n",
    "                                   pos_y = '3.9mm',\n",
    "                                   orientation = '0',\n",
    "                                   north_width = '20um', \n",
    "                                   north_gap   = '10um', \n",
    "                                   south_width = '20um', \n",
    "                                   south_gap   = '10um', \n",
    "                                   cap_width   = '5um', \n",
    "                                   cap_gap   = '5um', \n",
    "                                   cap_gap_ground   = '87.5um', \n",
    "                                   finger_length   = '200um', \n",
    "                                   finger_count   = '18', \n",
    "                                   cap_distance   = '50um',\n",
    "                                   taper_length   = '200um'\n",
    "                               ))\n",
    "\n",
    "gui.rebuild()\n",
    "gui.autoscale()"
   ]
  },
  {
   "cell_type": "code",
   "execution_count": 17,
   "metadata": {},
   "outputs": [],
   "source": [
    "option_TL_11 = Dict(hfss_wire_bonds = True,\n",
    "              pin_inputs=Dict(\n",
    "                 start_pin=Dict(\n",
    "                     component='highC_PF_TL_11',\n",
    "                     pin='north_end'),\n",
    "                 end_pin=Dict(\n",
    "                     component='launch_TL_read_11',\n",
    "                     pin='tie')),\n",
    "              trace_width='20um',\n",
    "              trace_gap='10um',qgeometry_types='poly'\n",
    "             )\n",
    "\n",
    "\n",
    "TL_11 = RouteStraight(design, 'TL_11', options=option_TL_11)\n",
    "\n",
    "\n",
    "gui.rebuild()\n",
    "gui.autoscale()"
   ]
  },
  {
   "cell_type": "markdown",
   "metadata": {},
   "source": [
    "## Purcell filters"
   ]
  },
  {
   "cell_type": "markdown",
   "metadata": {},
   "source": [
    "### PF_11"
   ]
  },
  {
   "cell_type": "code",
   "execution_count": 18,
   "metadata": {},
   "outputs": [],
   "source": [
    "pin_opt_PF_11 = Dict(pin_inputs=Dict(start_pin=Dict(\n",
    "                                    component='highC_PF_TL_11',\n",
    "                                    pin='south_end'),\n",
    "                                    end_pin=Dict(\n",
    "                                    component='PF_11_short',\n",
    "                                    pin='short')),\n",
    "               fillet='89um',\n",
    "               trace_width='20um',\n",
    "               trace_gap='10um',\n",
    "               hfss_wire_bonds = True,\n",
    "               wb_threshold = '10um',\n",
    "               wb_offset ='10um'\n",
    "              )\n",
    "\n",
    "\n",
    "stg_PF_11 = ShortToGround(design, 'PF_11_short', \n",
    "                       options=dict(\n",
    "                           pos_x='2.30mm', \n",
    "                           pos_y='3.0mm',\n",
    "                           width='20um',\n",
    "                           gap='10um',\n",
    "                           orientation=0))\n",
    "\n",
    "pin_opt_PF_11.pin_inputs.start_pin.component = 'highC_PF_TL_11'\n",
    "pin_opt_PF_11.pin_inputs.end_pin.component = 'PF_11_short'\n",
    "\n",
    "# the first step is always stright, let's define by how much (minimum is half the route width):\n",
    "pin_opt_PF_11.lead.start_straight = '100um + 90um'\n",
    "pin_opt_PF_11.lead.end_straight = '10um'\n",
    "\n",
    "# any subsequent step of the lead_start\n",
    "jogsS_11 = OrderedDict()\n",
    "jogsS_11[0] = [\"R\", '700um + 180um']\n",
    "jogsS_11[1] = [\"L\", '700um + 180um']\n",
    "jogsS_11[2] = [\"L\", '0um + 180um']\n",
    "jogsS_11[3] = [\"L\", '0um + 180um']\n",
    "jogsS_11[4] = [\"R\", '0um + 180um']\n",
    "jogsS_11[5] = [\"L\", '0um + 180um']\n",
    "jogsS_11[6] = [\"L\", '0um + 180um']\n",
    "jogsS_11[7] = [\"R\", '0um + 180um']\n",
    "\n",
    "pin_opt_PF_11.lead.start_jogged_extension = jogsS_11\n",
    "PF_11 = RouteFramed(design, 'PF_11', pin_opt_PF_11)\n",
    "\n",
    "# gui.rebuild()\n",
    "# gui.autoscale()"
   ]
  },
  {
   "cell_type": "code",
   "execution_count": 19,
   "metadata": {},
   "outputs": [],
   "source": [
    "# PF-R coupler 11\n",
    "coupler_length_11 = 98e-3\n",
    "\n",
    "T_coupler_PF_11 = LineTee_sqnl(design, 'T_coupler_PF_11', options=dict(pos_x='1.62mm',\n",
    "                                             pos_y='2.94mm',\n",
    "                                             t_length=coupler_length_11,\n",
    "                                             prime_width = '10um',\n",
    "                                             prime_gap = '10um',\n",
    "                                             second_width = '20um',\n",
    "                                             second_gap = '20um',\n",
    "                                             C_box_width = '50um',\n",
    "                                             C_box_gap = '10um',\n",
    "                                             C_box_height = '20um',\n",
    "                                             C_gap = '30um',\n",
    "                                             orientation = -90\n",
    "                                             ))\n",
    "\n",
    "# gui.rebuild()\n",
    "# gui.autoscale()"
   ]
  },
  {
   "cell_type": "markdown",
   "metadata": {},
   "source": [
    "## Readout resonators"
   ]
  },
  {
   "cell_type": "markdown",
   "metadata": {},
   "source": [
    "### R_11"
   ]
  },
  {
   "cell_type": "code",
   "execution_count": 20,
   "metadata": {},
   "outputs": [],
   "source": [
    "pin_opt_R_11 = Dict(pin_inputs=Dict(start_pin=Dict(\n",
    "                                    component='Q_1',\n",
    "                                    pin='readout1'),\n",
    "                                end_pin=Dict(\n",
    "                                    component='R_11_short',\n",
    "                                    pin='short')),\n",
    "               fillet='89um',\n",
    "               trace_width='20um',\n",
    "               trace_gap='10um',\n",
    "               hfss_wire_bonds = True,\n",
    "               wb_threshold = '10um',\n",
    "               wb_offset ='10um'\n",
    "              )\n",
    "\n",
    "stg_R_11 = ShortToGround(design, 'R_11_short', \n",
    "                       options=dict(\n",
    "                           pos_x='1.01mm', \n",
    "                           pos_y='2.8mm',\n",
    "                           width='20um',\n",
    "                           gap='10um',\n",
    "                           orientation=-90))\n",
    "\n",
    "pin_opt_R_11.pin_inputs.start_pin.component = 'Q_1'\n",
    "pin_opt_R_11.pin_inputs.end_pin.component = 'R_11_short'\n",
    "\n",
    "# the first step is always stright, let's define by how much (minimum is half the route width):\n",
    "pin_opt_R_11.lead.start_straight = '420um + 90um'\n",
    "pin_opt_R_11.lead.end_straight = '50um'\n",
    "\n",
    "# any subsequent step of the lead_start\n",
    "jogsS_11 = OrderedDict()\n",
    "jogsS_11[0] = [\"R\", '0um + 180um']\n",
    "jogsS_11[1] = [\"R\", '0um + 180um']\n",
    "jogsS_11[2] = [\"L\", '0um + 180um']\n",
    "jogsS_11[3] = [\"L\", '0um + 180um']\n",
    "jogsS_11[4] = [\"R\", '0um + 180um']\n",
    "jogsS_11[5] = [\"L\", '0um + 180um']\n",
    "jogsS_11[6] = [\"L\", '1330um + 180um']\n",
    "jogsS_11[7] = [\"L\", '0um + 180um']\n",
    "\n",
    "pin_opt_R_11.lead.start_jogged_extension = jogsS_11\n",
    "R_11 = RouteFramed(design, 'R_11', pin_opt_R_11)\n",
    "\n",
    "# gui.rebuild()\n",
    "# gui.autoscale()"
   ]
  },
  {
   "cell_type": "code",
   "execution_count": 21,
   "metadata": {},
   "outputs": [],
   "source": [
    "# R-PF coupler 11\n",
    "coupler_length_11 = 90e-3\n",
    "\n",
    "T_coupler_R_11 = LineTee_sqnl(design, 'T_coupler_R_11', options=dict(pos_x='1.39mm',\n",
    "                                             pos_y='2.940mm',\n",
    "                                             t_length=coupler_length_11,\n",
    "                                             prime_width = '10um',\n",
    "                                             prime_gap = '10um',\n",
    "                                             second_width = '20um',\n",
    "                                             second_gap = '20um',\n",
    "                                             C_box_width = '50um',\n",
    "                                             C_box_gap = '10um',\n",
    "                                             C_box_height = '20um',\n",
    "                                             C_gap = '30um',\n",
    "                                             orientation = 90\n",
    "                                             ))\n",
    "\n",
    "gui.rebuild()\n",
    "gui.autoscale()"
   ]
  },
  {
   "cell_type": "markdown",
   "metadata": {},
   "source": [
    "## Control lines"
   ]
  },
  {
   "cell_type": "code",
   "execution_count": 22,
   "metadata": {},
   "outputs": [],
   "source": [
    "design.overwrite_enabled = True\n",
    "\n",
    "options_c = Dict(\n",
    "    total_length='1.5mm',\n",
    "    hfss_wire_bonds = True,\n",
    "    lead=Dict(\n",
    "        start_straight='300um',\n",
    "        end_straight='300um'),\n",
    "    fillet='90um',\n",
    "    trace_width='30um',\n",
    "    trace_gap='18um')\n",
    "\n",
    "control_Q1 = RouteStraight(design, 'control_Q1', options=Dict(\n",
    "    pin_inputs=Dict(\n",
    "        start_pin=Dict(\n",
    "            component='Q_1',\n",
    "            pin='control'),\n",
    "        end_pin=Dict(\n",
    "            component='launch_TL_read_12',\n",
    "            pin='tie')),\n",
    "            **options_c))\n",
    "\n",
    "gui.rebuild()\n",
    "gui.autoscale()"
   ]
  },
  {
   "cell_type": "markdown",
   "metadata": {},
   "source": [
    "# Analyze"
   ]
  },
  {
   "cell_type": "markdown",
   "metadata": {},
   "source": [
    "## Coupler capacitance simulation"
   ]
  },
  {
   "cell_type": "markdown",
   "metadata": {},
   "source": [
    "## Capacitance LOM (qubit)"
   ]
  },
  {
   "cell_type": "code",
   "execution_count": 23,
   "metadata": {},
   "outputs": [],
   "source": [
    "from qiskit_metal.analyses.quantization import LOManalysis\n",
    "c1 = LOManalysis(design, \"q3d\")"
   ]
  },
  {
   "cell_type": "code",
   "execution_count": 26,
   "metadata": {},
   "outputs": [
    {
     "name": "stderr",
     "output_type": "stream",
     "text": [
      "INFO 03:03PM [connect_project]: Connecting to Ansys Desktop API...\n",
      "INFO 03:03PM [load_ansys_project]: \tOpened Ansys App\n",
      "INFO 03:03PM [load_ansys_project]: \tOpened Ansys Desktop v2021.1.0\n",
      "INFO 03:03PM [load_ansys_project]: \tOpened Ansys Project\n",
      "\tFolder:    C:/Users/Luxcuse/Documents/Ansoft/\n",
      "\tProject:   Project13\n",
      "INFO 03:03PM [connect_design]: \tOpened active design\n",
      "\tDesign:    reset_q3d [Solution type: Q3D]\n",
      "INFO 03:03PM [get_setup]: \tOpened setup `Setup`  (<class 'pyEPR.ansys.AnsysQ3DSetup'>)\n",
      "INFO 03:03PM [connect]: \tConnected to project \"Project13\" and design \"reset_q3d\" 😀 \n",
      "\n",
      "03:03PM 56s WARNING [activate_ansys_design]: The design_name=reset_q3d_1 was not in active project.  Designs in active project are: \n",
      "['reset_readout', 'reset_readout_1', 'reset_q3d'].  A new design will be added to the project.  \n",
      "INFO 03:04PM [connect_design]: \tOpened active design\n",
      "\tDesign:    reset_q3d_1 [Solution type: Q3D]\n",
      "WARNING 03:04PM [connect_setup]: \tNo design setup detected.\n",
      "WARNING 03:04PM [connect_setup]: \tCreating Q3D default setup.\n",
      "INFO 03:04PM [get_setup]: \tOpened setup `Setup`  (<class 'pyEPR.ansys.AnsysQ3DSetup'>)\n"
     ]
    }
   ],
   "source": [
    "q3d = c1.sim.renderer\n",
    "q3d.start()\n",
    "q3d.activate_ansys_design(\"reset_q3d_1\", 'capacitive')"
   ]
  },
  {
   "cell_type": "code",
   "execution_count": 27,
   "metadata": {},
   "outputs": [],
   "source": [
    "q3d.render_design(['Q_1'], [('Q_1','readout1')])"
   ]
  },
  {
   "cell_type": "code",
   "execution_count": 31,
   "metadata": {},
   "outputs": [],
   "source": [
    "c1.sim.setup.percent_refinement = 100\n",
    "c1.sim.setup.max_passes = 10\n",
    "c1.sim.setup.percent_error = 0.1"
   ]
  },
  {
   "cell_type": "code",
   "execution_count": 32,
   "metadata": {},
   "outputs": [
    {
     "name": "stderr",
     "output_type": "stream",
     "text": [
      "INFO 03:04PM [get_setup]: \tOpened setup `Setup`  (<class 'pyEPR.ansys.AnsysQ3DSetup'>)\n",
      "INFO 03:04PM [analyze]: Analyzing setup Setup\n"
     ]
    }
   ],
   "source": [
    "q3d.analyze_setup(\"Setup\")"
   ]
  },
  {
   "cell_type": "code",
   "execution_count": 33,
   "metadata": {},
   "outputs": [
    {
     "data": {
      "text/plain": [
       "{'name': 'Setup',\n",
       " 'reuse_selected_design': True,\n",
       " 'reuse_setup': True,\n",
       " 'freq_ghz': 5.0,\n",
       " 'save_fields': False,\n",
       " 'enabled': True,\n",
       " 'max_passes': 10,\n",
       " 'min_passes': 2,\n",
       " 'min_converged_passes': 2,\n",
       " 'percent_error': 0.1,\n",
       " 'percent_refinement': 100,\n",
       " 'auto_increase_solution_order': True,\n",
       " 'solution_order': 'High',\n",
       " 'solver_type': 'Iterative'}"
      ]
     },
     "execution_count": 33,
     "metadata": {},
     "output_type": "execute_result"
    }
   ],
   "source": [
    "c1.sim.setup"
   ]
  },
  {
   "cell_type": "code",
   "execution_count": 34,
   "metadata": {},
   "outputs": [
    {
     "name": "stderr",
     "output_type": "stream",
     "text": [
      "INFO 03:05PM [get_matrix]: Exporting matrix data to (C:\\Users\\Luxcuse\\AppData\\Local\\Temp\\tmpnimh63fp.txt, C, , Setup:LastAdaptive, \"Original\", \"ohm\", \"nH\", \"fF\", \"mSie\", 5000000000, Maxwell, 1, False\n"
     ]
    },
    {
     "name": "stderr",
     "output_type": "stream",
     "text": [
      "INFO 03:05PM [get_matrix]: Exporting matrix data to (C:\\Users\\Luxcuse\\AppData\\Local\\Temp\\tmpl0mykebs.txt, C, , Setup:AdaptivePass, \"Original\", \"ohm\", \"nH\", \"fF\", \"mSie\", 5000000000, Maxwell, 1, False\n",
      "INFO 03:05PM [get_matrix]: Exporting matrix data to (C:\\Users\\Luxcuse\\AppData\\Local\\Temp\\tmp2viirgt0.txt, C, , Setup:AdaptivePass, \"Original\", \"ohm\", \"nH\", \"fF\", \"mSie\", 5000000000, Maxwell, 2, False\n",
      "INFO 03:05PM [get_matrix]: Exporting matrix data to (C:\\Users\\Luxcuse\\AppData\\Local\\Temp\\tmpycbbpnzw.txt, C, , Setup:AdaptivePass, \"Original\", \"ohm\", \"nH\", \"fF\", \"mSie\", 5000000000, Maxwell, 3, False\n",
      "INFO 03:05PM [get_matrix]: Exporting matrix data to (C:\\Users\\Luxcuse\\AppData\\Local\\Temp\\tmp21rww8qs.txt, C, , Setup:AdaptivePass, \"Original\", \"ohm\", \"nH\", \"fF\", \"mSie\", 5000000000, Maxwell, 4, False\n",
      "INFO 03:05PM [get_matrix]: Exporting matrix data to (C:\\Users\\Luxcuse\\AppData\\Local\\Temp\\tmpvirznwqk.txt, C, , Setup:AdaptivePass, \"Original\", \"ohm\", \"nH\", \"fF\", \"mSie\", 5000000000, Maxwell, 5, False\n",
      "INFO 03:05PM [get_matrix]: Exporting matrix data to (C:\\Users\\Luxcuse\\AppData\\Local\\Temp\\tmphlq6wiid.txt, C, , Setup:AdaptivePass, \"Original\", \"ohm\", \"nH\", \"fF\", \"mSie\", 5000000000, Maxwell, 6, False\n",
      "INFO 03:05PM [get_matrix]: Exporting matrix data to (C:\\Users\\Luxcuse\\AppData\\Local\\Temp\\tmppu9ay80h.txt, C, , Setup:AdaptivePass, \"Original\", \"ohm\", \"nH\", \"fF\", \"mSie\", 5000000000, Maxwell, 7, False\n",
      "INFO 03:05PM [get_matrix]: Exporting matrix data to (C:\\Users\\Luxcuse\\AppData\\Local\\Temp\\tmpmb3w_v5l.txt, C, , Setup:AdaptivePass, \"Original\", \"ohm\", \"nH\", \"fF\", \"mSie\", 5000000000, Maxwell, 8, False\n",
      "INFO 03:05PM [get_matrix]: Exporting matrix data to (C:\\Users\\Luxcuse\\AppData\\Local\\Temp\\tmphv_55v0p.txt, C, , Setup:AdaptivePass, \"Original\", \"ohm\", \"nH\", \"fF\", \"mSie\", 5000000000, Maxwell, 9, False\n",
      "INFO 03:05PM [get_matrix]: Exporting matrix data to (C:\\Users\\Luxcuse\\AppData\\Local\\Temp\\tmpoybkikau.txt, C, , Setup:AdaptivePass, \"Original\", \"ohm\", \"nH\", \"fF\", \"mSie\", 5000000000, Maxwell, 10, False\n"
     ]
    },
    {
     "data": {
      "text/html": [
       "<div>\n",
       "<style scoped>\n",
       "    .dataframe tbody tr th:only-of-type {\n",
       "        vertical-align: middle;\n",
       "    }\n",
       "\n",
       "    .dataframe tbody tr th {\n",
       "        vertical-align: top;\n",
       "    }\n",
       "\n",
       "    .dataframe thead th {\n",
       "        text-align: right;\n",
       "    }\n",
       "</style>\n",
       "<table border=\"1\" class=\"dataframe\">\n",
       "  <thead>\n",
       "    <tr style=\"text-align: right;\">\n",
       "      <th></th>\n",
       "      <th>control_connector_arm_Q_1</th>\n",
       "      <th>ground_main_plane</th>\n",
       "      <th>pad_bot_Q_1</th>\n",
       "      <th>pad_top_Q_1</th>\n",
       "      <th>readout1_connector_arm_Q_1</th>\n",
       "    </tr>\n",
       "  </thead>\n",
       "  <tbody>\n",
       "    <tr>\n",
       "      <th>control_connector_arm_Q_1</th>\n",
       "      <td>26.32778</td>\n",
       "      <td>-23.63429</td>\n",
       "      <td>-0.32188</td>\n",
       "      <td>-2.01116</td>\n",
       "      <td>-0.09067</td>\n",
       "    </tr>\n",
       "    <tr>\n",
       "      <th>ground_main_plane</th>\n",
       "      <td>-23.63429</td>\n",
       "      <td>302.31379</td>\n",
       "      <td>-73.14747</td>\n",
       "      <td>-65.98703</td>\n",
       "      <td>-75.23040</td>\n",
       "    </tr>\n",
       "    <tr>\n",
       "      <th>pad_bot_Q_1</th>\n",
       "      <td>-0.32188</td>\n",
       "      <td>-73.14747</td>\n",
       "      <td>112.30282</td>\n",
       "      <td>-30.86428</td>\n",
       "      <td>-4.07331</td>\n",
       "    </tr>\n",
       "    <tr>\n",
       "      <th>pad_top_Q_1</th>\n",
       "      <td>-2.01116</td>\n",
       "      <td>-65.98703</td>\n",
       "      <td>-30.86428</td>\n",
       "      <td>121.24111</td>\n",
       "      <td>-18.71879</td>\n",
       "    </tr>\n",
       "    <tr>\n",
       "      <th>readout1_connector_arm_Q_1</th>\n",
       "      <td>-0.09067</td>\n",
       "      <td>-75.23040</td>\n",
       "      <td>-4.07331</td>\n",
       "      <td>-18.71879</td>\n",
       "      <td>98.98803</td>\n",
       "    </tr>\n",
       "  </tbody>\n",
       "</table>\n",
       "</div>"
      ],
      "text/plain": [
       "                            control_connector_arm_Q_1  ground_main_plane  \\\n",
       "control_connector_arm_Q_1                    26.32778          -23.63429   \n",
       "ground_main_plane                           -23.63429          302.31379   \n",
       "pad_bot_Q_1                                  -0.32188          -73.14747   \n",
       "pad_top_Q_1                                  -2.01116          -65.98703   \n",
       "readout1_connector_arm_Q_1                   -0.09067          -75.23040   \n",
       "\n",
       "                            pad_bot_Q_1  pad_top_Q_1  \\\n",
       "control_connector_arm_Q_1      -0.32188     -2.01116   \n",
       "ground_main_plane             -73.14747    -65.98703   \n",
       "pad_bot_Q_1                   112.30282    -30.86428   \n",
       "pad_top_Q_1                   -30.86428    121.24111   \n",
       "readout1_connector_arm_Q_1     -4.07331    -18.71879   \n",
       "\n",
       "                            readout1_connector_arm_Q_1  \n",
       "control_connector_arm_Q_1                     -0.09067  \n",
       "ground_main_plane                            -75.23040  \n",
       "pad_bot_Q_1                                   -4.07331  \n",
       "pad_top_Q_1                                  -18.71879  \n",
       "readout1_connector_arm_Q_1                    98.98803  "
      ]
     },
     "execution_count": 34,
     "metadata": {},
     "output_type": "execute_result"
    }
   ],
   "source": [
    "c1.sim.capacitance_matrix, c1.sim.units = q3d.get_capacitance_matrix()\n",
    "c1.sim.capacitance_all_passes, _ = q3d.get_capacitance_all_passes()\n",
    "c1.sim.capacitance_matrix"
   ]
  },
  {
   "cell_type": "code",
   "execution_count": 36,
   "metadata": {},
   "outputs": [
    {
     "name": "stdout",
     "output_type": "stream",
     "text": [
      "[2, 3] [4 0]\n",
      "Predicted Values\n",
      "\n",
      "Transmon Properties\n",
      "f_Q 5.258995 [GHz]\n",
      "EC 262.465347 [MHz]\n",
      "EJ 14.588893 [GHz]\n",
      "alpha -298.781039 [MHz]\n",
      "dispersion 4.011500 [KHz]\n",
      "Lq 11.195484 [nH]\n",
      "Cq 73.801088 [fF]\n",
      "T1 0.000000 [us]\n",
      "\n",
      "**Coupling Properties**\n",
      "\n",
      "tCqbus1 -6.686242 [fF]\n",
      "gbus1_in_MHz -87.288078 [MHz]\n",
      "χ_bus1 -2.103711 [MHz]\n",
      "1/T1bus1 2199.696295 [Hz]\n",
      "T1bus1 72.353144 [us]\n",
      "\n",
      "tCqbus2 -0.779487 [fF]\n",
      "gbus2_in_MHz -8.155638 [MHz]\n",
      "χ_bus2 -8254248.712797 [MHz]\n",
      "1/T1bus2 13467346848419618.000000 [Hz]\n",
      "T1bus2 0.000000 [us]\n",
      "Bus-Bus Couplings\n",
      "gbus1_2 0.890205 [MHz]\n"
     ]
    },
    {
     "data": {
      "text/html": [
       "<div>\n",
       "<style scoped>\n",
       "    .dataframe tbody tr th:only-of-type {\n",
       "        vertical-align: middle;\n",
       "    }\n",
       "\n",
       "    .dataframe tbody tr th {\n",
       "        vertical-align: top;\n",
       "    }\n",
       "\n",
       "    .dataframe thead th {\n",
       "        text-align: right;\n",
       "    }\n",
       "</style>\n",
       "<table border=\"1\" class=\"dataframe\">\n",
       "  <thead>\n",
       "    <tr style=\"text-align: right;\">\n",
       "      <th></th>\n",
       "      <th>fQ</th>\n",
       "      <th>EC</th>\n",
       "      <th>EJ</th>\n",
       "      <th>alpha</th>\n",
       "      <th>dispersion</th>\n",
       "      <th>gbus</th>\n",
       "      <th>chi_in_MHz</th>\n",
       "      <th>χr MHz</th>\n",
       "      <th>gr MHz</th>\n",
       "    </tr>\n",
       "  </thead>\n",
       "  <tbody>\n",
       "    <tr>\n",
       "      <th>1</th>\n",
       "      <td>5.603894</td>\n",
       "      <td>300.365646</td>\n",
       "      <td>14.588893</td>\n",
       "      <td>-345.872715</td>\n",
       "      <td>15.155827</td>\n",
       "      <td>[-64.1394338871844, -9.133208085774848]</td>\n",
       "      <td>[-2.1485156580715734, 171.7968979432492]</td>\n",
       "      <td>2.148516</td>\n",
       "      <td>64.139434</td>\n",
       "    </tr>\n",
       "    <tr>\n",
       "      <th>2</th>\n",
       "      <td>5.583687</td>\n",
       "      <td>298.065014</td>\n",
       "      <td>14.588893</td>\n",
       "      <td>-342.987295</td>\n",
       "      <td>14.084994</td>\n",
       "      <td>[-69.3549849144646, -7.7667129978991]</td>\n",
       "      <td>[-2.411344985417712, 6.9653508046037445]</td>\n",
       "      <td>2.411345</td>\n",
       "      <td>69.354985</td>\n",
       "    </tr>\n",
       "    <tr>\n",
       "      <th>3</th>\n",
       "      <td>5.460535</td>\n",
       "      <td>284.260684</td>\n",
       "      <td>14.588893</td>\n",
       "      <td>-325.747179</td>\n",
       "      <td>8.905008</td>\n",
       "      <td>[-79.59701556352462, -8.081012528014194]</td>\n",
       "      <td>[-2.5014750740256595, 1.699171081929697]</td>\n",
       "      <td>2.501475</td>\n",
       "      <td>79.597016</td>\n",
       "    </tr>\n",
       "    <tr>\n",
       "      <th>4</th>\n",
       "      <td>5.38392</td>\n",
       "      <td>275.85942</td>\n",
       "      <td>14.588893</td>\n",
       "      <td>-315.316035</td>\n",
       "      <td>6.623408</td>\n",
       "      <td>[-82.856499001878, -7.89962287694349]</td>\n",
       "      <td>[-2.3557271002093567, 1.6542432354266765]</td>\n",
       "      <td>2.355727</td>\n",
       "      <td>82.856499</td>\n",
       "    </tr>\n",
       "    <tr>\n",
       "      <th>5</th>\n",
       "      <td>5.340436</td>\n",
       "      <td>271.154503</td>\n",
       "      <td>14.588893</td>\n",
       "      <td>-309.49448</td>\n",
       "      <td>5.577666</td>\n",
       "      <td>[-84.37273018594104, -8.003220832413197]</td>\n",
       "      <td>[-2.2613316942154786, 2.134321445304575]</td>\n",
       "      <td>2.261332</td>\n",
       "      <td>84.372730</td>\n",
       "    </tr>\n",
       "    <tr>\n",
       "      <th>6</th>\n",
       "      <td>5.313755</td>\n",
       "      <td>268.290269</td>\n",
       "      <td>14.588893</td>\n",
       "      <td>-305.957537</td>\n",
       "      <td>5.01242</td>\n",
       "      <td>[-85.41766597129241, -7.982409570541168]</td>\n",
       "      <td>[-2.212324068283419, 2.8341712336521643]</td>\n",
       "      <td>2.212324</td>\n",
       "      <td>85.417666</td>\n",
       "    </tr>\n",
       "    <tr>\n",
       "      <th>7</th>\n",
       "      <td>5.287659</td>\n",
       "      <td>265.505435</td>\n",
       "      <td>14.588893</td>\n",
       "      <td>-302.523771</td>\n",
       "      <td>4.510242</td>\n",
       "      <td>[-86.45869418254108, -8.12034223657774]</td>\n",
       "      <td>[-2.1669864533938106, 5.082044832538203]</td>\n",
       "      <td>2.166986</td>\n",
       "      <td>86.458694</td>\n",
       "    </tr>\n",
       "    <tr>\n",
       "      <th>8</th>\n",
       "      <td>5.271411</td>\n",
       "      <td>263.779712</td>\n",
       "      <td>14.588893</td>\n",
       "      <td>-300.39845</td>\n",
       "      <td>4.221042</td>\n",
       "      <td>[-86.93242366967294, -8.086960452897264]</td>\n",
       "      <td>[-2.1309432167871645, 10.988750778632246]</td>\n",
       "      <td>2.130943</td>\n",
       "      <td>86.932424</td>\n",
       "    </tr>\n",
       "    <tr>\n",
       "      <th>9</th>\n",
       "      <td>5.258995</td>\n",
       "      <td>262.465347</td>\n",
       "      <td>14.588893</td>\n",
       "      <td>-298.781039</td>\n",
       "      <td>4.0115</td>\n",
       "      <td>[-87.28807770014168, -8.155637871654987]</td>\n",
       "      <td>[-2.103711075849804, -8254248.712796683]</td>\n",
       "      <td>2.103711</td>\n",
       "      <td>87.288078</td>\n",
       "    </tr>\n",
       "  </tbody>\n",
       "</table>\n",
       "</div>"
      ],
      "text/plain": [
       "         fQ          EC         EJ       alpha dispersion  \\\n",
       "1  5.603894  300.365646  14.588893 -345.872715  15.155827   \n",
       "2  5.583687  298.065014  14.588893 -342.987295  14.084994   \n",
       "3  5.460535  284.260684  14.588893 -325.747179   8.905008   \n",
       "4   5.38392   275.85942  14.588893 -315.316035   6.623408   \n",
       "5  5.340436  271.154503  14.588893  -309.49448   5.577666   \n",
       "6  5.313755  268.290269  14.588893 -305.957537    5.01242   \n",
       "7  5.287659  265.505435  14.588893 -302.523771   4.510242   \n",
       "8  5.271411  263.779712  14.588893  -300.39845   4.221042   \n",
       "9  5.258995  262.465347  14.588893 -298.781039     4.0115   \n",
       "\n",
       "                                       gbus  \\\n",
       "1   [-64.1394338871844, -9.133208085774848]   \n",
       "2     [-69.3549849144646, -7.7667129978991]   \n",
       "3  [-79.59701556352462, -8.081012528014194]   \n",
       "4     [-82.856499001878, -7.89962287694349]   \n",
       "5  [-84.37273018594104, -8.003220832413197]   \n",
       "6  [-85.41766597129241, -7.982409570541168]   \n",
       "7   [-86.45869418254108, -8.12034223657774]   \n",
       "8  [-86.93242366967294, -8.086960452897264]   \n",
       "9  [-87.28807770014168, -8.155637871654987]   \n",
       "\n",
       "                                  chi_in_MHz    χr MHz     gr MHz  \n",
       "1   [-2.1485156580715734, 171.7968979432492]  2.148516  64.139434  \n",
       "2   [-2.411344985417712, 6.9653508046037445]  2.411345  69.354985  \n",
       "3   [-2.5014750740256595, 1.699171081929697]  2.501475  79.597016  \n",
       "4  [-2.3557271002093567, 1.6542432354266765]  2.355727  82.856499  \n",
       "5   [-2.2613316942154786, 2.134321445304575]  2.261332  84.372730  \n",
       "6   [-2.212324068283419, 2.8341712336521643]  2.212324  85.417666  \n",
       "7   [-2.1669864533938106, 5.082044832538203]  2.166986  86.458694  \n",
       "8  [-2.1309432167871645, 10.988750778632246]  2.130943  86.932424  \n",
       "9   [-2.103711075849804, -8254248.712796683]  2.103711  87.288078  "
      ]
     },
     "execution_count": 36,
     "metadata": {},
     "output_type": "execute_result"
    }
   ],
   "source": [
    "c1.setup.junctions=Dict(Lj=11.2, Cj=2)\n",
    "c1.setup.freq_readout = 6.60\n",
    "c1.setup.freq_bus = [5.258995]\n",
    "\n",
    "c1.run_lom()\n",
    "c1.lumped_oscillator_all"
   ]
  },
  {
   "cell_type": "code",
   "execution_count": 37,
   "metadata": {},
   "outputs": [],
   "source": [
    "c1.sim.close()"
   ]
  },
  {
   "cell_type": "markdown",
   "metadata": {},
   "source": [
    "## Eigenmode and EPR (Qubit-Readout)"
   ]
  },
  {
   "cell_type": "code",
   "execution_count": 78,
   "metadata": {},
   "outputs": [],
   "source": [
    "from qiskit_metal.analyses.quantization import EPRanalysis\n",
    "eig_qb = EPRanalysis(design, \"hfss\")"
   ]
  },
  {
   "cell_type": "code",
   "execution_count": 84,
   "metadata": {},
   "outputs": [],
   "source": [
    "eig_qb.sim.renderer.options['wb_size'] = 3\n",
    "eig_qb.sim.renderer.options['wb_threshold'] = '150um'"
   ]
  },
  {
   "cell_type": "code",
   "execution_count": 85,
   "metadata": {},
   "outputs": [
    {
     "data": {
      "text/plain": [
       "{'Lj': '10nH',\n",
       " 'Cj': 0,\n",
       " '_Rj': 0,\n",
       " 'max_mesh_length_jj': '7um',\n",
       " 'max_mesh_length_port': '7um',\n",
       " 'project_path': None,\n",
       " 'project_name': None,\n",
       " 'design_name': None,\n",
       " 'x_buffer_width_mm': 0.2,\n",
       " 'y_buffer_width_mm': 0.2,\n",
       " 'wb_threshold': '150um',\n",
       " 'wb_offset': '0um',\n",
       " 'wb_size': 3,\n",
       " 'plot_ansys_fields_options': {'name': 'NAME:Mag_E1',\n",
       "  'UserSpecifyName': '0',\n",
       "  'UserSpecifyFolder': '0',\n",
       "  'QuantityName': 'Mag_E',\n",
       "  'PlotFolder': 'E Field',\n",
       "  'StreamlinePlot': 'False',\n",
       "  'AdjacentSidePlot': 'False',\n",
       "  'FullModelPlot': 'False',\n",
       "  'IntrinsicVar': \"Phase='0deg'\",\n",
       "  'PlotGeomInfo_0': '1',\n",
       "  'PlotGeomInfo_1': 'Surface',\n",
       "  'PlotGeomInfo_2': 'FacesList',\n",
       "  'PlotGeomInfo_3': '1'}}"
      ]
     },
     "execution_count": 85,
     "metadata": {},
     "output_type": "execute_result"
    }
   ],
   "source": [
    "eig_qb.sim.renderer.options"
   ]
  },
  {
   "cell_type": "code",
   "execution_count": 86,
   "metadata": {},
   "outputs": [],
   "source": [
    "em_p = eig_qb.sim.setup"
   ]
  },
  {
   "cell_type": "code",
   "execution_count": 87,
   "metadata": {},
   "outputs": [
    {
     "data": {
      "text/plain": [
       "{'name': 'Reset_chip_ver4_7',\n",
       " 'reuse_selected_design': True,\n",
       " 'reuse_setup': True,\n",
       " 'min_freq_ghz': 2,\n",
       " 'n_modes': 2,\n",
       " 'max_delta_f': 0.03,\n",
       " 'max_passes': 8,\n",
       " 'min_passes': 1,\n",
       " 'min_converged': 3,\n",
       " 'pct_refinement': 100,\n",
       " 'basis_order': 1,\n",
       " 'vars': {'Lj1': '11.2 nH', 'Cj1': '2 fF'},\n",
       " 'max_freq_ghz': 8,\n",
       " 'run': {'name': 'Reset_chip_ver4_8',\n",
       "  'components': ['Q_1', 'R_11', 'T_coupler_R_11'],\n",
       "  'open_terminations': [],\n",
       "  'port_list': None,\n",
       "  'jj_to_port': None,\n",
       "  'ignored_jjs': None,\n",
       "  'box_plus_buffer': True}}"
      ]
     },
     "execution_count": 87,
     "metadata": {},
     "output_type": "execute_result"
    }
   ],
   "source": [
    "em_p.name = 'Reset_chip_ver4_7'\n",
    "em_p.min_freq_ghz = 2\n",
    "em_p.max_freq_ghz = 8\n",
    "em_p.n_modes = 2\n",
    "em_p.max_passes = 8\n",
    "em_p.max_delta_f = 0.03\n",
    "em_p.min_converged = 3\n",
    "em_p.pct_refinement = 100\n",
    "# Design variables can also be added in for direct simulation sweeps.\n",
    "em_p.vars = Dict({'Lj1': '11.2 nH', 'Cj1': '2 fF'})\n",
    "\n",
    "eig_qb.sim.setup"
   ]
  },
  {
   "cell_type": "code",
   "execution_count": 88,
   "metadata": {},
   "outputs": [
    {
     "name": "stderr",
     "output_type": "stream",
     "text": [
      "INFO 04:18PM [connect_design]: \tOpened active design\n",
      "\tDesign:    Reset_chip_ver4_8_hfss [Solution type: Eigenmode]\n",
      "INFO 04:18PM [get_setup]: \tOpened setup `Reset_chip_ver4_7`  (<class 'pyEPR.ansys.HfssEMSetup'>)\n",
      "INFO 04:18PM [analyze]: Analyzing setup Reset_chip_ver4_7\n",
      "04:23PM 24s INFO [get_f_convergence]: Saved convergences to c:\\Users\\Luxcuse\\Documents\\GitHub\\qiskit-metal-SQNL\\hfss_eig_f_convergence.csv\n"
     ]
    }
   ],
   "source": [
    "eig_qb.sim.run(name=\"Reset_chip_ver4_8\", \n",
    "               components=['Q_1', 'R_11', 'T_coupler_R_11'], \n",
    "               open_terminations=[])"
   ]
  },
  {
   "cell_type": "code",
   "execution_count": 89,
   "metadata": {},
   "outputs": [
    {
     "name": "stderr",
     "output_type": "stream",
     "text": [
      "INFO 04:23PM [__del__]: Disconnected from Ansys HFSS\n"
     ]
    }
   ],
   "source": [
    "eig_qb.sim.plot_convergences()"
   ]
  },
  {
   "cell_type": "code",
   "execution_count": 90,
   "metadata": {},
   "outputs": [
    {
     "data": {
      "text/plain": [
       "{'junctions': {'jj1': {'Lj_variable': 'Lj1',\n",
       "   'Cj_variable': 'Cj1',\n",
       "   'rect': 'JJ_rect_Lj_Q_1_rect_jj',\n",
       "   'line': 'JJ_Lj_Q_1_rect_jj_'}},\n",
       " 'dissipatives': {'dielectrics_bulk': ['main']},\n",
       " 'cos_trunc': 8,\n",
       " 'fock_trunc': 7,\n",
       " 'sweep_variable': 'Lj1'}"
      ]
     },
     "execution_count": 90,
     "metadata": {},
     "output_type": "execute_result"
    }
   ],
   "source": [
    "eig_qb.del_junction()\n",
    "eig_qb.add_junction('jj1', 'Lj1', 'Cj1', rect='JJ_rect_Lj_Q_1_rect_jj', line='JJ_Lj_Q_1_rect_jj_')\n",
    "# eig_qb.add_junction('jj2', 'Lj2', 'Cj2', rect='JJ_rect_Lj_Q_2_rect_jj', line='JJ_Lj_Q_2_rect_jj_')\n",
    "eig_qb.setup.sweep_variable = 'Lj1'\n",
    "eig_qb.setup"
   ]
  },
  {
   "cell_type": "code",
   "execution_count": 91,
   "metadata": {},
   "outputs": [
    {
     "name": "stdout",
     "output_type": "stream",
     "text": [
      "Design \"Reset_chip_ver4_8_hfss\" info:\n",
      "\t# eigenmodes    2\n",
      "\t# variations    1\n",
      "Design \"Reset_chip_ver4_8_hfss\" info:\n",
      "\t# eigenmodes    2\n",
      "\t# variations    1\n",
      "\n",
      "        energy_elec_all       = 1.28579623162157e-24\n",
      "        energy_elec_substrate = 1.18522013816968e-24\n",
      "        EPR of substrate = 92.2%\n",
      "\n",
      "        energy_mag    = 1.49130162351092e-26\n",
      "        energy_mag % of energy_elec_all  = 1.2%\n",
      "        \n",
      "\n",
      "Variation 0  [1/1]\n",
      "\n",
      "  \u001b[1mMode 0 at 4.86 GHz   [1/2]\u001b[0m\n",
      "    Calculating ℰ_magnetic,ℰ_electric\n",
      "       (ℰ_E-ℰ_H)/ℰ_E       ℰ_E       ℰ_H\n",
      "               98.8%  6.429e-25 7.457e-27\n",
      "\n",
      "    Calculating junction energy participation ration (EPR)\n",
      "\tmethod=`line_voltage`. First estimates:\n",
      "\tjunction        EPR p_0j   sign s_0j    (p_capacitive)\n",
      "\t\tEnergy fraction (Lj over Lj&Cj)= 97.96%\n",
      "\tjj1              1.23467  (+)        0.0257506\n",
      "\t\t(U_tot_cap-U_tot_ind)/mean=-9.71%\n",
      "Calculating Qdielectric_main for mode 0 (0/1)\n",
      "p_dielectric_main_0 = 0.9217791349994475\n",
      "\n",
      "  \u001b[1mMode 1 at 6.58 GHz   [2/2]\u001b[0m\n",
      "    Calculating ℰ_magnetic,ℰ_electric\n",
      "       (ℰ_E-ℰ_H)/ℰ_E       ℰ_E       ℰ_H\n",
      "                0.5%  1.551e-24 1.544e-24\n",
      "\n",
      "    Calculating junction energy participation ration (EPR)\n",
      "\tmethod=`line_voltage`. First estimates:\n",
      "\tjunction        EPR p_1j   sign s_1j    (p_capacitive)\n",
      "\t\tEnergy fraction (Lj over Lj&Cj)= 96.31%\n",
      "\tjj1             0.00570846  (+)        0.000218619\n",
      "\t\t(U_tot_cap-U_tot_ind)/mean=-0.05%\n",
      "Calculating Qdielectric_main for mode 1 (1/1)\n",
      "p_dielectric_main_1 = 0.9201106137686355\n"
     ]
    },
    {
     "name": "stderr",
     "output_type": "stream",
     "text": [
      "WARNING 04:23PM [__init__]: <p>Error: <class 'IndexError'></p>\n",
      "ERROR 04:23PM [_get_participation_normalized]: WARNING: U_tot_cap-U_tot_ind / mean = 19.4% is > 15%.                     \n",
      "Is the simulation converged? Proceed with caution\n",
      "ERROR 04:23PM [_get_participation_normalized]: WARNING: U_tot_cap-U_tot_ind / mean = 19.4% is > 15%.                     \n",
      "Is the simulation converged? Proceed with caution\n",
      "WARNING:py.warnings:c:\\Users\\Luxcuse\\anaconda3\\envs\\env-metal\\Lib\\site-packages\\pyEPR\\core_quantum_analysis.py:711: FutureWarning: Support for multi-dimensional indexing (e.g. `obj[:, None]`) is deprecated and will be removed in a future version.  Convert to a numpy array before indexing instead.\n",
      "  result['Q_coupling'] = self.Qm_coupling[variation][self.Qm_coupling[variation].columns[junctions]][modes]#TODO change the columns to junctions\n",
      "\n",
      "WARNING:py.warnings:c:\\Users\\Luxcuse\\anaconda3\\envs\\env-metal\\Lib\\site-packages\\pyEPR\\core_quantum_analysis.py:716: FutureWarning: Support for multi-dimensional indexing (e.g. `obj[:, None]`) is deprecated and will be removed in a future version.  Convert to a numpy array before indexing instead.\n",
      "  result['Qs'] = self.Qs[variation][self.PM[variation].columns[junctions]][modes] #TODO change the columns to junctions\n",
      "\n"
     ]
    },
    {
     "name": "stdout",
     "output_type": "stream",
     "text": [
      "\n",
      "ANALYSIS DONE. Data saved to:\n",
      "\n",
      "C:\\data-pyEPR\\Project13\\Reset_chip_ver4_8_hfss\\2024-03-21 16-23-26.npz\n",
      "\n",
      "\n",
      "\t Differences in variations:\n",
      "\n",
      "\n",
      "\n",
      " . . . . . . . . . . . . . . . . . . . . . . . . . . . . . . . . . . . . . . . . \n",
      "Variation 0\n",
      "\n",
      "Starting the diagonalization\n",
      "Finished the diagonalization\n",
      "Pm_norm=\n",
      "modes\n",
      "0    0.822305\n",
      "1    0.918991\n",
      "dtype: float64\n",
      "\n",
      "Pm_norm idx =\n",
      "     jj1\n",
      "0   True\n",
      "1  False\n",
      "*** P (participation matrix, not normlz.)\n",
      "        jj1\n",
      "0  1.203678\n",
      "1  0.005707\n",
      "\n",
      "*** S (sign-bit matrix)\n",
      "   s_jj1\n",
      "0     -1\n",
      "1      1\n",
      "*** P (participation matrix, normalized.)\n",
      "      0.99\n",
      "    0.0057\n",
      "\n",
      "*** Chi matrix O1 PT (MHz)\n",
      "    Diag is anharmonicity, off diag is full cross-Kerr.\n",
      "       198     3.09\n",
      "      3.09   0.0121\n",
      "\n",
      "*** Chi matrix ND (MHz) \n",
      "       218     2.45\n",
      "      2.45  0.00795\n",
      "\n",
      "*** Frequencies O1 PT (MHz)\n",
      "0    4656.959520\n",
      "1    6579.264051\n",
      "dtype: float64\n",
      "\n",
      "*** Frequencies ND (MHz)\n",
      "0    4647.700691\n",
      "1    6579.368122\n",
      "dtype: float64\n",
      "\n",
      "*** Q_coupling\n",
      "Empty DataFrame\n",
      "Columns: []\n",
      "Index: [0, 1]\n"
     ]
    },
    {
     "data": {
      "text/markdown": [
       "#### Mode frequencies (MHz)"
      ],
      "text/plain": [
       "<IPython.core.display.Markdown object>"
      ]
     },
     "metadata": {},
     "output_type": "display_data"
    },
    {
     "data": {
      "text/markdown": [
       "###### Numerical diagonalization"
      ],
      "text/plain": [
       "<IPython.core.display.Markdown object>"
      ]
     },
     "metadata": {},
     "output_type": "display_data"
    },
    {
     "data": {
      "text/html": [
       "<div>\n",
       "<style scoped>\n",
       "    .dataframe tbody tr th:only-of-type {\n",
       "        vertical-align: middle;\n",
       "    }\n",
       "\n",
       "    .dataframe tbody tr th {\n",
       "        vertical-align: top;\n",
       "    }\n",
       "\n",
       "    .dataframe thead th {\n",
       "        text-align: right;\n",
       "    }\n",
       "</style>\n",
       "<table border=\"1\" class=\"dataframe\">\n",
       "  <thead>\n",
       "    <tr style=\"text-align: right;\">\n",
       "      <th>Lj1</th>\n",
       "      <th>11.2</th>\n",
       "    </tr>\n",
       "  </thead>\n",
       "  <tbody>\n",
       "    <tr>\n",
       "      <th>0</th>\n",
       "      <td>4647.70</td>\n",
       "    </tr>\n",
       "    <tr>\n",
       "      <th>1</th>\n",
       "      <td>6579.37</td>\n",
       "    </tr>\n",
       "  </tbody>\n",
       "</table>\n",
       "</div>"
      ],
      "text/plain": [
       "Lj1     11.2\n",
       "0    4647.70\n",
       "1    6579.37"
      ]
     },
     "metadata": {},
     "output_type": "display_data"
    },
    {
     "data": {
      "text/markdown": [
       "#### Kerr Non-linear coefficient table (MHz)"
      ],
      "text/plain": [
       "<IPython.core.display.Markdown object>"
      ]
     },
     "metadata": {},
     "output_type": "display_data"
    },
    {
     "data": {
      "text/markdown": [
       "###### Numerical diagonalization"
      ],
      "text/plain": [
       "<IPython.core.display.Markdown object>"
      ]
     },
     "metadata": {},
     "output_type": "display_data"
    },
    {
     "data": {
      "text/html": [
       "<div>\n",
       "<style scoped>\n",
       "    .dataframe tbody tr th:only-of-type {\n",
       "        vertical-align: middle;\n",
       "    }\n",
       "\n",
       "    .dataframe tbody tr th {\n",
       "        vertical-align: top;\n",
       "    }\n",
       "\n",
       "    .dataframe thead th {\n",
       "        text-align: right;\n",
       "    }\n",
       "</style>\n",
       "<table border=\"1\" class=\"dataframe\">\n",
       "  <thead>\n",
       "    <tr style=\"text-align: right;\">\n",
       "      <th></th>\n",
       "      <th></th>\n",
       "      <th>0</th>\n",
       "      <th>1</th>\n",
       "    </tr>\n",
       "    <tr>\n",
       "      <th>Lj1</th>\n",
       "      <th></th>\n",
       "      <th></th>\n",
       "      <th></th>\n",
       "    </tr>\n",
       "  </thead>\n",
       "  <tbody>\n",
       "    <tr>\n",
       "      <th rowspan=\"2\" valign=\"top\">11.2</th>\n",
       "      <th>0</th>\n",
       "      <td>218.12</td>\n",
       "      <td>2.45e+00</td>\n",
       "    </tr>\n",
       "    <tr>\n",
       "      <th>1</th>\n",
       "      <td>2.45</td>\n",
       "      <td>7.95e-03</td>\n",
       "    </tr>\n",
       "  </tbody>\n",
       "</table>\n",
       "</div>"
      ],
      "text/plain": [
       "             0         1\n",
       "Lj1                     \n",
       "11.2 0  218.12  2.45e+00\n",
       "     1    2.45  7.95e-03"
      ]
     },
     "metadata": {},
     "output_type": "display_data"
    }
   ],
   "source": [
    "eig_qb.run_epr()\n",
    "# (pyEPR allows to switch modes: eprd.set_mode(1))"
   ]
  },
  {
   "cell_type": "code",
   "execution_count": 92,
   "metadata": {},
   "outputs": [
    {
     "name": "stdout",
     "output_type": "stream",
     "text": [
      "Warning! 3 COM references still alive\n",
      "Ansys will likely refuse to shut down\n"
     ]
    }
   ],
   "source": [
    "eig_qb.sim.close()\n",
    "\n",
    "# 360"
   ]
  },
  {
   "cell_type": "markdown",
   "metadata": {},
   "source": [
    "## Eigenmode and EPR (Readout-PurcellFilter)"
   ]
  },
  {
   "cell_type": "code",
   "execution_count": 23,
   "metadata": {},
   "outputs": [
    {
     "data": {
      "text/plain": [
       "{'Lj': '10nH',\n",
       " 'Cj': 0,\n",
       " '_Rj': 0,\n",
       " 'max_mesh_length_jj': '7um',\n",
       " 'max_mesh_length_port': '7um',\n",
       " 'project_path': None,\n",
       " 'project_name': None,\n",
       " 'design_name': None,\n",
       " 'x_buffer_width_mm': 0.2,\n",
       " 'y_buffer_width_mm': 0.2,\n",
       " 'wb_threshold': '150um',\n",
       " 'wb_offset': '0um',\n",
       " 'wb_size': 3,\n",
       " 'plot_ansys_fields_options': {'name': 'NAME:Mag_E1',\n",
       "  'UserSpecifyName': '0',\n",
       "  'UserSpecifyFolder': '0',\n",
       "  'QuantityName': 'Mag_E',\n",
       "  'PlotFolder': 'E Field',\n",
       "  'StreamlinePlot': 'False',\n",
       "  'AdjacentSidePlot': 'False',\n",
       "  'FullModelPlot': 'False',\n",
       "  'IntrinsicVar': \"Phase='0deg'\",\n",
       "  'PlotGeomInfo_0': '1',\n",
       "  'PlotGeomInfo_1': 'Surface',\n",
       "  'PlotGeomInfo_2': 'FacesList',\n",
       "  'PlotGeomInfo_3': '1'}}"
      ]
     },
     "execution_count": 23,
     "metadata": {},
     "output_type": "execute_result"
    }
   ],
   "source": [
    "from qiskit_metal.analyses.quantization import EPRanalysis\n",
    "eig_qb = EPRanalysis(design, \"hfss\")\n",
    "eig_qb.sim.renderer.options['wb_size'] = 3\n",
    "eig_qb.sim.renderer.options['wb_threshold'] = '150um'\n",
    "\n",
    "eig_qb.sim.renderer.options"
   ]
  },
  {
   "cell_type": "code",
   "execution_count": 24,
   "metadata": {},
   "outputs": [],
   "source": [
    "em_p = eig_qb.sim.setup"
   ]
  },
  {
   "cell_type": "code",
   "execution_count": 25,
   "metadata": {},
   "outputs": [
    {
     "data": {
      "text/plain": [
       "{'name': 'Reset_chip_ver4_8',\n",
       " 'reuse_selected_design': True,\n",
       " 'reuse_setup': True,\n",
       " 'min_freq_ghz': 6,\n",
       " 'n_modes': 2,\n",
       " 'max_delta_f': 0.03,\n",
       " 'max_passes': 8,\n",
       " 'min_passes': 1,\n",
       " 'min_converged': 3,\n",
       " 'pct_refinement': 100,\n",
       " 'basis_order': 1,\n",
       " 'vars': {'Lj': '10 nH', 'Cj': '0 fF'},\n",
       " 'max_freq_ghz': 7}"
      ]
     },
     "execution_count": 25,
     "metadata": {},
     "output_type": "execute_result"
    }
   ],
   "source": [
    "em_p.name = 'Reset_chip_ver4_8'\n",
    "em_p.min_freq_ghz = 6\n",
    "em_p.max_freq_ghz = 7\n",
    "em_p.n_modes = 2\n",
    "em_p.max_passes = 8\n",
    "em_p.max_delta_f = 0.03\n",
    "em_p.min_converged = 3\n",
    "em_p.pct_refinement = 100\n",
    "# Design variables can also be added in for direct simulation sweeps.\n",
    "# em_p.vars = Dict({'Lj1': '11.2 nH', 'Cj1': '2 fF'})\n",
    "\n",
    "eig_qb.sim.setup"
   ]
  },
  {
   "cell_type": "code",
   "execution_count": 26,
   "metadata": {},
   "outputs": [
    {
     "name": "stderr",
     "output_type": "stream",
     "text": [
      "INFO 04:48PM [connect_project]: Connecting to Ansys Desktop API...\n",
      "INFO 04:48PM [load_ansys_project]: \tOpened Ansys App\n",
      "INFO 04:48PM [load_ansys_project]: \tOpened Ansys Desktop v2021.1.0\n",
      "INFO 04:48PM [load_ansys_project]: \tOpened Ansys Project\n",
      "\tFolder:    C:/Users/Luxcuse/Documents/Ansoft/\n",
      "\tProject:   Project13\n",
      "INFO 04:48PM [connect_design]: \tOpened active design\n",
      "\tDesign:    Reset_chip_ver4_9_hfss [Solution type: Eigenmode]\n",
      "INFO 04:48PM [get_setup]: \tOpened setup `Setup`  (<class 'pyEPR.ansys.HfssEMSetup'>)\n",
      "INFO 04:48PM [connect]: \tConnected to project \"Project13\" and design \"Reset_chip_ver4_9_hfss\" 😀 \n",
      "\n",
      "INFO 04:48PM [connect_design]: \tOpened active design\n",
      "\tDesign:    Reset_chip_ver4_9_hfss [Solution type: Eigenmode]\n",
      "INFO 04:48PM [get_setup]: \tOpened setup `Reset_chip_ver4_8`  (<class 'pyEPR.ansys.HfssEMSetup'>)\n",
      "INFO 04:48PM [analyze]: Analyzing setup Reset_chip_ver4_8\n",
      "04:52PM 49s INFO [get_f_convergence]: Saved convergences to c:\\Users\\Luxcuse\\Documents\\GitHub\\qiskit-metal-SQNL\\hfss_eig_f_convergence.csv\n"
     ]
    }
   ],
   "source": [
    "eig_qb.sim.run(name=\"Reset_chip_ver4_9\", \n",
    "               components=['Q_1', 'PF_11', 'R_11', 'T_coupler_R_11', 'T_coupler_PF_11', 'highC_PF_TL_11'], \n",
    "               open_terminations=[])"
   ]
  },
  {
   "cell_type": "code",
   "execution_count": 34,
   "metadata": {},
   "outputs": [
    {
     "name": "stderr",
     "output_type": "stream",
     "text": [
      "INFO 05:04PM [get_setup]: \tOpened setup `Reset_chip_ver4_8`  (<class 'pyEPR.ansys.HfssEMSetup'>)\n",
      "INFO 05:04PM [analyze]: Analyzing setup Reset_chip_ver4_8\n",
      "05:44PM 26s INFO [get_f_convergence]: Saved convergences to c:\\Users\\Luxcuse\\Documents\\GitHub\\qiskit-metal-SQNL\\hfss_eig_f_convergence.csv\n"
     ]
    },
    {
     "name": "stderr",
     "output_type": "stream",
     "text": [
      "05:44PM 28s CRITICAL [_qt_message_handler]: line: 0, func: None(), file: None  CRITICAL: QEventDispatcherWin32::wakeUp: Failed to post a message (사용 가능한 할당량이 부족하여 이 명령을 처리할 수 없습니다.)\n",
      "\n"
     ]
    }
   ],
   "source": [
    "eig_qb.sim.setup.max_passes = 25\n",
    "eig_qb.sim.setup.pct_refinement = 30\n",
    "eig_qb.sim.run()\n",
    "eig_qb.sim.plot_convergences()"
   ]
  },
  {
   "cell_type": "code",
   "execution_count": 27,
   "metadata": {},
   "outputs": [],
   "source": [
    "eig_qb.sim.plot_convergences()"
   ]
  },
  {
   "cell_type": "code",
   "execution_count": 35,
   "metadata": {},
   "outputs": [
    {
     "data": {
      "text/plain": [
       "{'junctions': {'jj': {'Lj_variable': 'Lj',\n",
       "   'Cj_variable': 'Cj',\n",
       "   'rect': '',\n",
       "   'line': ''}},\n",
       " 'dissipatives': {'dielectrics_bulk': ['main']},\n",
       " 'cos_trunc': 8,\n",
       " 'fock_trunc': 7,\n",
       " 'sweep_variable': 'Lj'}"
      ]
     },
     "execution_count": 35,
     "metadata": {},
     "output_type": "execute_result"
    }
   ],
   "source": [
    "eig_qb.setup"
   ]
  },
  {
   "cell_type": "code",
   "execution_count": 36,
   "metadata": {},
   "outputs": [
    {
     "name": "stdout",
     "output_type": "stream",
     "text": [
      "Design \"Reset_chip_ver4_9_hfss\" info:\n",
      "\t# eigenmodes    2\n",
      "\t# variations    1\n",
      "Design \"Reset_chip_ver4_9_hfss\" info:\n",
      "\t# eigenmodes    2\n",
      "\t# variations    1\n"
     ]
    },
    {
     "data": {
      "text/html": [
       "<div>\n",
       "<style scoped>\n",
       "    .dataframe tbody tr th:only-of-type {\n",
       "        vertical-align: middle;\n",
       "    }\n",
       "\n",
       "    .dataframe tbody tr th {\n",
       "        vertical-align: top;\n",
       "    }\n",
       "\n",
       "    .dataframe thead th {\n",
       "        text-align: right;\n",
       "    }\n",
       "</style>\n",
       "<table border=\"1\" class=\"dataframe\">\n",
       "  <thead>\n",
       "    <tr style=\"text-align: right;\">\n",
       "      <th></th>\n",
       "      <th></th>\n",
       "      <th>Freq. (GHz)</th>\n",
       "      <th>Quality Factor</th>\n",
       "    </tr>\n",
       "    <tr>\n",
       "      <th>variation</th>\n",
       "      <th>mode</th>\n",
       "      <th></th>\n",
       "      <th></th>\n",
       "    </tr>\n",
       "  </thead>\n",
       "  <tbody>\n",
       "    <tr>\n",
       "      <th rowspan=\"2\" valign=\"top\">0</th>\n",
       "      <th>0</th>\n",
       "      <td>6.560532</td>\n",
       "      <td>inf</td>\n",
       "    </tr>\n",
       "    <tr>\n",
       "      <th>1</th>\n",
       "      <td>17.731686</td>\n",
       "      <td>inf</td>\n",
       "    </tr>\n",
       "  </tbody>\n",
       "</table>\n",
       "</div>"
      ],
      "text/plain": [
       "                Freq. (GHz)  Quality Factor\n",
       "variation mode                             \n",
       "0         0        6.560532             inf\n",
       "          1       17.731686             inf"
      ]
     },
     "execution_count": 36,
     "metadata": {},
     "output_type": "execute_result"
    }
   ],
   "source": [
    "eig_qb.get_frequencies()"
   ]
  },
  {
   "cell_type": "code",
   "execution_count": null,
   "metadata": {},
   "outputs": [],
   "source": []
  },
  {
   "cell_type": "code",
   "execution_count": null,
   "metadata": {},
   "outputs": [],
   "source": [
    "eig_qb.sim.close()"
   ]
  },
  {
   "cell_type": "markdown",
   "metadata": {},
   "source": [
    "## Scattering Impedance analysis"
   ]
  },
  {
   "cell_type": "code",
   "execution_count": 77,
   "metadata": {},
   "outputs": [],
   "source": [
    "from qiskit_metal.analyses.simulation.scattering_impedance import ScatteringImpedanceSim\n",
    "em1 = ScatteringImpedanceSim(design, \"hfss\")"
   ]
  },
  {
   "cell_type": "code",
   "execution_count": 78,
   "metadata": {},
   "outputs": [],
   "source": [
    "Reset_v4 = em1.renderer"
   ]
  },
  {
   "cell_type": "code",
   "execution_count": 79,
   "metadata": {},
   "outputs": [
    {
     "name": "stderr",
     "output_type": "stream",
     "text": [
      "INFO 01:15PM [connect_project]: Connecting to Ansys Desktop API...\n",
      "INFO 01:15PM [load_ansys_project]: \tOpened Ansys App\n",
      "INFO 01:15PM [load_ansys_project]: \tOpened Ansys Desktop v2021.1.0\n",
      "INFO 01:15PM [load_ansys_project]: \tOpened Ansys Project\n",
      "\tFolder:    C:/Users/Luxcuse/Documents/Ansoft/\n",
      "\tProject:   Project12\n",
      "INFO 01:15PM [connect_design]: \tOpened active design\n",
      "\tDesign:    Reset_v4_3 [Solution type: DrivenModal]\n",
      "INFO 01:15PM [get_setup]: \tOpened setup `Setup`  (<class 'pyEPR.ansys.HfssDMSetup'>)\n",
      "INFO 01:15PM [connect]: \tConnected to project \"Project12\" and design \"Reset_v4_3\" 😀 \n",
      "\n"
     ]
    },
    {
     "data": {
      "text/plain": [
       "True"
      ]
     },
     "execution_count": 79,
     "metadata": {},
     "output_type": "execute_result"
    }
   ],
   "source": [
    "Reset_v4.start()"
   ]
  },
  {
   "cell_type": "code",
   "execution_count": 83,
   "metadata": {},
   "outputs": [
    {
     "name": "stderr",
     "output_type": "stream",
     "text": [
      "01:16PM 17s WARNING [activate_ansys_design]: The design_name=Reset_v4_4 was not in active project.  Designs in active project are: \n",
      "['reset_q3d', 'Reset_chip_ver4_1_hfss', 'Reset_v4_1', 'Reset_v4_2', 'Reset_v4_3'].  A new design will be added to the project.  \n",
      "INFO 01:16PM [connect_design]: \tOpened active design\n",
      "\tDesign:    Reset_v4_4 [Solution type: DrivenModal]\n",
      "WARNING 01:16PM [connect_setup]: \tNo design setup detected.\n",
      "WARNING 01:16PM [connect_setup]: \tCreating driven modal default setup.\n",
      "INFO 01:16PM [get_setup]: \tOpened setup `Setup`  (<class 'pyEPR.ansys.HfssDMSetup'>)\n"
     ]
    }
   ],
   "source": [
    "Reset_v4.activate_ansys_design(\"Reset_v4_4\", 'drivenmodal')"
   ]
  },
  {
   "cell_type": "code",
   "execution_count": 84,
   "metadata": {},
   "outputs": [],
   "source": [
    "Reset_v4.options['x_buffer_width_mm'] = 0.5\n",
    "Reset_v4.options['y_buffer_width_mm'] = 0.5\n",
    "em1.sim.setup"
   ]
  },
  {
   "cell_type": "code",
   "execution_count": 85,
   "metadata": {},
   "outputs": [],
   "source": [
    "# Junction ignored\n",
    "# Reset_v4.render_design(selection=[],\n",
    "#                    open_pins=[],\n",
    "#                    port_list=[('TL_11', 'end', 50)],\n",
    "#                    jj_to_port=[],\n",
    "#                    ignored_jjs=[('Q_1', 'rect_jj')],\n",
    "#                    box_plus_buffer = True)\n",
    "\n",
    "# Junction considered\n",
    "Reset_v4.render_design(selection=[],\n",
    "                   open_pins=[],\n",
    "                   port_list=[('TL_11', 'end', 50)],\n",
    "                   jj_to_port=[],\n",
    "                   ignored_jjs=[],\n",
    "                   box_plus_buffer = True)"
   ]
  },
  {
   "cell_type": "code",
   "execution_count": 69,
   "metadata": {},
   "outputs": [
    {
     "data": {
      "image/png": "[encoded data removed]",
      "text/plain": [
       "<IPython.core.display.Image object>"
      ]
     },
     "metadata": {},
     "output_type": "display_data"
    },
    {
     "data": {
      "text/plain": [
       "WindowsPath('c:/Users/Luxcuse/Documents/GitHub/qiskit-metal-SQNL/ansys.png')"
      ]
     },
     "execution_count": 69,
     "metadata": {},
     "output_type": "execute_result"
    }
   ],
   "source": [
    "Reset_v4.save_screenshot()"
   ]
  },
  {
   "cell_type": "code",
   "execution_count": 87,
   "metadata": {},
   "outputs": [
    {
     "name": "stderr",
     "output_type": "stream",
     "text": [
      "INFO 01:19PM [get_setup]: \tOpened setup `Setup`  (<class 'pyEPR.ansys.HfssDMSetup'>)\n"
     ]
    },
    {
     "data": {
      "text/plain": [
       "<pyEPR.ansys.HfssFrequencySweep at 0x2404d9e7410>"
      ]
     },
     "execution_count": 87,
     "metadata": {},
     "output_type": "execute_result"
    }
   ],
   "source": [
    "Reset_v4.add_sweep(setup_name=\"Setup\",\n",
    "               name=\"Sweep\",\n",
    "               start_ghz=4,\n",
    "               stop_ghz=8,\n",
    "               count=8001,\n",
    "               type=\"Interpolating\")"
   ]
  },
  {
   "cell_type": "code",
   "execution_count": 88,
   "metadata": {},
   "outputs": [
    {
     "name": "stderr",
     "output_type": "stream",
     "text": [
      "INFO 01:19PM [get_setup]: \tOpened setup `Setup`  (<class 'pyEPR.ansys.HfssDMSetup'>)\n",
      "INFO 01:19PM [analyze]: Analyzing setup Setup : Sweep\n"
     ]
    }
   ],
   "source": [
    "Reset_v4.analyze_sweep('Sweep', 'Setup')"
   ]
  },
  {
   "cell_type": "code",
   "execution_count": 119,
   "metadata": {},
   "outputs": [],
   "source": [
    "data = Reset_v4.plot_params(['S11'])"
   ]
  },
  {
   "cell_type": "code",
   "execution_count": 120,
   "metadata": {},
   "outputs": [],
   "source": [
    "import pandas as pd\n",
    "import matplotlib.pyplot as plt\n",
    "data = data[0].to_numpy()"
   ]
  },
  {
   "cell_type": "code",
   "execution_count": 121,
   "metadata": {},
   "outputs": [
    {
     "data": {
      "text/plain": [
       "array([[0.93091816-0.36522784j],\n",
       "       [0.93089536-0.3652849j ],\n",
       "       [0.93087255-0.36534196j],\n",
       "       ...,\n",
       "       [0.75389054-0.6570002j ],\n",
       "       [0.7538501 -0.65704652j],\n",
       "       [0.75380966-0.65709284j]])"
      ]
     },
     "execution_count": 121,
     "metadata": {},
     "output_type": "execute_result"
    }
   ],
   "source": [
    "# data = np.transpose(data)\n",
    "data"
   ]
  },
  {
   "cell_type": "code",
   "execution_count": 126,
   "metadata": {},
   "outputs": [
    {
     "data": {
      "text/plain": [
       "[<matplotlib.lines.Line2D at 0x240541634d0>]"
      ]
     },
     "execution_count": 126,
     "metadata": {},
     "output_type": "execute_result"
    }
   ],
   "source": [
    "plt.plot(np.real(data))\n",
    "plt.plot(np.imag(data))"
   ]
  },
  {
   "cell_type": "code",
   "execution_count": 125,
   "metadata": {},
   "outputs": [
    {
     "data": {
      "text/plain": [
       "[<matplotlib.lines.Line2D at 0x24053bb5b90>]"
      ]
     },
     "execution_count": 125,
     "metadata": {},
     "output_type": "execute_result"
    }
   ],
   "source": [
    "plt.plot(np.real(data),np.imag(data))"
   ]
  },
  {
   "cell_type": "code",
   "execution_count": 75,
   "metadata": {},
   "outputs": [],
   "source": [
    "em1.close()"
   ]
  },
  {
   "cell_type": "markdown",
   "metadata": {},
   "source": [
    "# Calculators"
   ]
  },
  {
   "cell_type": "code",
   "execution_count": 51,
   "metadata": {},
   "outputs": [
    {
     "name": "stdout",
     "output_type": "stream",
     "text": [
      "When Lj=11.200[nH],Ic=29.384[nA]\n"
     ]
    }
   ],
   "source": [
    "Phi_0 = 2.067833848e-15\n",
    "Delta_Al = 1.7e-4\n",
    "Lj_test = 11.2\n",
    "Ic_test = Phi_0/2/np.pi/Lj_test/1e-9\n",
    "print(\"When Lj={:.3f}[nH],\".format(Lj_test)+\"Ic={:.3f}[nA]\".format(Ic_test/1e-9))"
   ]
  },
  {
   "cell_type": "code",
   "execution_count": 52,
   "metadata": {},
   "outputs": [
    {
     "name": "stdout",
     "output_type": "stream",
     "text": [
      "Rn=9087.638640720297\n"
     ]
    }
   ],
   "source": [
    "print('Rn={}'.format(np.pi/2*Delta_Al/Ic_test))"
   ]
  },
  {
   "cell_type": "code",
   "execution_count": null,
   "metadata": {},
   "outputs": [
    {
     "name": "stdout",
     "output_type": "stream",
     "text": [
      "RRR=1.019100931606024\n"
     ]
    }
   ],
   "source": [
    "# Calculate RRR\n",
    "R_300K = 11730\n",
    "Ic = 23.2e-9\n",
    "\n",
    "RRR = Ic * R_300K * 2 / np.pi / Delta_Al\n",
    "\n",
    "print('RRR={}'.format(RRR))"
   ]
  }
 ],
 "metadata": {
  "celltoolbar": "Tags",
  "kernelspec": {
   "display_name": "Python 3 (ipykernel)",
   "language": "python",
   "name": "python3"
  },
  "language_info": {
   "codemirror_mode": {
    "name": "ipython",
    "version": 3
   },
   "file_extension": ".py",
   "mimetype": "text/x-python",
   "name": "python",
   "nbconvert_exporter": "python",
   "pygments_lexer": "ipython3",
   "version": "3.11.8"
  }
 },
 "nbformat": 4,
 "nbformat_minor": 4
}
