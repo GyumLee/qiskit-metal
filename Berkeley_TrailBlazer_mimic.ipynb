{
 "cells": [
  {
   "cell_type": "markdown",
   "metadata": {},
   "source": [
    "# Example full chip design"
   ]
  },
  {
   "cell_type": "code",
   "execution_count": 29,
   "metadata": {},
   "outputs": [
    {
     "name": "stdout",
     "output_type": "stream",
     "text": [
      "The autoreload extension is already loaded. To reload it, use:\n",
      "  %reload_ext autoreload\n"
     ]
    }
   ],
   "source": [
    "%load_ext autoreload\n",
    "%autoreload 2"
   ]
  },
  {
   "cell_type": "markdown",
   "metadata": {},
   "source": [
    "*Make sure to have the right kernel selected!*"
   ]
  },
  {
   "cell_type": "code",
   "execution_count": 30,
   "metadata": {},
   "outputs": [],
   "source": [
    "import time\n",
    "import qiskit_metal as metal\n",
    "from qiskit_metal import designs, draw\n",
    "from qiskit_metal import MetalGUI, Dict, open_docs"
   ]
  },
  {
   "cell_type": "code",
   "execution_count": 31,
   "metadata": {},
   "outputs": [],
   "source": [
    "from qiskit_metal.analyses.em.cpw_calculations import guided_wavelength\n",
    "from qiskit_metal.qlibrary.tlines.meandered import RouteMeander\n",
    "from qiskit_metal.qlibrary.tlines.pathfinder import RoutePathfinder\n",
    "from qiskit_metal.qlibrary.tlines.anchored_path import RouteAnchors\n",
    "\n",
    "from qiskit_metal.qlibrary.lumped.cap_n_interdigital import CapNInterdigital\n",
    "from qiskit_metal.qlibrary.couplers.cap_n_interdigital_tee import CapNInterdigitalTee\n",
    "from qiskit_metal.qlibrary.couplers.coupled_line_tee import CoupledLineTee\n",
    "\n",
    "from qiskit_metal.qlibrary.terminations.launchpad_wb import LaunchpadWirebond\n",
    "from qiskit_metal.qlibrary.terminations.launchpad_wb_coupled import LaunchpadWirebondCoupled\n",
    "\n",
    "from qiskit_metal.qlibrary.tlines.framed_path import RouteFramed\n",
    "from qiskit_metal.qlibrary.terminations.short_to_ground import ShortToGround\n",
    "from qiskit_metal.qlibrary.terminations.open_to_ground import OpenToGround\n",
    "\n",
    "from collections import OrderedDict\n",
    "\n",
    "from qiskit_metal.qlibrary.tlines.straight_path import RouteStraight\n",
    "from qiskit_metal.qlibrary.qubits.transmon_sqnl import TransmonPocket_sqnl\n",
    "from qiskit_metal.qlibrary.lumped.cap_n_interdigital_sqnl import CapNInterdigital_sqnl"
   ]
  },
  {
   "cell_type": "code",
   "execution_count": 32,
   "metadata": {},
   "outputs": [],
   "source": [
    "# Parameter\n",
    "\n",
    "Q1_ind = '14nH'#['11nH', '10.35nH', '9.789nH', '9.34nH']\n",
    "Q1_sweep = ['11nH', '10.45nH', '9.94nH', '9.46nH']\n",
    "Q2_ind = '11nH'#['10.35nH', '9.789nH', '9.34nH', '9.789nH']\n",
    "Q2_sweep = ['10.35nH', '9.789nH', '9.34nH', '9.789nH']\n",
    "Q3_ind = '14.5nH'\n",
    "Bus_length = '7mm'"
   ]
  },
  {
   "cell_type": "code",
   "execution_count": 33,
   "metadata": {},
   "outputs": [],
   "source": [
    "design = metal.designs.DesignPlanar()\n",
    "\n",
    "gui = metal.MetalGUI(design)"
   ]
  },
  {
   "cell_type": "code",
   "execution_count": 34,
   "metadata": {},
   "outputs": [],
   "source": [
    "design.overwrite_enabled = True\n",
    "# design.chips.main"
   ]
  },
  {
   "cell_type": "code",
   "execution_count": 35,
   "metadata": {},
   "outputs": [],
   "source": [
    "# design.chips"
   ]
  },
  {
   "cell_type": "code",
   "execution_count": 36,
   "metadata": {},
   "outputs": [],
   "source": [
    "design.chips.main.size.size_x = '10mm'\n",
    "design.chips.main.size.size_y = '10mm'"
   ]
  },
  {
   "cell_type": "markdown",
   "metadata": {},
   "source": [
    "# Qubits"
   ]
  },
  {
   "cell_type": "code",
   "execution_count": 37,
   "metadata": {},
   "outputs": [],
   "source": [
    "# TransmonPocket_sqnl.get_template_options(design)"
   ]
  },
  {
   "cell_type": "code",
   "execution_count": 38,
   "metadata": {},
   "outputs": [],
   "source": [
    "options_1 =  dict(\n",
    "    pad_width = '540 um', \n",
    "    pad_height = '132.5 um',\n",
    "    pad_gap = '65 um', \n",
    "    pocket_width = '740 um',\n",
    "    pocket_height = '530 um',\n",
    "    connection_pads=dict(\n",
    "        readout = dict(connector_type='1',  # 0 = Claw type, 1 = T-shape type\n",
    "                       t_claw_height = '645um',\n",
    "                       ground_spacing='10um',\n",
    "                       claw_width='40um',\n",
    "                       claw_gap='125um',\n",
    "                       claw_cpw_length='100um',\n",
    "                       claw_cpw_width='20um',\n",
    "                       connector_location=\n",
    "                       '4'  # 0 => 'west' arm, 90 => 'north' arm, 180 => 'east' arm\n",
    "                       ) ,\n",
    "       # bus_tmp = dict(connector_type='0',  # 0 = Claw type, 1 = T-shape type\n",
    "       #                claw_length='30um',\n",
    "       #                ground_spacing='10um',\n",
    "       #                claw_width='20um',\n",
    "       #                claw_gap='20um',\n",
    "       #                claw_cpw_length='40um',\n",
    "       #                claw_cpw_width='20um',\n",
    "       #                connector_location=\n",
    "       #                '3'  # 0 => 'west' arm, 90 => 'north' arm, 180 => 'east' arm\n",
    "       #                ) ,\n",
    "        bus_12 = dict(connector_type='0',  # 0 = Claw type, 1 = T-shape type\n",
    "                       claw_length='30um',\n",
    "                       ground_spacing='10um',\n",
    "                       claw_width='20um',\n",
    "                       claw_gap='20um',\n",
    "                       claw_cpw_length='40um',\n",
    "                       claw_cpw_width='20um',\n",
    "                       connector_location=\n",
    "                       '0'  # 0 => 'west' arm, 90 => 'north' arm, 180 => 'east' arm\n",
    "                       )\n",
    "    ))\n",
    "\n",
    "options_2 =  dict(\n",
    "    pad_width = '540 um', \n",
    "    pad_height = '132.5 um',\n",
    "    pad_gap = '65 um', \n",
    "    pocket_width = '740 um',\n",
    "    pocket_height = '530 um',\n",
    "    connection_pads=dict(\n",
    "        readout = dict(connector_type='1',  # 0 = Claw type, 1 = T-shape type\n",
    "                       t_claw_height = '645um',\n",
    "                       ground_spacing='10um',\n",
    "                       claw_width='40um',\n",
    "                       claw_gap='125um',\n",
    "                       claw_cpw_length='100um',\n",
    "                       claw_cpw_width='20um',\n",
    "                       connector_location=\n",
    "                       '4'  # 0 => 'west' arm, 90 => 'north' arm, 180 => 'east' arm\n",
    "                       ) ,\n",
    "        # bus_tmp = dict(connector_type='0',  # 0 = Claw type, 1 = T-shape type\n",
    "        #                claw_length='30um',\n",
    "        #                ground_spacing='10um',\n",
    "        #                claw_width='20um',\n",
    "        #                claw_gap='20um',\n",
    "        #                claw_cpw_length='40um',\n",
    "        #                claw_cpw_width='20um',\n",
    "        #                connector_location=\n",
    "        #                '5'  # 0 => 'west' arm, 90 => 'north' arm, 180 => 'east' arm\n",
    "        #                ) ,\n",
    "        bus_12 = dict(connector_type='0',  # 0 = Claw type, 1 = T-shape type\n",
    "                       claw_length='30um',\n",
    "                       ground_spacing='10um',\n",
    "                       claw_width='20um',\n",
    "                       claw_gap='20um',\n",
    "                       claw_cpw_length='40um',\n",
    "                       claw_cpw_width='20um',\n",
    "                       connector_location=\n",
    "                       '2'  # 0 => 'west' arm, 90 => 'north' arm, 180 => 'east' arm\n",
    "                       ),\n",
    "        bus_23 =  dict(connector_type='0',  # 0 = Claw type, 1 = T-shape type\n",
    "                       claw_length='30um',\n",
    "                       ground_spacing='10um',\n",
    "                       claw_width='20um',\n",
    "                       claw_gap='20um',\n",
    "                       claw_cpw_length='40um',\n",
    "                       claw_cpw_width='20um',\n",
    "                       connector_location=\n",
    "                       '0'  # 0 => 'west' arm, 90 => 'north' arm, 180 => 'east' arm\n",
    "                       )\n",
    "    ))\n",
    "options_3 = dict(\n",
    "    pad_width = '540 um', \n",
    "    pad_height = '132.5 um',\n",
    "    pad_gap = '65 um', \n",
    "    pocket_width = '740 um',\n",
    "    pocket_height = '530 um',\n",
    "    connection_pads=dict(\n",
    "        readout = dict(connector_type='1',  # 0 = Claw type, 1 = T-shape type\n",
    "                       t_claw_height = '645um',\n",
    "                       ground_spacing='10um',\n",
    "                       claw_width='40um',\n",
    "                       claw_gap='125um',\n",
    "                       claw_cpw_length='100um',\n",
    "                       claw_cpw_width='20um',\n",
    "                       connector_location=\n",
    "                       '4'  # 0 => 'west' arm, 90 => 'north' arm, 180 => 'east' arm\n",
    "                       ) ,\n",
    "       # bus_tmp = dict(connector_type='0',  # 0 = Claw type, 1 = T-shape type\n",
    "       #                claw_length='30um',\n",
    "       #                ground_spacing='10um',\n",
    "       #                claw_width='20um',\n",
    "       #                claw_gap='20um',\n",
    "       #                claw_cpw_length='40um',\n",
    "       #                claw_cpw_width='20um',\n",
    "       #                connector_location=\n",
    "       #                '3'  # 0 => 'west' arm, 90 => 'north' arm, 180 => 'east' arm\n",
    "       #                ) ,\n",
    "        bus_23 = dict(connector_type='0',  # 0 = Claw type, 1 = T-shape type\n",
    "                       claw_length='30um',\n",
    "                       ground_spacing='10um',\n",
    "                       claw_width='20um',\n",
    "                       claw_gap='20um',\n",
    "                       claw_cpw_length='40um',\n",
    "                       claw_cpw_width='20um',\n",
    "                       connector_location=\n",
    "                       '2'  # 0 => 'west' arm, 90 => 'north' arm, 180 => 'east' arm\n",
    "                       )\n",
    "    ))"
   ]
  },
  {
   "cell_type": "code",
   "execution_count": 39,
   "metadata": {},
   "outputs": [],
   "source": [
    "q_1 = TransmonPocket_sqnl(design,'Q_1', options = dict(\n",
    "        pos_x='2mm', \n",
    "        pos_y='0mm', \n",
    "        gds_cell_name ='FakeJunction_01',\n",
    "        hfss_inductance = Q1_ind,\n",
    "        **options_1))\n",
    "\n",
    "q_2 = TransmonPocket_sqnl(design,'Q_2', options = dict(\n",
    "        pos_x='3.96mm', \n",
    "        pos_y='0mm', \n",
    "        gds_cell_name ='FakeJunction_01',\n",
    "        hfss_inductance = Q2_ind,\n",
    "        **options_2))\n",
    "\n",
    "q_3 = TransmonPocket_sqnl(design,'Q_3', options = dict(\n",
    "        pos_x='5.92mm', \n",
    "        pos_y='0mm', \n",
    "        gds_cell_name ='FakeJunction_01',\n",
    "        hfss_inductance = Q3_ind,\n",
    "        **options_3))"
   ]
  },
  {
   "cell_type": "code",
   "execution_count": 40,
   "metadata": {},
   "outputs": [],
   "source": [
    "gui.rebuild()\n",
    "gui.autoscale()"
   ]
  },
  {
   "cell_type": "markdown",
   "metadata": {},
   "source": [
    "# Bus resonators"
   ]
  },
  {
   "cell_type": "code",
   "execution_count": 13,
   "metadata": {},
   "outputs": [],
   "source": [
    "def find_resonator_length(frequency, line_width, line_gap, N): \n",
    "    #frequency in GHz\n",
    "    #line_width/line_gap in um\n",
    "    #N -> 2 for lambda/2, 4 for lambda/4\n",
    "    \n",
    "    [lambdaG, etfSqrt, q] = guided_wavelength(frequency*10**9, line_width*10**-6,\n",
    "                                              line_gap*10**-6, 750*10**-6, 200*10**-9)\n",
    "    return str(lambdaG/N*10**3)+\" mm\""
   ]
  },
  {
   "cell_type": "code",
   "execution_count": 14,
   "metadata": {},
   "outputs": [],
   "source": [
    "bus_12 = RouteMeander(design,'Bus_12', options = dict(hfss_wire_bonds = True, \n",
    "                                            pin_inputs=Dict(\n",
    "                                                start_pin=Dict(\n",
    "                                                    component='Q_1',\n",
    "                                                    pin='bus_12'),\n",
    "                                                end_pin=Dict(\n",
    "                                                    component='Q_2',\n",
    "                                                    pin='bus_12')\n",
    "                                            ),\n",
    "                                            trace_width = '20um',\n",
    "                                            lead=Dict(\n",
    "                                                start_straight='300um',\n",
    "                                                end_straight = '0um'\n",
    "                                            ),\n",
    "                                            meander=Dict(\n",
    "                                                asymmetry = '1000um'),\n",
    "                                            fillet = \"99um\",\n",
    "                                            total_length = Bus_length))\n",
    "\n",
    "bus_23 = RouteMeander(design,'Bus_23', options = dict(hfss_wire_bonds = True, \n",
    "                                            pin_inputs=Dict(\n",
    "                                                start_pin=Dict(\n",
    "                                                    component='Q_2',\n",
    "                                                    pin='bus_23'),\n",
    "                                                end_pin=Dict(\n",
    "                                                    component='Q_3',\n",
    "                                                    pin='bus_23')\n",
    "                                            ),\n",
    "                                            trace_width = '20um',\n",
    "                                            lead=Dict(\n",
    "                                                start_straight='300um',\n",
    "                                                end_straight = '0um'\n",
    "                                            ),\n",
    "                                            meander=Dict(\n",
    "                                                asymmetry = '1000um'),\n",
    "                                            fillet = \"99um\",\n",
    "                                            total_length = Bus_length))\n",
    "\n",
    "\n",
    "gui.rebuild()"
   ]
  },
  {
   "cell_type": "markdown",
   "metadata": {},
   "source": [
    "# Readout Resoantors"
   ]
  },
  {
   "cell_type": "code",
   "execution_count": 15,
   "metadata": {},
   "outputs": [],
   "source": [
    "launch_TL_read = LaunchpadWirebond(design, \n",
    "                                   'Launch_Q_Read', \n",
    "                                   options = dict(\n",
    "                                       pos_x = '8mm', \n",
    "                                       pos_y ='-1.648mm', \n",
    "                                       orientation = '180',\n",
    "                                       trace_gap = '18um',\n",
    "                                       trace_width = '30um'\n",
    "                                   ))\n",
    "gui.rebuild()\n",
    "gui.autoscale()"
   ]
  },
  {
   "cell_type": "code",
   "execution_count": 16,
   "metadata": {},
   "outputs": [
    {
     "data": {
      "text/plain": [
       "{'pos_x': '0.0um',\n",
       " 'pos_y': '0.0um',\n",
       " 'orientation': '0.0',\n",
       " 'chip': 'main',\n",
       " 'layer': '1',\n",
       " 'north_width': '10um',\n",
       " 'north_gap': '6um',\n",
       " 'south_width': '10um',\n",
       " 'south_gap': '6um',\n",
       " 'cap_width': '10um',\n",
       " 'cap_gap': '6um',\n",
       " 'cap_gap_ground': '6um',\n",
       " 'finger_length': '20um',\n",
       " 'finger_count': '5',\n",
       " 'cap_distance': '50um',\n",
       " 'hfss_wire_bonds': False,\n",
       " 'q3d_wire_bonds': False,\n",
       " 'aedt_q3d_wire_bonds': False,\n",
       " 'aedt_hfss_wire_bonds': False}"
      ]
     },
     "execution_count": 16,
     "metadata": {},
     "output_type": "execute_result"
    }
   ],
   "source": [
    "CapNInterdigital.get_template_options(design)"
   ]
  },
  {
   "cell_type": "code",
   "execution_count": 17,
   "metadata": {},
   "outputs": [],
   "source": [
    "highC_PF_TL = CapNInterdigital_sqnl(design, \n",
    "                               'highC_PF_TL', \n",
    "                               options = dict(\n",
    "                                   pos_x = '7.5mm',\n",
    "                                   pos_y = '-1.648mm',\n",
    "                                   orientation = '-90',\n",
    "                                   north_width = '30um', \n",
    "                                   north_gap   = '18um', \n",
    "                                   south_width = '30um', \n",
    "                                   south_gap   = '18um', \n",
    "                                   cap_width   = '5um', \n",
    "                                   cap_gap   = '5um', \n",
    "                                   cap_gap_ground   = '87.5um', \n",
    "                                   finger_length   = '200um', \n",
    "                                   finger_count   = '18', \n",
    "                                   cap_distance   = '50um',\n",
    "                                   taper_length   = '200um'\n",
    "                               ))\n",
    "gui.rebuild()\n",
    "gui.autoscale()"
   ]
  },
  {
   "cell_type": "code",
   "execution_count": 18,
   "metadata": {},
   "outputs": [],
   "source": [
    "otg_PF = OpenToGround(design, 'otg_PF', options = dict(pos_x='-60um',\n",
    "                                                       pos_y='-1648um',\n",
    "                                                       width='30um',\n",
    "                                                       gap='18um',\n",
    "                                                       termination_gap='18um',\n",
    "                                                       orientation='180'\n",
    "                                                      ))\n",
    "gui.rebuild()\n",
    "gui.autoscale()"
   ]
  },
  {
   "cell_type": "code",
   "execution_count": 19,
   "metadata": {},
   "outputs": [],
   "source": [
    "option_PF = Dict(hfss_wire_bonds = True,\n",
    "              pin_inputs=Dict(\n",
    "                 start_pin=Dict(\n",
    "                     component='highC_PF_TL',\n",
    "                     pin='south_end'),\n",
    "                 end_pin=Dict(\n",
    "                     component='otg_PF',\n",
    "                     pin='open')),\n",
    "              trace_width='30um',\n",
    "              trace_gap='18um',qgeometry_types='poly'\n",
    "             )\n",
    "option_TL = Dict(hfss_wire_bonds = True,\n",
    "              pin_inputs=Dict(\n",
    "                 start_pin=Dict(\n",
    "                     component='highC_PF_TL',\n",
    "                     pin='north_end'),\n",
    "                 end_pin=Dict(\n",
    "                     component='Launch_Q_Read',\n",
    "                     pin='tie')),\n",
    "              trace_width='30um',\n",
    "              trace_gap='18um',qgeometry_types='poly'\n",
    "             )\n",
    "PF = RouteStraight(design, 'PF', options=option_PF)\n",
    "TL = RouteStraight(design, 'TL', options=option_TL)\n",
    "\n",
    "gui.rebuild()\n",
    "gui.autoscale()"
   ]
  },
  {
   "cell_type": "code",
   "execution_count": 20,
   "metadata": {},
   "outputs": [
    {
     "data": {
      "text/plain": [
       "{'tie': {'points': array([[ 7.975, -1.663],\n",
       "         [ 7.975, -1.633]]),\n",
       "  'middle': array([ 7.975, -1.648]),\n",
       "  'normal': array([-1.,  0.]),\n",
       "  'tangent': array([0., 1.]),\n",
       "  'width': 0.03,\n",
       "  'gap': 0.018,\n",
       "  'chip': 'main',\n",
       "  'parent_name': 6,\n",
       "  'net_id': 32,\n",
       "  'length': 0}}"
      ]
     },
     "execution_count": 20,
     "metadata": {},
     "output_type": "execute_result"
    }
   ],
   "source": [
    "launch_TL_read.pins"
   ]
  },
  {
   "cell_type": "code",
   "execution_count": 21,
   "metadata": {},
   "outputs": [],
   "source": [
    "# ---------------------------------- readout 1 -------------------------------------\n",
    "pin_opt_1 = Dict(hfss_wire_bonds = True,\n",
    "                 pin_inputs=Dict(\n",
    "                                start_pin=Dict(\n",
    "                                component='Q_1',\n",
    "                                pin='readout'),\n",
    "                                end_pin=Dict(\n",
    "                                component='readout1_short',\n",
    "                                pin='short')),\n",
    "               fillet='89um',\n",
    "               trace_width='20um',\n",
    "               trace_gap='10um'\n",
    "              )\n",
    "\n",
    "stg_r1 = ShortToGround(design, 'readout1_short', \n",
    "                       options=dict(\n",
    "                           pos_x='{:f}mm'.format((q_1.pins.readout.points[0][0]+q_1.pins.readout.points[1][0])/2 - 0.560), \n",
    "                           pos_y='{:f}mm'.format(q_1.pins.readout.points[0][1]-0.520), orientation='90',\n",
    "                      width='20um',\n",
    "                      gap='10um'))\n",
    "\n",
    "pin_opt_1.pin_inputs.start_pin.component = 'Q_1'\n",
    "pin_opt_1.pin_inputs.end_pin.component = 'readout1_short'\n",
    "\n",
    "# the first step is always stright, let's define by how much (minimum is half the route width):\n",
    "pin_opt_1.lead.start_straight = '520um + 90um'\n",
    "pin_opt_1.lead.end_straight = '10um'\n",
    "\n",
    "# any subsequent step of the lead_start\n",
    "jogsS_1 = OrderedDict()\n",
    "jogsS_1[0] = [\"L\", '0um + 180um']\n",
    "jogsS_1[1] = [\"R\", '350um + 180um']\n",
    "jogsS_1[2] = [\"R\", '200um + 180um']\n",
    "jogsS_1[3] = [\"R\", '620um + 180um']\n",
    "jogsS_1[4] = [\"L\", '0um + 180um']\n",
    "jogsS_1[5] = [\"L\", '420um + 180um']\n",
    "jogsS_1[6] = [\"R\", '0um + 160um']\n",
    "#jogsS_1[7] = [\"R\", '420um + 90um']\n",
    "\n",
    "pin_opt_1.lead.start_jogged_extension = jogsS_1\n",
    "readout_res_1 = RouteFramed(design, 'readout_res_1', pin_opt_1)\n",
    "\n",
    "# ---------------------------------- readout 2 -------------------------------------\n",
    "pin_opt_2 = Dict(hfss_wire_bonds = True,\n",
    "                 pin_inputs=Dict(\n",
    "                                start_pin=Dict(\n",
    "                                component='Q_2',\n",
    "                                pin='readout'),\n",
    "                                end_pin=Dict(\n",
    "                                component='readout2_short',\n",
    "                                pin='short')),\n",
    "               fillet='89um',\n",
    "               trace_width='20um',\n",
    "               trace_gap='10um'\n",
    "              )\n",
    "\n",
    "stg_r2 = ShortToGround(design, 'readout2_short', \n",
    "                       options=dict(\n",
    "                           pos_x='{:f}mm'.format((q_2.pins.readout.points[0][0]+q_2.pins.readout.points[1][0])/2 - 0.560), \n",
    "                           pos_y='{:f}mm'.format(q_2.pins.readout.points[0][1] - 0.520), orientation='90',\n",
    "                      width='20um',\n",
    "                      gap='10um'))\n",
    "\n",
    "pin_opt_2.pin_inputs.start_pin.component = 'Q_2'\n",
    "pin_opt_2.pin_inputs.end_pin.component = 'readout2_short'\n",
    "\n",
    "# the first step is always stright, let's define by how much (minimum is half the route width):\n",
    "pin_opt_2.lead.start_straight = '520um + 90um'\n",
    "pin_opt_2.lead.end_straight = '10um'\n",
    "\n",
    "# any subsequent step of the lead_start\n",
    "jogsS_2 = OrderedDict()\n",
    "jogsS_2[0] = [\"L\", '0um + 180um']\n",
    "jogsS_2[1] = [\"R\", '350um + 180um']\n",
    "jogsS_2[2] = [\"R\", '200um + 180um']\n",
    "jogsS_2[3] = [\"R\", '620um + 180um']\n",
    "jogsS_2[4] = [\"L\", '0um + 180um']\n",
    "jogsS_2[5] = [\"L\", '436um + 180um']\n",
    "jogsS_2[6] = [\"R\", '0um + 160um']\n",
    "#jogsS_2[7] = [\"R\", '420um + 90um']\n",
    "\n",
    "pin_opt_2.lead.start_jogged_extension = jogsS_2\n",
    "readout_res_2 = RouteFramed(design, 'readout_res_2', pin_opt_2)\n",
    "\n",
    "gui.rebuild()\n",
    "gui.autoscale()"
   ]
  },
  {
   "cell_type": "markdown",
   "metadata": {},
   "source": [
    "# ---------------------------------- Analyze ----------------------------------"
   ]
  },
  {
   "cell_type": "markdown",
   "metadata": {},
   "source": [
    "# Eigenmode and EPR"
   ]
  },
  {
   "cell_type": "code",
   "execution_count": 22,
   "metadata": {},
   "outputs": [],
   "source": [
    "from qiskit_metal.analyses.quantization import EPRanalysis\n",
    "eig_qb = EPRanalysis(design, \"hfss\")"
   ]
  },
  {
   "cell_type": "code",
   "execution_count": 23,
   "metadata": {},
   "outputs": [],
   "source": [
    "eig_qb.sim.renderer.options['wb_size'] = 5"
   ]
  },
  {
   "cell_type": "code",
   "execution_count": 24,
   "metadata": {},
   "outputs": [],
   "source": [
    "em_p = eig_qb.sim.setup"
   ]
  },
  {
   "cell_type": "code",
   "execution_count": 25,
   "metadata": {},
   "outputs": [
    {
     "data": {
      "text/plain": [
       "{'name': 'Setup',\n",
       " 'reuse_selected_design': True,\n",
       " 'reuse_setup': True,\n",
       " 'min_freq_ghz': 5.2,\n",
       " 'n_modes': 4,\n",
       " 'max_delta_f': 0.1,\n",
       " 'max_passes': 20,\n",
       " 'min_passes': 1,\n",
       " 'min_converged': 2,\n",
       " 'pct_refinement': 30,\n",
       " 'basis_order': 1,\n",
       " 'vars': {'Lj1': '14nH',\n",
       "  'Cj1': '0 fF',\n",
       "  'Lj2': '11nH',\n",
       "  'Cj2': '0 fF',\n",
       "  'Lj3': '14.5nH',\n",
       "  'Cj3': '0 fF'}}"
      ]
     },
     "execution_count": 25,
     "metadata": {},
     "output_type": "execute_result"
    }
   ],
   "source": [
    "em_p.name = 'Setup'\n",
    "em_p.min_freq_ghz = 5.2\n",
    "em_p.n_modes = 4\n",
    "em_p.max_passes = 20\n",
    "em_p.max_delta_f = 0.1\n",
    "em_p.min_converged = 2\n",
    "# Design variables can also be added in for direct simulation sweeps.\n",
    "em_p.vars = Dict({'Lj1': Q1_ind, 'Cj1': '0 fF', \n",
    "                  'Lj2': Q2_ind, 'Cj2': '0 fF',\n",
    "                  'Lj3': Q3_ind, 'Cj3': '0 fF'})\n",
    "# em_p.vars = Dict({'Lj1': ['17.2 nH','17.3 nH','17.4 nH','17.5 nH'], 'Cj1': '0 fF', 'Lj2': '17.0 nH', 'Cj2': '0 fF'})\n",
    "# em_p.vars = Dict({'Lj1': '17.2 nH', 'Cj1': '0 fF'})\n",
    "\n",
    "eig_qb.sim.setup"
   ]
  },
  {
   "cell_type": "code",
   "execution_count": 26,
   "metadata": {},
   "outputs": [],
   "source": [
    "eig_qb.del_junction()\n",
    "eig_qb.add_junction('jj1', 'Lj1', 'Cj1', rect='JJ_rect_Lj_Q_1_rect_jj', line='JJ_Lj_Q_1_rect_jj_')\n",
    "eig_qb.add_junction('jj2', 'Lj2', 'Cj2', rect='JJ_rect_Lj_Q_2_rect_jj', line='JJ_Lj_Q_2_rect_jj_')\n",
    "eig_qb.add_junction('jj3', 'Lj3', 'Cj3', rect='JJ_rect_Lj_Q_3_rect_jj', line='JJ_Lj_Q_3_rect_jj_')\n",
    "eig_qb.setup.sweep_variable = 'Lj2'"
   ]
  },
  {
   "cell_type": "code",
   "execution_count": 27,
   "metadata": {},
   "outputs": [
    {
     "name": "stderr",
     "output_type": "stream",
     "text": [
      "INFO 10:48AM [connect_project]: Connecting to Ansys Desktop API...\n",
      "INFO 10:48AM [load_ansys_project]: \tOpened Ansys App\n",
      "INFO 10:48AM [load_ansys_project]: \tOpened Ansys Desktop v2023.1.0\n",
      "INFO 10:48AM [load_ansys_project]: \tOpened Ansys Project\n",
      "\tFolder:    C:/LG/Metal_simul/\n",
      "\tProject:   Trailblazer_test\n",
      "INFO 10:48AM [connect_design]: \tOpened active design\n",
      "\tDesign:    Berkeley_8Qring_sample_3_hfss [Solution type: Eigenmode]\n",
      "INFO 10:48AM [get_setup]: \tOpened setup `Setup`  (<class 'pyEPR.ansys.HfssEMSetup'>)\n",
      "INFO 10:48AM [connect]: \tConnected to project \"Trailblazer_test\" and design \"Berkeley_8Qring_sample_3_hfss\" 😀 \n",
      "\n",
      "INFO 10:48AM [connect_design]: \tOpened active design\n",
      "\tDesign:    Berkeley_8Qring_sample_3_hfss [Solution type: Eigenmode]\n",
      "INFO 10:48AM [get_setup]: \tOpened setup `Setup`  (<class 'pyEPR.ansys.HfssEMSetup'>)\n",
      "INFO 10:48AM [analyze]: Analyzing setup Setup\n",
      "12:01PM 58s INFO [get_f_convergence]: Saved convergences to c:\\Users\\user\\Documents\\GitHub\\qiskit-metal\\hfss_eig_f_convergence.csv\n"
     ]
    },
    {
     "name": "stdout",
     "output_type": "stream",
     "text": [
      "Design \"Berkeley_8Qring_sample_3_hfss\" info:\n",
      "\t# eigenmodes    4\n",
      "\t# variations    1\n",
      "Design \"Berkeley_8Qring_sample_3_hfss\" info:\n",
      "\t# eigenmodes    4\n",
      "\t# variations    1\n",
      "\n",
      "        energy_elec_all       = 4.28503359342309e-25\n",
      "        energy_elec_substrate = 3.95100484041456e-25\n",
      "        EPR of substrate = 92.2%\n",
      "\n",
      "        energy_mag    = 5.90302220460929e-27\n",
      "        energy_mag % of energy_elec_all  = 1.4%\n",
      "        \n",
      "\n",
      "Variation 0  [1/1]\n",
      "\n",
      "  \u001b[1mMode 0 at 5.49 GHz   [1/4]\u001b[0m\n",
      "    Calculating ℰ_magnetic,ℰ_electric\n",
      "       (ℰ_E-ℰ_H)/ℰ_E       ℰ_E       ℰ_H\n",
      "               98.6%  2.143e-25 2.952e-27\n",
      "\n",
      "    Calculating junction energy participation ration (EPR)\n",
      "\tmethod=`line_voltage`. First estimates:\n",
      "\tjunction        EPR p_0j   sign s_0j    (p_capacitive)\n",
      "\t\tEnergy fraction (Lj over Lj&Cj)= 96.77%\n",
      "\tjj1             3.46254e-06  (+)        1.15469e-07\n",
      "\t\tEnergy fraction (Lj over Lj&Cj)= 97.45%\n",
      "\tjj2             0.985667  (+)        0.0258265\n",
      "\t\tEnergy fraction (Lj over Lj&Cj)= 96.66%\n",
      "\tjj3             2.75325e-06  (+)        9.50948e-08\n",
      "\t\t(U_tot_cap-U_tot_ind)/mean=1.30%\n",
      "Calculating Qdielectric_main for mode 0 (0/3)\n",
      "p_dielectric_main_0 = 0.9220475765881472\n",
      "\n",
      "  \u001b[1mMode 1 at 6.64 GHz   [2/4]\u001b[0m\n",
      "    Calculating ℰ_magnetic,ℰ_electric\n",
      "       (ℰ_E-ℰ_H)/ℰ_E       ℰ_E       ℰ_H\n",
      "                0.3%  2.421e-25 2.413e-25\n",
      "\n",
      "    Calculating junction energy participation ration (EPR)\n",
      "\tmethod=`line_voltage`. First estimates:\n",
      "\tjunction        EPR p_1j   sign s_1j    (p_capacitive)\n",
      "\t\tEnergy fraction (Lj over Lj&Cj)= 95.36%\n",
      "\tjj1             2.10667e-11  (+)        1.02582e-12\n",
      "\t\tEnergy fraction (Lj over Lj&Cj)= 96.32%\n",
      "\tjj2             0.00310852  (+)        0.00011893\n",
      "\t\tEnergy fraction (Lj over Lj&Cj)= 95.20%\n",
      "\tjj3             2.02506e-09  (+)        1.02129e-10\n",
      "\t\t(U_tot_cap-U_tot_ind)/mean=0.01%\n",
      "Calculating Qdielectric_main for mode 1 (1/3)\n",
      "p_dielectric_main_1 = 0.9214691579385383\n",
      "\n",
      "  \u001b[1mMode 2 at 8.09 GHz   [3/4]\u001b[0m\n",
      "    Calculating ℰ_magnetic,ℰ_electric\n",
      "       (ℰ_E-ℰ_H)/ℰ_E       ℰ_E       ℰ_H\n",
      "                0.0%  7.045e-25 7.042e-25\n",
      "\n",
      "    Calculating junction energy participation ration (EPR)\n",
      "\tmethod=`line_voltage`. First estimates:\n",
      "\tjunction        EPR p_2j   sign s_2j    (p_capacitive)\n",
      "\t\tEnergy fraction (Lj over Lj&Cj)= 93.25%\n",
      "\tjj1             0.000188388  (+)        1.36271e-05\n",
      "\t\tEnergy fraction (Lj over Lj&Cj)= 94.62%\n",
      "\tjj2             2.50834e-07  (+)        1.42561e-08\n",
      "\t\tEnergy fraction (Lj over Lj&Cj)= 93.03%\n",
      "\tjj3             0.000182568  (+)        1.36777e-05\n",
      "\t\t(U_tot_cap-U_tot_ind)/mean=0.00%\n",
      "Calculating Qdielectric_main for mode 2 (2/3)\n",
      "p_dielectric_main_2 = 0.9212918504267561\n",
      "\n",
      "  \u001b[1mMode 3 at 8.12 GHz   [4/4]\u001b[0m\n",
      "    Calculating ℰ_magnetic,ℰ_electric\n",
      "       (ℰ_E-ℰ_H)/ℰ_E       ℰ_E       ℰ_H\n",
      "                0.2%  6.485e-25 6.475e-25\n",
      "\n",
      "    Calculating junction energy participation ration (EPR)\n",
      "\tmethod=`line_voltage`. First estimates:\n",
      "\tjunction        EPR p_3j   sign s_3j    (p_capacitive)\n",
      "\t\tEnergy fraction (Lj over Lj&Cj)= 93.21%\n",
      "\tjj1             0.000196607  (+)        1.43215e-05\n",
      "\t\tEnergy fraction (Lj over Lj&Cj)= 94.59%\n",
      "\tjj2             0.00121566  (+)        6.95771e-05\n",
      "\t\tEnergy fraction (Lj over Lj&Cj)= 92.98%\n",
      "\tjj3             0.000170942  (+)        1.28967e-05\n",
      "\t\t(U_tot_cap-U_tot_ind)/mean=0.00%\n",
      "Calculating Qdielectric_main for mode 3 (3/3)\n",
      "p_dielectric_main_3 = 0.9212679173153799\n"
     ]
    },
    {
     "name": "stderr",
     "output_type": "stream",
     "text": [
      "WARNING 12:11PM [__init__]: <p>Error: <class 'IndexError'></p>\n"
     ]
    },
    {
     "name": "stdout",
     "output_type": "stream",
     "text": [
      "\n",
      "ANALYSIS DONE. Data saved to:\n",
      "\n",
      "C:\\data-pyEPR\\Trailblazer_test\\Berkeley_8Qring_sample_3_hfss\\2024-07-18 12-01-59.npz\n",
      "\n",
      "\n",
      "\t Differences in variations:\n",
      "\n",
      "\n",
      "\n",
      " . . . . . . . . . . . . . . . . . . . . . . . . . . . . . . . . . . . . . . . . \n",
      "Variation 0\n",
      "\n",
      "Starting the diagonalization\n",
      "Finished the diagonalization\n"
     ]
    },
    {
     "name": "stderr",
     "output_type": "stream",
     "text": [
      "WARNING:py.warnings:c:\\Users\\user\\anaconda3\\envs\\env_metal\\Lib\\site-packages\\pyEPR\\core_quantum_analysis.py:711: FutureWarning: Support for multi-dimensional indexing (e.g. `obj[:, None]`) is deprecated and will be removed in a future version.  Convert to a numpy array before indexing instead.\n",
      "  result['Q_coupling'] = self.Qm_coupling[variation][self.Qm_coupling[variation].columns[junctions]][modes]#TODO change the columns to junctions\n",
      "\n",
      "WARNING:py.warnings:c:\\Users\\user\\anaconda3\\envs\\env_metal\\Lib\\site-packages\\pyEPR\\core_quantum_analysis.py:716: FutureWarning: Support for multi-dimensional indexing (e.g. `obj[:, None]`) is deprecated and will be removed in a future version.  Convert to a numpy array before indexing instead.\n",
      "  result['Qs'] = self.Qs[variation][self.PM[variation].columns[junctions]][modes] #TODO change the columns to junctions\n",
      "\n"
     ]
    },
    {
     "name": "stdout",
     "output_type": "stream",
     "text": [
      "Pm_norm=\n",
      "modes\n",
      "0    1.026579\n",
      "1    1.019466\n",
      "2    1.037241\n",
      "3    1.030977\n",
      "dtype: float64\n",
      "\n",
      "Pm_norm idx =\n",
      "     jj1    jj2    jj3\n",
      "0  False   True  False\n",
      "1  False  False  False\n",
      "2  False  False  False\n",
      "3  False  False  False\n",
      "*** P (participation matrix, not normlz.)\n",
      "            jj1           jj2           jj3\n",
      "0  3.375364e-06  9.608513e-01  2.683934e-06\n",
      "1  2.106424e-11  3.108154e-03  2.024821e-09\n",
      "2  1.883830e-04  2.508273e-07  1.825635e-04\n",
      "3  1.965876e-04  1.215541e-03  1.709251e-04\n",
      "\n",
      "*** S (sign-bit matrix)\n",
      "   s_jj1  s_jj2  s_jj3\n",
      "0     -1     -1     -1\n",
      "1     -1      1     -1\n",
      "2      1      1     -1\n",
      "3      1     -1      1\n",
      "*** P (participation matrix, normalized.)\n",
      "   3.4e-06     0.99  2.7e-06\n",
      "   2.1e-11   0.0031    2e-09\n",
      "   0.00019  2.5e-07  0.00018\n",
      "    0.0002   0.0012  0.00017\n",
      "\n",
      "*** Chi matrix O1 PT (MHz)\n",
      "    Diag is anharmonicity, off diag is full cross-Kerr.\n",
      "       247     1.88 0.000186    0.899\n",
      "      1.88  0.00358 7.05e-07  0.00342\n",
      "  0.000186 7.05e-07  4.9e-05 9.79e-05\n",
      "     0.899  0.00342 9.79e-05 0.000868\n",
      "\n",
      "*** Chi matrix ND (MHz) \n",
      "       274     1.17 0.000166     0.76\n",
      "      1.17  0.00162 4.17e-07  0.00196\n",
      "  0.000166 4.17e-07  4.9e-05 9.78e-05\n",
      "      0.76  0.00196 9.78e-05 0.000641\n",
      "\n",
      "*** Frequencies O1 PT (MHz)\n",
      "0    5244.284267\n",
      "1    6636.142013\n",
      "2    8089.385259\n",
      "3    8117.304704\n",
      "dtype: float64\n",
      "\n",
      "*** Frequencies ND (MHz)\n",
      "0    5231.566044\n",
      "1    6636.278334\n",
      "2    8089.385262\n",
      "3    8117.324371\n",
      "dtype: float64\n",
      "\n",
      "*** Q_coupling\n",
      "Empty DataFrame\n",
      "Columns: []\n",
      "Index: [0, 1, 2, 3]\n"
     ]
    },
    {
     "data": {
      "text/markdown": [
       "#### Mode frequencies (MHz)"
      ],
      "text/plain": [
       "<IPython.core.display.Markdown object>"
      ]
     },
     "metadata": {},
     "output_type": "display_data"
    },
    {
     "data": {
      "text/markdown": [
       "###### Numerical diagonalization"
      ],
      "text/plain": [
       "<IPython.core.display.Markdown object>"
      ]
     },
     "metadata": {},
     "output_type": "display_data"
    },
    {
     "data": {
      "text/html": [
       "<div>\n",
       "<style scoped>\n",
       "    .dataframe tbody tr th:only-of-type {\n",
       "        vertical-align: middle;\n",
       "    }\n",
       "\n",
       "    .dataframe tbody tr th {\n",
       "        vertical-align: top;\n",
       "    }\n",
       "\n",
       "    .dataframe thead th {\n",
       "        text-align: right;\n",
       "    }\n",
       "</style>\n",
       "<table border=\"1\" class=\"dataframe\">\n",
       "  <thead>\n",
       "    <tr style=\"text-align: right;\">\n",
       "      <th>Lj2</th>\n",
       "      <th>11</th>\n",
       "    </tr>\n",
       "  </thead>\n",
       "  <tbody>\n",
       "    <tr>\n",
       "      <th>0</th>\n",
       "      <td>5231.57</td>\n",
       "    </tr>\n",
       "    <tr>\n",
       "      <th>1</th>\n",
       "      <td>6636.28</td>\n",
       "    </tr>\n",
       "    <tr>\n",
       "      <th>2</th>\n",
       "      <td>8089.39</td>\n",
       "    </tr>\n",
       "    <tr>\n",
       "      <th>3</th>\n",
       "      <td>8117.32</td>\n",
       "    </tr>\n",
       "  </tbody>\n",
       "</table>\n",
       "</div>"
      ],
      "text/plain": [
       "Lj2       11\n",
       "0    5231.57\n",
       "1    6636.28\n",
       "2    8089.39\n",
       "3    8117.32"
      ]
     },
     "metadata": {},
     "output_type": "display_data"
    },
    {
     "data": {
      "text/markdown": [
       "#### Kerr Non-linear coefficient table (MHz)"
      ],
      "text/plain": [
       "<IPython.core.display.Markdown object>"
      ]
     },
     "metadata": {},
     "output_type": "display_data"
    },
    {
     "data": {
      "text/markdown": [
       "###### Numerical diagonalization"
      ],
      "text/plain": [
       "<IPython.core.display.Markdown object>"
      ]
     },
     "metadata": {},
     "output_type": "display_data"
    },
    {
     "data": {
      "text/html": [
       "<div>\n",
       "<style scoped>\n",
       "    .dataframe tbody tr th:only-of-type {\n",
       "        vertical-align: middle;\n",
       "    }\n",
       "\n",
       "    .dataframe tbody tr th {\n",
       "        vertical-align: top;\n",
       "    }\n",
       "\n",
       "    .dataframe thead th {\n",
       "        text-align: right;\n",
       "    }\n",
       "</style>\n",
       "<table border=\"1\" class=\"dataframe\">\n",
       "  <thead>\n",
       "    <tr style=\"text-align: right;\">\n",
       "      <th></th>\n",
       "      <th></th>\n",
       "      <th>0</th>\n",
       "      <th>1</th>\n",
       "      <th>2</th>\n",
       "      <th>3</th>\n",
       "    </tr>\n",
       "    <tr>\n",
       "      <th>Lj2</th>\n",
       "      <th></th>\n",
       "      <th></th>\n",
       "      <th></th>\n",
       "      <th></th>\n",
       "      <th></th>\n",
       "    </tr>\n",
       "  </thead>\n",
       "  <tbody>\n",
       "    <tr>\n",
       "      <th rowspan=\"4\" valign=\"top\">11</th>\n",
       "      <th>0</th>\n",
       "      <td>2.74e+02</td>\n",
       "      <td>1.17e+00</td>\n",
       "      <td>1.66e-04</td>\n",
       "      <td>7.60e-01</td>\n",
       "    </tr>\n",
       "    <tr>\n",
       "      <th>1</th>\n",
       "      <td>1.17e+00</td>\n",
       "      <td>1.62e-03</td>\n",
       "      <td>4.17e-07</td>\n",
       "      <td>1.96e-03</td>\n",
       "    </tr>\n",
       "    <tr>\n",
       "      <th>2</th>\n",
       "      <td>1.66e-04</td>\n",
       "      <td>4.17e-07</td>\n",
       "      <td>4.90e-05</td>\n",
       "      <td>9.78e-05</td>\n",
       "    </tr>\n",
       "    <tr>\n",
       "      <th>3</th>\n",
       "      <td>7.60e-01</td>\n",
       "      <td>1.96e-03</td>\n",
       "      <td>9.78e-05</td>\n",
       "      <td>6.41e-04</td>\n",
       "    </tr>\n",
       "  </tbody>\n",
       "</table>\n",
       "</div>"
      ],
      "text/plain": [
       "              0         1         2         3\n",
       "Lj2                                          \n",
       "11  0  2.74e+02  1.17e+00  1.66e-04  7.60e-01\n",
       "    1  1.17e+00  1.62e-03  4.17e-07  1.96e-03\n",
       "    2  1.66e-04  4.17e-07  4.90e-05  9.78e-05\n",
       "    3  7.60e-01  1.96e-03  9.78e-05  6.41e-04"
      ]
     },
     "metadata": {},
     "output_type": "display_data"
    },
    {
     "name": "stderr",
     "output_type": "stream",
     "text": [
      "INFO 12:11PM [connect_design]: \tOpened active design\n",
      "\tDesign:    Berkeley_8Qring_sample_3_hfss [Solution type: Eigenmode]\n",
      "INFO 12:12PM [get_setup]: \tOpened setup `Setup`  (<class 'pyEPR.ansys.HfssEMSetup'>)\n",
      "INFO 12:12PM [analyze]: Analyzing setup Setup\n",
      "01:21PM 44s INFO [get_f_convergence]: Saved convergences to c:\\Users\\user\\Documents\\GitHub\\qiskit-metal\\hfss_eig_f_convergence.csv\n"
     ]
    },
    {
     "name": "stdout",
     "output_type": "stream",
     "text": [
      "Design \"Berkeley_8Qring_sample_3_hfss\" info:\n",
      "\t# eigenmodes    4\n",
      "\t# variations    1\n",
      "Design \"Berkeley_8Qring_sample_3_hfss\" info:\n",
      "\t# eigenmodes    4\n",
      "\t# variations    1\n",
      "\n",
      "        energy_elec_all       = 1.35082270384596e-24\n",
      "        energy_elec_substrate = 1.24447052927913e-24\n",
      "        EPR of substrate = 92.1%\n",
      "\n",
      "        energy_mag    = 1.34843080045361e-24\n",
      "        energy_mag % of energy_elec_all  = 99.8%\n",
      "        \n",
      "\n",
      "Variation 0  [1/1]\n",
      "\n",
      "  \u001b[1mMode 0 at 5.63 GHz   [1/4]\u001b[0m\n",
      "    Calculating ℰ_magnetic,ℰ_electric\n",
      "       (ℰ_E-ℰ_H)/ℰ_E       ℰ_E       ℰ_H\n",
      "               98.5%  1.684e-25 2.608e-27\n",
      "\n",
      "    Calculating junction energy participation ration (EPR)\n",
      "\tmethod=`line_voltage`. First estimates:\n",
      "\tjunction        EPR p_0j   sign s_0j    (p_capacitive)\n",
      "\t\tEnergy fraction (Lj over Lj&Cj)= 96.61%\n",
      "\tjj1             2.8181e-06  (+)        9.88889e-08\n",
      "\t\tEnergy fraction (Lj over Lj&Cj)= 97.32%\n",
      "\tjj2              0.93452  (+)        0.0257659\n",
      "\t\tEnergy fraction (Lj over Lj&Cj)= 96.49%\n",
      "\tjj3             2.28286e-06  (+)        8.2968e-08\n",
      "\t\t(U_tot_cap-U_tot_ind)/mean=3.83%\n",
      "Calculating Qdielectric_main for mode 0 (0/3)\n",
      "p_dielectric_main_0 = 0.922069521592549\n",
      "\n",
      "  \u001b[1mMode 1 at 6.64 GHz   [2/4]\u001b[0m\n",
      "    Calculating ℰ_magnetic,ℰ_electric\n",
      "       (ℰ_E-ℰ_H)/ℰ_E       ℰ_E       ℰ_H\n",
      "                0.4%  1.503e-25 1.497e-25\n",
      "\n",
      "    Calculating junction energy participation ration (EPR)\n",
      "\tmethod=`line_voltage`. First estimates:\n",
      "\tjunction        EPR p_1j   sign s_1j    (p_capacitive)\n",
      "\t\tEnergy fraction (Lj over Lj&Cj)= 95.35%\n",
      "\tjj1             5.4722e-11  (+)        2.66636e-12\n",
      "\t\tEnergy fraction (Lj over Lj&Cj)= 96.31%\n",
      "\tjj2             0.00392014  (+)        0.00015008\n",
      "\t\tEnergy fraction (Lj over Lj&Cj)= 95.20%\n",
      "\tjj3             1.1169e-09  (+)        5.63653e-11\n",
      "\t\t(U_tot_cap-U_tot_ind)/mean=0.02%\n",
      "Calculating Qdielectric_main for mode 1 (1/3)\n",
      "p_dielectric_main_1 = 0.921349292579421\n",
      "\n",
      "  \u001b[1mMode 2 at 8.09 GHz   [3/4]\u001b[0m\n",
      "    Calculating ℰ_magnetic,ℰ_electric\n",
      "       (ℰ_E-ℰ_H)/ℰ_E       ℰ_E       ℰ_H\n",
      "                0.0%  7.252e-25 7.249e-25\n",
      "\n",
      "    Calculating junction energy participation ration (EPR)\n",
      "\tmethod=`line_voltage`. First estimates:\n",
      "\tjunction        EPR p_2j   sign s_2j    (p_capacitive)\n",
      "\t\tEnergy fraction (Lj over Lj&Cj)= 93.25%\n",
      "\tjj1             0.00019039  (+)        1.37716e-05\n",
      "\t\tEnergy fraction (Lj over Lj&Cj)= 94.62%\n",
      "\tjj2             1.63634e-07  (+)        9.2999e-09\n",
      "\t\tEnergy fraction (Lj over Lj&Cj)= 93.03%\n",
      "\tjj3             0.000182978  (+)        1.37081e-05\n",
      "\t\t(U_tot_cap-U_tot_ind)/mean=0.00%\n",
      "Calculating Qdielectric_main for mode 2 (2/3)\n",
      "p_dielectric_main_2 = 0.9212916446251772\n",
      "\n",
      "  \u001b[1mMode 3 at 8.12 GHz   [4/4]\u001b[0m\n",
      "    Calculating ℰ_magnetic,ℰ_electric\n",
      "       (ℰ_E-ℰ_H)/ℰ_E       ℰ_E       ℰ_H\n",
      "                0.2%  6.754e-25 6.742e-25\n",
      "\n",
      "    Calculating junction energy participation ration (EPR)\n",
      "\tmethod=`line_voltage`. First estimates:\n",
      "\tjunction        EPR p_3j   sign s_3j    (p_capacitive)\n",
      "\t\tEnergy fraction (Lj over Lj&Cj)= 93.21%\n",
      "\tjj1             0.000196422  (+)        1.43087e-05\n",
      "\t\tEnergy fraction (Lj over Lj&Cj)= 94.59%\n",
      "\tjj2             0.00132947  (+)        7.60942e-05\n",
      "\t\tEnergy fraction (Lj over Lj&Cj)= 92.98%\n",
      "\tjj3             0.000173205  (+)        1.30681e-05\n",
      "\t\t(U_tot_cap-U_tot_ind)/mean=0.01%\n",
      "Calculating Qdielectric_main for mode 3 (3/3)\n",
      "p_dielectric_main_3 = 0.9212685911600154\n"
     ]
    },
    {
     "name": "stderr",
     "output_type": "stream",
     "text": [
      "WARNING 01:29PM [__init__]: <p>Error: <class 'IndexError'></p>\n"
     ]
    },
    {
     "name": "stdout",
     "output_type": "stream",
     "text": [
      "\n",
      "ANALYSIS DONE. Data saved to:\n",
      "\n",
      "C:\\data-pyEPR\\Trailblazer_test\\Berkeley_8Qring_sample_3_hfss\\2024-07-18 13-21-45.npz\n",
      "\n",
      "\n",
      "\t Differences in variations:\n",
      "\n",
      "\n",
      "\n",
      " . . . . . . . . . . . . . . . . . . . . . . . . . . . . . . . . . . . . . . . . \n",
      "Variation 0\n",
      "\n",
      "Starting the diagonalization\n",
      "Finished the diagonalization\n"
     ]
    },
    {
     "name": "stderr",
     "output_type": "stream",
     "text": [
      "WARNING:py.warnings:c:\\Users\\user\\anaconda3\\envs\\env_metal\\Lib\\site-packages\\pyEPR\\core_quantum_analysis.py:711: FutureWarning: Support for multi-dimensional indexing (e.g. `obj[:, None]`) is deprecated and will be removed in a future version.  Convert to a numpy array before indexing instead.\n",
      "  result['Q_coupling'] = self.Qm_coupling[variation][self.Qm_coupling[variation].columns[junctions]][modes]#TODO change the columns to junctions\n",
      "\n",
      "WARNING:py.warnings:c:\\Users\\user\\anaconda3\\envs\\env_metal\\Lib\\site-packages\\pyEPR\\core_quantum_analysis.py:716: FutureWarning: Support for multi-dimensional indexing (e.g. `obj[:, None]`) is deprecated and will be removed in a future version.  Convert to a numpy array before indexing instead.\n",
      "  result['Qs'] = self.Qs[variation][self.PM[variation].columns[junctions]][modes] #TODO change the columns to junctions\n",
      "\n"
     ]
    },
    {
     "name": "stdout",
     "output_type": "stream",
     "text": [
      "Pm_norm=\n",
      "modes\n",
      "0    1.080431\n",
      "1    1.046092\n",
      "2    1.037293\n",
      "3    1.051613\n",
      "dtype: float64\n",
      "\n",
      "Pm_norm idx =\n",
      "     jj1    jj2    jj3\n",
      "0  False   True  False\n",
      "1  False  False  False\n",
      "2  False  False  False\n",
      "3  False  False  False\n",
      "*** P (participation matrix, not normlz.)\n",
      "            jj1           jj2           jj3\n",
      "0  2.747309e-06  9.110463e-01  2.225516e-06\n",
      "1  5.471378e-11  3.919550e-03  1.116733e-09\n",
      "2  1.903849e-04  1.636297e-07  1.829726e-04\n",
      "3  1.964018e-04  1.329330e-03  1.731876e-04\n",
      "\n",
      "*** S (sign-bit matrix)\n",
      "   s_jj1  s_jj2  s_jj3\n",
      "0      1      1      1\n",
      "1     -1     -1      1\n",
      "2      1      1     -1\n",
      "3      1     -1      1\n",
      "*** P (participation matrix, normalized.)\n",
      "   2.7e-06     0.98  2.2e-06\n",
      "   5.5e-11   0.0039  1.1e-09\n",
      "   0.00019  1.6e-07  0.00018\n",
      "    0.0002   0.0013  0.00017\n",
      "\n",
      "*** Chi matrix O1 PT (MHz)\n",
      "    Diag is anharmonicity, off diag is full cross-Kerr.\n",
      "       259     2.43 0.000124     1.01\n",
      "      2.43   0.0057  5.8e-07  0.00472\n",
      "  0.000124  5.8e-07 4.97e-05  9.9e-05\n",
      "      1.01  0.00472  9.9e-05  0.00103\n",
      "\n",
      "*** Chi matrix ND (MHz) \n",
      "       289     1.38 0.000109     0.83\n",
      "      1.38  0.00219 3.13e-07  0.00246\n",
      "  0.000109 3.13e-07 4.97e-05  9.9e-05\n",
      "      0.83  0.00246  9.9e-05 0.000729\n",
      "\n",
      "*** Frequencies O1 PT (MHz)\n",
      "0    5373.819760\n",
      "1    6638.040546\n",
      "2    8089.298760\n",
      "3    8117.430722\n",
      "dtype: float64\n",
      "\n",
      "*** Frequencies ND (MHz)\n",
      "0    5360.062782\n",
      "1    6638.252296\n",
      "2    8089.298762\n",
      "3    8117.457156\n",
      "dtype: float64\n",
      "\n",
      "*** Q_coupling\n",
      "Empty DataFrame\n",
      "Columns: []\n",
      "Index: [0, 1, 2, 3]\n"
     ]
    },
    {
     "data": {
      "text/markdown": [
       "#### Mode frequencies (MHz)"
      ],
      "text/plain": [
       "<IPython.core.display.Markdown object>"
      ]
     },
     "metadata": {},
     "output_type": "display_data"
    },
    {
     "data": {
      "text/markdown": [
       "###### Numerical diagonalization"
      ],
      "text/plain": [
       "<IPython.core.display.Markdown object>"
      ]
     },
     "metadata": {},
     "output_type": "display_data"
    },
    {
     "data": {
      "text/html": [
       "<div>\n",
       "<style scoped>\n",
       "    .dataframe tbody tr th:only-of-type {\n",
       "        vertical-align: middle;\n",
       "    }\n",
       "\n",
       "    .dataframe tbody tr th {\n",
       "        vertical-align: top;\n",
       "    }\n",
       "\n",
       "    .dataframe thead th {\n",
       "        text-align: right;\n",
       "    }\n",
       "</style>\n",
       "<table border=\"1\" class=\"dataframe\">\n",
       "  <thead>\n",
       "    <tr style=\"text-align: right;\">\n",
       "      <th>Lj2</th>\n",
       "      <th>11</th>\n",
       "    </tr>\n",
       "  </thead>\n",
       "  <tbody>\n",
       "    <tr>\n",
       "      <th>0</th>\n",
       "      <td>5360.06</td>\n",
       "    </tr>\n",
       "    <tr>\n",
       "      <th>1</th>\n",
       "      <td>6638.25</td>\n",
       "    </tr>\n",
       "    <tr>\n",
       "      <th>2</th>\n",
       "      <td>8089.30</td>\n",
       "    </tr>\n",
       "    <tr>\n",
       "      <th>3</th>\n",
       "      <td>8117.46</td>\n",
       "    </tr>\n",
       "  </tbody>\n",
       "</table>\n",
       "</div>"
      ],
      "text/plain": [
       "Lj2       11\n",
       "0    5360.06\n",
       "1    6638.25\n",
       "2    8089.30\n",
       "3    8117.46"
      ]
     },
     "metadata": {},
     "output_type": "display_data"
    },
    {
     "data": {
      "text/markdown": [
       "#### Kerr Non-linear coefficient table (MHz)"
      ],
      "text/plain": [
       "<IPython.core.display.Markdown object>"
      ]
     },
     "metadata": {},
     "output_type": "display_data"
    },
    {
     "data": {
      "text/markdown": [
       "###### Numerical diagonalization"
      ],
      "text/plain": [
       "<IPython.core.display.Markdown object>"
      ]
     },
     "metadata": {},
     "output_type": "display_data"
    },
    {
     "data": {
      "text/html": [
       "<div>\n",
       "<style scoped>\n",
       "    .dataframe tbody tr th:only-of-type {\n",
       "        vertical-align: middle;\n",
       "    }\n",
       "\n",
       "    .dataframe tbody tr th {\n",
       "        vertical-align: top;\n",
       "    }\n",
       "\n",
       "    .dataframe thead th {\n",
       "        text-align: right;\n",
       "    }\n",
       "</style>\n",
       "<table border=\"1\" class=\"dataframe\">\n",
       "  <thead>\n",
       "    <tr style=\"text-align: right;\">\n",
       "      <th></th>\n",
       "      <th></th>\n",
       "      <th>0</th>\n",
       "      <th>1</th>\n",
       "      <th>2</th>\n",
       "      <th>3</th>\n",
       "    </tr>\n",
       "    <tr>\n",
       "      <th>Lj2</th>\n",
       "      <th></th>\n",
       "      <th></th>\n",
       "      <th></th>\n",
       "      <th></th>\n",
       "      <th></th>\n",
       "    </tr>\n",
       "  </thead>\n",
       "  <tbody>\n",
       "    <tr>\n",
       "      <th rowspan=\"4\" valign=\"top\">11</th>\n",
       "      <th>0</th>\n",
       "      <td>2.89e+02</td>\n",
       "      <td>1.38e+00</td>\n",
       "      <td>1.09e-04</td>\n",
       "      <td>8.30e-01</td>\n",
       "    </tr>\n",
       "    <tr>\n",
       "      <th>1</th>\n",
       "      <td>1.38e+00</td>\n",
       "      <td>2.19e-03</td>\n",
       "      <td>3.13e-07</td>\n",
       "      <td>2.46e-03</td>\n",
       "    </tr>\n",
       "    <tr>\n",
       "      <th>2</th>\n",
       "      <td>1.09e-04</td>\n",
       "      <td>3.13e-07</td>\n",
       "      <td>4.97e-05</td>\n",
       "      <td>9.90e-05</td>\n",
       "    </tr>\n",
       "    <tr>\n",
       "      <th>3</th>\n",
       "      <td>8.30e-01</td>\n",
       "      <td>2.46e-03</td>\n",
       "      <td>9.90e-05</td>\n",
       "      <td>7.29e-04</td>\n",
       "    </tr>\n",
       "  </tbody>\n",
       "</table>\n",
       "</div>"
      ],
      "text/plain": [
       "              0         1         2         3\n",
       "Lj2                                          \n",
       "11  0  2.89e+02  1.38e+00  1.09e-04  8.30e-01\n",
       "    1  1.38e+00  2.19e-03  3.13e-07  2.46e-03\n",
       "    2  1.09e-04  3.13e-07  4.97e-05  9.90e-05\n",
       "    3  8.30e-01  2.46e-03  9.90e-05  7.29e-04"
      ]
     },
     "metadata": {},
     "output_type": "display_data"
    },
    {
     "name": "stderr",
     "output_type": "stream",
     "text": [
      "INFO 01:29PM [connect_design]: \tOpened active design\n",
      "\tDesign:    Berkeley_8Qring_sample_3_hfss [Solution type: Eigenmode]\n",
      "INFO 01:30PM [get_setup]: \tOpened setup `Setup`  (<class 'pyEPR.ansys.HfssEMSetup'>)\n",
      "INFO 01:30PM [analyze]: Analyzing setup Setup\n",
      "02:11PM 27s INFO [get_f_convergence]: Saved convergences to c:\\Users\\user\\Documents\\GitHub\\qiskit-metal\\hfss_eig_f_convergence.csv\n"
     ]
    },
    {
     "name": "stdout",
     "output_type": "stream",
     "text": [
      "Design \"Berkeley_8Qring_sample_3_hfss\" info:\n",
      "\t# eigenmodes    4\n",
      "\t# variations    1\n",
      "Design \"Berkeley_8Qring_sample_3_hfss\" info:\n",
      "\t# eigenmodes    4\n",
      "\t# variations    1\n",
      "\n",
      "        energy_elec_all       = 1.62825946738562e-24\n",
      "        energy_elec_substrate = 1.49960929059961e-24\n",
      "        EPR of substrate = 92.1%\n",
      "\n",
      "        energy_mag    = 1.62502674107816e-24\n",
      "        energy_mag % of energy_elec_all  = 99.8%\n",
      "        \n",
      "\n",
      "Variation 0  [1/1]\n",
      "\n",
      "  \u001b[1mMode 0 at 5.77 GHz   [1/4]\u001b[0m\n",
      "    Calculating ℰ_magnetic,ℰ_electric\n",
      "       (ℰ_E-ℰ_H)/ℰ_E       ℰ_E       ℰ_H\n",
      "               98.2%  2.846e-25 5.009e-27\n",
      "\n",
      "    Calculating junction energy participation ration (EPR)\n",
      "\tmethod=`line_voltage`. First estimates:\n",
      "\tjunction        EPR p_0j   sign s_0j    (p_capacitive)\n",
      "\t\tEnergy fraction (Lj over Lj&Cj)= 96.45%\n",
      "\tjj1             2.32169e-06  (+)        8.54407e-08\n",
      "\t\tEnergy fraction (Lj over Lj&Cj)= 97.19%\n",
      "\tjj2             0.886517  (+)        0.0256338\n",
      "\t\tEnergy fraction (Lj over Lj&Cj)= 96.33%\n",
      "\tjj3             1.92696e-06  (+)        7.34467e-08\n",
      "\t\t(U_tot_cap-U_tot_ind)/mean=6.30%\n",
      "Calculating Qdielectric_main for mode 0 (0/3)\n",
      "p_dielectric_main_0 = 0.921960180087138\n",
      "\n",
      "  \u001b[1mMode 1 at 6.64 GHz   [2/4]\u001b[0m\n",
      "    Calculating ℰ_magnetic,ℰ_electric\n",
      "       (ℰ_E-ℰ_H)/ℰ_E       ℰ_E       ℰ_H\n",
      "                0.6%  3.212e-25 3.194e-25\n",
      "\n",
      "    Calculating junction energy participation ration (EPR)\n",
      "\tmethod=`line_voltage`. First estimates:\n",
      "\tjunction        EPR p_1j   sign s_1j    (p_capacitive)\n",
      "\t\tEnergy fraction (Lj over Lj&Cj)= 95.35%\n",
      "\tjj1             4.7166e-10  (+)        2.30061e-11\n",
      "\t\tEnergy fraction (Lj over Lj&Cj)= 96.31%\n",
      "\tjj2             0.00499395  (+)        0.000191392\n",
      "\t\tEnergy fraction (Lj over Lj&Cj)= 95.19%\n",
      "\tjj3             3.30268e-10  (+)        1.66848e-11\n",
      "\t\t(U_tot_cap-U_tot_ind)/mean=0.04%\n",
      "Calculating Qdielectric_main for mode 1 (1/3)\n",
      "p_dielectric_main_1 = 0.920876139370492\n",
      "\n",
      "  \u001b[1mMode 2 at 8.09 GHz   [3/4]\u001b[0m\n",
      "    Calculating ℰ_magnetic,ℰ_electric\n",
      "       (ℰ_E-ℰ_H)/ℰ_E       ℰ_E       ℰ_H\n",
      "                0.0%  9.584e-25  9.58e-25\n",
      "\n",
      "    Calculating junction energy participation ration (EPR)\n",
      "\tmethod=`line_voltage`. First estimates:\n",
      "\tjunction        EPR p_2j   sign s_2j    (p_capacitive)\n",
      "\t\tEnergy fraction (Lj over Lj&Cj)= 93.26%\n",
      "\tjj1             0.000180526  (+)        1.30496e-05\n",
      "\t\tEnergy fraction (Lj over Lj&Cj)= 94.63%\n",
      "\tjj2             1.73659e-06  (+)        9.86323e-08\n",
      "\t\tEnergy fraction (Lj over Lj&Cj)= 93.03%\n",
      "\tjj3             0.000189106  (+)        1.4158e-05\n",
      "\t\t(U_tot_cap-U_tot_ind)/mean=0.00%\n",
      "Calculating Qdielectric_main for mode 2 (2/3)\n",
      "p_dielectric_main_2 = 0.9210092053551794\n",
      "\n",
      "  \u001b[1mMode 3 at 8.12 GHz   [4/4]\u001b[0m\n",
      "    Calculating ℰ_magnetic,ℰ_electric\n",
      "       (ℰ_E-ℰ_H)/ℰ_E       ℰ_E       ℰ_H\n",
      "                0.2%  8.141e-25 8.125e-25\n",
      "\n",
      "    Calculating junction energy participation ration (EPR)\n",
      "\tmethod=`line_voltage`. First estimates:\n",
      "\tjunction        EPR p_3j   sign s_3j    (p_capacitive)\n",
      "\t\tEnergy fraction (Lj over Lj&Cj)= 93.21%\n",
      "\tjj1             0.000204341  (+)        1.48772e-05\n",
      "\t\tEnergy fraction (Lj over Lj&Cj)= 94.59%\n",
      "\tjj2             0.00145957  (+)        8.34941e-05\n",
      "\t\tEnergy fraction (Lj over Lj&Cj)= 92.99%\n",
      "\tjj3             0.00016308  (+)        1.22972e-05\n",
      "\t\t(U_tot_cap-U_tot_ind)/mean=0.01%\n",
      "Calculating Qdielectric_main for mode 3 (3/3)\n",
      "p_dielectric_main_3 = 0.920989142478272\n"
     ]
    },
    {
     "name": "stderr",
     "output_type": "stream",
     "text": [
      "WARNING 02:16PM [__init__]: <p>Error: <class 'IndexError'></p>\n"
     ]
    },
    {
     "name": "stdout",
     "output_type": "stream",
     "text": [
      "\n",
      "ANALYSIS DONE. Data saved to:\n",
      "\n",
      "C:\\data-pyEPR\\Trailblazer_test\\Berkeley_8Qring_sample_3_hfss\\2024-07-18 14-11-28.npz\n",
      "\n",
      "\n",
      "\t Differences in variations:\n",
      "\n",
      "\n",
      "\n",
      " . . . . . . . . . . . . . . . . . . . . . . . . . . . . . . . . . . . . . . . . \n",
      "Variation 0\n",
      "\n",
      "Starting the diagonalization\n",
      "Finished the diagonalization\n"
     ]
    },
    {
     "name": "stderr",
     "output_type": "stream",
     "text": [
      "WARNING:py.warnings:c:\\Users\\user\\anaconda3\\envs\\env_metal\\Lib\\site-packages\\pyEPR\\core_quantum_analysis.py:711: FutureWarning: Support for multi-dimensional indexing (e.g. `obj[:, None]`) is deprecated and will be removed in a future version.  Convert to a numpy array before indexing instead.\n",
      "  result['Q_coupling'] = self.Qm_coupling[variation][self.Qm_coupling[variation].columns[junctions]][modes]#TODO change the columns to junctions\n",
      "\n",
      "WARNING:py.warnings:c:\\Users\\user\\anaconda3\\envs\\env_metal\\Lib\\site-packages\\pyEPR\\core_quantum_analysis.py:716: FutureWarning: Support for multi-dimensional indexing (e.g. `obj[:, None]`) is deprecated and will be removed in a future version.  Convert to a numpy array before indexing instead.\n",
      "  result['Qs'] = self.Qs[variation][self.PM[variation].columns[junctions]][modes] #TODO change the columns to junctions\n",
      "\n"
     ]
    },
    {
     "name": "stdout",
     "output_type": "stream",
     "text": [
      "Pm_norm=\n",
      "modes\n",
      "0    1.135816\n",
      "1    1.073633\n",
      "2    1.037562\n",
      "3    1.073781\n",
      "dtype: float64\n",
      "\n",
      "Pm_norm idx =\n",
      "     jj1    jj2    jj3\n",
      "0  False   True  False\n",
      "1  False  False  False\n",
      "2  False  False  False\n",
      "3  False  False  False\n",
      "*** P (participation matrix, not normlz.)\n",
      "            jj1       jj2           jj3\n",
      "0  2.263664e-06  0.864361  1.878796e-06\n",
      "1  4.715698e-10  0.004993  3.302051e-10\n",
      "2  1.805214e-04  0.000002  1.891004e-04\n",
      "3  2.043185e-04  0.001459  1.630616e-04\n",
      "\n",
      "*** S (sign-bit matrix)\n",
      "   s_jj1  s_jj2  s_jj3\n",
      "0      1      1      1\n",
      "1      1      1     -1\n",
      "2     -1     -1      1\n",
      "3      1     -1      1\n",
      "*** P (participation matrix, normalized.)\n",
      "   2.3e-06     0.98  1.9e-06\n",
      "   4.7e-10    0.005  3.3e-10\n",
      "   0.00018  1.7e-06  0.00019\n",
      "    0.0002   0.0015  0.00016\n",
      "\n",
      "*** Chi matrix O1 PT (MHz)\n",
      "    Diag is anharmonicity, off diag is full cross-Kerr.\n",
      "       270     3.16  0.00134     1.13\n",
      "      3.16  0.00925 7.84e-06  0.00661\n",
      "   0.00134 7.84e-06 4.87e-05 9.95e-05\n",
      "      1.13  0.00661 9.95e-05  0.00123\n",
      "\n",
      "*** Chi matrix ND (MHz) \n",
      "       302     1.61  0.00115    0.905\n",
      "      1.61  0.00296 3.78e-06  0.00308\n",
      "   0.00115 3.78e-06 4.87e-05 9.87e-05\n",
      "     0.905  0.00308 9.87e-05 0.000832\n",
      "\n",
      "*** Frequencies O1 PT (MHz)\n",
      "0    5497.875323\n",
      "1    6641.163629\n",
      "2    8086.677473\n",
      "3    8115.098047\n",
      "dtype: float64\n",
      "\n",
      "*** Frequencies ND (MHz)\n",
      "0    5483.053735\n",
      "1    6641.493567\n",
      "2    8086.677503\n",
      "3    8115.133060\n",
      "dtype: float64\n",
      "\n",
      "*** Q_coupling\n",
      "Empty DataFrame\n",
      "Columns: []\n",
      "Index: [0, 1, 2, 3]\n"
     ]
    },
    {
     "data": {
      "text/markdown": [
       "#### Mode frequencies (MHz)"
      ],
      "text/plain": [
       "<IPython.core.display.Markdown object>"
      ]
     },
     "metadata": {},
     "output_type": "display_data"
    },
    {
     "data": {
      "text/markdown": [
       "###### Numerical diagonalization"
      ],
      "text/plain": [
       "<IPython.core.display.Markdown object>"
      ]
     },
     "metadata": {},
     "output_type": "display_data"
    },
    {
     "data": {
      "text/html": [
       "<div>\n",
       "<style scoped>\n",
       "    .dataframe tbody tr th:only-of-type {\n",
       "        vertical-align: middle;\n",
       "    }\n",
       "\n",
       "    .dataframe tbody tr th {\n",
       "        vertical-align: top;\n",
       "    }\n",
       "\n",
       "    .dataframe thead th {\n",
       "        text-align: right;\n",
       "    }\n",
       "</style>\n",
       "<table border=\"1\" class=\"dataframe\">\n",
       "  <thead>\n",
       "    <tr style=\"text-align: right;\">\n",
       "      <th>Lj2</th>\n",
       "      <th>11</th>\n",
       "    </tr>\n",
       "  </thead>\n",
       "  <tbody>\n",
       "    <tr>\n",
       "      <th>0</th>\n",
       "      <td>5483.05</td>\n",
       "    </tr>\n",
       "    <tr>\n",
       "      <th>1</th>\n",
       "      <td>6641.49</td>\n",
       "    </tr>\n",
       "    <tr>\n",
       "      <th>2</th>\n",
       "      <td>8086.68</td>\n",
       "    </tr>\n",
       "    <tr>\n",
       "      <th>3</th>\n",
       "      <td>8115.13</td>\n",
       "    </tr>\n",
       "  </tbody>\n",
       "</table>\n",
       "</div>"
      ],
      "text/plain": [
       "Lj2       11\n",
       "0    5483.05\n",
       "1    6641.49\n",
       "2    8086.68\n",
       "3    8115.13"
      ]
     },
     "metadata": {},
     "output_type": "display_data"
    },
    {
     "data": {
      "text/markdown": [
       "#### Kerr Non-linear coefficient table (MHz)"
      ],
      "text/plain": [
       "<IPython.core.display.Markdown object>"
      ]
     },
     "metadata": {},
     "output_type": "display_data"
    },
    {
     "data": {
      "text/markdown": [
       "###### Numerical diagonalization"
      ],
      "text/plain": [
       "<IPython.core.display.Markdown object>"
      ]
     },
     "metadata": {},
     "output_type": "display_data"
    },
    {
     "data": {
      "text/html": [
       "<div>\n",
       "<style scoped>\n",
       "    .dataframe tbody tr th:only-of-type {\n",
       "        vertical-align: middle;\n",
       "    }\n",
       "\n",
       "    .dataframe tbody tr th {\n",
       "        vertical-align: top;\n",
       "    }\n",
       "\n",
       "    .dataframe thead th {\n",
       "        text-align: right;\n",
       "    }\n",
       "</style>\n",
       "<table border=\"1\" class=\"dataframe\">\n",
       "  <thead>\n",
       "    <tr style=\"text-align: right;\">\n",
       "      <th></th>\n",
       "      <th></th>\n",
       "      <th>0</th>\n",
       "      <th>1</th>\n",
       "      <th>2</th>\n",
       "      <th>3</th>\n",
       "    </tr>\n",
       "    <tr>\n",
       "      <th>Lj2</th>\n",
       "      <th></th>\n",
       "      <th></th>\n",
       "      <th></th>\n",
       "      <th></th>\n",
       "      <th></th>\n",
       "    </tr>\n",
       "  </thead>\n",
       "  <tbody>\n",
       "    <tr>\n",
       "      <th rowspan=\"4\" valign=\"top\">11</th>\n",
       "      <th>0</th>\n",
       "      <td>3.02e+02</td>\n",
       "      <td>1.61e+00</td>\n",
       "      <td>1.15e-03</td>\n",
       "      <td>9.05e-01</td>\n",
       "    </tr>\n",
       "    <tr>\n",
       "      <th>1</th>\n",
       "      <td>1.61e+00</td>\n",
       "      <td>2.96e-03</td>\n",
       "      <td>3.78e-06</td>\n",
       "      <td>3.08e-03</td>\n",
       "    </tr>\n",
       "    <tr>\n",
       "      <th>2</th>\n",
       "      <td>1.15e-03</td>\n",
       "      <td>3.78e-06</td>\n",
       "      <td>4.87e-05</td>\n",
       "      <td>9.87e-05</td>\n",
       "    </tr>\n",
       "    <tr>\n",
       "      <th>3</th>\n",
       "      <td>9.05e-01</td>\n",
       "      <td>3.08e-03</td>\n",
       "      <td>9.87e-05</td>\n",
       "      <td>8.32e-04</td>\n",
       "    </tr>\n",
       "  </tbody>\n",
       "</table>\n",
       "</div>"
      ],
      "text/plain": [
       "              0         1         2         3\n",
       "Lj2                                          \n",
       "11  0  3.02e+02  1.61e+00  1.15e-03  9.05e-01\n",
       "    1  1.61e+00  2.96e-03  3.78e-06  3.08e-03\n",
       "    2  1.15e-03  3.78e-06  4.87e-05  9.87e-05\n",
       "    3  9.05e-01  3.08e-03  9.87e-05  8.32e-04"
      ]
     },
     "metadata": {},
     "output_type": "display_data"
    },
    {
     "name": "stderr",
     "output_type": "stream",
     "text": [
      "INFO 02:17PM [connect_design]: \tOpened active design\n",
      "\tDesign:    Berkeley_8Qring_sample_3_hfss [Solution type: Eigenmode]\n",
      "INFO 02:17PM [get_setup]: \tOpened setup `Setup`  (<class 'pyEPR.ansys.HfssEMSetup'>)\n",
      "INFO 02:17PM [analyze]: Analyzing setup Setup\n",
      "03:25PM 06s INFO [get_f_convergence]: Saved convergences to c:\\Users\\user\\Documents\\GitHub\\qiskit-metal\\hfss_eig_f_convergence.csv\n"
     ]
    },
    {
     "name": "stdout",
     "output_type": "stream",
     "text": [
      "Design \"Berkeley_8Qring_sample_3_hfss\" info:\n",
      "\t# eigenmodes    4\n",
      "\t# variations    1\n",
      "Design \"Berkeley_8Qring_sample_3_hfss\" info:\n",
      "\t# eigenmodes    4\n",
      "\t# variations    1\n",
      "\n",
      "        energy_elec_all       = 1.32695758409024e-24\n",
      "        energy_elec_substrate = 1.22245930861904e-24\n",
      "        EPR of substrate = 92.1%\n",
      "\n",
      "        energy_mag    = 1.32395835548618e-24\n",
      "        energy_mag % of energy_elec_all  = 99.8%\n",
      "        \n",
      "\n",
      "Variation 0  [1/1]\n",
      "\n",
      "  \u001b[1mMode 0 at 5.92 GHz   [1/4]\u001b[0m\n",
      "    Calculating ℰ_magnetic,ℰ_electric\n",
      "       (ℰ_E-ℰ_H)/ℰ_E       ℰ_E       ℰ_H\n",
      "               97.9%  1.658e-25 3.518e-27\n",
      "\n",
      "    Calculating junction energy participation ration (EPR)\n",
      "\tmethod=`line_voltage`. First estimates:\n",
      "\tjunction        EPR p_0j   sign s_0j    (p_capacitive)\n",
      "\t\tEnergy fraction (Lj over Lj&Cj)= 96.27%\n",
      "\tjj1             2.17327e-06  (+)        8.41038e-08\n",
      "\t\tEnergy fraction (Lj over Lj&Cj)= 97.05%\n",
      "\tjj2              0.84037  (+)        0.0255527\n",
      "\t\tEnergy fraction (Lj over Lj&Cj)= 96.15%\n",
      "\tjj3             1.82668e-06  (+)        7.32157e-08\n",
      "\t\t(U_tot_cap-U_tot_ind)/mean=8.69%\n",
      "Calculating Qdielectric_main for mode 0 (0/3)\n",
      "p_dielectric_main_0 = 0.9221336477798514\n",
      "\n",
      "  \u001b[1mMode 1 at 6.64 GHz   [2/4]\u001b[0m\n",
      "    Calculating ℰ_magnetic,ℰ_electric\n",
      "       (ℰ_E-ℰ_H)/ℰ_E       ℰ_E       ℰ_H\n",
      "                0.8%  1.695e-25 1.681e-25\n",
      "\n",
      "    Calculating junction energy participation ration (EPR)\n",
      "\tmethod=`line_voltage`. First estimates:\n",
      "\tjunction        EPR p_1j   sign s_1j    (p_capacitive)\n",
      "\t\tEnergy fraction (Lj over Lj&Cj)= 95.35%\n",
      "\tjj1             2.22968e-09  (+)        1.08752e-10\n",
      "\t\tEnergy fraction (Lj over Lj&Cj)= 96.31%\n",
      "\tjj2             0.00714458  (+)        0.000273801\n",
      "\t\tEnergy fraction (Lj over Lj&Cj)= 95.19%\n",
      "\tjj3             2.18197e-11  (+)        1.10226e-12\n",
      "\t\t(U_tot_cap-U_tot_ind)/mean=0.07%\n",
      "Calculating Qdielectric_main for mode 1 (1/3)\n",
      "p_dielectric_main_1 = 0.9211053991366913\n",
      "\n",
      "  \u001b[1mMode 2 at 8.09 GHz   [3/4]\u001b[0m\n",
      "    Calculating ℰ_magnetic,ℰ_electric\n",
      "       (ℰ_E-ℰ_H)/ℰ_E       ℰ_E       ℰ_H\n",
      "                0.0%  6.892e-25  6.89e-25\n",
      "\n",
      "    Calculating junction energy participation ration (EPR)\n",
      "\tmethod=`line_voltage`. First estimates:\n",
      "\tjunction        EPR p_2j   sign s_2j    (p_capacitive)\n",
      "\t\tEnergy fraction (Lj over Lj&Cj)= 93.26%\n",
      "\tjj1             0.000187081  (+)        1.35311e-05\n",
      "\t\tEnergy fraction (Lj over Lj&Cj)= 94.62%\n",
      "\tjj2             6.03577e-07  (+)        3.43006e-08\n",
      "\t\tEnergy fraction (Lj over Lj&Cj)= 93.03%\n",
      "\tjj3             0.000184633  (+)        1.3831e-05\n",
      "\t\t(U_tot_cap-U_tot_ind)/mean=0.00%\n",
      "Calculating Qdielectric_main for mode 2 (2/3)\n",
      "p_dielectric_main_2 = 0.9212736546261203\n",
      "\n",
      "  \u001b[1mMode 3 at 8.12 GHz   [4/4]\u001b[0m\n",
      "    Calculating ℰ_magnetic,ℰ_electric\n",
      "       (ℰ_E-ℰ_H)/ℰ_E       ℰ_E       ℰ_H\n",
      "                0.2%  6.635e-25  6.62e-25\n",
      "\n",
      "    Calculating junction energy participation ration (EPR)\n",
      "\tmethod=`line_voltage`. First estimates:\n",
      "\tjunction        EPR p_3j   sign s_3j    (p_capacitive)\n",
      "\t\tEnergy fraction (Lj over Lj&Cj)= 93.21%\n",
      "\tjj1             0.000199097  (+)        1.45047e-05\n",
      "\t\tEnergy fraction (Lj over Lj&Cj)= 94.59%\n",
      "\tjj2             0.00162405  (+)        9.29622e-05\n",
      "\t\tEnergy fraction (Lj over Lj&Cj)= 92.98%\n",
      "\tjj3             0.000169192  (+)        1.27663e-05\n",
      "\t\t(U_tot_cap-U_tot_ind)/mean=0.02%\n",
      "Calculating Qdielectric_main for mode 3 (3/3)\n",
      "p_dielectric_main_3 = 0.9212497243890099\n"
     ]
    },
    {
     "name": "stderr",
     "output_type": "stream",
     "text": [
      "WARNING 03:32PM [__init__]: <p>Error: <class 'IndexError'></p>\n",
      "ERROR 03:32PM [_get_participation_normalized]: WARNING: U_tot_cap-U_tot_ind / mean = 17.4% is > 15%.                     \n",
      "Is the simulation converged? Proceed with caution\n"
     ]
    },
    {
     "name": "stdout",
     "output_type": "stream",
     "text": [
      "\n",
      "ANALYSIS DONE. Data saved to:\n",
      "\n",
      "C:\\data-pyEPR\\Trailblazer_test\\Berkeley_8Qring_sample_3_hfss\\2024-07-18 15-25-07.npz\n",
      "\n",
      "\n",
      "\t Differences in variations:\n",
      "\n",
      "\n",
      "\n",
      " . . . . . . . . . . . . . . . . . . . . . . . . . . . . . . . . . . . . . . . . \n",
      "Variation 0\n",
      "\n",
      "Starting the diagonalization\n",
      "Finished the diagonalization\n"
     ]
    },
    {
     "name": "stderr",
     "output_type": "stream",
     "text": [
      "ERROR 03:32PM [_get_participation_normalized]: WARNING: U_tot_cap-U_tot_ind / mean = 17.4% is > 15%.                     \n",
      "Is the simulation converged? Proceed with caution\n",
      "WARNING:py.warnings:c:\\Users\\user\\anaconda3\\envs\\env_metal\\Lib\\site-packages\\pyEPR\\core_quantum_analysis.py:711: FutureWarning: Support for multi-dimensional indexing (e.g. `obj[:, None]`) is deprecated and will be removed in a future version.  Convert to a numpy array before indexing instead.\n",
      "  result['Q_coupling'] = self.Qm_coupling[variation][self.Qm_coupling[variation].columns[junctions]][modes]#TODO change the columns to junctions\n",
      "\n",
      "WARNING:py.warnings:c:\\Users\\user\\anaconda3\\envs\\env_metal\\Lib\\site-packages\\pyEPR\\core_quantum_analysis.py:716: FutureWarning: Support for multi-dimensional indexing (e.g. `obj[:, None]`) is deprecated and will be removed in a future version.  Convert to a numpy array before indexing instead.\n",
      "  result['Qs'] = self.Qs[variation][self.PM[variation].columns[junctions]][modes] #TODO change the columns to junctions\n",
      "\n"
     ]
    },
    {
     "name": "stdout",
     "output_type": "stream",
     "text": [
      "Pm_norm=\n",
      "modes\n",
      "0    1.192917\n",
      "1    1.102315\n",
      "2    1.037298\n",
      "3    1.097618\n",
      "dtype: float64\n",
      "\n",
      "Pm_norm idx =\n",
      "     jj1    jj2    jj3\n",
      "0  False   True  False\n",
      "1  False  False  False\n",
      "2  False  False  False\n",
      "3  False  False  False\n",
      "*** P (participation matrix, not normlz.)\n",
      "            jj1           jj2           jj3\n",
      "0  2.119118e-06  8.194310e-01  1.781164e-06\n",
      "1  2.229074e-09  7.142623e-03  2.181368e-11\n",
      "2  1.870755e-04  6.035607e-07  1.846277e-04\n",
      "3  1.990729e-04  1.623850e-03  1.691720e-04\n",
      "\n",
      "*** S (sign-bit matrix)\n",
      "   s_jj1  s_jj2  s_jj3\n",
      "0     -1     -1     -1\n",
      "1     -1     -1     -1\n",
      "2      1      1     -1\n",
      "3      1     -1      1\n",
      "*** P (participation matrix, normalized.)\n",
      "   2.1e-06     0.98  1.8e-06\n",
      "   2.2e-09   0.0071  2.2e-11\n",
      "   0.00019    6e-07  0.00018\n",
      "    0.0002   0.0016  0.00017\n",
      "\n",
      "*** Chi matrix O1 PT (MHz)\n",
      "    Diag is anharmonicity, off diag is full cross-Kerr.\n",
      "       281     4.62 0.000476     1.28\n",
      "      4.62   0.0189  3.9e-06   0.0105\n",
      "  0.000476  3.9e-06 4.92e-05 9.89e-05\n",
      "      1.28   0.0105 9.89e-05  0.00151\n",
      "\n",
      "*** Chi matrix ND (MHz) \n",
      "       317        2 0.000397    0.995\n",
      "         2  0.00463 1.61e-06  0.00419\n",
      "  0.000397 1.61e-06 4.92e-05 9.86e-05\n",
      "     0.995  0.00419 9.86e-05 0.000968\n",
      "\n",
      "*** Frequencies O1 PT (MHz)\n",
      "0    5632.528844\n",
      "1    6640.270154\n",
      "2    8088.965728\n",
      "3    8117.611695\n",
      "dtype: float64\n",
      "\n",
      "*** Frequencies ND (MHz)\n",
      "0    5616.406702\n",
      "1    6640.862841\n",
      "2    8088.965742\n",
      "3    8117.658801\n",
      "dtype: float64\n",
      "\n",
      "*** Q_coupling\n",
      "Empty DataFrame\n",
      "Columns: []\n",
      "Index: [0, 1, 2, 3]\n"
     ]
    },
    {
     "data": {
      "text/markdown": [
       "#### Mode frequencies (MHz)"
      ],
      "text/plain": [
       "<IPython.core.display.Markdown object>"
      ]
     },
     "metadata": {},
     "output_type": "display_data"
    },
    {
     "data": {
      "text/markdown": [
       "###### Numerical diagonalization"
      ],
      "text/plain": [
       "<IPython.core.display.Markdown object>"
      ]
     },
     "metadata": {},
     "output_type": "display_data"
    },
    {
     "data": {
      "text/html": [
       "<div>\n",
       "<style scoped>\n",
       "    .dataframe tbody tr th:only-of-type {\n",
       "        vertical-align: middle;\n",
       "    }\n",
       "\n",
       "    .dataframe tbody tr th {\n",
       "        vertical-align: top;\n",
       "    }\n",
       "\n",
       "    .dataframe thead th {\n",
       "        text-align: right;\n",
       "    }\n",
       "</style>\n",
       "<table border=\"1\" class=\"dataframe\">\n",
       "  <thead>\n",
       "    <tr style=\"text-align: right;\">\n",
       "      <th>Lj2</th>\n",
       "      <th>11</th>\n",
       "    </tr>\n",
       "  </thead>\n",
       "  <tbody>\n",
       "    <tr>\n",
       "      <th>0</th>\n",
       "      <td>5616.41</td>\n",
       "    </tr>\n",
       "    <tr>\n",
       "      <th>1</th>\n",
       "      <td>6640.86</td>\n",
       "    </tr>\n",
       "    <tr>\n",
       "      <th>2</th>\n",
       "      <td>8088.97</td>\n",
       "    </tr>\n",
       "    <tr>\n",
       "      <th>3</th>\n",
       "      <td>8117.66</td>\n",
       "    </tr>\n",
       "  </tbody>\n",
       "</table>\n",
       "</div>"
      ],
      "text/plain": [
       "Lj2       11\n",
       "0    5616.41\n",
       "1    6640.86\n",
       "2    8088.97\n",
       "3    8117.66"
      ]
     },
     "metadata": {},
     "output_type": "display_data"
    },
    {
     "data": {
      "text/markdown": [
       "#### Kerr Non-linear coefficient table (MHz)"
      ],
      "text/plain": [
       "<IPython.core.display.Markdown object>"
      ]
     },
     "metadata": {},
     "output_type": "display_data"
    },
    {
     "data": {
      "text/markdown": [
       "###### Numerical diagonalization"
      ],
      "text/plain": [
       "<IPython.core.display.Markdown object>"
      ]
     },
     "metadata": {},
     "output_type": "display_data"
    },
    {
     "data": {
      "text/html": [
       "<div>\n",
       "<style scoped>\n",
       "    .dataframe tbody tr th:only-of-type {\n",
       "        vertical-align: middle;\n",
       "    }\n",
       "\n",
       "    .dataframe tbody tr th {\n",
       "        vertical-align: top;\n",
       "    }\n",
       "\n",
       "    .dataframe thead th {\n",
       "        text-align: right;\n",
       "    }\n",
       "</style>\n",
       "<table border=\"1\" class=\"dataframe\">\n",
       "  <thead>\n",
       "    <tr style=\"text-align: right;\">\n",
       "      <th></th>\n",
       "      <th></th>\n",
       "      <th>0</th>\n",
       "      <th>1</th>\n",
       "      <th>2</th>\n",
       "      <th>3</th>\n",
       "    </tr>\n",
       "    <tr>\n",
       "      <th>Lj2</th>\n",
       "      <th></th>\n",
       "      <th></th>\n",
       "      <th></th>\n",
       "      <th></th>\n",
       "      <th></th>\n",
       "    </tr>\n",
       "  </thead>\n",
       "  <tbody>\n",
       "    <tr>\n",
       "      <th rowspan=\"4\" valign=\"top\">11</th>\n",
       "      <th>0</th>\n",
       "      <td>3.17e+02</td>\n",
       "      <td>2.00e+00</td>\n",
       "      <td>3.97e-04</td>\n",
       "      <td>9.95e-01</td>\n",
       "    </tr>\n",
       "    <tr>\n",
       "      <th>1</th>\n",
       "      <td>2.00e+00</td>\n",
       "      <td>4.63e-03</td>\n",
       "      <td>1.61e-06</td>\n",
       "      <td>4.19e-03</td>\n",
       "    </tr>\n",
       "    <tr>\n",
       "      <th>2</th>\n",
       "      <td>3.97e-04</td>\n",
       "      <td>1.61e-06</td>\n",
       "      <td>4.92e-05</td>\n",
       "      <td>9.86e-05</td>\n",
       "    </tr>\n",
       "    <tr>\n",
       "      <th>3</th>\n",
       "      <td>9.95e-01</td>\n",
       "      <td>4.19e-03</td>\n",
       "      <td>9.86e-05</td>\n",
       "      <td>9.68e-04</td>\n",
       "    </tr>\n",
       "  </tbody>\n",
       "</table>\n",
       "</div>"
      ],
      "text/plain": [
       "              0         1         2         3\n",
       "Lj2                                          \n",
       "11  0  3.17e+02  2.00e+00  3.97e-04  9.95e-01\n",
       "    1  2.00e+00  4.63e-03  1.61e-06  4.19e-03\n",
       "    2  3.97e-04  1.61e-06  4.92e-05  9.86e-05\n",
       "    3  9.95e-01  4.19e-03  9.86e-05  9.68e-04"
      ]
     },
     "metadata": {},
     "output_type": "display_data"
    },
    {
     "name": "stderr",
     "output_type": "stream",
     "text": [
      "03:32PM 42s CRITICAL [_qt_message_handler]: line: 0, func: None(), file: None  CRITICAL: QEventDispatcherWin32::wakeUp: Failed to post a message (사용 가능한 할당량이 부족하여 이 명령을 처리할 수 없습니다.)\n",
      "\n",
      "03:32PM 42s CRITICAL [_qt_message_handler]: line: 0, func: None(), file: None  CRITICAL: QEventDispatcherWin32::wakeUp: Failed to post a message (사용 가능한 할당량이 부족하여 이 명령을 처리할 수 없습니다.)\n",
      "\n"
     ]
    }
   ],
   "source": [
    "# eig_qb.sim.run_sim(name=\"Berkeley_8Qring_sample_3\", components=['Q_1', 'Q_2','Bus_12'], open_terminations=[], design_name = 'Berkeley_8Qring_sample_3_hfss')\n",
    "# eig_qb.sim._analyze(design_name = 'Berkeley_8Qring_sample_3_hfss')  # This line dose not update modeling. It remove result, update setup and do analysis\n",
    "# eig_qb.sim.start() # line for when kernel dies. it connect to open ansys again. you can run epr but cannot plot ansys convergence or things related to simulation.\n",
    "\n",
    "# all_sweeps, return_code = eig_qb.run_sweep(q_1.name,\n",
    "#                                            'hfss_inductance',\n",
    "#                                             Q1_sweep,\n",
    "#                                             components=['Q_1', 'Q_2','Bus_12'], # empty list means all components\n",
    "#                                              design_name = 'Berkeley_8Qring_sample_3'\n",
    "#                                              )\n",
    "\n",
    "# resonator induced frequency shift\n",
    "all_sweeps, return_code = eig_qb.run_sweep(q_2.name,\n",
    "                                           'hfss_inductance',\n",
    "                                            Q1_sweep,\n",
    "                                            components= ['Q_1','Q_2','Q_3','Bus_12','Bus_23','readout_res_2','readout2_short'], # empty list means all components\n",
    "                                             design_name = 'Berkeley_8Qring_sample_3'\n",
    "                                             )"
   ]
  },
  {
   "cell_type": "code",
   "execution_count": 28,
   "metadata": {},
   "outputs": [
    {
     "name": "stderr",
     "output_type": "stream",
     "text": [
      "INFO 04:13PM [connect_design]: \tOpened active design\n",
      "\tDesign:    Berkeley_8Qring_sample_3_S21_hfss [Solution type: Eigenmode]\n",
      "WARNING 04:13PM [connect_setup]: \tNo design setup detected.\n",
      "WARNING 04:13PM [connect_setup]: \tCreating eigenmode default setup.\n",
      "INFO 04:13PM [get_setup]: \tOpened setup `Setup`  (<class 'pyEPR.ansys.HfssEMSetup'>)\n",
      "INFO 04:14PM [get_setup]: \tOpened setup `Setup`  (<class 'pyEPR.ansys.HfssEMSetup'>)\n",
      "INFO 04:14PM [analyze]: Analyzing setup Setup\n",
      "04:14PM 50s INFO [get_f_convergence]: Saved convergences to c:\\Users\\user\\Documents\\GitHub\\qiskit-metal\\hfss_eig_f_convergence.csv\n"
     ]
    },
    {
     "data": {
      "text/plain": [
       "('Berkeley_8Qring_sample_3_S21_hfss', 'Setup')"
      ]
     },
     "execution_count": 28,
     "metadata": {},
     "output_type": "execute_result"
    }
   ],
   "source": [
    "eig_qb.sim.run_sim(name=\"Berkeley_8Qring_sample_3_S21\", components=[], open_terminations=[])"
   ]
  },
  {
   "cell_type": "code",
   "execution_count": 88,
   "metadata": {},
   "outputs": [
    {
     "ename": "TypeError",
     "evalue": "'Dict' object is not callable",
     "output_type": "error",
     "traceback": [
      "\u001b[1;31m---------------------------------------------------------------------------\u001b[0m",
      "\u001b[1;31mTypeError\u001b[0m                                 Traceback (most recent call last)",
      "Cell \u001b[1;32mIn[88], line 2\u001b[0m\n\u001b[0;32m      1\u001b[0m \u001b[38;5;66;03m# time.sleep(2)\u001b[39;00m\n\u001b[1;32m----> 2\u001b[0m \u001b[43meig_qb\u001b[49m\u001b[38;5;241;43m.\u001b[39;49m\u001b[43msim\u001b[49m\u001b[38;5;241;43m.\u001b[39;49m\u001b[43mplot_convergences\u001b[49m\u001b[43m(\u001b[49m\u001b[43m)\u001b[49m\n",
      "File \u001b[1;32mc:\\Users\\user\\Documents\\GitHub\\qiskit-metal\\qiskit_metal\\analyses\\simulation\\eigenmode.py:231\u001b[0m, in \u001b[0;36mEigenmodeSim.plot_convergences\u001b[1;34m(self, convergence_t, convergence_f, fig, _display)\u001b[0m\n\u001b[0;32m    228\u001b[0m axs \u001b[38;5;241m=\u001b[39m [fig\u001b[38;5;241m.\u001b[39madd_subplot(gspec[i]) \u001b[38;5;28;01mfor\u001b[39;00m i \u001b[38;5;129;01min\u001b[39;00m \u001b[38;5;28mrange\u001b[39m(\u001b[38;5;241m3\u001b[39m)]\n\u001b[0;32m    230\u001b[0m ax0t \u001b[38;5;241m=\u001b[39m axs[\u001b[38;5;241m1\u001b[39m]\u001b[38;5;241m.\u001b[39mtwinx()\n\u001b[1;32m--> 231\u001b[0m \u001b[43mplot_convergence_f_vspass\u001b[49m\u001b[43m(\u001b[49m\u001b[43maxs\u001b[49m\u001b[43m[\u001b[49m\u001b[38;5;241;43m0\u001b[39;49m\u001b[43m]\u001b[49m\u001b[43m,\u001b[49m\u001b[43m \u001b[49m\u001b[43mconvergence_f\u001b[49m\u001b[43m)\u001b[49m\n\u001b[0;32m    232\u001b[0m plot_convergence_max_df(axs[\u001b[38;5;241m1\u001b[39m], convergence_t\u001b[38;5;241m.\u001b[39miloc[:, \u001b[38;5;241m1\u001b[39m])\n\u001b[0;32m    233\u001b[0m plot_convergence_solved_elem(ax0t, convergence_t\u001b[38;5;241m.\u001b[39miloc[:, \u001b[38;5;241m0\u001b[39m])\n",
      "File \u001b[1;32mc:\\Users\\user\\anaconda3\\envs\\env_metal\\Lib\\site-packages\\pyEPR\\reports.py:68\u001b[0m, in \u001b[0;36mplot_convergence_f_vspass\u001b[1;34m(ax, s, kw)\u001b[0m\n\u001b[0;32m     66\u001b[0m \u001b[38;5;250m\u001b[39m\u001b[38;5;124;03m'''For a single pass'''\u001b[39;00m\n\u001b[0;32m     67\u001b[0m \u001b[38;5;28;01mif\u001b[39;00m s \u001b[38;5;129;01mis\u001b[39;00m \u001b[38;5;129;01mnot\u001b[39;00m \u001b[38;5;28;01mNone\u001b[39;00m:\n\u001b[1;32m---> 68\u001b[0m     \u001b[43m(\u001b[49m\u001b[43ms\u001b[49m\u001b[43m)\u001b[49m\u001b[38;5;241;43m.\u001b[39;49m\u001b[43mplot\u001b[49m\u001b[43m(\u001b[49m\u001b[43max\u001b[49m\u001b[38;5;241;43m=\u001b[39;49m\u001b[43max\u001b[49m\u001b[43m,\u001b[49m\u001b[43m \u001b[49m\u001b[38;5;241;43m*\u001b[39;49m\u001b[38;5;241;43m*\u001b[39;49m\u001b[43m{\u001b[49m\u001b[38;5;241;43m*\u001b[39;49m\u001b[38;5;241;43m*\u001b[39;49m\u001b[43m_style_plot_conv_kw\u001b[49m\u001b[43m,\u001b[49m\u001b[43m \u001b[49m\u001b[38;5;241;43m*\u001b[39;49m\u001b[38;5;241;43m*\u001b[39;49m\u001b[43mkw\u001b[49m\u001b[43m}\u001b[49m\u001b[43m)\u001b[49m\n\u001b[0;32m     69\u001b[0m     _style_plot_convergence(ax, \u001b[38;5;124m'\u001b[39m\u001b[38;5;124mEigenmode f vs. pass [GHz]\u001b[39m\u001b[38;5;124m'\u001b[39m, y_title\u001b[38;5;241m=\u001b[39m\u001b[38;5;28;01mTrue\u001b[39;00m)\n\u001b[0;32m     70\u001b[0m     legend_translucent(ax, leg_kw\u001b[38;5;241m=\u001b[39m\u001b[38;5;28mdict\u001b[39m(fontsize\u001b[38;5;241m=\u001b[39m\u001b[38;5;241m6\u001b[39m))\n",
      "\u001b[1;31mTypeError\u001b[0m: 'Dict' object is not callable"
     ]
    }
   ],
   "source": [
    "# time.sleep(2)\n",
    "eig_qb.sim.plot_convergences()"
   ]
  },
  {
   "cell_type": "code",
   "execution_count": 29,
   "metadata": {},
   "outputs": [
    {
     "data": {
      "text/plain": [
       "{'junctions': {'jj1': {'Lj_variable': 'Lj1',\n",
       "   'Cj_variable': 'Cj1',\n",
       "   'rect': 'JJ_rect_Lj_Q_1_rect_jj',\n",
       "   'line': 'JJ_Lj_Q_1_rect_jj_'},\n",
       "  'jj2': {'Lj_variable': 'Lj2',\n",
       "   'Cj_variable': 'Cj2',\n",
       "   'rect': 'JJ_rect_Lj_Q_2_rect_jj',\n",
       "   'line': 'JJ_Lj_Q_2_rect_jj_'}},\n",
       " 'dissipatives': {'dielectrics_bulk': ['main']},\n",
       " 'cos_trunc': 8,\n",
       " 'fock_trunc': 7,\n",
       " 'sweep_variable': 'Lj1'}"
      ]
     },
     "execution_count": 29,
     "metadata": {},
     "output_type": "execute_result"
    }
   ],
   "source": [
    "eig_qb.setup\n",
    "# rend = eig_qb.sim.renderer\n",
    "# eig_qb.setup.setmode([1,2,6])"
   ]
  },
  {
   "cell_type": "code",
   "execution_count": 30,
   "metadata": {},
   "outputs": [
    {
     "name": "stdout",
     "output_type": "stream",
     "text": [
      "Design \"Berkeley_8Qring_sample_3_hfss\" info:\n",
      "\t# eigenmodes    3\n",
      "\t# variations    1\n",
      "Design \"Berkeley_8Qring_sample_3_hfss\" info:\n",
      "\t# eigenmodes    3\n",
      "\t# variations    1\n",
      "\n",
      "        energy_elec_all       = 9.28987080803236e-25\n",
      "        energy_elec_substrate = 8.55736247564873e-25\n",
      "        EPR of substrate = 92.1%\n",
      "\n",
      "        energy_mag    = 9.27519864933177e-25\n",
      "        energy_mag % of energy_elec_all  = 99.8%\n",
      "        \n",
      "\n",
      "Variation 0  [1/1]\n",
      "\n",
      "  \u001b[1mMode 0 at 5.56 GHz   [1/3]\u001b[0m\n",
      "    Calculating ℰ_magnetic,ℰ_electric\n",
      "       (ℰ_E-ℰ_H)/ℰ_E       ℰ_E       ℰ_H\n",
      "               99.0%   1.69e-25 1.638e-27\n",
      "\n",
      "    Calculating junction energy participation ration (EPR)\n",
      "\tmethod=`line_voltage`. First estimates:\n",
      "\tjunction        EPR p_0j   sign s_0j    (p_capacitive)\n",
      "\t\tEnergy fraction (Lj over Lj&Cj)= 97.52%\n",
      "\tjj1             0.000158749  (+)        4.03127e-06\n",
      "\t\tEnergy fraction (Lj over Lj&Cj)= 97.41%\n",
      "\tjj2             0.989475  (+)        0.0262622\n",
      "\t\t(U_tot_cap-U_tot_ind)/mean=1.33%\n",
      "Calculating Qdielectric_main for mode 0 (0/2)\n",
      "p_dielectric_main_0 = 0.9219061559107499\n",
      "\n",
      "  \u001b[1mMode 1 at 5.69 GHz   [2/3]\u001b[0m\n",
      "    Calculating ℰ_magnetic,ℰ_electric\n",
      "       (ℰ_E-ℰ_H)/ℰ_E       ℰ_E       ℰ_H\n",
      "               99.0%  1.565e-25 1.588e-27\n",
      "\n",
      "    Calculating junction energy participation ration (EPR)\n",
      "\tmethod=`line_voltage`. First estimates:\n",
      "\tjunction        EPR p_1j   sign s_1j    (p_capacitive)\n",
      "\t\tEnergy fraction (Lj over Lj&Cj)= 97.41%\n",
      "\tjj1             0.988917  (+)        0.0262458\n",
      "\t\tEnergy fraction (Lj over Lj&Cj)= 97.30%\n",
      "\tjj2             0.000177634  (+)        4.92745e-06\n",
      "\t\t(U_tot_cap-U_tot_ind)/mean=1.33%\n",
      "Calculating Qdielectric_main for mode 1 (1/2)\n",
      "p_dielectric_main_1 = 0.9219840561107389\n",
      "\n",
      "  \u001b[1mMode 2 at 8.10 GHz   [3/3]\u001b[0m\n",
      "    Calculating ℰ_magnetic,ℰ_electric\n",
      "       (ℰ_E-ℰ_H)/ℰ_E       ℰ_E       ℰ_H\n",
      "                0.2%  4.645e-25 4.638e-25\n",
      "\n",
      "    Calculating junction energy participation ration (EPR)\n",
      "\tmethod=`line_voltage`. First estimates:\n",
      "\tjunction        EPR p_2j   sign s_2j    (p_capacitive)\n",
      "\t\tEnergy fraction (Lj over Lj&Cj)= 94.88%\n",
      "\tjj1             0.0008389  (+)        4.52394e-05\n",
      "\t\tEnergy fraction (Lj over Lj&Cj)= 94.66%\n",
      "\tjj2             0.00073963  (+)        4.16885e-05\n",
      "\t\t(U_tot_cap-U_tot_ind)/mean=0.00%\n",
      "Calculating Qdielectric_main for mode 2 (2/2)\n",
      "p_dielectric_main_2 = 0.9211497826481853\n"
     ]
    },
    {
     "name": "stderr",
     "output_type": "stream",
     "text": [
      "WARNING 11:32AM [__init__]: <p>Error: <class 'IndexError'></p>\n"
     ]
    },
    {
     "name": "stdout",
     "output_type": "stream",
     "text": [
      "\n",
      "ANALYSIS DONE. Data saved to:\n",
      "\n",
      "C:\\data-pyEPR\\Trailblazer_test\\Berkeley_8Qring_sample_3_hfss\\2024-07-16 11-30-45.npz\n",
      "\n",
      "\n",
      "\t Differences in variations:\n",
      "\n",
      "\n",
      "\n",
      " . . . . . . . . . . . . . . . . . . . . . . . . . . . . . . . . . . . . . . . . \n",
      "Variation 0\n",
      "\n",
      "Starting the diagonalization\n",
      "Finished the diagonalization\n",
      "Pm_norm=\n",
      "modes\n",
      "0    1.027098\n",
      "1    1.027170\n",
      "2    1.027846\n",
      "dtype: float64\n",
      "\n"
     ]
    },
    {
     "name": "stderr",
     "output_type": "stream",
     "text": [
      "WARNING:py.warnings:c:\\Users\\user\\anaconda3\\envs\\env_metal\\Lib\\site-packages\\pyEPR\\core_quantum_analysis.py:711: FutureWarning: Support for multi-dimensional indexing (e.g. `obj[:, None]`) is deprecated and will be removed in a future version.  Convert to a numpy array before indexing instead.\n",
      "  result['Q_coupling'] = self.Qm_coupling[variation][self.Qm_coupling[variation].columns[junctions]][modes]#TODO change the columns to junctions\n",
      "\n",
      "WARNING:py.warnings:c:\\Users\\user\\anaconda3\\envs\\env_metal\\Lib\\site-packages\\pyEPR\\core_quantum_analysis.py:716: FutureWarning: Support for multi-dimensional indexing (e.g. `obj[:, None]`) is deprecated and will be removed in a future version.  Convert to a numpy array before indexing instead.\n",
      "  result['Qs'] = self.Qs[variation][self.PM[variation].columns[junctions]][modes] #TODO change the columns to junctions\n",
      "\n"
     ]
    },
    {
     "name": "stdout",
     "output_type": "stream",
     "text": [
      "Pm_norm idx =\n",
      "     jj1    jj2\n",
      "0  False   True\n",
      "1   True  False\n",
      "2  False  False\n",
      "*** P (participation matrix, not normlz.)\n",
      "        jj1       jj2\n",
      "0  0.000155  0.964150\n",
      "1  0.963622  0.000173\n",
      "2  0.000839  0.000740\n",
      "\n",
      "*** S (sign-bit matrix)\n",
      "   s_jj1  s_jj2\n",
      "0      1     -1\n",
      "1     -1     -1\n",
      "2     -1      1\n",
      "*** P (participation matrix, normalized.)\n",
      "   0.00015     0.99\n",
      "      0.99  0.00017\n",
      "   0.00084  0.00074\n",
      "\n",
      "*** Chi matrix O1 PT (MHz)\n",
      "    Diag is anharmonicity, off diag is full cross-Kerr.\n",
      "       252    0.167    0.549\n",
      "     0.167      252    0.609\n",
      "     0.549    0.609 0.000666\n",
      "\n",
      "*** Chi matrix ND (MHz) \n",
      "       279  -0.0299    0.458\n",
      "   -0.0299      278      0.5\n",
      "     0.458      0.5 0.000468\n",
      "\n",
      "*** Frequencies O1 PT (MHz)\n",
      "0    5308.571143\n",
      "1    5432.890785\n",
      "2    8103.271518\n",
      "dtype: float64\n",
      "\n",
      "*** Frequencies ND (MHz)\n",
      "0    5295.830624\n",
      "1    5420.484859\n",
      "2    8103.300628\n",
      "dtype: float64\n",
      "\n",
      "*** Q_coupling\n",
      "Empty DataFrame\n",
      "Columns: []\n",
      "Index: [0, 1, 2]\n"
     ]
    },
    {
     "data": {
      "text/markdown": [
       "#### Mode frequencies (MHz)"
      ],
      "text/plain": [
       "<IPython.core.display.Markdown object>"
      ]
     },
     "metadata": {},
     "output_type": "display_data"
    },
    {
     "data": {
      "text/markdown": [
       "###### Numerical diagonalization"
      ],
      "text/plain": [
       "<IPython.core.display.Markdown object>"
      ]
     },
     "metadata": {},
     "output_type": "display_data"
    },
    {
     "data": {
      "text/html": [
       "<div>\n",
       "<style scoped>\n",
       "    .dataframe tbody tr th:only-of-type {\n",
       "        vertical-align: middle;\n",
       "    }\n",
       "\n",
       "    .dataframe tbody tr th {\n",
       "        vertical-align: top;\n",
       "    }\n",
       "\n",
       "    .dataframe thead th {\n",
       "        text-align: right;\n",
       "    }\n",
       "</style>\n",
       "<table border=\"1\" class=\"dataframe\">\n",
       "  <thead>\n",
       "    <tr style=\"text-align: right;\">\n",
       "      <th>Lj1</th>\n",
       "      <th>10.4</th>\n",
       "    </tr>\n",
       "  </thead>\n",
       "  <tbody>\n",
       "    <tr>\n",
       "      <th>0</th>\n",
       "      <td>5295.83</td>\n",
       "    </tr>\n",
       "    <tr>\n",
       "      <th>1</th>\n",
       "      <td>5420.48</td>\n",
       "    </tr>\n",
       "    <tr>\n",
       "      <th>2</th>\n",
       "      <td>8103.30</td>\n",
       "    </tr>\n",
       "  </tbody>\n",
       "</table>\n",
       "</div>"
      ],
      "text/plain": [
       "Lj1     10.4\n",
       "0    5295.83\n",
       "1    5420.48\n",
       "2    8103.30"
      ]
     },
     "metadata": {},
     "output_type": "display_data"
    },
    {
     "data": {
      "text/markdown": [
       "#### Kerr Non-linear coefficient table (MHz)"
      ],
      "text/plain": [
       "<IPython.core.display.Markdown object>"
      ]
     },
     "metadata": {},
     "output_type": "display_data"
    },
    {
     "data": {
      "text/markdown": [
       "###### Numerical diagonalization"
      ],
      "text/plain": [
       "<IPython.core.display.Markdown object>"
      ]
     },
     "metadata": {},
     "output_type": "display_data"
    },
    {
     "data": {
      "text/html": [
       "<div>\n",
       "<style scoped>\n",
       "    .dataframe tbody tr th:only-of-type {\n",
       "        vertical-align: middle;\n",
       "    }\n",
       "\n",
       "    .dataframe tbody tr th {\n",
       "        vertical-align: top;\n",
       "    }\n",
       "\n",
       "    .dataframe thead th {\n",
       "        text-align: right;\n",
       "    }\n",
       "</style>\n",
       "<table border=\"1\" class=\"dataframe\">\n",
       "  <thead>\n",
       "    <tr style=\"text-align: right;\">\n",
       "      <th></th>\n",
       "      <th></th>\n",
       "      <th>0</th>\n",
       "      <th>1</th>\n",
       "      <th>2</th>\n",
       "    </tr>\n",
       "    <tr>\n",
       "      <th>Lj1</th>\n",
       "      <th></th>\n",
       "      <th></th>\n",
       "      <th></th>\n",
       "      <th></th>\n",
       "    </tr>\n",
       "  </thead>\n",
       "  <tbody>\n",
       "    <tr>\n",
       "      <th rowspan=\"3\" valign=\"top\">10.4</th>\n",
       "      <th>0</th>\n",
       "      <td>279.10</td>\n",
       "      <td>-0.03</td>\n",
       "      <td>4.58e-01</td>\n",
       "    </tr>\n",
       "    <tr>\n",
       "      <th>1</th>\n",
       "      <td>-0.03</td>\n",
       "      <td>278.27</td>\n",
       "      <td>5.00e-01</td>\n",
       "    </tr>\n",
       "    <tr>\n",
       "      <th>2</th>\n",
       "      <td>0.46</td>\n",
       "      <td>0.50</td>\n",
       "      <td>4.68e-04</td>\n",
       "    </tr>\n",
       "  </tbody>\n",
       "</table>\n",
       "</div>"
      ],
      "text/plain": [
       "             0       1         2\n",
       "Lj1                             \n",
       "10.4 0  279.10   -0.03  4.58e-01\n",
       "     1   -0.03  278.27  5.00e-01\n",
       "     2    0.46    0.50  4.68e-04"
      ]
     },
     "metadata": {},
     "output_type": "display_data"
    }
   ],
   "source": [
    "\n",
    "eig_qb.run_epr()\n",
    "# (pyEPR allows to switch modes: eprd.set_mode(1))"
   ]
  },
  {
   "cell_type": "code",
   "execution_count": 29,
   "metadata": {},
   "outputs": [],
   "source": [
    "eig_qb.sim.close()\n",
    "\n",
    "# 360"
   ]
  },
  {
   "cell_type": "code",
   "execution_count": null,
   "metadata": {},
   "outputs": [
    {
     "name": "stdout",
     "output_type": "stream",
     "text": [
      "When Lj=17.000[nH],Ic=19.359[nA]\n"
     ]
    }
   ],
   "source": [
    "Phi_0 = 2.067833848e-15\n",
    "Lj_test = 17\n",
    "Ic_test = Phi_0/2/np.pi/Lj_test/1e-9\n",
    "print(\"When Lj={:.3f}[nH],\".format(Lj_test)+\"Ic={:.3f}[nA]\".format(Ic_test/1e-9))"
   ]
  },
  {
   "cell_type": "code",
   "execution_count": null,
   "metadata": {},
   "outputs": [],
   "source": []
  },
  {
   "cell_type": "code",
   "execution_count": null,
   "metadata": {},
   "outputs": [],
   "source": []
  }
 ],
 "metadata": {
  "kernelspec": {
   "display_name": "env-metal",
   "language": "python",
   "name": "python3"
  },
  "language_info": {
   "codemirror_mode": {
    "name": "ipython",
    "version": 3
   },
   "file_extension": ".py",
   "mimetype": "text/x-python",
   "name": "python",
   "nbconvert_exporter": "python",
   "pygments_lexer": "ipython3",
   "version": "3.11.9"
  }
 },
 "nbformat": 4,
 "nbformat_minor": 2
}
