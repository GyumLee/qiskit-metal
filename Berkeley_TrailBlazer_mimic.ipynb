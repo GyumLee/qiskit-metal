{
 "cells": [
  {
   "cell_type": "markdown",
   "metadata": {},
   "source": [
    "# Example full chip design"
   ]
  },
  {
   "cell_type": "code",
   "execution_count": 1,
   "metadata": {},
   "outputs": [],
   "source": [
    "%load_ext autoreload\n",
    "%autoreload 2"
   ]
  },
  {
   "cell_type": "markdown",
   "metadata": {},
   "source": [
    "*Make sure to have the right kernel selected!*"
   ]
  },
  {
   "cell_type": "code",
   "execution_count": 2,
   "metadata": {},
   "outputs": [],
   "source": [
    "import time\n",
    "import qiskit_metal as metal\n",
    "from qiskit_metal import designs, draw\n",
    "from qiskit_metal import MetalGUI, Dict, open_docs"
   ]
  },
  {
   "cell_type": "code",
   "execution_count": 3,
   "metadata": {},
   "outputs": [],
   "source": [
    "from qiskit_metal.analyses.em.cpw_calculations import guided_wavelength\n",
    "from qiskit_metal.qlibrary.tlines.meandered import RouteMeander\n",
    "from qiskit_metal.qlibrary.tlines.pathfinder import RoutePathfinder\n",
    "from qiskit_metal.qlibrary.tlines.anchored_path import RouteAnchors\n",
    "\n",
    "from qiskit_metal.qlibrary.lumped.cap_n_interdigital import CapNInterdigital\n",
    "from qiskit_metal.qlibrary.couplers.cap_n_interdigital_tee import CapNInterdigitalTee\n",
    "from qiskit_metal.qlibrary.couplers.coupled_line_tee import CoupledLineTee\n",
    "\n",
    "from qiskit_metal.qlibrary.terminations.launchpad_wb import LaunchpadWirebond\n",
    "from qiskit_metal.qlibrary.terminations.launchpad_wb_coupled import LaunchpadWirebondCoupled\n",
    "\n",
    "from qiskit_metal.qlibrary.tlines.framed_path import RouteFramed\n",
    "from qiskit_metal.qlibrary.terminations.short_to_ground import ShortToGround\n",
    "from qiskit_metal.qlibrary.terminations.open_to_ground import OpenToGround\n",
    "\n",
    "from collections import OrderedDict\n",
    "\n",
    "from qiskit_metal.qlibrary.tlines.straight_path import RouteStraight\n",
    "from qiskit_metal.qlibrary.qubits.transmon_sqnl import TransmonPocket_sqnl\n",
    "from qiskit_metal.qlibrary.lumped.cap_n_interdigital_sqnl import CapNInterdigital_sqnl"
   ]
  },
  {
   "cell_type": "code",
   "execution_count": 4,
   "metadata": {},
   "outputs": [],
   "source": [
    "# Parameter\n",
    "\n",
    "Q1_ind = '14nH'#['11nH', '10.35nH', '9.789nH', '9.34nH']\n",
    "Q1_sweep = ['11nH', '10.45nH', '9.94nH', '9.46nH']\n",
    "Q2_ind = '11nH'#['10.35nH', '9.789nH', '9.34nH', '9.789nH']\n",
    "Q2_sweep = ['10.35nH', '9.789nH', '9.34nH', '9.789nH']\n",
    "Q3_ind = '14.5nH'\n",
    "Bus_length = '7mm'"
   ]
  },
  {
   "cell_type": "code",
   "execution_count": 5,
   "metadata": {},
   "outputs": [],
   "source": [
    "design = metal.designs.DesignPlanar()\n",
    "\n",
    "gui = metal.MetalGUI(design)"
   ]
  },
  {
   "cell_type": "code",
   "execution_count": 6,
   "metadata": {},
   "outputs": [],
   "source": [
    "design.overwrite_enabled = True\n",
    "# design.chips.main"
   ]
  },
  {
   "cell_type": "code",
   "execution_count": 7,
   "metadata": {},
   "outputs": [],
   "source": [
    "# design.chips"
   ]
  },
  {
   "cell_type": "code",
   "execution_count": 8,
   "metadata": {},
   "outputs": [],
   "source": [
    "design.chips.main.size.size_x = '10mm'\n",
    "design.chips.main.size.size_y = '10mm'"
   ]
  },
  {
   "cell_type": "markdown",
   "metadata": {},
   "source": [
    "# Qubits"
   ]
  },
  {
   "cell_type": "code",
   "execution_count": 9,
   "metadata": {},
   "outputs": [],
   "source": [
    "# TransmonPocket_sqnl.get_template_options(design)"
   ]
  },
  {
   "cell_type": "code",
   "execution_count": 10,
   "metadata": {},
   "outputs": [],
   "source": [
    "options_1 =  dict(\n",
    "    pad_width = '540 um', \n",
    "    pad_height = '132.5 um',\n",
    "    pad_gap = '65 um', \n",
    "    pocket_width = '740 um',\n",
    "    pocket_height = '530 um',\n",
    "    connection_pads=dict(\n",
    "        readout = dict(connector_type='1',  # 0 = Claw type, 1 = T-shape type\n",
    "                       t_claw_height = '645um',\n",
    "                       ground_spacing='10um',\n",
    "                       claw_width='40um',\n",
    "                       claw_gap='125um',\n",
    "                       claw_cpw_length='100um',\n",
    "                       claw_cpw_width='20um',\n",
    "                       connector_location=\n",
    "                       '4'  # 0 => 'west' arm, 90 => 'north' arm, 180 => 'east' arm\n",
    "                       ) ,\n",
    "       # bus_tmp = dict(connector_type='0',  # 0 = Claw type, 1 = T-shape type\n",
    "       #                claw_length='30um',\n",
    "       #                ground_spacing='10um',\n",
    "       #                claw_width='20um',\n",
    "       #                claw_gap='20um',\n",
    "       #                claw_cpw_length='40um',\n",
    "       #                claw_cpw_width='20um',\n",
    "       #                connector_location=\n",
    "       #                '3'  # 0 => 'west' arm, 90 => 'north' arm, 180 => 'east' arm\n",
    "       #                ) ,\n",
    "        bus_12 = dict(connector_type='0',  # 0 = Claw type, 1 = T-shape type\n",
    "                       claw_length='30um',\n",
    "                       ground_spacing='10um',\n",
    "                       claw_width='20um',\n",
    "                       claw_gap='20um',\n",
    "                       claw_cpw_length='40um',\n",
    "                       claw_cpw_width='20um',\n",
    "                       connector_location=\n",
    "                       '0'  # 0 => 'west' arm, 90 => 'north' arm, 180 => 'east' arm\n",
    "                       )\n",
    "    ))\n",
    "\n",
    "options_2 =  dict(\n",
    "    pad_width = '540 um', \n",
    "    pad_height = '132.5 um',\n",
    "    pad_gap = '65 um', \n",
    "    pocket_width = '740 um',\n",
    "    pocket_height = '530 um',\n",
    "    connection_pads=dict(\n",
    "        readout = dict(connector_type='1',  # 0 = Claw type, 1 = T-shape type\n",
    "                       t_claw_height = '645um',\n",
    "                       ground_spacing='10um',\n",
    "                       claw_width='40um',\n",
    "                       claw_gap='125um',\n",
    "                       claw_cpw_length='100um',\n",
    "                       claw_cpw_width='20um',\n",
    "                       connector_location=\n",
    "                       '4'  # 0 => 'west' arm, 90 => 'north' arm, 180 => 'east' arm\n",
    "                       ) ,\n",
    "        # bus_tmp = dict(connector_type='0',  # 0 = Claw type, 1 = T-shape type\n",
    "        #                claw_length='30um',\n",
    "        #                ground_spacing='10um',\n",
    "        #                claw_width='20um',\n",
    "        #                claw_gap='20um',\n",
    "        #                claw_cpw_length='40um',\n",
    "        #                claw_cpw_width='20um',\n",
    "        #                connector_location=\n",
    "        #                '5'  # 0 => 'west' arm, 90 => 'north' arm, 180 => 'east' arm\n",
    "        #                ) ,\n",
    "        bus_12 = dict(connector_type='0',  # 0 = Claw type, 1 = T-shape type\n",
    "                       claw_length='30um',\n",
    "                       ground_spacing='10um',\n",
    "                       claw_width='20um',\n",
    "                       claw_gap='20um',\n",
    "                       claw_cpw_length='40um',\n",
    "                       claw_cpw_width='20um',\n",
    "                       connector_location=\n",
    "                       '2'  # 0 => 'west' arm, 90 => 'north' arm, 180 => 'east' arm\n",
    "                       ),\n",
    "        bus_23 =  dict(connector_type='0',  # 0 = Claw type, 1 = T-shape type\n",
    "                       claw_length='30um',\n",
    "                       ground_spacing='10um',\n",
    "                       claw_width='20um',\n",
    "                       claw_gap='20um',\n",
    "                       claw_cpw_length='40um',\n",
    "                       claw_cpw_width='20um',\n",
    "                       connector_location=\n",
    "                       '0'  # 0 => 'west' arm, 90 => 'north' arm, 180 => 'east' arm\n",
    "                       )\n",
    "    ))\n",
    "options_3 = dict(\n",
    "    pad_width = '540 um', \n",
    "    pad_height = '132.5 um',\n",
    "    pad_gap = '65 um', \n",
    "    pocket_width = '740 um',\n",
    "    pocket_height = '530 um',\n",
    "    connection_pads=dict(\n",
    "        readout = dict(connector_type='1',  # 0 = Claw type, 1 = T-shape type\n",
    "                       t_claw_height = '645um',\n",
    "                       ground_spacing='10um',\n",
    "                       claw_width='40um',\n",
    "                       claw_gap='125um',\n",
    "                       claw_cpw_length='100um',\n",
    "                       claw_cpw_width='20um',\n",
    "                       connector_location=\n",
    "                       '4'  # 0 => 'west' arm, 90 => 'north' arm, 180 => 'east' arm\n",
    "                       ) ,\n",
    "       # bus_tmp = dict(connector_type='0',  # 0 = Claw type, 1 = T-shape type\n",
    "       #                claw_length='30um',\n",
    "       #                ground_spacing='10um',\n",
    "       #                claw_width='20um',\n",
    "       #                claw_gap='20um',\n",
    "       #                claw_cpw_length='40um',\n",
    "       #                claw_cpw_width='20um',\n",
    "       #                connector_location=\n",
    "       #                '3'  # 0 => 'west' arm, 90 => 'north' arm, 180 => 'east' arm\n",
    "       #                ) ,\n",
    "        bus_23 = dict(connector_type='0',  # 0 = Claw type, 1 = T-shape type\n",
    "                       claw_length='30um',\n",
    "                       ground_spacing='10um',\n",
    "                       claw_width='20um',\n",
    "                       claw_gap='20um',\n",
    "                       claw_cpw_length='40um',\n",
    "                       claw_cpw_width='20um',\n",
    "                       connector_location=\n",
    "                       '2'  # 0 => 'west' arm, 90 => 'north' arm, 180 => 'east' arm\n",
    "                       )\n",
    "    ))"
   ]
  },
  {
   "cell_type": "code",
   "execution_count": 11,
   "metadata": {},
   "outputs": [],
   "source": [
    "q_1 = TransmonPocket_sqnl(design,'Q_1', options = dict(\n",
    "        pos_x='2mm', \n",
    "        pos_y='0mm', \n",
    "        gds_cell_name ='FakeJunction_01',\n",
    "        hfss_inductance = Q1_ind,\n",
    "        **options_1))\n",
    "\n",
    "q_2 = TransmonPocket_sqnl(design,'Q_2', options = dict(\n",
    "        pos_x='3.96mm', \n",
    "        pos_y='0mm', \n",
    "        gds_cell_name ='FakeJunction_01',\n",
    "        hfss_inductance = Q2_ind,\n",
    "        **options_2))\n",
    "\n",
    "q_3 = TransmonPocket_sqnl(design,'Q_3', options = dict(\n",
    "        pos_x='5.92mm', \n",
    "        pos_y='0mm', \n",
    "        gds_cell_name ='FakeJunction_01',\n",
    "        hfss_inductance = Q3_ind,\n",
    "        **options_3))"
   ]
  },
  {
   "cell_type": "code",
   "execution_count": 12,
   "metadata": {},
   "outputs": [],
   "source": [
    "gui.rebuild()\n",
    "gui.autoscale()"
   ]
  },
  {
   "cell_type": "markdown",
   "metadata": {},
   "source": [
    "# Bus resonators"
   ]
  },
  {
   "cell_type": "code",
   "execution_count": 13,
   "metadata": {},
   "outputs": [],
   "source": [
    "def find_resonator_length(frequency, line_width, line_gap, N): \n",
    "    #frequency in GHz\n",
    "    #line_width/line_gap in um\n",
    "    #N -> 2 for lambda/2, 4 for lambda/4\n",
    "    \n",
    "    [lambdaG, etfSqrt, q] = guided_wavelength(frequency*10**9, line_width*10**-6,\n",
    "                                              line_gap*10**-6, 750*10**-6, 200*10**-9)\n",
    "    return str(lambdaG/N*10**3)+\" mm\""
   ]
  },
  {
   "cell_type": "code",
   "execution_count": 14,
   "metadata": {},
   "outputs": [],
   "source": [
    "bus_12 = RouteMeander(design,'Bus_12', options = dict(hfss_wire_bonds = True, \n",
    "                                            pin_inputs=Dict(\n",
    "                                                start_pin=Dict(\n",
    "                                                    component='Q_1',\n",
    "                                                    pin='bus_12'),\n",
    "                                                end_pin=Dict(\n",
    "                                                    component='Q_2',\n",
    "                                                    pin='bus_12')\n",
    "                                            ),\n",
    "                                            trace_width = '20um',\n",
    "                                            lead=Dict(\n",
    "                                                start_straight='300um',\n",
    "                                                end_straight = '0um'\n",
    "                                            ),\n",
    "                                            meander=Dict(\n",
    "                                                asymmetry = '1000um'),\n",
    "                                            fillet = \"99um\",\n",
    "                                            total_length = Bus_length))\n",
    "\n",
    "bus_23 = RouteMeander(design,'Bus_23', options = dict(hfss_wire_bonds = True, \n",
    "                                            pin_inputs=Dict(\n",
    "                                                start_pin=Dict(\n",
    "                                                    component='Q_2',\n",
    "                                                    pin='bus_23'),\n",
    "                                                end_pin=Dict(\n",
    "                                                    component='Q_3',\n",
    "                                                    pin='bus_23')\n",
    "                                            ),\n",
    "                                            trace_width = '20um',\n",
    "                                            lead=Dict(\n",
    "                                                start_straight='300um',\n",
    "                                                end_straight = '0um'\n",
    "                                            ),\n",
    "                                            meander=Dict(\n",
    "                                                asymmetry = '1000um'),\n",
    "                                            fillet = \"99um\",\n",
    "                                            total_length = Bus_length))\n",
    "\n",
    "\n",
    "gui.rebuild()"
   ]
  },
  {
   "cell_type": "markdown",
   "metadata": {},
   "source": [
    "# Readout Resoantors"
   ]
  },
  {
   "cell_type": "code",
   "execution_count": 15,
   "metadata": {},
   "outputs": [],
   "source": [
    "launch_TL_read = LaunchpadWirebond(design, \n",
    "                                   'Launch_Q_Read', \n",
    "                                   options = dict(\n",
    "                                       pos_x = '8mm', \n",
    "                                       pos_y ='-1.648mm', \n",
    "                                       orientation = '180',\n",
    "                                       trace_gap = '18um',\n",
    "                                       trace_width = '30um'\n",
    "                                   ))\n",
    "gui.rebuild()\n",
    "gui.autoscale()"
   ]
  },
  {
   "cell_type": "code",
   "execution_count": 16,
   "metadata": {},
   "outputs": [
    {
     "data": {
      "text/plain": [
       "{'pos_x': '0.0um',\n",
       " 'pos_y': '0.0um',\n",
       " 'orientation': '0.0',\n",
       " 'chip': 'main',\n",
       " 'layer': '1',\n",
       " 'north_width': '10um',\n",
       " 'north_gap': '6um',\n",
       " 'south_width': '10um',\n",
       " 'south_gap': '6um',\n",
       " 'cap_width': '10um',\n",
       " 'cap_gap': '6um',\n",
       " 'cap_gap_ground': '6um',\n",
       " 'finger_length': '20um',\n",
       " 'finger_count': '5',\n",
       " 'cap_distance': '50um',\n",
       " 'hfss_wire_bonds': False,\n",
       " 'q3d_wire_bonds': False,\n",
       " 'aedt_q3d_wire_bonds': False,\n",
       " 'aedt_hfss_wire_bonds': False}"
      ]
     },
     "execution_count": 16,
     "metadata": {},
     "output_type": "execute_result"
    }
   ],
   "source": [
    "CapNInterdigital.get_template_options(design)"
   ]
  },
  {
   "cell_type": "code",
   "execution_count": 17,
   "metadata": {},
   "outputs": [],
   "source": [
    "highC_PF_TL = CapNInterdigital_sqnl(design, \n",
    "                               'highC_PF_TL', \n",
    "                               options = dict(\n",
    "                                   pos_x = '7.5mm',\n",
    "                                   pos_y = '-1.648mm',\n",
    "                                   orientation = '-90',\n",
    "                                   north_width = '30um', \n",
    "                                   north_gap   = '18um', \n",
    "                                   south_width = '30um', \n",
    "                                   south_gap   = '18um', \n",
    "                                   cap_width   = '5um', \n",
    "                                   cap_gap   = '5um', \n",
    "                                   cap_gap_ground   = '87.5um', \n",
    "                                   finger_length   = '200um', \n",
    "                                   finger_count   = '18', \n",
    "                                   cap_distance   = '50um',\n",
    "                                   taper_length   = '200um'\n",
    "                               ))\n",
    "gui.rebuild()\n",
    "gui.autoscale()"
   ]
  },
  {
   "cell_type": "code",
   "execution_count": 18,
   "metadata": {},
   "outputs": [],
   "source": [
    "otg_PF = OpenToGround(design, 'otg_PF', options = dict(pos_x='-60um',\n",
    "                                                       pos_y='-1648um',\n",
    "                                                       width='30um',\n",
    "                                                       gap='18um',\n",
    "                                                       termination_gap='18um',\n",
    "                                                       orientation='180'\n",
    "                                                      ))\n",
    "gui.rebuild()\n",
    "gui.autoscale()"
   ]
  },
  {
   "cell_type": "code",
   "execution_count": 19,
   "metadata": {},
   "outputs": [],
   "source": [
    "option_PF = Dict(hfss_wire_bonds = True,\n",
    "              pin_inputs=Dict(\n",
    "                 start_pin=Dict(\n",
    "                     component='highC_PF_TL',\n",
    "                     pin='south_end'),\n",
    "                 end_pin=Dict(\n",
    "                     component='otg_PF',\n",
    "                     pin='open')),\n",
    "              trace_width='30um',\n",
    "              trace_gap='18um',qgeometry_types='poly'\n",
    "             )\n",
    "option_TL = Dict(hfss_wire_bonds = True,\n",
    "              pin_inputs=Dict(\n",
    "                 start_pin=Dict(\n",
    "                     component='highC_PF_TL',\n",
    "                     pin='north_end'),\n",
    "                 end_pin=Dict(\n",
    "                     component='Launch_Q_Read',\n",
    "                     pin='tie')),\n",
    "              trace_width='30um',\n",
    "              trace_gap='18um',qgeometry_types='poly'\n",
    "             )\n",
    "PF = RouteStraight(design, 'PF', options=option_PF)\n",
    "TL = RouteStraight(design, 'TL', options=option_TL)\n",
    "\n",
    "gui.rebuild()\n",
    "gui.autoscale()"
   ]
  },
  {
   "cell_type": "code",
   "execution_count": 20,
   "metadata": {},
   "outputs": [
    {
     "data": {
      "text/plain": [
       "{'tie': {'points': array([[ 7.975, -1.663],\n",
       "         [ 7.975, -1.633]]),\n",
       "  'middle': array([ 7.975, -1.648]),\n",
       "  'normal': array([-1.,  0.]),\n",
       "  'tangent': array([0., 1.]),\n",
       "  'width': 0.03,\n",
       "  'gap': 0.018,\n",
       "  'chip': 'main',\n",
       "  'parent_name': 6,\n",
       "  'net_id': 32,\n",
       "  'length': 0}}"
      ]
     },
     "execution_count": 20,
     "metadata": {},
     "output_type": "execute_result"
    }
   ],
   "source": [
    "launch_TL_read.pins"
   ]
  },
  {
   "cell_type": "code",
   "execution_count": 21,
   "metadata": {},
   "outputs": [],
   "source": [
    "# ---------------------------------- readout 1 -------------------------------------\n",
    "pin_opt_1 = Dict(hfss_wire_bonds = True,\n",
    "                 pin_inputs=Dict(\n",
    "                                start_pin=Dict(\n",
    "                                component='Q_1',\n",
    "                                pin='readout'),\n",
    "                                end_pin=Dict(\n",
    "                                component='readout1_short',\n",
    "                                pin='short')),\n",
    "               fillet='89um',\n",
    "               trace_width='20um',\n",
    "               trace_gap='10um'\n",
    "              )\n",
    "\n",
    "stg_r1 = ShortToGround(design, 'readout1_short', \n",
    "                       options=dict(\n",
    "                           pos_x='{:f}mm'.format((q_1.pins.readout.points[0][0]+q_1.pins.readout.points[1][0])/2 - 0.560), \n",
    "                           pos_y='{:f}mm'.format(q_1.pins.readout.points[0][1]-0.520), orientation='90',\n",
    "                      width='20um',\n",
    "                      gap='10um'))\n",
    "\n",
    "pin_opt_1.pin_inputs.start_pin.component = 'Q_1'\n",
    "pin_opt_1.pin_inputs.end_pin.component = 'readout1_short'\n",
    "\n",
    "# the first step is always stright, let's define by how much (minimum is half the route width):\n",
    "pin_opt_1.lead.start_straight = '520um + 90um'\n",
    "pin_opt_1.lead.end_straight = '10um'\n",
    "\n",
    "# any subsequent step of the lead_start\n",
    "jogsS_1 = OrderedDict()\n",
    "jogsS_1[0] = [\"L\", '0um + 180um']\n",
    "jogsS_1[1] = [\"R\", '350um + 180um']\n",
    "jogsS_1[2] = [\"R\", '200um + 180um']\n",
    "jogsS_1[3] = [\"R\", '620um + 180um']\n",
    "jogsS_1[4] = [\"L\", '0um + 180um']\n",
    "jogsS_1[5] = [\"L\", '420um + 180um']\n",
    "jogsS_1[6] = [\"R\", '0um + 160um']\n",
    "#jogsS_1[7] = [\"R\", '420um + 90um']\n",
    "\n",
    "pin_opt_1.lead.start_jogged_extension = jogsS_1\n",
    "readout_res_1 = RouteFramed(design, 'readout_res_1', pin_opt_1)\n",
    "\n",
    "# ---------------------------------- readout 2 -------------------------------------\n",
    "pin_opt_2 = Dict(hfss_wire_bonds = True,\n",
    "                 pin_inputs=Dict(\n",
    "                                start_pin=Dict(\n",
    "                                component='Q_2',\n",
    "                                pin='readout'),\n",
    "                                end_pin=Dict(\n",
    "                                component='readout2_short',\n",
    "                                pin='short')),\n",
    "               fillet='89um',\n",
    "               trace_width='20um',\n",
    "               trace_gap='10um'\n",
    "              )\n",
    "\n",
    "stg_r2 = ShortToGround(design, 'readout2_short', \n",
    "                       options=dict(\n",
    "                           pos_x='{:f}mm'.format((q_2.pins.readout.points[0][0]+q_2.pins.readout.points[1][0])/2 - 0.560), \n",
    "                           pos_y='{:f}mm'.format(q_2.pins.readout.points[0][1] - 0.520), orientation='90',\n",
    "                      width='20um',\n",
    "                      gap='10um'))\n",
    "\n",
    "pin_opt_2.pin_inputs.start_pin.component = 'Q_2'\n",
    "pin_opt_2.pin_inputs.end_pin.component = 'readout2_short'\n",
    "\n",
    "# the first step is always stright, let's define by how much (minimum is half the route width):\n",
    "pin_opt_2.lead.start_straight = '520um + 90um'\n",
    "pin_opt_2.lead.end_straight = '10um'\n",
    "\n",
    "# any subsequent step of the lead_start\n",
    "jogsS_2 = OrderedDict()\n",
    "jogsS_2[0] = [\"L\", '0um + 180um']\n",
    "jogsS_2[1] = [\"R\", '350um + 180um']\n",
    "jogsS_2[2] = [\"R\", '200um + 180um']\n",
    "jogsS_2[3] = [\"R\", '620um + 180um']\n",
    "jogsS_2[4] = [\"L\", '0um + 180um']\n",
    "jogsS_2[5] = [\"L\", '436um + 180um']\n",
    "jogsS_2[6] = [\"R\", '0um + 160um']\n",
    "#jogsS_2[7] = [\"R\", '420um + 90um']\n",
    "\n",
    "pin_opt_2.lead.start_jogged_extension = jogsS_2\n",
    "readout_res_2 = RouteFramed(design, 'readout_res_2', pin_opt_2)\n",
    "\n",
    "gui.rebuild()\n",
    "gui.autoscale()"
   ]
  },
  {
   "cell_type": "markdown",
   "metadata": {},
   "source": [
    "# ---------------------------------- Analyze ----------------------------------"
   ]
  },
  {
   "cell_type": "markdown",
   "metadata": {},
   "source": [
    "# Eigenmode and EPR"
   ]
  },
  {
   "cell_type": "code",
   "execution_count": 22,
   "metadata": {},
   "outputs": [],
   "source": [
    "from qiskit_metal.analyses.quantization import EPRanalysis\n",
    "eig_qb = EPRanalysis(design, \"hfss\")"
   ]
  },
  {
   "cell_type": "code",
   "execution_count": 23,
   "metadata": {},
   "outputs": [],
   "source": [
    "eig_qb.sim.renderer.options['wb_size'] = 5"
   ]
  },
  {
   "cell_type": "code",
   "execution_count": 24,
   "metadata": {},
   "outputs": [],
   "source": [
    "em_p = eig_qb.sim.setup"
   ]
  },
  {
   "cell_type": "code",
   "execution_count": 25,
   "metadata": {},
   "outputs": [
    {
     "data": {
      "text/plain": [
       "{'name': 'Setup',\n",
       " 'reuse_selected_design': True,\n",
       " 'reuse_setup': True,\n",
       " 'min_freq_ghz': 5.2,\n",
       " 'n_modes': 4,\n",
       " 'max_delta_f': 0.1,\n",
       " 'max_passes': 20,\n",
       " 'min_passes': 1,\n",
       " 'min_converged': 2,\n",
       " 'pct_refinement': 30,\n",
       " 'basis_order': 1,\n",
       " 'vars': {'Lj1': '14nH',\n",
       "  'Cj1': '0 fF',\n",
       "  'Lj2': '11nH',\n",
       "  'Cj2': '0 fF',\n",
       "  'Lj3': '14.5nH',\n",
       "  'Cj3': '0 fF'}}"
      ]
     },
     "execution_count": 25,
     "metadata": {},
     "output_type": "execute_result"
    }
   ],
   "source": [
    "em_p.name = 'Setup'\n",
    "em_p.min_freq_ghz = 5.2\n",
    "em_p.n_modes = 4\n",
    "em_p.max_passes = 20\n",
    "em_p.max_delta_f = 0.1\n",
    "em_p.min_converged = 2\n",
    "# Design variables can also be added in for direct simulation sweeps.\n",
    "em_p.vars = Dict({'Lj1': Q1_ind, 'Cj1': '0 fF', \n",
    "                  'Lj2': Q2_ind, 'Cj2': '0 fF',\n",
    "                  'Lj3': Q3_ind, 'Cj3': '0 fF'})\n",
    "# em_p.vars = Dict({'Lj1': ['17.2 nH','17.3 nH','17.4 nH','17.5 nH'], 'Cj1': '0 fF', 'Lj2': '17.0 nH', 'Cj2': '0 fF'})\n",
    "# em_p.vars = Dict({'Lj1': '17.2 nH', 'Cj1': '0 fF'})\n",
    "\n",
    "eig_qb.sim.setup"
   ]
  },
  {
   "cell_type": "code",
   "execution_count": 26,
   "metadata": {},
   "outputs": [],
   "source": [
    "eig_qb.del_junction()\n",
    "eig_qb.add_junction('jj1', 'Lj1', 'Cj1', rect='JJ_rect_Lj_Q_1_rect_jj', line='JJ_Lj_Q_1_rect_jj_')\n",
    "eig_qb.add_junction('jj2', 'Lj2', 'Cj2', rect='JJ_rect_Lj_Q_2_rect_jj', line='JJ_Lj_Q_2_rect_jj_')\n",
    "eig_qb.add_junction('jj3', 'Lj3', 'Cj3', rect='JJ_rect_Lj_Q_3_rect_jj', line='JJ_Lj_Q_3_rect_jj_')\n",
    "eig_qb.setup.sweep_variable = 'Lj2'"
   ]
  },
  {
   "cell_type": "code",
   "execution_count": 27,
   "metadata": {},
   "outputs": [
    {
     "name": "stderr",
     "output_type": "stream",
     "text": [
      "08:51AM 08s WARNING [iterate_option_sweep]: For class EPRanalysis, option_name=hfss_inductance, key=11nH, run() did not execute as expected: An exception of type com_error occurred. Arguments:\n",
      "(-2147417851, '서버에서 예외 오류가 발생했습니다.', None, None)\n",
      "08:51AM 08s WARNING [iterate_option_sweep]: For class EPRanalysis, option_name=hfss_inductance, key=10.45nH, run() did not execute as expected: An exception of type com_error occurred. Arguments:\n",
      "(-2147417851, '서버에서 예외 오류가 발생했습니다.', None, None)\n",
      "08:51AM 09s WARNING [iterate_option_sweep]: For class EPRanalysis, option_name=hfss_inductance, key=9.94nH, run() did not execute as expected: An exception of type com_error occurred. Arguments:\n",
      "(-2147417851, '서버에서 예외 오류가 발생했습니다.', None, None)\n",
      "08:51AM 09s WARNING [iterate_option_sweep]: For class EPRanalysis, option_name=hfss_inductance, key=9.46nH, run() did not execute as expected: An exception of type com_error occurred. Arguments:\n",
      "(-2147417851, '서버에서 예외 오류가 발생했습니다.', None, None)\n"
     ]
    }
   ],
   "source": [
    "# eig_qb.sim.run_sim(name=\"Berkeley_8Qring_sample_3\", components=['Q_1', 'Q_2','Bus_12'], open_terminations=[], design_name = 'Berkeley_8Qring_sample_3_hfss')\n",
    "# eig_qb.sim._analyze(design_name = 'Berkeley_8Qring_sample_3_hfss')  # This line dose not update modeling. It remove result, update setup and do analysis\n",
    "# eig_qb.sim.start() # line for when kernel dies. it connect to open ansys again. you can run epr but cannot plot ansys convergence or things related to simulation.\n",
    "\n",
    "# all_sweeps, return_code = eig_qb.run_sweep(q_1.name,\n",
    "#                                            'hfss_inductance',\n",
    "#                                             Q1_sweep,\n",
    "#                                             components=['Q_1', 'Q_2','Bus_12'], # empty list means all components\n",
    "#                                              design_name = 'Berkeley_8Qring_sample_3'\n",
    "#                                              )\n",
    "\n",
    "# resonator induced frequency shift\n",
    "all_sweeps, return_code = eig_qb.run_sweep(q_2.name,\n",
    "                                           'hfss_inductance',\n",
    "                                            Q1_sweep,\n",
    "                                            components= ['Q_1','Q_2','Q_3','Bus_12','Bus_23','readout_res_2','readout2_short'], # empty list means all components\n",
    "                                             design_name = 'Berkeley_8Qring_sample_3'\n",
    "                                             )"
   ]
  },
  {
   "cell_type": "code",
   "execution_count": 28,
   "metadata": {},
   "outputs": [
    {
     "name": "stderr",
     "output_type": "stream",
     "text": [
      "INFO 04:13PM [connect_design]: \tOpened active design\n",
      "\tDesign:    Berkeley_8Qring_sample_3_S21_hfss [Solution type: Eigenmode]\n",
      "WARNING 04:13PM [connect_setup]: \tNo design setup detected.\n",
      "WARNING 04:13PM [connect_setup]: \tCreating eigenmode default setup.\n",
      "INFO 04:13PM [get_setup]: \tOpened setup `Setup`  (<class 'pyEPR.ansys.HfssEMSetup'>)\n",
      "INFO 04:14PM [get_setup]: \tOpened setup `Setup`  (<class 'pyEPR.ansys.HfssEMSetup'>)\n",
      "INFO 04:14PM [analyze]: Analyzing setup Setup\n",
      "04:14PM 50s INFO [get_f_convergence]: Saved convergences to c:\\Users\\user\\Documents\\GitHub\\qiskit-metal\\hfss_eig_f_convergence.csv\n"
     ]
    },
    {
     "data": {
      "text/plain": [
       "('Berkeley_8Qring_sample_3_S21_hfss', 'Setup')"
      ]
     },
     "execution_count": 28,
     "metadata": {},
     "output_type": "execute_result"
    }
   ],
   "source": [
    "eig_qb.sim.run_sim(name=\"Berkeley_8Qring_sample_3_S21\", components=[], open_terminations=[])"
   ]
  },
  {
   "cell_type": "code",
   "execution_count": 88,
   "metadata": {},
   "outputs": [
    {
     "ename": "TypeError",
     "evalue": "'Dict' object is not callable",
     "output_type": "error",
     "traceback": [
      "\u001b[1;31m---------------------------------------------------------------------------\u001b[0m",
      "\u001b[1;31mTypeError\u001b[0m                                 Traceback (most recent call last)",
      "Cell \u001b[1;32mIn[88], line 2\u001b[0m\n\u001b[0;32m      1\u001b[0m \u001b[38;5;66;03m# time.sleep(2)\u001b[39;00m\n\u001b[1;32m----> 2\u001b[0m \u001b[43meig_qb\u001b[49m\u001b[38;5;241;43m.\u001b[39;49m\u001b[43msim\u001b[49m\u001b[38;5;241;43m.\u001b[39;49m\u001b[43mplot_convergences\u001b[49m\u001b[43m(\u001b[49m\u001b[43m)\u001b[49m\n",
      "File \u001b[1;32mc:\\Users\\user\\Documents\\GitHub\\qiskit-metal\\qiskit_metal\\analyses\\simulation\\eigenmode.py:231\u001b[0m, in \u001b[0;36mEigenmodeSim.plot_convergences\u001b[1;34m(self, convergence_t, convergence_f, fig, _display)\u001b[0m\n\u001b[0;32m    228\u001b[0m axs \u001b[38;5;241m=\u001b[39m [fig\u001b[38;5;241m.\u001b[39madd_subplot(gspec[i]) \u001b[38;5;28;01mfor\u001b[39;00m i \u001b[38;5;129;01min\u001b[39;00m \u001b[38;5;28mrange\u001b[39m(\u001b[38;5;241m3\u001b[39m)]\n\u001b[0;32m    230\u001b[0m ax0t \u001b[38;5;241m=\u001b[39m axs[\u001b[38;5;241m1\u001b[39m]\u001b[38;5;241m.\u001b[39mtwinx()\n\u001b[1;32m--> 231\u001b[0m \u001b[43mplot_convergence_f_vspass\u001b[49m\u001b[43m(\u001b[49m\u001b[43maxs\u001b[49m\u001b[43m[\u001b[49m\u001b[38;5;241;43m0\u001b[39;49m\u001b[43m]\u001b[49m\u001b[43m,\u001b[49m\u001b[43m \u001b[49m\u001b[43mconvergence_f\u001b[49m\u001b[43m)\u001b[49m\n\u001b[0;32m    232\u001b[0m plot_convergence_max_df(axs[\u001b[38;5;241m1\u001b[39m], convergence_t\u001b[38;5;241m.\u001b[39miloc[:, \u001b[38;5;241m1\u001b[39m])\n\u001b[0;32m    233\u001b[0m plot_convergence_solved_elem(ax0t, convergence_t\u001b[38;5;241m.\u001b[39miloc[:, \u001b[38;5;241m0\u001b[39m])\n",
      "File \u001b[1;32mc:\\Users\\user\\anaconda3\\envs\\env_metal\\Lib\\site-packages\\pyEPR\\reports.py:68\u001b[0m, in \u001b[0;36mplot_convergence_f_vspass\u001b[1;34m(ax, s, kw)\u001b[0m\n\u001b[0;32m     66\u001b[0m \u001b[38;5;250m\u001b[39m\u001b[38;5;124;03m'''For a single pass'''\u001b[39;00m\n\u001b[0;32m     67\u001b[0m \u001b[38;5;28;01mif\u001b[39;00m s \u001b[38;5;129;01mis\u001b[39;00m \u001b[38;5;129;01mnot\u001b[39;00m \u001b[38;5;28;01mNone\u001b[39;00m:\n\u001b[1;32m---> 68\u001b[0m     \u001b[43m(\u001b[49m\u001b[43ms\u001b[49m\u001b[43m)\u001b[49m\u001b[38;5;241;43m.\u001b[39;49m\u001b[43mplot\u001b[49m\u001b[43m(\u001b[49m\u001b[43max\u001b[49m\u001b[38;5;241;43m=\u001b[39;49m\u001b[43max\u001b[49m\u001b[43m,\u001b[49m\u001b[43m \u001b[49m\u001b[38;5;241;43m*\u001b[39;49m\u001b[38;5;241;43m*\u001b[39;49m\u001b[43m{\u001b[49m\u001b[38;5;241;43m*\u001b[39;49m\u001b[38;5;241;43m*\u001b[39;49m\u001b[43m_style_plot_conv_kw\u001b[49m\u001b[43m,\u001b[49m\u001b[43m \u001b[49m\u001b[38;5;241;43m*\u001b[39;49m\u001b[38;5;241;43m*\u001b[39;49m\u001b[43mkw\u001b[49m\u001b[43m}\u001b[49m\u001b[43m)\u001b[49m\n\u001b[0;32m     69\u001b[0m     _style_plot_convergence(ax, \u001b[38;5;124m'\u001b[39m\u001b[38;5;124mEigenmode f vs. pass [GHz]\u001b[39m\u001b[38;5;124m'\u001b[39m, y_title\u001b[38;5;241m=\u001b[39m\u001b[38;5;28;01mTrue\u001b[39;00m)\n\u001b[0;32m     70\u001b[0m     legend_translucent(ax, leg_kw\u001b[38;5;241m=\u001b[39m\u001b[38;5;28mdict\u001b[39m(fontsize\u001b[38;5;241m=\u001b[39m\u001b[38;5;241m6\u001b[39m))\n",
      "\u001b[1;31mTypeError\u001b[0m: 'Dict' object is not callable"
     ]
    }
   ],
   "source": [
    "# time.sleep(2)\n",
    "eig_qb.sim.plot_convergences()"
   ]
  },
  {
   "cell_type": "code",
   "execution_count": 29,
   "metadata": {},
   "outputs": [
    {
     "data": {
      "text/plain": [
       "{'junctions': {'jj1': {'Lj_variable': 'Lj1',\n",
       "   'Cj_variable': 'Cj1',\n",
       "   'rect': 'JJ_rect_Lj_Q_1_rect_jj',\n",
       "   'line': 'JJ_Lj_Q_1_rect_jj_'},\n",
       "  'jj2': {'Lj_variable': 'Lj2',\n",
       "   'Cj_variable': 'Cj2',\n",
       "   'rect': 'JJ_rect_Lj_Q_2_rect_jj',\n",
       "   'line': 'JJ_Lj_Q_2_rect_jj_'}},\n",
       " 'dissipatives': {'dielectrics_bulk': ['main']},\n",
       " 'cos_trunc': 8,\n",
       " 'fock_trunc': 7,\n",
       " 'sweep_variable': 'Lj1'}"
      ]
     },
     "execution_count": 29,
     "metadata": {},
     "output_type": "execute_result"
    }
   ],
   "source": [
    "eig_qb.setup\n",
    "# rend = eig_qb.sim.renderer\n",
    "# eig_qb.setup.setmode([1,2,6])"
   ]
  },
  {
   "cell_type": "code",
   "execution_count": 30,
   "metadata": {},
   "outputs": [
    {
     "name": "stdout",
     "output_type": "stream",
     "text": [
      "Design \"Berkeley_8Qring_sample_3_hfss\" info:\n",
      "\t# eigenmodes    3\n",
      "\t# variations    1\n",
      "Design \"Berkeley_8Qring_sample_3_hfss\" info:\n",
      "\t# eigenmodes    3\n",
      "\t# variations    1\n",
      "\n",
      "        energy_elec_all       = 9.28987080803236e-25\n",
      "        energy_elec_substrate = 8.55736247564873e-25\n",
      "        EPR of substrate = 92.1%\n",
      "\n",
      "        energy_mag    = 9.27519864933177e-25\n",
      "        energy_mag % of energy_elec_all  = 99.8%\n",
      "        \n",
      "\n",
      "Variation 0  [1/1]\n",
      "\n",
      "  \u001b[1mMode 0 at 5.56 GHz   [1/3]\u001b[0m\n",
      "    Calculating ℰ_magnetic,ℰ_electric\n",
      "       (ℰ_E-ℰ_H)/ℰ_E       ℰ_E       ℰ_H\n",
      "               99.0%   1.69e-25 1.638e-27\n",
      "\n",
      "    Calculating junction energy participation ration (EPR)\n",
      "\tmethod=`line_voltage`. First estimates:\n",
      "\tjunction        EPR p_0j   sign s_0j    (p_capacitive)\n",
      "\t\tEnergy fraction (Lj over Lj&Cj)= 97.52%\n",
      "\tjj1             0.000158749  (+)        4.03127e-06\n",
      "\t\tEnergy fraction (Lj over Lj&Cj)= 97.41%\n",
      "\tjj2             0.989475  (+)        0.0262622\n",
      "\t\t(U_tot_cap-U_tot_ind)/mean=1.33%\n",
      "Calculating Qdielectric_main for mode 0 (0/2)\n",
      "p_dielectric_main_0 = 0.9219061559107499\n",
      "\n",
      "  \u001b[1mMode 1 at 5.69 GHz   [2/3]\u001b[0m\n",
      "    Calculating ℰ_magnetic,ℰ_electric\n",
      "       (ℰ_E-ℰ_H)/ℰ_E       ℰ_E       ℰ_H\n",
      "               99.0%  1.565e-25 1.588e-27\n",
      "\n",
      "    Calculating junction energy participation ration (EPR)\n",
      "\tmethod=`line_voltage`. First estimates:\n",
      "\tjunction        EPR p_1j   sign s_1j    (p_capacitive)\n",
      "\t\tEnergy fraction (Lj over Lj&Cj)= 97.41%\n",
      "\tjj1             0.988917  (+)        0.0262458\n",
      "\t\tEnergy fraction (Lj over Lj&Cj)= 97.30%\n",
      "\tjj2             0.000177634  (+)        4.92745e-06\n",
      "\t\t(U_tot_cap-U_tot_ind)/mean=1.33%\n",
      "Calculating Qdielectric_main for mode 1 (1/2)\n",
      "p_dielectric_main_1 = 0.9219840561107389\n",
      "\n",
      "  \u001b[1mMode 2 at 8.10 GHz   [3/3]\u001b[0m\n",
      "    Calculating ℰ_magnetic,ℰ_electric\n",
      "       (ℰ_E-ℰ_H)/ℰ_E       ℰ_E       ℰ_H\n",
      "                0.2%  4.645e-25 4.638e-25\n",
      "\n",
      "    Calculating junction energy participation ration (EPR)\n",
      "\tmethod=`line_voltage`. First estimates:\n",
      "\tjunction        EPR p_2j   sign s_2j    (p_capacitive)\n",
      "\t\tEnergy fraction (Lj over Lj&Cj)= 94.88%\n",
      "\tjj1             0.0008389  (+)        4.52394e-05\n",
      "\t\tEnergy fraction (Lj over Lj&Cj)= 94.66%\n",
      "\tjj2             0.00073963  (+)        4.16885e-05\n",
      "\t\t(U_tot_cap-U_tot_ind)/mean=0.00%\n",
      "Calculating Qdielectric_main for mode 2 (2/2)\n",
      "p_dielectric_main_2 = 0.9211497826481853\n"
     ]
    },
    {
     "name": "stderr",
     "output_type": "stream",
     "text": [
      "WARNING 11:32AM [__init__]: <p>Error: <class 'IndexError'></p>\n"
     ]
    },
    {
     "name": "stdout",
     "output_type": "stream",
     "text": [
      "\n",
      "ANALYSIS DONE. Data saved to:\n",
      "\n",
      "C:\\data-pyEPR\\Trailblazer_test\\Berkeley_8Qring_sample_3_hfss\\2024-07-16 11-30-45.npz\n",
      "\n",
      "\n",
      "\t Differences in variations:\n",
      "\n",
      "\n",
      "\n",
      " . . . . . . . . . . . . . . . . . . . . . . . . . . . . . . . . . . . . . . . . \n",
      "Variation 0\n",
      "\n",
      "Starting the diagonalization\n",
      "Finished the diagonalization\n",
      "Pm_norm=\n",
      "modes\n",
      "0    1.027098\n",
      "1    1.027170\n",
      "2    1.027846\n",
      "dtype: float64\n",
      "\n"
     ]
    },
    {
     "name": "stderr",
     "output_type": "stream",
     "text": [
      "WARNING:py.warnings:c:\\Users\\user\\anaconda3\\envs\\env_metal\\Lib\\site-packages\\pyEPR\\core_quantum_analysis.py:711: FutureWarning: Support for multi-dimensional indexing (e.g. `obj[:, None]`) is deprecated and will be removed in a future version.  Convert to a numpy array before indexing instead.\n",
      "  result['Q_coupling'] = self.Qm_coupling[variation][self.Qm_coupling[variation].columns[junctions]][modes]#TODO change the columns to junctions\n",
      "\n",
      "WARNING:py.warnings:c:\\Users\\user\\anaconda3\\envs\\env_metal\\Lib\\site-packages\\pyEPR\\core_quantum_analysis.py:716: FutureWarning: Support for multi-dimensional indexing (e.g. `obj[:, None]`) is deprecated and will be removed in a future version.  Convert to a numpy array before indexing instead.\n",
      "  result['Qs'] = self.Qs[variation][self.PM[variation].columns[junctions]][modes] #TODO change the columns to junctions\n",
      "\n"
     ]
    },
    {
     "name": "stdout",
     "output_type": "stream",
     "text": [
      "Pm_norm idx =\n",
      "     jj1    jj2\n",
      "0  False   True\n",
      "1   True  False\n",
      "2  False  False\n",
      "*** P (participation matrix, not normlz.)\n",
      "        jj1       jj2\n",
      "0  0.000155  0.964150\n",
      "1  0.963622  0.000173\n",
      "2  0.000839  0.000740\n",
      "\n",
      "*** S (sign-bit matrix)\n",
      "   s_jj1  s_jj2\n",
      "0      1     -1\n",
      "1     -1     -1\n",
      "2     -1      1\n",
      "*** P (participation matrix, normalized.)\n",
      "   0.00015     0.99\n",
      "      0.99  0.00017\n",
      "   0.00084  0.00074\n",
      "\n",
      "*** Chi matrix O1 PT (MHz)\n",
      "    Diag is anharmonicity, off diag is full cross-Kerr.\n",
      "       252    0.167    0.549\n",
      "     0.167      252    0.609\n",
      "     0.549    0.609 0.000666\n",
      "\n",
      "*** Chi matrix ND (MHz) \n",
      "       279  -0.0299    0.458\n",
      "   -0.0299      278      0.5\n",
      "     0.458      0.5 0.000468\n",
      "\n",
      "*** Frequencies O1 PT (MHz)\n",
      "0    5308.571143\n",
      "1    5432.890785\n",
      "2    8103.271518\n",
      "dtype: float64\n",
      "\n",
      "*** Frequencies ND (MHz)\n",
      "0    5295.830624\n",
      "1    5420.484859\n",
      "2    8103.300628\n",
      "dtype: float64\n",
      "\n",
      "*** Q_coupling\n",
      "Empty DataFrame\n",
      "Columns: []\n",
      "Index: [0, 1, 2]\n"
     ]
    },
    {
     "data": {
      "text/markdown": [
       "#### Mode frequencies (MHz)"
      ],
      "text/plain": [
       "<IPython.core.display.Markdown object>"
      ]
     },
     "metadata": {},
     "output_type": "display_data"
    },
    {
     "data": {
      "text/markdown": [
       "###### Numerical diagonalization"
      ],
      "text/plain": [
       "<IPython.core.display.Markdown object>"
      ]
     },
     "metadata": {},
     "output_type": "display_data"
    },
    {
     "data": {
      "text/html": [
       "<div>\n",
       "<style scoped>\n",
       "    .dataframe tbody tr th:only-of-type {\n",
       "        vertical-align: middle;\n",
       "    }\n",
       "\n",
       "    .dataframe tbody tr th {\n",
       "        vertical-align: top;\n",
       "    }\n",
       "\n",
       "    .dataframe thead th {\n",
       "        text-align: right;\n",
       "    }\n",
       "</style>\n",
       "<table border=\"1\" class=\"dataframe\">\n",
       "  <thead>\n",
       "    <tr style=\"text-align: right;\">\n",
       "      <th>Lj1</th>\n",
       "      <th>10.4</th>\n",
       "    </tr>\n",
       "  </thead>\n",
       "  <tbody>\n",
       "    <tr>\n",
       "      <th>0</th>\n",
       "      <td>5295.83</td>\n",
       "    </tr>\n",
       "    <tr>\n",
       "      <th>1</th>\n",
       "      <td>5420.48</td>\n",
       "    </tr>\n",
       "    <tr>\n",
       "      <th>2</th>\n",
       "      <td>8103.30</td>\n",
       "    </tr>\n",
       "  </tbody>\n",
       "</table>\n",
       "</div>"
      ],
      "text/plain": [
       "Lj1     10.4\n",
       "0    5295.83\n",
       "1    5420.48\n",
       "2    8103.30"
      ]
     },
     "metadata": {},
     "output_type": "display_data"
    },
    {
     "data": {
      "text/markdown": [
       "#### Kerr Non-linear coefficient table (MHz)"
      ],
      "text/plain": [
       "<IPython.core.display.Markdown object>"
      ]
     },
     "metadata": {},
     "output_type": "display_data"
    },
    {
     "data": {
      "text/markdown": [
       "###### Numerical diagonalization"
      ],
      "text/plain": [
       "<IPython.core.display.Markdown object>"
      ]
     },
     "metadata": {},
     "output_type": "display_data"
    },
    {
     "data": {
      "text/html": [
       "<div>\n",
       "<style scoped>\n",
       "    .dataframe tbody tr th:only-of-type {\n",
       "        vertical-align: middle;\n",
       "    }\n",
       "\n",
       "    .dataframe tbody tr th {\n",
       "        vertical-align: top;\n",
       "    }\n",
       "\n",
       "    .dataframe thead th {\n",
       "        text-align: right;\n",
       "    }\n",
       "</style>\n",
       "<table border=\"1\" class=\"dataframe\">\n",
       "  <thead>\n",
       "    <tr style=\"text-align: right;\">\n",
       "      <th></th>\n",
       "      <th></th>\n",
       "      <th>0</th>\n",
       "      <th>1</th>\n",
       "      <th>2</th>\n",
       "    </tr>\n",
       "    <tr>\n",
       "      <th>Lj1</th>\n",
       "      <th></th>\n",
       "      <th></th>\n",
       "      <th></th>\n",
       "      <th></th>\n",
       "    </tr>\n",
       "  </thead>\n",
       "  <tbody>\n",
       "    <tr>\n",
       "      <th rowspan=\"3\" valign=\"top\">10.4</th>\n",
       "      <th>0</th>\n",
       "      <td>279.10</td>\n",
       "      <td>-0.03</td>\n",
       "      <td>4.58e-01</td>\n",
       "    </tr>\n",
       "    <tr>\n",
       "      <th>1</th>\n",
       "      <td>-0.03</td>\n",
       "      <td>278.27</td>\n",
       "      <td>5.00e-01</td>\n",
       "    </tr>\n",
       "    <tr>\n",
       "      <th>2</th>\n",
       "      <td>0.46</td>\n",
       "      <td>0.50</td>\n",
       "      <td>4.68e-04</td>\n",
       "    </tr>\n",
       "  </tbody>\n",
       "</table>\n",
       "</div>"
      ],
      "text/plain": [
       "             0       1         2\n",
       "Lj1                             \n",
       "10.4 0  279.10   -0.03  4.58e-01\n",
       "     1   -0.03  278.27  5.00e-01\n",
       "     2    0.46    0.50  4.68e-04"
      ]
     },
     "metadata": {},
     "output_type": "display_data"
    }
   ],
   "source": [
    "\n",
    "eig_qb.run_epr()\n",
    "# (pyEPR allows to switch modes: eprd.set_mode(1))"
   ]
  },
  {
   "cell_type": "code",
   "execution_count": 29,
   "metadata": {},
   "outputs": [],
   "source": [
    "eig_qb.sim.close()\n",
    "\n",
    "# 360"
   ]
  },
  {
   "cell_type": "code",
   "execution_count": null,
   "metadata": {},
   "outputs": [
    {
     "name": "stdout",
     "output_type": "stream",
     "text": [
      "When Lj=17.000[nH],Ic=19.359[nA]\n"
     ]
    }
   ],
   "source": [
    "Phi_0 = 2.067833848e-15\n",
    "Lj_test = 17\n",
    "Ic_test = Phi_0/2/np.pi/Lj_test/1e-9\n",
    "print(\"When Lj={:.3f}[nH],\".format(Lj_test)+\"Ic={:.3f}[nA]\".format(Ic_test/1e-9))"
   ]
  },
  {
   "cell_type": "code",
   "execution_count": null,
   "metadata": {},
   "outputs": [],
   "source": []
  },
  {
   "cell_type": "code",
   "execution_count": null,
   "metadata": {},
   "outputs": [],
   "source": []
  }
 ],
 "metadata": {
  "kernelspec": {
   "display_name": "env-metal",
   "language": "python",
   "name": "python3"
  },
  "language_info": {
   "codemirror_mode": {
    "name": "ipython",
    "version": 3
   },
   "file_extension": ".py",
   "mimetype": "text/x-python",
   "name": "python",
   "nbconvert_exporter": "python",
   "pygments_lexer": "ipython3",
   "version": "3.11.9"
  }
 },
 "nbformat": 4,
 "nbformat_minor": 2
}
