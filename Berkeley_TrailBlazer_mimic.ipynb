{
 "cells": [
  {
   "cell_type": "markdown",
   "metadata": {},
   "source": [
    "# Example full chip design"
   ]
  },
  {
   "cell_type": "code",
   "execution_count": 2,
   "metadata": {},
   "outputs": [],
   "source": [
    "%load_ext autoreload\n",
    "%autoreload 2"
   ]
  },
  {
   "cell_type": "markdown",
   "metadata": {},
   "source": [
    "*Make sure to have the right kernel selected!*"
   ]
  },
  {
   "cell_type": "code",
   "execution_count": 3,
   "metadata": {},
   "outputs": [],
   "source": [
    "import qiskit_metal as metal\n",
    "from qiskit_metal import designs, draw\n",
    "from qiskit_metal import MetalGUI, Dict, open_docs"
   ]
  },
  {
   "cell_type": "code",
   "execution_count": 4,
   "metadata": {},
   "outputs": [],
   "source": [
    "from qiskit_metal.analyses.em.cpw_calculations import guided_wavelength\n",
    "from qiskit_metal.qlibrary.tlines.meandered import RouteMeander\n",
    "from qiskit_metal.qlibrary.tlines.pathfinder import RoutePathfinder\n",
    "from qiskit_metal.qlibrary.tlines.anchored_path import RouteAnchors\n",
    "\n",
    "from qiskit_metal.qlibrary.lumped.cap_n_interdigital import CapNInterdigital\n",
    "from qiskit_metal.qlibrary.couplers.cap_n_interdigital_tee import CapNInterdigitalTee\n",
    "from qiskit_metal.qlibrary.couplers.coupled_line_tee import CoupledLineTee\n",
    "\n",
    "from qiskit_metal.qlibrary.terminations.launchpad_wb import LaunchpadWirebond\n",
    "from qiskit_metal.qlibrary.terminations.launchpad_wb_coupled import LaunchpadWirebondCoupled\n",
    "\n",
    "from qiskit_metal.qlibrary.tlines.framed_path import RouteFramed\n",
    "from qiskit_metal.qlibrary.terminations.short_to_ground import ShortToGround\n",
    "from qiskit_metal.qlibrary.terminations.open_to_ground import OpenToGround\n",
    "\n",
    "from collections import OrderedDict\n",
    "\n",
    "from qiskit_metal.qlibrary.tlines.straight_path import RouteStraight\n",
    "from qiskit_metal.qlibrary.qubits.transmon_sqnl import TransmonPocket_sqnl\n",
    "from qiskit_metal.qlibrary.lumped.cap_n_interdigital_sqnl import CapNInterdigital_sqnl"
   ]
  },
  {
   "cell_type": "code",
   "execution_count": 5,
   "metadata": {},
   "outputs": [],
   "source": [
    "design = metal.designs.DesignPlanar()\n",
    "\n",
    "gui = metal.MetalGUI(design)"
   ]
  },
  {
   "cell_type": "code",
   "execution_count": 6,
   "metadata": {},
   "outputs": [
    {
     "data": {
      "text/plain": [
       "{'material': 'silicon',\n",
       " 'layer_start': '0',\n",
       " 'layer_end': '2048',\n",
       " 'size': {'center_x': '0.0mm',\n",
       "  'center_y': '0.0mm',\n",
       "  'center_z': '0.0mm',\n",
       "  'size_x': '9mm',\n",
       "  'size_y': '6mm',\n",
       "  'size_z': '-750um',\n",
       "  'sample_holder_top': '890um',\n",
       "  'sample_holder_bottom': '1650um'}}"
      ]
     },
     "execution_count": 6,
     "metadata": {},
     "output_type": "execute_result"
    }
   ],
   "source": [
    "design.overwrite_enabled = True\n",
    "design.chips.main"
   ]
  },
  {
   "cell_type": "code",
   "execution_count": 7,
   "metadata": {},
   "outputs": [
    {
     "data": {
      "text/plain": [
       "{'main': {'material': 'silicon',\n",
       "  'layer_start': '0',\n",
       "  'layer_end': '2048',\n",
       "  'size': {'center_x': '0.0mm',\n",
       "   'center_y': '0.0mm',\n",
       "   'center_z': '0.0mm',\n",
       "   'size_x': '9mm',\n",
       "   'size_y': '6mm',\n",
       "   'size_z': '-750um',\n",
       "   'sample_holder_top': '890um',\n",
       "   'sample_holder_bottom': '1650um'}}}"
      ]
     },
     "execution_count": 7,
     "metadata": {},
     "output_type": "execute_result"
    }
   ],
   "source": [
    "design.chips"
   ]
  },
  {
   "cell_type": "code",
   "execution_count": 8,
   "metadata": {},
   "outputs": [],
   "source": [
    "design.chips.main.size.size_x = '10mm'\n",
    "design.chips.main.size.size_y = '10mm'"
   ]
  },
  {
   "cell_type": "markdown",
   "metadata": {},
   "source": [
    "# Qubits"
   ]
  },
  {
   "cell_type": "code",
   "execution_count": 9,
   "metadata": {},
   "outputs": [
    {
     "data": {
      "text/plain": [
       "{'pos_x': '0.0um',\n",
       " 'pos_y': '0.0um',\n",
       " 'orientation': '0.0',\n",
       " 'chip': 'main',\n",
       " 'layer': '1',\n",
       " 'connection_pads': {},\n",
       " '_default_connection_pads': {'connector_type': '0',\n",
       "  'pad_width': '125um',\n",
       "  'pad_height': '30um',\n",
       "  'pad_cpw_shift': '0um',\n",
       "  'pad_cpw_extent': '25um',\n",
       "  'claw_length': '30um',\n",
       "  'claw_width': '10um',\n",
       "  'claw_gap': '6um',\n",
       "  'claw_cpw_length': '40um',\n",
       "  'claw_cpw_width': '10um',\n",
       "  'ground_spacing': '5um',\n",
       "  'connector_location': '0'},\n",
       " 'pad_gap': '30um',\n",
       " 'inductor_width': '20um',\n",
       " 'pad_width': '455um',\n",
       " 'pad_height': '90um',\n",
       " 'pocket_width': '650um',\n",
       " 'pocket_height': '650um',\n",
       " 'hfss_wire_bonds': False,\n",
       " 'q3d_wire_bonds': False,\n",
       " 'aedt_q3d_wire_bonds': False,\n",
       " 'aedt_hfss_wire_bonds': False,\n",
       " 'hfss_inductance': '10nH',\n",
       " 'hfss_capacitance': 0,\n",
       " 'hfss_resistance': 0,\n",
       " 'hfss_mesh_kw_jj': 7e-06,\n",
       " 'q3d_inductance': '10nH',\n",
       " 'q3d_capacitance': 0,\n",
       " 'q3d_resistance': 0,\n",
       " 'q3d_mesh_kw_jj': 7e-06,\n",
       " 'gds_cell_name': 'my_other_junction',\n",
       " 'aedt_q3d_inductance': 1e-08,\n",
       " 'aedt_q3d_capacitance': 0,\n",
       " 'aedt_hfss_inductance': 1e-08,\n",
       " 'aedt_hfss_capacitance': 0}"
      ]
     },
     "execution_count": 9,
     "metadata": {},
     "output_type": "execute_result"
    }
   ],
   "source": [
    "TransmonPocket_sqnl.get_template_options(design)"
   ]
  },
  {
   "cell_type": "code",
   "execution_count": 10,
   "metadata": {},
   "outputs": [],
   "source": [
    "options_1 =  dict(\n",
    "    pad_width = '540 um', \n",
    "    pad_height = '132.5 um',\n",
    "    pad_gap = '65 um', \n",
    "    pocket_width = '740 um',\n",
    "    pocket_height = '530 um',\n",
    "    connection_pads=dict(\n",
    "        readout = dict(connector_type='1',  # 0 = Claw type, 1 = T-shape type\n",
    "                       t_claw_height = '645um',\n",
    "                       ground_spacing='10um',\n",
    "                       claw_width='40um',\n",
    "                       claw_gap='125um',\n",
    "                       claw_cpw_length='100um',\n",
    "                       claw_cpw_width='20um',\n",
    "                       connector_location=\n",
    "                       '4'  # 0 => 'west' arm, 90 => 'north' arm, 180 => 'east' arm\n",
    "                       ) ,\n",
    "       # bus_tmp = dict(connector_type='0',  # 0 = Claw type, 1 = T-shape type\n",
    "       #                claw_length='30um',\n",
    "       #                ground_spacing='10um',\n",
    "       #                claw_width='20um',\n",
    "       #                claw_gap='20um',\n",
    "       #                claw_cpw_length='40um',\n",
    "       #                claw_cpw_width='20um',\n",
    "       #                connector_location=\n",
    "       #                '3'  # 0 => 'west' arm, 90 => 'north' arm, 180 => 'east' arm\n",
    "       #                ) ,\n",
    "        bus_12 = dict(connector_type='0',  # 0 = Claw type, 1 = T-shape type\n",
    "                       claw_length='30um',\n",
    "                       ground_spacing='10um',\n",
    "                       claw_width='20um',\n",
    "                       claw_gap='20um',\n",
    "                       claw_cpw_length='40um',\n",
    "                       claw_cpw_width='20um',\n",
    "                       connector_location=\n",
    "                       '0'  # 0 => 'west' arm, 90 => 'north' arm, 180 => 'east' arm\n",
    "                       )\n",
    "    ))\n",
    "\n",
    "options_2 =  dict(\n",
    "    pad_width = '540 um', \n",
    "    pad_height = '132.5 um',\n",
    "    pad_gap = '65 um', \n",
    "    pocket_width = '740 um',\n",
    "    pocket_height = '530 um',\n",
    "    connection_pads=dict(\n",
    "        readout = dict(connector_type='1',  # 0 = Claw type, 1 = T-shape type\n",
    "                       t_claw_height = '645um',\n",
    "                       ground_spacing='10um',\n",
    "                       claw_width='40um',\n",
    "                       claw_gap='125um',\n",
    "                       claw_cpw_length='100um',\n",
    "                       claw_cpw_width='20um',\n",
    "                       connector_location=\n",
    "                       '4'  # 0 => 'west' arm, 90 => 'north' arm, 180 => 'east' arm\n",
    "                       ) ,\n",
    "        # bus_tmp = dict(connector_type='0',  # 0 = Claw type, 1 = T-shape type\n",
    "        #                claw_length='30um',\n",
    "        #                ground_spacing='10um',\n",
    "        #                claw_width='20um',\n",
    "        #                claw_gap='20um',\n",
    "        #                claw_cpw_length='40um',\n",
    "        #                claw_cpw_width='20um',\n",
    "        #                connector_location=\n",
    "        #                '5'  # 0 => 'west' arm, 90 => 'north' arm, 180 => 'east' arm\n",
    "        #                ) ,\n",
    "        bus_12 = dict(connector_type='0',  # 0 = Claw type, 1 = T-shape type\n",
    "                       claw_length='30um',\n",
    "                       ground_spacing='10um',\n",
    "                       claw_width='20um',\n",
    "                       claw_gap='20um',\n",
    "                       claw_cpw_length='40um',\n",
    "                       claw_cpw_width='20um',\n",
    "                       connector_location=\n",
    "                       '2'  # 0 => 'west' arm, 90 => 'north' arm, 180 => 'east' arm\n",
    "                       )\n",
    "    ))\n"
   ]
  },
  {
   "cell_type": "code",
   "execution_count": 11,
   "metadata": {},
   "outputs": [],
   "source": [
    "q_1 = TransmonPocket_sqnl(design,'Q_1', options = dict(\n",
    "        pos_x='2mm', \n",
    "        pos_y='0mm', \n",
    "        gds_cell_name ='FakeJunction_01',\n",
    "        hfss_inductance ='14nH',\n",
    "        **options_1))\n",
    "\n",
    "q_2 = TransmonPocket_sqnl(design,'Q_2', options = dict(\n",
    "        pos_x='3.96mm', \n",
    "        pos_y='0mm', \n",
    "        gds_cell_name ='FakeJunction_01',\n",
    "        hfss_inductance ='14nH',\n",
    "        **options_2))"
   ]
  },
  {
   "cell_type": "code",
   "execution_count": 12,
   "metadata": {},
   "outputs": [],
   "source": [
    "gui.rebuild()\n",
    "gui.autoscale()"
   ]
  },
  {
   "cell_type": "markdown",
   "metadata": {},
   "source": [
    "# Bus resonators"
   ]
  },
  {
   "cell_type": "code",
   "execution_count": 13,
   "metadata": {},
   "outputs": [],
   "source": [
    "def find_resonator_length(frequency, line_width, line_gap, N): \n",
    "    #frequency in GHz\n",
    "    #line_width/line_gap in um\n",
    "    #N -> 2 for lambda/2, 4 for lambda/4\n",
    "    \n",
    "    [lambdaG, etfSqrt, q] = guided_wavelength(frequency*10**9, line_width*10**-6,\n",
    "                                              line_gap*10**-6, 750*10**-6, 200*10**-9)\n",
    "    return str(lambdaG/N*10**3)+\" mm\""
   ]
  },
  {
   "cell_type": "code",
   "execution_count": 14,
   "metadata": {},
   "outputs": [],
   "source": [
    "bus_12 = RouteMeander(design,'Bus_12', options = dict(hfss_wire_bonds = True, \n",
    "                                            pin_inputs=Dict(\n",
    "                                                start_pin=Dict(\n",
    "                                                    component='Q_1',\n",
    "                                                    pin='bus_12'),\n",
    "                                                end_pin=Dict(\n",
    "                                                    component='Q_2',\n",
    "                                                    pin='bus_12')\n",
    "                                            ),\n",
    "                                            trace_width = '20um',\n",
    "                                            lead=Dict(\n",
    "                                                start_straight='300um',\n",
    "                                                end_straight = '0um'\n",
    "                                            ),\n",
    "                                            meander=Dict(\n",
    "                                                asymmetry = '1000um'),\n",
    "                                            fillet = \"99um\",\n",
    "                                            total_length = '6mm'))\n",
    "\n",
    "gui.rebuild()"
   ]
  },
  {
   "cell_type": "markdown",
   "metadata": {},
   "source": [
    "# Readout Resoantors"
   ]
  },
  {
   "cell_type": "code",
   "execution_count": 15,
   "metadata": {},
   "outputs": [],
   "source": [
    "launch_TL_read = LaunchpadWirebond(design, \n",
    "                                   'Launch_Q_Read', \n",
    "                                   options = dict(\n",
    "                                       pos_x = '8mm', \n",
    "                                       pos_y ='-1.648mm', \n",
    "                                       orientation = '180',\n",
    "                                       trace_gap = '18um',\n",
    "                                       trace_width = '30um'\n",
    "                                   ))\n",
    "gui.rebuild()\n",
    "gui.autoscale()"
   ]
  },
  {
   "cell_type": "code",
   "execution_count": 16,
   "metadata": {},
   "outputs": [
    {
     "data": {
      "text/plain": [
       "{'pos_x': '0.0um',\n",
       " 'pos_y': '0.0um',\n",
       " 'orientation': '0.0',\n",
       " 'chip': 'main',\n",
       " 'layer': '1',\n",
       " 'north_width': '10um',\n",
       " 'north_gap': '6um',\n",
       " 'south_width': '10um',\n",
       " 'south_gap': '6um',\n",
       " 'cap_width': '10um',\n",
       " 'cap_gap': '6um',\n",
       " 'cap_gap_ground': '6um',\n",
       " 'finger_length': '20um',\n",
       " 'finger_count': '5',\n",
       " 'cap_distance': '50um',\n",
       " 'hfss_wire_bonds': False,\n",
       " 'q3d_wire_bonds': False,\n",
       " 'aedt_q3d_wire_bonds': False,\n",
       " 'aedt_hfss_wire_bonds': False}"
      ]
     },
     "execution_count": 16,
     "metadata": {},
     "output_type": "execute_result"
    }
   ],
   "source": [
    "CapNInterdigital.get_template_options(design)"
   ]
  },
  {
   "cell_type": "code",
   "execution_count": 17,
   "metadata": {},
   "outputs": [],
   "source": [
    "highC_PF_TL = CapNInterdigital_sqnl(design, \n",
    "                               'highC_PF_TL', \n",
    "                               options = dict(\n",
    "                                   pos_x = '7.5mm',\n",
    "                                   pos_y = '-1.648mm',\n",
    "                                   orientation = '-90',\n",
    "                                   north_width = '30um', \n",
    "                                   north_gap   = '18um', \n",
    "                                   south_width = '30um', \n",
    "                                   south_gap   = '18um', \n",
    "                                   cap_width   = '5um', \n",
    "                                   cap_gap   = '5um', \n",
    "                                   cap_gap_ground   = '87.5um', \n",
    "                                   finger_length   = '200um', \n",
    "                                   finger_count   = '18', \n",
    "                                   cap_distance   = '50um',\n",
    "                                   taper_length   = '200um'\n",
    "                               ))\n",
    "gui.rebuild()\n",
    "gui.autoscale()"
   ]
  },
  {
   "cell_type": "code",
   "execution_count": 18,
   "metadata": {},
   "outputs": [],
   "source": [
    "otg_PF = OpenToGround(design, 'otg_PF', options = dict(pos_x='-60um',\n",
    "                                                       pos_y='-1648um',\n",
    "                                                       width='30um',\n",
    "                                                       gap='18um',\n",
    "                                                       termination_gap='18um',\n",
    "                                                       orientation='180'\n",
    "                                                      ))\n",
    "gui.rebuild()\n",
    "gui.autoscale()"
   ]
  },
  {
   "cell_type": "code",
   "execution_count": 19,
   "metadata": {},
   "outputs": [],
   "source": [
    "option_PF = Dict(hfss_wire_bonds = True,\n",
    "              pin_inputs=Dict(\n",
    "                 start_pin=Dict(\n",
    "                     component='highC_PF_TL',\n",
    "                     pin='south_end'),\n",
    "                 end_pin=Dict(\n",
    "                     component='otg_PF',\n",
    "                     pin='open')),\n",
    "              trace_width='30um',\n",
    "              trace_gap='18um',qgeometry_types='poly'\n",
    "             )\n",
    "option_TL = Dict(hfss_wire_bonds = True,\n",
    "              pin_inputs=Dict(\n",
    "                 start_pin=Dict(\n",
    "                     component='highC_PF_TL',\n",
    "                     pin='north_end'),\n",
    "                 end_pin=Dict(\n",
    "                     component='Launch_Q_Read',\n",
    "                     pin='tie')),\n",
    "              trace_width='30um',\n",
    "              trace_gap='18um',qgeometry_types='poly'\n",
    "             )\n",
    "PF = RouteStraight(design, 'PF', options=option_PF)\n",
    "TL = RouteStraight(design, 'TL', options=option_TL)\n",
    "\n",
    "gui.rebuild()\n",
    "gui.autoscale()"
   ]
  },
  {
   "cell_type": "code",
   "execution_count": 20,
   "metadata": {},
   "outputs": [
    {
     "data": {
      "text/plain": [
       "{'tie': {'points': array([[ 7.975, -1.663],\n",
       "         [ 7.975, -1.633]]),\n",
       "  'middle': array([ 7.975, -1.648]),\n",
       "  'normal': array([-1.,  0.]),\n",
       "  'tangent': array([0., 1.]),\n",
       "  'width': 0.03,\n",
       "  'gap': 0.018,\n",
       "  'chip': 'main',\n",
       "  'parent_name': 4,\n",
       "  'net_id': 20,\n",
       "  'length': 0}}"
      ]
     },
     "execution_count": 20,
     "metadata": {},
     "output_type": "execute_result"
    }
   ],
   "source": [
    "launch_TL_read.pins"
   ]
  },
  {
   "cell_type": "code",
   "execution_count": 21,
   "metadata": {},
   "outputs": [],
   "source": [
    "# ---------------------------------- readout 1 -------------------------------------\n",
    "pin_opt_1 = Dict(pin_inputs=Dict(start_pin=Dict(\n",
    "                                    component='Q_1',\n",
    "                                    pin='readout'),\n",
    "                                end_pin=Dict(\n",
    "                                    component='readout1_short',\n",
    "                                    pin='short')),\n",
    "               fillet='89um',\n",
    "               trace_width='20um',\n",
    "               trace_gap='10um'\n",
    "              )\n",
    "\n",
    "stg_r1 = ShortToGround(design, 'readout1_short', \n",
    "                       options=dict(\n",
    "                           pos_x='{:f}mm'.format((q_1.pins.readout.points[0][0]+q_1.pins.readout.points[1][0])/2 - 0.560), \n",
    "                           pos_y='{:f}mm'.format(q_1.pins.readout.points[0][1]-0.520), orientation='90',\n",
    "                      width='20um',\n",
    "                      gap='10um'))\n",
    "\n",
    "pin_opt_1.pin_inputs.start_pin.component = 'Q_1'\n",
    "pin_opt_1.pin_inputs.end_pin.component = 'readout1_short'\n",
    "\n",
    "# the first step is always stright, let's define by how much (minimum is half the route width):\n",
    "pin_opt_1.lead.start_straight = '520um + 90um'\n",
    "pin_opt_1.lead.end_straight = '10um'\n",
    "\n",
    "# any subsequent step of the lead_start\n",
    "jogsS_1 = OrderedDict()\n",
    "jogsS_1[0] = [\"L\", '0um + 180um']\n",
    "jogsS_1[1] = [\"R\", '350um + 180um']\n",
    "jogsS_1[2] = [\"R\", '200um + 180um']\n",
    "jogsS_1[3] = [\"R\", '620um + 180um']\n",
    "jogsS_1[4] = [\"L\", '0um + 180um']\n",
    "jogsS_1[5] = [\"L\", '420um + 180um']\n",
    "jogsS_1[6] = [\"R\", '0um + 160um']\n",
    "#jogsS_1[7] = [\"R\", '420um + 90um']\n",
    "\n",
    "pin_opt_1.lead.start_jogged_extension = jogsS_1\n",
    "readout_res_1 = RouteFramed(design, 'readout_res_1', pin_opt_1)\n",
    "\n",
    "# ---------------------------------- readout 2 -------------------------------------\n",
    "pin_opt_2 = Dict(pin_inputs=Dict(start_pin=Dict(\n",
    "                                    component='Q_2',\n",
    "                                    pin='readout'),\n",
    "                                end_pin=Dict(\n",
    "                                    component='readout2_short',\n",
    "                                    pin='short')),\n",
    "               fillet='89um',\n",
    "               trace_width='20um',\n",
    "               trace_gap='10um'\n",
    "              )\n",
    "\n",
    "stg_r2 = ShortToGround(design, 'readout2_short', \n",
    "                       options=dict(\n",
    "                           pos_x='{:f}mm'.format((q_2.pins.readout.points[0][0]+q_2.pins.readout.points[1][0])/2 - 0.560), \n",
    "                           pos_y='{:f}mm'.format(q_2.pins.readout.points[0][1] - 0.520), orientation='90',\n",
    "                      width='20um',\n",
    "                      gap='10um'))\n",
    "\n",
    "pin_opt_2.pin_inputs.start_pin.component = 'Q_2'\n",
    "pin_opt_2.pin_inputs.end_pin.component = 'readout2_short'\n",
    "\n",
    "# the first step is always stright, let's define by how much (minimum is half the route width):\n",
    "pin_opt_2.lead.start_straight = '520um + 90um'\n",
    "pin_opt_2.lead.end_straight = '10um'\n",
    "\n",
    "# any subsequent step of the lead_start\n",
    "jogsS_2 = OrderedDict()\n",
    "jogsS_2[0] = [\"L\", '0um + 180um']\n",
    "jogsS_2[1] = [\"R\", '350um + 180um']\n",
    "jogsS_2[2] = [\"R\", '200um + 180um']\n",
    "jogsS_2[3] = [\"R\", '620um + 180um']\n",
    "jogsS_2[4] = [\"L\", '0um + 180um']\n",
    "jogsS_2[5] = [\"L\", '436um + 180um']\n",
    "jogsS_2[6] = [\"R\", '0um + 160um']\n",
    "#jogsS_2[7] = [\"R\", '420um + 90um']\n",
    "\n",
    "pin_opt_2.lead.start_jogged_extension = jogsS_2\n",
    "readout_res_2 = RouteFramed(design, 'readout_res_2', pin_opt_2)\n",
    "\n",
    "gui.rebuild()\n",
    "gui.autoscale()"
   ]
  },
  {
   "cell_type": "markdown",
   "metadata": {},
   "source": [
    "# ---------------------------------- Analyze ----------------------------------"
   ]
  },
  {
   "cell_type": "markdown",
   "metadata": {},
   "source": [
    "# Eigenmode and EPR"
   ]
  },
  {
   "cell_type": "code",
   "execution_count": 22,
   "metadata": {},
   "outputs": [],
   "source": [
    "from qiskit_metal.analyses.quantization import EPRanalysis\n",
    "eig_qb = EPRanalysis(design, \"hfss\")"
   ]
  },
  {
   "cell_type": "code",
   "execution_count": 23,
   "metadata": {},
   "outputs": [],
   "source": [
    "eig_qb.sim.renderer.options['wb_size'] = 5"
   ]
  },
  {
   "cell_type": "code",
   "execution_count": 24,
   "metadata": {},
   "outputs": [],
   "source": [
    "em_p = eig_qb.sim.setup"
   ]
  },
  {
   "cell_type": "code",
   "execution_count": 42,
   "metadata": {},
   "outputs": [
    {
     "data": {
      "text/plain": [
       "{'name': 'Setup',\n",
       " 'reuse_selected_design': True,\n",
       " 'reuse_setup': True,\n",
       " 'min_freq_ghz': 2,\n",
       " 'n_modes': 6,\n",
       " 'max_delta_f': 0.03,\n",
       " 'max_passes': 10,\n",
       " 'min_passes': 1,\n",
       " 'min_converged': 3,\n",
       " 'pct_refinement': 30,\n",
       " 'basis_order': 1,\n",
       " 'vars': {'Lj1': '17.2 nH', 'Cj1': '0 fF', 'Lj2': '17.0 nH', 'Cj2': '0 fF'},\n",
       " 'run': {'name': 'Berkeley_8Qring_sample_3',\n",
       "  'components': [],\n",
       "  'open_terminations': [],\n",
       "  'port_list': None,\n",
       "  'jj_to_port': None,\n",
       "  'ignored_jjs': None,\n",
       "  'box_plus_buffer': True}}"
      ]
     },
     "execution_count": 42,
     "metadata": {},
     "output_type": "execute_result"
    }
   ],
   "source": [
    "em_p.name = 'Setup'\n",
    "em_p.min_freq_ghz = 2\n",
    "em_p.n_modes = 6\n",
    "em_p.max_passes = 10\n",
    "em_p.max_delta_f = 0.03\n",
    "em_p.min_converged = 3\n",
    "# Design variables can also be added in for direct simulation sweeps.\n",
    "em_p.vars = Dict({'Lj1': '17.2 nH', 'Cj1': '0 fF', 'Lj2': '17.0 nH', 'Cj2': '0 fF'})\n",
    "# em_p.vars = Dict({'Lj1': ['17.2 nH','17.3 nH','17.4 nH','17.5 nH'], 'Cj1': '0 fF', 'Lj2': '17.0 nH', 'Cj2': '0 fF'})\n",
    "# em_p.vars = Dict({'Lj1': '17.2 nH', 'Cj1': '0 fF'})\n",
    "\n",
    "eig_qb.sim.setup"
   ]
  },
  {
   "cell_type": "code",
   "execution_count": 43,
   "metadata": {},
   "outputs": [
    {
     "name": "stderr",
     "output_type": "stream",
     "text": [
      "INFO 02:48PM [connect_design]: \tOpened active design\n",
      "\tDesign:    Berkeley_8Qring_sample_3_hfss [Solution type: Eigenmode]\n",
      "INFO 02:48PM [get_setup]: \tOpened setup `Setup`  (<class 'pyEPR.ansys.HfssEMSetup'>)\n",
      "INFO 02:48PM [analyze]: Analyzing setup Setup\n",
      "02:54PM 04s INFO [get_f_convergence]: Saved convergences to c:\\Users\\Gyum\\qiskit-metal\\hfss_eig_f_convergence.csv\n"
     ]
    }
   ],
   "source": [
    "eig_qb.sim.run(name=\"Berkeley_8Qring_sample_3\", components=[], open_terminations=[])\n",
    "# eig_qb.sim.run(name=\"Berkeley_8Qring_pyEPR_2mode_only_1\", components=['Q_1', 'Q_2','Bus_12','Launch_Q_Read','highC_PF_TL','otg_PF','PF','TL','readout1_short','readout_res_1','readout2_short','readout_res_2'], open_terminations=[])\n",
    "# eig_qb.sim.run(name=\"Berkeley_8Qring_sample\", components=['Q_1','readout_res_1'], open_terminations=[])\n",
    "# eig_qb.sim.run(name=\"Berkeley_8Qring_sample\", components=['Q_1','Q_2','readout_res_1','readout_res_2'], open_terminations=[])"
   ]
  },
  {
   "cell_type": "code",
   "execution_count": 44,
   "metadata": {},
   "outputs": [],
   "source": [
    "eig_qb.sim.plot_convergences()"
   ]
  },
  {
   "cell_type": "code",
   "execution_count": 45,
   "metadata": {},
   "outputs": [
    {
     "name": "stderr",
     "output_type": "stream",
     "text": [
      "02:57PM 18s WARNING [add_junction]: junction already defined. Overwriting jj1\n",
      "02:57PM 18s WARNING [add_junction]: junction already defined. Overwriting jj2\n"
     ]
    }
   ],
   "source": [
    "# eig_qb.del_junction()\n",
    "eig_qb.add_junction('jj1', 'Lj1', 'Cj1', rect='JJ_rect_Lj_Q_1_rect_jj', line='JJ_Lj_Q_1_rect_jj_')\n",
    "eig_qb.add_junction('jj2', 'Lj2', 'Cj2', rect='JJ_rect_Lj_Q_2_rect_jj', line='JJ_Lj_Q_2_rect_jj_')\n",
    "eig_qb.setup.sweep_variable = 'Lj1'"
   ]
  },
  {
   "cell_type": "code",
   "execution_count": 46,
   "metadata": {},
   "outputs": [
    {
     "data": {
      "text/plain": [
       "{'junctions': {'jj1': {'Lj_variable': 'Lj1',\n",
       "   'Cj_variable': 'Cj1',\n",
       "   'rect': 'JJ_rect_Lj_Q_1_rect_jj',\n",
       "   'line': 'JJ_Lj_Q_1_rect_jj_'},\n",
       "  'jj2': {'Lj_variable': 'Lj2',\n",
       "   'Cj_variable': 'Cj2',\n",
       "   'rect': 'JJ_rect_Lj_Q_2_rect_jj',\n",
       "   'line': 'JJ_Lj_Q_2_rect_jj_'}},\n",
       " 'dissipatives': {'dielectrics_bulk': ['main']},\n",
       " 'cos_trunc': 8,\n",
       " 'fock_trunc': 7,\n",
       " 'sweep_variable': 'Lj1'}"
      ]
     },
     "execution_count": 46,
     "metadata": {},
     "output_type": "execute_result"
    }
   ],
   "source": [
    "eig_qb.setup"
   ]
  },
  {
   "cell_type": "code",
   "execution_count": 47,
   "metadata": {},
   "outputs": [
    {
     "name": "stdout",
     "output_type": "stream",
     "text": [
      "Design \"Berkeley_8Qring_sample_3_hfss\" info:\n",
      "\t# eigenmodes    6\n",
      "\t# variations    1\n",
      "Design \"Berkeley_8Qring_sample_3_hfss\" info:\n",
      "\t# eigenmodes    6\n",
      "\t# variations    1\n",
      "\n",
      "        energy_elec_all       = 1.65656448004947e-23\n",
      "        energy_elec_substrate = 1.52391546076235e-23\n",
      "        EPR of substrate = 92.0%\n",
      "\n",
      "        energy_mag    = 1.33020770784746e-25\n",
      "        energy_mag % of energy_elec_all  = 0.8%\n",
      "        \n",
      "\n",
      "Variation 0  [1/1]\n",
      "\n",
      "  \u001b[1mMode 0 at 4.78 GHz   [1/6]\u001b[0m\n",
      "    Calculating ℰ_magnetic,ℰ_electric\n",
      "       (ℰ_E-ℰ_H)/ℰ_E       ℰ_E       ℰ_H\n",
      "               99.2%  8.283e-24 6.651e-26\n",
      "\n",
      "    Calculating junction energy participation ration (EPR)\n",
      "\tmethod=`line_voltage`. First estimates:\n",
      "\tjunction        EPR p_0j   sign s_0j    (p_capacitive)\n",
      "\t\tEnergy fraction (Lj over Lj&Cj)= 96.99%\n",
      "\tjj1             0.0222928  (+)        0.000692617\n",
      "\t\tEnergy fraction (Lj over Lj&Cj)= 97.02%\n",
      "\tjj2             0.793205  (+)        0.0243576\n",
      "\t\t(U_tot_cap-U_tot_ind)/mean=10.90%\n",
      "Calculating Qdielectric_main for mode 0 (0/5)\n",
      "p_dielectric_main_0 = 0.9199252302674215\n",
      "\n",
      "  \u001b[1mMode 1 at 4.79 GHz   [2/6]\u001b[0m\n",
      "    Calculating ℰ_magnetic,ℰ_electric\n",
      "       (ℰ_E-ℰ_H)/ℰ_E       ℰ_E       ℰ_H\n",
      "               99.2%  5.063e-24 3.978e-26\n",
      "\n",
      "    Calculating junction energy participation ration (EPR)\n",
      "\tmethod=`line_voltage`. First estimates:\n",
      "\tjunction        EPR p_1j   sign s_1j    (p_capacitive)\n",
      "\t\tEnergy fraction (Lj over Lj&Cj)= 96.98%\n",
      "\tjj1             0.784846  (+)        0.0244464\n",
      "\t\tEnergy fraction (Lj over Lj&Cj)= 97.01%\n",
      "\tjj2             0.0225882  (+)        0.000695396\n",
      "\t\t(U_tot_cap-U_tot_ind)/mean=11.40%\n",
      "Calculating Qdielectric_main for mode 1 (1/5)\n",
      "p_dielectric_main_1 = 0.9196682324682125\n",
      "\n",
      "  \u001b[1mMode 2 at 6.63 GHz   [3/6]\u001b[0m\n",
      "    Calculating ℰ_magnetic,ℰ_electric\n",
      "       (ℰ_E-ℰ_H)/ℰ_E       ℰ_E       ℰ_H\n",
      "                0.1%  4.085e-24 4.081e-24\n",
      "\n",
      "    Calculating junction energy participation ration (EPR)\n",
      "\tmethod=`line_voltage`. First estimates:\n",
      "\tjunction        EPR p_2j   sign s_2j    (p_capacitive)\n",
      "\t\tEnergy fraction (Lj over Lj&Cj)= 94.37%\n",
      "\tjj1             9.84324e-09  (+)        5.87243e-10\n",
      "\t\tEnergy fraction (Lj over Lj&Cj)= 94.43%\n",
      "\tjj2             0.000666648  (+)        3.93094e-05\n",
      "\t\t(U_tot_cap-U_tot_ind)/mean=0.01%\n",
      "Calculating Qdielectric_main for mode 2 (2/5)\n",
      "p_dielectric_main_2 = 0.9141259241036499\n",
      "\n",
      "  \u001b[1mMode 3 at 6.68 GHz   [4/6]\u001b[0m\n",
      "    Calculating ℰ_magnetic,ℰ_electric\n",
      "       (ℰ_E-ℰ_H)/ℰ_E       ℰ_E       ℰ_H\n",
      "                0.1%   3.03e-24 3.027e-24\n",
      "\n",
      "    Calculating junction energy participation ration (EPR)\n",
      "\tmethod=`line_voltage`. First estimates:\n",
      "\tjunction        EPR p_3j   sign s_3j    (p_capacitive)\n",
      "\t\tEnergy fraction (Lj over Lj&Cj)= 94.29%\n",
      "\tjj1             0.000644154  (+)        3.90185e-05\n",
      "\t\tEnergy fraction (Lj over Lj&Cj)= 94.35%\n",
      "\tjj2             2.41101e-08  (+)        1.44344e-09\n",
      "\t\t(U_tot_cap-U_tot_ind)/mean=0.01%\n",
      "Calculating Qdielectric_main for mode 3 (3/5)\n",
      "p_dielectric_main_3 = 0.9151942932237774\n",
      "\n",
      "  \u001b[1mMode 4 at 7.25 GHz   [5/6]\u001b[0m\n",
      "    Calculating ℰ_magnetic,ℰ_electric\n",
      "       (ℰ_E-ℰ_H)/ℰ_E       ℰ_E       ℰ_H\n",
      "                0.0%  1.483e-23 1.483e-23\n",
      "\n",
      "    Calculating junction energy participation ration (EPR)\n",
      "\tmethod=`line_voltage`. First estimates:\n",
      "\tjunction        EPR p_4j   sign s_4j    (p_capacitive)\n",
      "\t\tEnergy fraction (Lj over Lj&Cj)= 93.34%\n",
      "\tjj1             9.22263e-07  (+)        6.57873e-08\n",
      "\t\tEnergy fraction (Lj over Lj&Cj)= 93.41%\n",
      "\tjj2             3.15061e-07  (+)        2.22128e-08\n",
      "\t\t(U_tot_cap-U_tot_ind)/mean=0.00%\n",
      "Calculating Qdielectric_main for mode 4 (4/5)\n",
      "p_dielectric_main_4 = 0.9172118904952847\n",
      "\n",
      "  \u001b[1mMode 5 at 9.34 GHz   [6/6]\u001b[0m\n",
      "    Calculating ℰ_magnetic,ℰ_electric\n",
      "       (ℰ_E-ℰ_H)/ℰ_E       ℰ_E       ℰ_H\n",
      "                0.1%  3.045e-24 3.043e-24\n",
      "\n",
      "    Calculating junction energy participation ration (EPR)\n",
      "\tmethod=`line_voltage`. First estimates:\n",
      "\tjunction        EPR p_5j   sign s_5j    (p_capacitive)\n",
      "\t\tEnergy fraction (Lj over Lj&Cj)= 89.40%\n",
      "\tjj1             0.000204267  (+)        2.42197e-05\n",
      "\t\tEnergy fraction (Lj over Lj&Cj)= 89.51%\n",
      "\tjj2             0.000209906  (+)        2.45989e-05\n",
      "\t\t(U_tot_cap-U_tot_ind)/mean=0.01%\n",
      "Calculating Qdielectric_main for mode 5 (5/5)\n",
      "p_dielectric_main_5 = 0.9151616126804799\n"
     ]
    },
    {
     "name": "stderr",
     "output_type": "stream",
     "text": [
      "WARNING 02:58PM [__init__]: <p>Error: <class 'IndexError'></p>\n",
      "ERROR 02:58PM [_get_participation_normalized]: WARNING: U_tot_cap-U_tot_ind / mean = 22.8% is > 15%.                     \n",
      "Is the simulation converged? Proceed with caution\n"
     ]
    },
    {
     "name": "stdout",
     "output_type": "stream",
     "text": [
      "\n",
      "ANALYSIS DONE. Data saved to:\n",
      "\n",
      "C:\\data-pyEPR\\Project40\\Berkeley_8Qring_sample_3_hfss\\2024-07-09 14-57-22.npz\n",
      "\n",
      "\n",
      "\t Differences in variations:\n",
      "\n",
      "\n",
      "\n",
      " . . . . . . . . . . . . . . . . . . . . . . . . . . . . . . . . . . . . . . . . \n",
      "Variation 0\n",
      "\n"
     ]
    }
   ],
   "source": [
    "eig_qb.run_epr()\n",
    "# (pyEPR allows to switch modes: eprd.set_mode(1))"
   ]
  },
  {
   "cell_type": "code",
   "execution_count": null,
   "metadata": {},
   "outputs": [],
   "source": [
    "eig_qb.sim.close()\n",
    "\n",
    "# 360"
   ]
  },
  {
   "cell_type": "code",
   "execution_count": null,
   "metadata": {},
   "outputs": [
    {
     "name": "stdout",
     "output_type": "stream",
     "text": [
      "When Lj=17.000[nH],Ic=19.359[nA]\n"
     ]
    }
   ],
   "source": [
    "Phi_0 = 2.067833848e-15\n",
    "Lj_test = 17\n",
    "Ic_test = Phi_0/2/np.pi/Lj_test/1e-9\n",
    "print(\"When Lj={:.3f}[nH],\".format(Lj_test)+\"Ic={:.3f}[nA]\".format(Ic_test/1e-9))"
   ]
  },
  {
   "cell_type": "code",
   "execution_count": null,
   "metadata": {},
   "outputs": [],
   "source": []
  },
  {
   "cell_type": "code",
   "execution_count": null,
   "metadata": {},
   "outputs": [],
   "source": []
  }
 ],
 "metadata": {
  "kernelspec": {
   "display_name": "env-metal",
   "language": "python",
   "name": "python3"
  },
  "language_info": {
   "codemirror_mode": {
    "name": "ipython",
    "version": 3
   },
   "file_extension": ".py",
   "mimetype": "text/x-python",
   "name": "python",
   "nbconvert_exporter": "python",
   "pygments_lexer": "ipython3",
   "version": "3.11.7"
  }
 },
 "nbformat": 4,
 "nbformat_minor": 2
}
