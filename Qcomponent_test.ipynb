{
 "cells": [
  {
   "cell_type": "code",
   "execution_count": 1,
   "id": "2e0c23c8",
   "metadata": {},
   "outputs": [],
   "source": [
    "%load_ext autoreload\n",
    "%autoreload 2"
   ]
  },
  {
   "cell_type": "markdown",
   "id": "ecf8c33c",
   "metadata": {},
   "source": [
    "*Make sure to have the right kernel selected!*"
   ]
  },
  {
   "cell_type": "code",
   "execution_count": 2,
   "id": "ab620ac0",
   "metadata": {},
   "outputs": [],
   "source": [
    "import time\n",
    "import qiskit_metal as metal\n",
    "from qiskit_metal import designs, draw\n",
    "from qiskit_metal import MetalGUI, Dict, open_docs"
   ]
  },
  {
   "cell_type": "code",
   "execution_count": 3,
   "id": "23f23b23",
   "metadata": {},
   "outputs": [],
   "source": [
    "from qiskit_metal.qlibrary.lumped.resonator_coil_rect import ResonatorCoilRect \n",
    "from qiskit_metal.qlibrary.user_components.TB_bus_res import TBbusRes "
   ]
  },
  {
   "cell_type": "code",
   "execution_count": 4,
   "id": "60a57a31",
   "metadata": {},
   "outputs": [],
   "source": [
    "design = metal.designs.DesignPlanar()\n",
    "\n",
    "gui = metal.MetalGUI(design)"
   ]
  },
  {
   "cell_type": "code",
   "execution_count": 5,
   "id": "520e787f",
   "metadata": {},
   "outputs": [],
   "source": [
    "design.overwrite_enabled = True\n",
    "# design.chips.main"
   ]
  },
  {
   "cell_type": "code",
   "execution_count": 6,
   "id": "70e5bcf3",
   "metadata": {},
   "outputs": [],
   "source": [
    "design.chips.main.size.size_x = '10mm'\n",
    "design.chips.main.size.size_y = '10mm'"
   ]
  },
  {
   "cell_type": "code",
   "execution_count": 7,
   "id": "0a96818f",
   "metadata": {},
   "outputs": [],
   "source": [
    "# test1 = ResonatorCoilRect(design, 'test1',\n",
    "#                           options=Dict(pos_x = '2mm',\n",
    "#                                         pos_y = '2mm')\n",
    "#                             )\n",
    "test2 = TBbusRes(design, 'test2',\n",
    "                 options=Dict(pos_x = '4mm',\n",
    "                              pos_y = '4mm',\n",
    "                              length = '4mm',\n",
    "                              width = '400um',\n",
    "                              line_width = '20um',\n",
    "                              gap = '6um',\n",
    "                              neck = '100um',\n",
    "                              do_arc = True)\n",
    ")\n",
    "\n",
    "\n",
    "gui.rebuild()\n",
    "gui.autoscale()"
   ]
  },
  {
   "cell_type": "code",
   "execution_count": 8,
   "id": "ac4a7122",
   "metadata": {},
   "outputs": [
    {
     "name": "stdout",
     "output_type": "stream",
     "text": [
      "[(1, 1), (2, 2), (4, 4), (3, 3)]\n"
     ]
    }
   ],
   "source": [
    "a= [(1,1),(2,2)]\n",
    "b= [(3,3),(4,4)]\n",
    "b.reverse()\n",
    "a.extend(b)\n",
    "print(a)"
   ]
  },
  {
   "cell_type": "code",
   "execution_count": 9,
   "id": "5576a963",
   "metadata": {},
   "outputs": [
    {
     "data": {
      "text/plain": [
       "1.4142135623730951"
      ]
     },
     "execution_count": 9,
     "metadata": {},
     "output_type": "execute_result"
    }
   ],
   "source": [
    "2**0.5"
   ]
  }
 ],
 "metadata": {
  "kernelspec": {
   "display_name": "env-metal",
   "language": "python",
   "name": "python3"
  },
  "language_info": {
   "codemirror_mode": {
    "name": "ipython",
    "version": 3
   },
   "file_extension": ".py",
   "mimetype": "text/x-python",
   "name": "python",
   "nbconvert_exporter": "python",
   "pygments_lexer": "ipython3",
   "version": "3.11.7"
  }
 },
 "nbformat": 4,
 "nbformat_minor": 5
}
