{
 "cells": [
  {
   "cell_type": "markdown",
   "metadata": {},
   "source": [
    "# Example full chip design"
   ]
  },
  {
   "cell_type": "code",
   "execution_count": 1,
   "metadata": {},
   "outputs": [],
   "source": [
    "%load_ext autoreload\n",
    "%autoreload 2"
   ]
  },
  {
   "cell_type": "markdown",
   "metadata": {},
   "source": [
    "# Import Modules"
   ]
  },
  {
   "cell_type": "code",
   "execution_count": 2,
   "metadata": {
    "scrolled": true
   },
   "outputs": [],
   "source": [
    "import qiskit_metal as metal\n",
    "from qiskit_metal import designs, draw\n",
    "from qiskit_metal import MetalGUI, Dict, open_docs"
   ]
  },
  {
   "cell_type": "code",
   "execution_count": 3,
   "metadata": {},
   "outputs": [],
   "source": [
    "from qiskit_metal.analyses.em.cpw_calculations import guided_wavelength\n",
    "from qiskit_metal.qlibrary.tlines.meandered import RouteMeander\n",
    "from qiskit_metal.qlibrary.tlines.pathfinder import RoutePathfinder\n",
    "from qiskit_metal.qlibrary.tlines.anchored_path import RouteAnchors\n",
    "\n",
    "from qiskit_metal.qlibrary.lumped.cap_n_interdigital import CapNInterdigital\n",
    "from qiskit_metal.qlibrary.couplers.cap_n_interdigital_tee import CapNInterdigitalTee\n",
    "from qiskit_metal.qlibrary.couplers.coupled_line_tee import CoupledLineTee\n",
    "from qiskit_metal.qlibrary.couplers.line_tee import LineTee\n",
    "\n",
    "from qiskit_metal.qlibrary.terminations.launchpad_wb import LaunchpadWirebond\n",
    "from qiskit_metal.qlibrary.terminations.launchpad_wb_coupled import LaunchpadWirebondCoupled\n",
    "\n",
    "from qiskit_metal.qlibrary.tlines.framed_path import RouteFramed\n",
    "from qiskit_metal.qlibrary.terminations.short_to_ground import ShortToGround\n",
    "from qiskit_metal.qlibrary.terminations.open_to_ground import OpenToGround\n",
    "\n",
    "from collections import OrderedDict\n",
    "\n",
    "from qiskit_metal.qlibrary.tlines.straight_path import RouteStraight"
   ]
  },
  {
   "cell_type": "markdown",
   "metadata": {},
   "source": [
    "## Define \"TransmonPocket_sqnl\""
   ]
  },
  {
   "cell_type": "code",
   "execution_count": 4,
   "metadata": {},
   "outputs": [],
   "source": [
    "from qiskit_metal.qlibrary.core import BaseQubit\n",
    "import numpy as np\n",
    "class TransmonPocket_sqnl(BaseQubit):\n",
    "    default_options = Dict(\n",
    "        pad_gap='30um',\n",
    "        inductor_width='20um',\n",
    "        pad_width='455um',\n",
    "        pad_height='90um',\n",
    "        pocket_width='650um',\n",
    "        pocket_height='650um',\n",
    "        # 90 has dipole aligned along the +X axis,\n",
    "        # while 0 has dipole aligned along the +Y axis\n",
    "        _default_connection_pads=Dict(\n",
    "            connector_type='0',  # 0 = Claw type, 1 = T-shape\n",
    "            pad_width='125um',\n",
    "            pad_height='30um',\n",
    "            pad_cpw_shift='0um',\n",
    "            pad_cpw_extent='25um',\n",
    "            claw_length='30um',\n",
    "            claw_width='10um',\n",
    "            claw_gap='6um',\n",
    "            claw_cpw_length='40um',\n",
    "            claw_cpw_width='10um',\n",
    "            ground_spacing='5um',\n",
    "            connector_location= '0'  # 0~5 means six locations with rotated CCW starting from right-top site\n",
    "        ))\n",
    "    \"\"\"Default drawing options\"\"\"\n",
    "\n",
    "    component_metadata = Dict(short_name='Pocket_claw',\n",
    "                              _qgeometry_table_path='True',\n",
    "                              _qgeometry_table_poly='True',\n",
    "                              _qgeometry_table_junction='True')\n",
    "    \"\"\"Component metadata\"\"\"\n",
    "\n",
    "    TOOLTIP = \"\"\"The base `TransmonPocket_sqnl` class.\"\"\"\n",
    "\n",
    "    def make(self):\n",
    "        \"\"\"Define the way the options are turned into QGeometry.\n",
    "\n",
    "        The make function implements the logic that creates the geoemtry\n",
    "        (poly, path, etc.) from the qcomponent.options dictionary of\n",
    "        parameters, and the adds them to the design, using\n",
    "        qcomponent.add_qgeometry(...), adding in extra needed\n",
    "        information, such as layer, subtract, etc.\n",
    "        \"\"\"\n",
    "        self.make_pocket()\n",
    "        self.make_connection_pads()\n",
    "\n",
    "    def make_pocket(self):\n",
    "        \"\"\"Makes standard transmon in a pocket.\"\"\"\n",
    "\n",
    "        # self.p allows us to directly access parsed values (string -> numbers) form the user option\n",
    "        p = self.p\n",
    "\n",
    "        # extract chip name\n",
    "        chip = p.chip\n",
    "\n",
    "        # since we will reuse these options, parse them once and define them as varaibles\n",
    "        pad_width = p.pad_width\n",
    "        pad_height = p.pad_height\n",
    "        pad_gap = p.pad_gap\n",
    "\n",
    "        # make the pads as rectangles (shapely polygons)\n",
    "        pad = draw.rectangle(pad_width, pad_height)\n",
    "        pad_top = draw.translate(pad, 0, +(pad_height + pad_gap) / 2.)\n",
    "        pad_bot = draw.translate(pad, 0, -(pad_height + pad_gap) / 2.)\n",
    "\n",
    "        rect_jj = draw.LineString([(0, -pad_gap / 2), (0, +pad_gap / 2)])\n",
    "        # the draw.rectangle representing the josephson junction\n",
    "        # rect_jj = draw.rectangle(p.inductor_width, pad_gap)\n",
    "\n",
    "        rect_pk = draw.rectangle(p.pocket_width, p.pocket_height)\n",
    "\n",
    "        # Rotate and translate all qgeometry as needed.\n",
    "        # Done with utility functions in Metal 'draw_utility' for easy rotation/translation\n",
    "        # NOTE: Should modify so rotate/translate accepts qgeometry, would allow for\n",
    "        # smoother implementation.\n",
    "        polys = [rect_jj, pad_top, pad_bot, rect_pk]\n",
    "        polys = draw.rotate(polys, p.orientation, origin=(0, 0))\n",
    "        polys = draw.translate(polys, p.pos_x, p.pos_y)\n",
    "        [rect_jj, pad_top, pad_bot, rect_pk] = polys\n",
    "\n",
    "        # Use the geometry to create Metal qgeometry\n",
    "        self.add_qgeometry('poly',\n",
    "                           dict(pad_top=pad_top, pad_bot=pad_bot),\n",
    "                           chip=chip)\n",
    "        self.add_qgeometry('poly',\n",
    "                           dict(rect_pk=rect_pk),\n",
    "                           subtract=True,\n",
    "                           chip=chip)\n",
    "        # self.add_qgeometry('poly', dict(\n",
    "        #     rect_jj=rect_jj), helper=True)\n",
    "        self.add_qgeometry('junction',\n",
    "                           dict(rect_jj=rect_jj),\n",
    "                           width=p.inductor_width,\n",
    "                           chip=chip)\n",
    "\n",
    "    def make_connection_pads(self):\n",
    "        \"\"\"Makes standard transmon in a pocket.\"\"\"\n",
    "        for name in self.options.connection_pads:\n",
    "            self.make_connection_pad(name)\n",
    "\n",
    "    def make_connection_pad(self, name: str):\n",
    "        \"\"\"Makes n individual connector.\n",
    "\n",
    "        Args:\n",
    "            name (str) : Name of the connector\n",
    "        \"\"\"\n",
    "        # self.p allows us to directly access parsed values (string -> numbers) form the user option\n",
    "        p = self.p\n",
    "        pc = self.p.connection_pads[name]  # parser on connector options\n",
    "        # extract chip name\n",
    "        chip = p.chip\n",
    "    \n",
    "        if pc.connector_type == 0:  # Claw connector\n",
    "            \n",
    "            # define commonly used variables once\n",
    "            pad_width = p.pad_width\n",
    "            pad_height = p.pad_height\n",
    "            pad_gap = p.pad_gap\n",
    "            pocket_width = p.pocket_width\n",
    "            pocket_height = p.pocket_height\n",
    "    \n",
    "            c_g = pc.claw_gap\n",
    "            c_l = pc.claw_length\n",
    "            c_w = pc.claw_width\n",
    "            c_c_w = pc.claw_cpw_width\n",
    "            c_c_l = pc.claw_cpw_length\n",
    "            g_s = pc.ground_spacing\n",
    "            con_loc = pc.connector_location\n",
    "    \n",
    "            claw_cpw = draw.box(-c_w, -c_c_w / 2, -c_c_l - c_w, c_c_w / 2)\n",
    "            if con_loc == 0 or  con_loc == 2 or  con_loc == 3 or  con_loc == 5:\n",
    "                t_claw_height = 2*c_g + 2 * c_w + pad_height  # temp value\n",
    "    \n",
    "                claw_base     = draw.box(-c_w, -(t_claw_height) / 2, c_l, t_claw_height / 2)\n",
    "                claw_subtract = draw.box(0, -t_claw_height / 2 + c_w, c_l, t_claw_height / 2 - c_w)\n",
    "                claw_base = claw_base.difference(claw_subtract)\n",
    "    \n",
    "                connector_arm = draw.shapely.ops.unary_union([claw_base, claw_cpw])\n",
    "                connector_etcher = draw.buffer(connector_arm, c_g)\n",
    "            elif con_loc == 1 or  con_loc == 4:\n",
    "                t_claw_height = 2*c_g + 2 * c_w + pad_width  # temp value\n",
    "    \n",
    "                claw_base     = draw.box(-c_w, -(t_claw_height) / 2, c_l, t_claw_height / 2)\n",
    "                claw_subtract = draw.box(0, -t_claw_height / 2 + c_w, c_l, t_claw_height / 2 - c_w)\n",
    "                claw_base = claw_base.difference(claw_subtract)\n",
    "    \n",
    "                connector_arm = draw.shapely.ops.unary_union([claw_base, claw_cpw])\n",
    "                connector_etcher = draw.buffer(connector_arm, g_s)\n",
    "            else:\n",
    "                print('Not appropriate position of connector')\n",
    "            \n",
    "            port_line = draw.LineString([(- c_w, 0),\n",
    "                                     (-c_c_l - c_w, 0)])\n",
    "\n",
    "            claw_rotate = 0\n",
    "            if con_loc == 0:\n",
    "                claw_rotate = -180\n",
    "            elif con_loc == 1:\n",
    "                claw_rotate = -90\n",
    "            elif con_loc == 2:\n",
    "                claw_rotate = 0\n",
    "            elif con_loc == 3:\n",
    "                claw_rotate = 0\n",
    "            elif con_loc == 4:\n",
    "                claw_rotate = 90\n",
    "            elif con_loc == 5:\n",
    "                claw_rotate = 180\n",
    "    \n",
    "            claw_translate_x = (con_loc==0 or con_loc==5)*(pad_width/2 + g_s) + (con_loc==2 or con_loc==3)*(-pad_width/2 - g_s)\n",
    "            claw_translate_y = (con_loc==0 or con_loc==2)*(pad_height + pad_gap)/2 + (con_loc==5 or con_loc==3)*(-pad_height - pad_gap)/2 + (con_loc==1)*(pad_height + pad_gap/2 + g_s) - (con_loc==4)*(pad_height + pad_gap/2 + g_s)\n",
    "            \n",
    "            # Rotates and translates the connector polygons (and temporary port_line)\n",
    "            polys = [connector_arm, connector_etcher, port_line]\n",
    "            polys = draw.rotate(polys, claw_rotate, origin=(0, 0))\n",
    "            polys = draw.translate(polys, claw_translate_x, claw_translate_y)\n",
    "            #polys = draw.rotate(polys, p.orientation, origin=(0, 0))\n",
    "            polys = draw.translate(polys, p.pos_x, p.pos_y)\n",
    "            [connector_arm, connector_etcher, port_line] = polys\n",
    "    \n",
    "            # Generates qgeometry for the connector pads\n",
    "            self.add_qgeometry('poly', {f'{name}_connector_arm': connector_arm},\n",
    "                               chip=chip)\n",
    "            self.add_qgeometry('poly',\n",
    "                               {f'{name}_connector_etcher': connector_etcher},\n",
    "                               subtract=True,\n",
    "                               chip=chip)\n",
    "    \n",
    "            self.add_pin(name, points=port_line.coords, width=c_c_w,input_as_norm=True)\n",
    "        elif pc.connector_type == 1:  # T-shape connector\n",
    "            \n",
    "            # define commonly used variables once\n",
    "            pad_width = p.pad_width\n",
    "            pad_height = p.pad_height\n",
    "            pad_gap = p.pad_gap\n",
    "            pocket_width = p.pocket_width\n",
    "            pocket_height = p.pocket_height\n",
    "    \n",
    "            c_g = pc.claw_gap\n",
    "            c_l = 0\n",
    "            c_w = pc.claw_width\n",
    "            c_c_w = pc.claw_cpw_width\n",
    "            c_c_l = pc.claw_cpw_length\n",
    "            g_s = pc.ground_spacing\n",
    "            con_loc = pc.connector_location\n",
    "    \n",
    "            claw_cpw = draw.box(-c_w, -c_c_w / 2, -c_c_l - c_w, c_c_w / 2)\n",
    "            if con_loc == 0 or  con_loc == 2 or  con_loc == 3 or  con_loc == 5:\n",
    "                t_claw_height = pc.t_claw_height\n",
    "    \n",
    "                claw_base     = draw.box(-c_w, -(t_claw_height) / 2, c_l, t_claw_height / 2)\n",
    "                claw_subtract = draw.box(0, -t_claw_height / 2 + c_w, c_l, t_claw_height / 2 - c_w)\n",
    "                claw_base = claw_base.difference(claw_subtract)\n",
    "    \n",
    "                connector_arm = draw.shapely.ops.unary_union([claw_base, claw_cpw])\n",
    "                connector_etcher = draw.buffer(connector_arm, c_g)\n",
    "            elif con_loc == 1 or  con_loc == 4:\n",
    "                t_claw_height = pc.t_claw_height\n",
    "    \n",
    "                claw_base     = draw.box(-c_w, -(t_claw_height) / 2, c_l, t_claw_height / 2)\n",
    "                claw_subtract = draw.box(0, -t_claw_height / 2 + c_w, c_l, t_claw_height / 2 - c_w)\n",
    "                claw_base = claw_base.difference(claw_subtract)\n",
    "    \n",
    "                connector_arm = draw.shapely.ops.unary_union([claw_base, claw_cpw])\n",
    "                connector_etcher = draw.buffer(connector_arm, c_g)\n",
    "            else:\n",
    "                print('Not appropriate position of connector')\n",
    "            \n",
    "            port_line = draw.LineString([(- c_w, 0),\n",
    "                                     (-c_c_l - c_w, 0)])\n",
    "\n",
    "            claw_rotate = 0\n",
    "            if con_loc == 0:\n",
    "                claw_rotate = -180\n",
    "            elif con_loc == 1:\n",
    "                claw_rotate = -90\n",
    "            elif con_loc == 2:\n",
    "                claw_rotate = 0\n",
    "            elif con_loc == 3:\n",
    "                claw_rotate = 0\n",
    "            elif con_loc == 4:\n",
    "                claw_rotate = 90\n",
    "            elif con_loc == 5:\n",
    "                claw_rotate = 180\n",
    "    \n",
    "            claw_translate_x = (con_loc==0 or con_loc==5)*(pad_width/2 + g_s) + (con_loc==2 or con_loc==3)*(-pad_width/2 - g_s)\n",
    "            claw_translate_y = (con_loc==0 or con_loc==2)*(pad_height + pad_gap)/2 + (con_loc==5 or con_loc==3)*(-pad_height - pad_gap)/2 + (con_loc==1)*(pad_height + pad_gap/2 + g_s) - (con_loc==4)*(pad_height + pad_gap/2 + g_s)\n",
    "            \n",
    "            # Rotates and translates the connector polygons (and temporary port_line)\n",
    "            polys = [connector_arm, connector_etcher, port_line]\n",
    "            polys = draw.rotate(polys, claw_rotate, origin=(0, 0))\n",
    "            polys = draw.translate(polys, claw_translate_x, claw_translate_y)\n",
    "            polys = draw.rotate(polys, p.orientation, origin=(0, 0))\n",
    "            polys = draw.translate(polys, p.pos_x, p.pos_y)\n",
    "            [connector_arm, connector_etcher, port_line] = polys\n",
    "    \n",
    "            # Generates qgeometry for the connector pads\n",
    "            self.add_qgeometry('poly', {f'{name}_connector_arm': connector_arm},\n",
    "                               chip=chip)\n",
    "            self.add_qgeometry('poly',\n",
    "                               {f'{name}_connector_etcher': connector_etcher},\n",
    "                               subtract=True,\n",
    "                               chip=chip)\n",
    "    \n",
    "            self.add_pin(name, points=port_line.coords, width=c_c_w,input_as_norm=True)\n",
    "\n",
    "        else:\n",
    "            print('Incorrect connector type')\n",
    "            \n",
    "        "
   ]
  },
  {
   "cell_type": "markdown",
   "metadata": {},
   "source": [
    "## Define \"LineTee_sqnl\""
   ]
  },
  {
   "cell_type": "code",
   "execution_count": 5,
   "metadata": {},
   "outputs": [],
   "source": [
    "from qiskit_metal.qlibrary.core import QComponent\n",
    "class LineTee_sqnl(QComponent):\n",
    "    \"\"\"Generates a three pin (+) structure comprised of a primary two pin CPW\n",
    "    transmission line, and a secondary one pin neighboring CPW transmission\n",
    "    line that is capacitively coupled to the primary. Such a structure can be\n",
    "    used, as an example, for generating CPW resonator hangars off of a\n",
    "    transmission line. (0,0) represents the center position of the component.\n",
    "\n",
    "    Inherits QComponent class.\n",
    "\n",
    "    ::\n",
    "\n",
    "                  (0,0)\n",
    "        +--------------------------+\n",
    "                    |\n",
    "                    |\n",
    "                    |\n",
    "                    |\n",
    "                    |\n",
    "                    +\n",
    "\n",
    "    .. image::\n",
    "        LineTee.png\n",
    "\n",
    "    .. meta::\n",
    "        Line Tee\n",
    "\n",
    "    Options:\n",
    "        * prime_width: '10um' -- The width of the trace of the two pin CPW transmission line\n",
    "        * prime_gap: '6um' -- The dielectric gap of the two pin CPW transmission line\n",
    "        * second_width: '10um' -- The width of the trace of the one pin CPW transmission line\n",
    "        * second_gap: '6um' -- The dielectric gap of the one pin CPW transmission line (also for the capacitor)\n",
    "        * t_length: '50um' -- The length for the t branches\n",
    "        * C_box_width: '50um'\n",
    "        * C_box_height: '20um'\n",
    "        * C_box_gap: '20um'\n",
    "        * C_gap: '5um'\n",
    "    \"\"\"\n",
    "    component_metadata = Dict(short_name='cpw', _qgeometry_table_path='True')\n",
    "    \"\"\"Component metadata\"\"\"\n",
    "\n",
    "    #Currently setting the primary CPW length based on the coupling_length\n",
    "    #May want it to be it's own value that the user can control?\n",
    "    default_options = Dict(prime_width='10um',\n",
    "                           prime_gap='6um',\n",
    "                           second_width='10um',\n",
    "                           second_gap='6um',\n",
    "                           t_length='50um')\n",
    "    \"\"\"Default connector options\"\"\"\n",
    "\n",
    "    TOOLTIP = \"\"\"Generates a three pin (+) structure comprised of a primary two pin CPW\n",
    "    transmission line, and a secondary one pin neighboring CPW transmission\n",
    "    line that is capacitively coupled to the primary.\"\"\"\n",
    "\n",
    "    def make(self):\n",
    "        \"\"\"Build the component.\"\"\"\n",
    "        p = self.p\n",
    "        prime_cpw_length = p.t_length * 2\n",
    "        C_box_width = p.C_box_width\n",
    "        C_box_height = p.C_box_height\n",
    "        C_box_gap = p.C_box_gap\n",
    "        C_gap = p.C_gap\n",
    "        \n",
    "        #Primary CPW\n",
    "        prime_cpw = draw.LineString([[-prime_cpw_length / 2, 0],\n",
    "                                     [prime_cpw_length / 2, 0]])\n",
    "\n",
    "        #Secondary CPW\n",
    "        second_cpw = draw.LineString([[0, -p.prime_width / 2], [0,\n",
    "                                                                -p.t_length]])\n",
    "        \n",
    "        #Capacitor\n",
    "        C_box = draw.box(-C_box_width/2,-p.t_length-C_box_height,C_box_width/2,-p.t_length)\n",
    "        C_gap = draw.box(-C_box_width/2-C_box_gap,-p.t_length-C_box_height-C_gap,C_box_width/2+C_box_gap,-p.t_length+C_box_gap)\n",
    "        \n",
    "        #Rotate and Translate\n",
    "        c_items = [prime_cpw, second_cpw]\n",
    "        c_items = draw.rotate(c_items, p.orientation, origin=(0, 0))\n",
    "        c_items = draw.translate(c_items, p.pos_x, p.pos_y)\n",
    "        [prime_cpw, second_cpw] = c_items\n",
    "        \n",
    "        C_boxes = [C_box,C_gap]\n",
    "        C_boxes = draw.rotate(C_boxes, p.orientation, origin=(0, 0))\n",
    "        C_boxes = draw.translate(C_boxes, p.pos_x, p.pos_y)\n",
    "        [C_box,C_gap] = C_boxes\n",
    "        \n",
    "        #Add to qgeometry tables\n",
    "        self.add_qgeometry('path', {'prime_cpw': prime_cpw},\n",
    "                           width=p.prime_width,\n",
    "                           layer=p.layer)\n",
    "        self.add_qgeometry('path', {'prime_cpw_sub': prime_cpw},\n",
    "                           width=p.prime_width + 2 * p.prime_gap,\n",
    "                           subtract=True,\n",
    "                           layer=p.layer)\n",
    "        self.add_qgeometry('path', {'second_cpw': second_cpw},\n",
    "                           width=p.second_width,\n",
    "                           layer=p.layer)\n",
    "        self.add_qgeometry('path', {'second_cpw_sub': second_cpw},\n",
    "                           width=p.second_width + 2 * p.second_gap,\n",
    "                           subtract=True,\n",
    "                           layer=p.layer)\n",
    "        \n",
    "        self.add_qgeometry('poly', {'C_box': C_box},\n",
    "                           layer=p.layer)\n",
    "        self.add_qgeometry('poly', {'C_gap': C_gap},\n",
    "                           subtract=True,\n",
    "                           layer=p.layer)\n",
    "\n",
    "        #Add pins\n",
    "        prime_pin_list = prime_cpw.coords\n",
    "        second_pin_list = second_cpw.coords\n",
    "\n",
    "        self.add_pin('prime_start',\n",
    "                     points=np.array(prime_pin_list[::-1]),\n",
    "                     width=p.prime_width,\n",
    "                     input_as_norm=True)\n",
    "        self.add_pin('prime_end',\n",
    "                     points=np.array(prime_pin_list),\n",
    "                     width=p.prime_width,\n",
    "                     input_as_norm=True)\n",
    "        self.add_pin('second_end',\n",
    "                     points=np.array(second_pin_list),\n",
    "                     width=p.second_width,\n",
    "                     input_as_norm=True)\n"
   ]
  },
  {
   "cell_type": "markdown",
   "metadata": {},
   "source": [
    "## Chip dimensions"
   ]
  },
  {
   "cell_type": "code",
   "execution_count": 6,
   "metadata": {},
   "outputs": [],
   "source": [
    "design = metal.designs.DesignPlanar()\n",
    "\n",
    "gui = metal.MetalGUI(design)"
   ]
  },
  {
   "cell_type": "code",
   "execution_count": 7,
   "metadata": {},
   "outputs": [
    {
     "data": {
      "text/plain": [
       "{'material': 'silicon',\n",
       " 'layer_start': '0',\n",
       " 'layer_end': '2048',\n",
       " 'size': {'center_x': '0.0mm',\n",
       "  'center_y': '0.0mm',\n",
       "  'center_z': '0.0mm',\n",
       "  'size_x': '9mm',\n",
       "  'size_y': '6mm',\n",
       "  'size_z': '-750um',\n",
       "  'sample_holder_top': '890um',\n",
       "  'sample_holder_bottom': '1650um'}}"
      ]
     },
     "execution_count": 7,
     "metadata": {},
     "output_type": "execute_result"
    }
   ],
   "source": [
    "design.overwrite_enabled = True\n",
    "design.chips.main"
   ]
  },
  {
   "cell_type": "code",
   "execution_count": 8,
   "metadata": {},
   "outputs": [
    {
     "data": {
      "text/plain": [
       "{'main': {'material': 'silicon',\n",
       "  'layer_start': '0',\n",
       "  'layer_end': '2048',\n",
       "  'size': {'center_x': '0.0mm',\n",
       "   'center_y': '0.0mm',\n",
       "   'center_z': '0.0mm',\n",
       "   'size_x': '9mm',\n",
       "   'size_y': '6mm',\n",
       "   'size_z': '-750um',\n",
       "   'sample_holder_top': '890um',\n",
       "   'sample_holder_bottom': '1650um'}}}"
      ]
     },
     "execution_count": 8,
     "metadata": {},
     "output_type": "execute_result"
    }
   ],
   "source": [
    "design.chips"
   ]
  },
  {
   "cell_type": "code",
   "execution_count": 9,
   "metadata": {},
   "outputs": [],
   "source": [
    "design.chips.main.size.size_x = '10mm'\n",
    "design.chips.main.size.size_y = '10mm'"
   ]
  },
  {
   "cell_type": "markdown",
   "metadata": {},
   "source": [
    "# Qubits"
   ]
  },
  {
   "cell_type": "code",
   "execution_count": 10,
   "metadata": {},
   "outputs": [
    {
     "data": {
      "text/plain": [
       "{'pos_x': '0.0um',\n",
       " 'pos_y': '0.0um',\n",
       " 'orientation': '0.0',\n",
       " 'chip': 'main',\n",
       " 'layer': '1',\n",
       " 'connection_pads': {},\n",
       " '_default_connection_pads': {'connector_type': '0',\n",
       "  'pad_width': '125um',\n",
       "  'pad_height': '30um',\n",
       "  'pad_cpw_shift': '0um',\n",
       "  'pad_cpw_extent': '25um',\n",
       "  'claw_length': '30um',\n",
       "  'claw_width': '10um',\n",
       "  'claw_gap': '6um',\n",
       "  'claw_cpw_length': '40um',\n",
       "  'claw_cpw_width': '10um',\n",
       "  'ground_spacing': '5um',\n",
       "  'connector_location': '0'},\n",
       " 'pad_gap': '30um',\n",
       " 'inductor_width': '20um',\n",
       " 'pad_width': '455um',\n",
       " 'pad_height': '90um',\n",
       " 'pocket_width': '650um',\n",
       " 'pocket_height': '650um',\n",
       " 'hfss_wire_bonds': False,\n",
       " 'q3d_wire_bonds': False,\n",
       " 'aedt_q3d_wire_bonds': False,\n",
       " 'aedt_hfss_wire_bonds': False,\n",
       " 'hfss_inductance': '10nH',\n",
       " 'hfss_capacitance': 0,\n",
       " 'hfss_resistance': 0,\n",
       " 'hfss_mesh_kw_jj': 7e-06,\n",
       " 'q3d_inductance': '10nH',\n",
       " 'q3d_capacitance': 0,\n",
       " 'q3d_resistance': 0,\n",
       " 'q3d_mesh_kw_jj': 7e-06,\n",
       " 'gds_cell_name': 'my_other_junction',\n",
       " 'aedt_q3d_inductance': 1e-08,\n",
       " 'aedt_q3d_capacitance': 0,\n",
       " 'aedt_hfss_inductance': 1e-08,\n",
       " 'aedt_hfss_capacitance': 0}"
      ]
     },
     "execution_count": 10,
     "metadata": {},
     "output_type": "execute_result"
    }
   ],
   "source": [
    "TransmonPocket_sqnl.get_template_options(design)"
   ]
  },
  {
   "cell_type": "code",
   "execution_count": 11,
   "metadata": {},
   "outputs": [],
   "source": [
    "options_1 =  dict(\n",
    "    pad_width = '540 um', \n",
    "    pad_height = '132.5 um',\n",
    "    pad_gap = '65 um', \n",
    "    pocket_width = '740 um',\n",
    "    pocket_height = '530 um',\n",
    "    connection_pads=dict(\n",
    "        readout1 = dict(connector_type='0',  # 0 = Claw type, 1 = T-shape type\n",
    "                       t_claw_height = '400um',\n",
    "                       ground_spacing='10um',\n",
    "                       claw_width='20um',\n",
    "                       claw_gap='10um',\n",
    "                       claw_cpw_length='100um',\n",
    "                       claw_cpw_width='20um',\n",
    "                       connector_location=\n",
    "                       '0'  # 0 => 'west' arm, 90 => 'north' arm, 180 => 'east' arm\n",
    "                       ) ,\n",
    "        control = dict(connector_type='1',  # 0 = Claw type, 1 = T-shape type\n",
    "                       t_claw_height = '30um',\n",
    "                       ground_spacing='100um',\n",
    "                       claw_width='30um',\n",
    "                       claw_gap='18um',\n",
    "                       claw_cpw_length='100um',\n",
    "                       claw_cpw_width='30um',\n",
    "                       connector_location=\n",
    "                       '1'  # 0 => 'west' arm, 90 => 'north' arm, 180 => 'east' arm\n",
    "                       ) \n",
    "    ))"
   ]
  },
  {
   "cell_type": "code",
   "execution_count": 12,
   "metadata": {},
   "outputs": [],
   "source": [
    "q_1 = TransmonPocket_sqnl(design,'Q_1', options = dict(\n",
    "        pos_x='0mm', \n",
    "        pos_y='2.5mm', \n",
    "        gds_cell_name ='FakeJunction_01',\n",
    "        hfss_inductance ='14nH',\n",
    "        **options_1))\n",
    "gui.rebuild()\n",
    "gui.autoscale()"
   ]
  },
  {
   "cell_type": "markdown",
   "metadata": {},
   "source": [
    "# Resoantors"
   ]
  },
  {
   "cell_type": "markdown",
   "metadata": {},
   "source": [
    "## Launch Pads"
   ]
  },
  {
   "cell_type": "code",
   "execution_count": 13,
   "metadata": {},
   "outputs": [],
   "source": [
    "launch_TL_read_11 = LaunchpadWirebond(design, \n",
    "                                   'launch_TL_read_11', \n",
    "                                   options = dict(\n",
    "                                       pos_x = '2.5mm', \n",
    "                                       pos_y ='4.3mm', \n",
    "                                       orientation = '270',\n",
    "                                       trace_gap = '10um',\n",
    "                                       trace_width = '20um',\n",
    "                                       taper_height = '375um',\n",
    "                                       pad_width='250um',\n",
    "                                       pad_height='300um',\n",
    "                                       pad_gap = '100um'\n",
    "                                   ))\n",
    "launch_TL_read_12 = LaunchpadWirebond(design, \n",
    "                                   'launch_TL_read_12', \n",
    "                                   options = dict(\n",
    "                                       pos_x = '0mm', \n",
    "                                       pos_y ='4.3mm', \n",
    "                                       orientation = '270',\n",
    "                                       trace_gap = '18um',\n",
    "                                       trace_width = '30um',\n",
    "                                       taper_height = '375um',\n",
    "                                       pad_width='250um',\n",
    "                                       pad_height='300um',\n",
    "                                       pad_gap = '100um'\n",
    "                                   ))\n",
    "\n",
    "# Launch Pad for testing Purcell filter S21 simulation\n",
    "launch_PF_reading = LaunchpadWirebond(design, \n",
    "                                   'launch_PF_reading', \n",
    "                                   options = dict(\n",
    "                                       pos_x = '1.8465mm', \n",
    "                                       pos_y ='1.8mm', \n",
    "                                       orientation = '90',\n",
    "                                       trace_gap = '10um',\n",
    "                                       trace_width = '20um',\n",
    "                                       taper_height = '375um',\n",
    "                                       pad_width='250um',\n",
    "                                       pad_height='300um',\n",
    "                                       pad_gap = '100um'\n",
    "                                   ))\n",
    "\n",
    "gui.rebuild()\n",
    "gui.autoscale()"
   ]
  },
  {
   "cell_type": "code",
   "execution_count": 14,
   "metadata": {},
   "outputs": [
    {
     "data": {
      "text/plain": [
       "{'pos_x': '0.0um',\n",
       " 'pos_y': '0.0um',\n",
       " 'orientation': '0.0',\n",
       " 'chip': 'main',\n",
       " 'layer': '1',\n",
       " 'north_width': '10um',\n",
       " 'north_gap': '6um',\n",
       " 'south_width': '10um',\n",
       " 'south_gap': '6um',\n",
       " 'cap_width': '10um',\n",
       " 'cap_gap': '6um',\n",
       " 'cap_gap_ground': '6um',\n",
       " 'finger_length': '20um',\n",
       " 'finger_count': '5',\n",
       " 'cap_distance': '50um',\n",
       " 'hfss_wire_bonds': False,\n",
       " 'q3d_wire_bonds': False,\n",
       " 'aedt_q3d_wire_bonds': False,\n",
       " 'aedt_hfss_wire_bonds': False}"
      ]
     },
     "execution_count": 14,
     "metadata": {},
     "output_type": "execute_result"
    }
   ],
   "source": [
    "CapNInterdigital.get_template_options(design)"
   ]
  },
  {
   "cell_type": "markdown",
   "metadata": {},
   "source": [
    "## IDCs"
   ]
  },
  {
   "cell_type": "markdown",
   "metadata": {},
   "source": [
    "### Definition"
   ]
  },
  {
   "cell_type": "code",
   "execution_count": 15,
   "metadata": {},
   "outputs": [],
   "source": [
    "from qiskit_metal.qlibrary.core import QComponent\n",
    "class CapNInterdigital_sqnl(QComponent):\n",
    "    \n",
    "    component_metadata = Dict(short_name='cpw',\n",
    "                              _qgeometry_table_poly='True',\n",
    "                              _qgeometry_table_path='True')\n",
    "    \"\"\"Component metadata\"\"\"\n",
    "\n",
    "    #Currently setting the primary CPW length based on the coupling_length\n",
    "    #May want it to be it's own value that the user can control?\n",
    "    default_options = Dict(north_width='10um',\n",
    "                           north_gap='6um',\n",
    "                           south_width='10um',\n",
    "                           south_gap='6um',\n",
    "                           cap_width='10um',\n",
    "                           cap_gap='6um',\n",
    "                           cap_gap_ground='6um',\n",
    "                           finger_length='20um',\n",
    "                           finger_count='5',\n",
    "                           cap_distance='50um',\n",
    "                           taper_length='200um'\n",
    "                          )\n",
    "    \"\"\"Default connector options\"\"\"\n",
    "\n",
    "    TOOLTIP = \"\"\"Generates a two pin (+) structure\n",
    "     comprised of a north CPW transmission line, \n",
    "     and a south transmission line, coupled \n",
    "     together via a finger capacitor.\"\"\"\n",
    "\n",
    "    def make(self):\n",
    "        \"\"\"Build the component.\"\"\"\n",
    "        p = self.p\n",
    "        N = int(p.finger_count)\n",
    "\n",
    "        #Finger Capacitor\n",
    "        cap_box = draw.Polygon([[(N * p.cap_width + (N - 1) * p.cap_gap)/2, (p.cap_gap + 2 * p.cap_width + p.finger_length)/2],\n",
    "                                [p.north_width/2, (p.cap_gap + 2 * p.cap_width + p.finger_length)/2 + p.taper_length],\n",
    "                                [-p.north_width/2, (p.cap_gap + 2 * p.cap_width + p.finger_length)/2 + p.taper_length],\n",
    "                                [-(N * p.cap_width + (N - 1) * p.cap_gap)/2, (p.cap_gap + 2 * p.cap_width + p.finger_length)/2],\n",
    "                                [-(N * p.cap_width + (N - 1) * p.cap_gap)/2, -(p.cap_gap + 2 * p.cap_width + p.finger_length)/2],\n",
    "                                [-p.south_width/2, -(p.cap_gap + 2 * p.cap_width + p.finger_length)/2 - p.taper_length],\n",
    "                                [p.south_width/2, -(p.cap_gap + 2 * p.cap_width + p.finger_length)/2 - p.taper_length],\n",
    "                                [(N * p.cap_width + (N - 1) * p.cap_gap)/2, -(p.cap_gap + 2 * p.cap_width + p.finger_length)/2]\n",
    "                               ])\n",
    "        make_cut_list = []\n",
    "        make_cut_list.append([0, (p.finger_length) / 2])\n",
    "        make_cut_list.append([(p.cap_width) + (p.cap_gap / 2),\n",
    "                              (p.finger_length) / 2])\n",
    "        flip = -1\n",
    "\n",
    "        for i in range(1, N):\n",
    "            make_cut_list.append([\n",
    "                i * (p.cap_width) + (2 * i - 1) * (p.cap_gap / 2),\n",
    "                flip * (p.finger_length) / 2\n",
    "            ])\n",
    "            make_cut_list.append([\n",
    "                (i + 1) * (p.cap_width) + (2 * i + 1) * (p.cap_gap / 2),\n",
    "                flip * (p.finger_length) / 2\n",
    "            ])\n",
    "            flip = flip * -1\n",
    "\n",
    "        cap_cut = draw.LineString(make_cut_list).buffer(p.cap_gap / 2,\n",
    "                                                        cap_style=2,\n",
    "                                                        join_style=2)\n",
    "        cap_cut = draw.translate(cap_cut,\n",
    "                                 -(N * p.cap_width + (N - 1) * p.cap_gap) / 2,\n",
    "                                 0)\n",
    "\n",
    "        cap_body = draw.subtract(cap_box, cap_cut)\n",
    "        cap_body = draw.translate(\n",
    "            cap_body, 0, -p.cap_distance -\n",
    "            (p.cap_gap + 2 * p.cap_width + p.finger_length) / 2)\n",
    "\n",
    "        cap_etch = draw.Polygon([[(N * p.cap_width + (N - 1) * p.cap_gap)/2+p.cap_gap_ground, (p.cap_gap + 2 * p.cap_width + p.finger_length)/2],\n",
    "                                [p.north_width/2+p.north_gap, (p.cap_gap + 2 * p.cap_width + p.finger_length)/2 + p.taper_length],\n",
    "                                [-p.north_width/2-p.north_gap, (p.cap_gap + 2 * p.cap_width + p.finger_length)/2 + p.taper_length],\n",
    "                                [-(N * p.cap_width + (N - 1) * p.cap_gap)/2-p.cap_gap_ground, (p.cap_gap + 2 * p.cap_width + p.finger_length)/2],\n",
    "                                [-(N * p.cap_width + (N - 1) * p.cap_gap)/2-p.cap_gap_ground, -(p.cap_gap + 2 * p.cap_width + p.finger_length)/2],\n",
    "                                [-p.south_width/2-p.south_gap, -(p.cap_gap + 2 * p.cap_width + p.finger_length)/2 - p.taper_length],\n",
    "                                [p.south_width/2+p.south_gap, -(p.cap_gap + 2 * p.cap_width + p.finger_length)/2 - p.taper_length],\n",
    "                                [(N * p.cap_width + (N - 1) * p.cap_gap)/2+p.cap_gap_ground, -(p.cap_gap + 2 * p.cap_width + p.finger_length)/2]\n",
    "                               ])\n",
    "\n",
    "        cap_etch = draw.translate(\n",
    "            cap_etch, 0, -p.cap_distance -\n",
    "            (p.cap_gap + 2 * p.cap_width + p.finger_length) / 2)\n",
    "\n",
    "        #CPW\n",
    "        north_cpw = draw.LineString([[0, p.taper_length], [0, p.taper_length-p.cap_distance]])\n",
    "\n",
    "        south_cpw = draw.LineString(\n",
    "            [[\n",
    "                0, -p.taper_length-p.cap_distance -\n",
    "                (p.cap_gap + 2 * p.cap_width + p.finger_length)\n",
    "            ],\n",
    "             [\n",
    "                 0, -p.taper_length-2 * p.cap_distance -\n",
    "                 (p.cap_gap + 2 * p.cap_width + p.finger_length)\n",
    "             ]])\n",
    "\n",
    "        #Rotate and Translate\n",
    "        c_items = [north_cpw, south_cpw, cap_body, cap_etch]\n",
    "        c_items = draw.rotate(c_items, p.orientation, origin=(0, 0))\n",
    "        c_items = draw.translate(c_items, p.pos_x, p.pos_y)\n",
    "        [north_cpw, south_cpw, cap_body, cap_etch] = c_items\n",
    "\n",
    "        #Add to qgeometry tables\n",
    "        self.add_qgeometry('path', {'north_cpw': north_cpw},\n",
    "                           width=p.north_width,\n",
    "                           layer=p.layer)\n",
    "        self.add_qgeometry('path', {'north_cpw_sub': north_cpw},\n",
    "                           width=p.north_width + 2 * p.north_gap,\n",
    "                           layer=p.layer,\n",
    "                           subtract=True)\n",
    "\n",
    "        self.add_qgeometry('path', {'south_cpw': south_cpw},\n",
    "                           width=p.south_width,\n",
    "                           layer=p.layer)\n",
    "        self.add_qgeometry('path', {'south_cpw_sub': south_cpw},\n",
    "                           width=p.south_width + 2 * p.south_gap,\n",
    "                           layer=p.layer,\n",
    "                           subtract=True)\n",
    "\n",
    "        self.add_qgeometry('poly', {'cap_body': cap_body}, layer=p.layer)\n",
    "        self.add_qgeometry('poly', {'cap_etch': cap_etch},\n",
    "                           layer=p.layer,\n",
    "                           subtract=True)\n",
    "\n",
    "        #Add pins\n",
    "        north_pin_list = north_cpw.coords\n",
    "        south_pin_list = south_cpw.coords\n",
    "\n",
    "        self.add_pin('north_end',\n",
    "                     points=np.array(north_pin_list[::-1]),\n",
    "                     width=p.north_width,\n",
    "                     input_as_norm=True)\n",
    "        self.add_pin('south_end',\n",
    "                     points=np.array(south_pin_list),\n",
    "                     width=p.south_width,\n",
    "                     input_as_norm=True)"
   ]
  },
  {
   "cell_type": "markdown",
   "metadata": {},
   "source": [
    "### Draw"
   ]
  },
  {
   "cell_type": "code",
   "execution_count": 16,
   "metadata": {},
   "outputs": [],
   "source": [
    "highC_PF_TL_11 = CapNInterdigital_sqnl(design, \n",
    "                               'highC_PF_TL_11', \n",
    "                               options = dict(\n",
    "                                   pos_x = '2.5mm',\n",
    "                                   pos_y = '3.9mm',\n",
    "                                   orientation = '0',\n",
    "                                   north_width = '20um', \n",
    "                                   north_gap   = '10um', \n",
    "                                   south_width = '20um', \n",
    "                                   south_gap   = '10um', \n",
    "                                   cap_width   = '5um', \n",
    "                                   cap_gap   = '5um', \n",
    "                                   cap_gap_ground   = '44um', \n",
    "                                   finger_length   = '200um', \n",
    "                                   finger_count   = '8', \n",
    "                                   cap_distance   = '50um',\n",
    "                                   taper_length   = '200um'\n",
    "                               ))\n",
    "\n",
    "gui.rebuild()\n",
    "gui.autoscale()"
   ]
  },
  {
   "cell_type": "code",
   "execution_count": 17,
   "metadata": {},
   "outputs": [],
   "source": [
    "option_TL_11 = Dict(hfss_wire_bonds = True,\n",
    "              pin_inputs=Dict(\n",
    "                 start_pin=Dict(\n",
    "                     component='highC_PF_TL_11',\n",
    "                     pin='north_end'),\n",
    "                 end_pin=Dict(\n",
    "                     component='launch_TL_read_11',\n",
    "                     pin='tie')),\n",
    "              trace_width='20um',\n",
    "              trace_gap='10um',qgeometry_types='poly'\n",
    "             )\n",
    "\n",
    "otg_PF_read = OpenToGround(design, 'otg_PF_read', \n",
    "                       options=dict(\n",
    "                           pos_x = '1.8465mm', \n",
    "                           pos_y ='2.28mm', \n",
    "                           width='20um',\n",
    "                           gap='10um',\n",
    "                           orientation=90))\n",
    "\n",
    "option_PF_read = Dict(hfss_wire_bonds = True,\n",
    "              pin_inputs=Dict(\n",
    "                 start_pin=Dict(\n",
    "                     component='otg_PF_read',\n",
    "                     pin='open'),\n",
    "                 end_pin=Dict(\n",
    "                     component='launch_PF_reading',\n",
    "                     pin='tie')),\n",
    "              trace_width='20um',\n",
    "              trace_gap='10um',qgeometry_types='poly'\n",
    "             )\n",
    "\n",
    "\n",
    "TL_11 = RouteStraight(design, 'TL_11', options=option_TL_11)\n",
    "PF_read = RouteStraight(design, 'PF_read', options=option_PF_read)\n",
    "\n",
    "\n",
    "gui.rebuild()\n",
    "gui.autoscale()"
   ]
  },
  {
   "cell_type": "markdown",
   "metadata": {},
   "source": [
    "## Purcell filters"
   ]
  },
  {
   "cell_type": "markdown",
   "metadata": {},
   "source": [
    "### PF_11"
   ]
  },
  {
   "cell_type": "code",
   "execution_count": 18,
   "metadata": {},
   "outputs": [],
   "source": [
    "pin_opt_PF_11 = Dict(pin_inputs=Dict(start_pin=Dict(\n",
    "                                    component='highC_PF_TL_11',\n",
    "                                    pin='south_end'),\n",
    "                                    end_pin=Dict(\n",
    "                                    component='PF_11_open',\n",
    "                                    pin='open')),\n",
    "               fillet='89um',\n",
    "               trace_width='20um',\n",
    "               trace_gap='10um',\n",
    "               hfss_wire_bonds = True,\n",
    "               wb_threshold = '10um',\n",
    "               wb_offset ='10um'\n",
    "              )\n",
    "\n",
    "\n",
    "otg_PF_11 = OpenToGround(design, 'PF_11_open', \n",
    "                       options=dict(\n",
    "                           pos_x='1.320mm', \n",
    "                           pos_y='3.299mm',\n",
    "                           width='20um',\n",
    "                           gap='10um',\n",
    "                           orientation=180))\n",
    "\n",
    "pin_opt_PF_11.pin_inputs.start_pin.component = 'highC_PF_TL_11'\n",
    "pin_opt_PF_11.pin_inputs.end_pin.component = 'PF_11_open'\n",
    "\n",
    "# the first step is always stright, let's define by how much (minimum is half the route width):\n",
    "pin_opt_PF_11.lead.start_straight = '400um + 90um'\n",
    "pin_opt_PF_11.lead.end_straight = '0um'\n",
    "\n",
    "# any subsequent step of the lead_start\n",
    "jogsS_11 = OrderedDict()\n",
    "jogsS_11[0] = [\"R\", '200um + 180um']\n",
    "jogsS_11[1] = [\"R\", '1000um + 180um']\n",
    "jogsS_11[2] = [\"L\", '0um + 180um']\n",
    "jogsS_11[3] = [\"L\", '1600um + 180um']\n",
    "jogsS_11[4] = [\"R\", '0um + 180um']\n",
    "jogsS_11[5] = [\"R\", '1600um + 180um']\n",
    "jogsS_11[6] = [\"L\", '0um + 180um']\n",
    "jogsS_11[7] = [\"L\", '300um + 180um']\n",
    "\n",
    "pin_opt_PF_11.lead.start_jogged_extension = jogsS_11\n",
    "PF_11 = RouteFramed(design, 'PF_11', pin_opt_PF_11)\n",
    "\n",
    "gui.rebuild()\n",
    "gui.autoscale()"
   ]
  },
  {
   "cell_type": "code",
   "execution_count": 19,
   "metadata": {},
   "outputs": [],
   "source": [
    "# PF-R coupler 11\n",
    "coupler_length_11 = 1e-3\n",
    "\n",
    "T_coupler_PF_11 = LineTee_sqnl(design, 'T_coupler_PF_11', options=dict(pos_x='1.335mm', \n",
    "                                                                       pos_y='3.299mm',\n",
    "                                             t_length=coupler_length_11,\n",
    "                                             prime_width = '10um',\n",
    "                                             prime_gap = '10um',\n",
    "                                             second_width = '20um',\n",
    "                                             second_gap = '20um',\n",
    "                                             C_box_width = '100um',\n",
    "                                             C_box_gap = '10um',\n",
    "                                             C_box_height = '20um',\n",
    "                                             C_gap = '30um',\n",
    "                                             orientation = -90\n",
    "                                             ))\n",
    "\n",
    "gui.rebuild()\n",
    "# gui.autoscale()"
   ]
  },
  {
   "cell_type": "markdown",
   "metadata": {},
   "source": [
    "## Readout resonators"
   ]
  },
  {
   "cell_type": "markdown",
   "metadata": {},
   "source": [
    "### R_11"
   ]
  },
  {
   "cell_type": "code",
   "execution_count": 20,
   "metadata": {},
   "outputs": [],
   "source": [
    "pin_opt_R_11 = Dict(pin_inputs=Dict(start_pin=Dict(\n",
    "                                    component='Q_1',\n",
    "                                    pin='readout1'),\n",
    "                                end_pin=Dict(\n",
    "                                    component='R_11_open',\n",
    "                                    pin='open')),\n",
    "               fillet='89um',\n",
    "               trace_width='20um',\n",
    "               trace_gap='10um',\n",
    "               hfss_wire_bonds = True,\n",
    "               wb_threshold = '10um',\n",
    "               wb_offset ='10um'\n",
    "              )\n",
    "\n",
    "otg_R_11 = OpenToGround(design, 'R_11_open', \n",
    "                       options=dict(\n",
    "                           pos_x='1.296mm', \n",
    "                           pos_y='3.299mm',\n",
    "                           width='20um',\n",
    "                           gap='10um',\n",
    "                           orientation=0))\n",
    "\n",
    "pin_opt_R_11.pin_inputs.start_pin.component = 'Q_1'\n",
    "pin_opt_R_11.pin_inputs.end_pin.component = 'R_11_open'\n",
    "\n",
    "# the first step is always stright, let's define by how much (minimum is half the route width):\n",
    "pin_opt_R_11.lead.start_straight = '0um + 90um'\n",
    "pin_opt_R_11.lead.end_straight = '50um'\n",
    "\n",
    "# any subsequent step of the lead_start\n",
    "jogsS_11 = OrderedDict()\n",
    "jogsS_11[0] = [\"L\", '1400um + 180um']\n",
    "jogsS_11[1] = [\"R\", '0um + 180um']\n",
    "jogsS_11[2] = [\"R\", '2600um + 180um']\n",
    "jogsS_11[3] = [\"L\", '0um + 180um']\n",
    "jogsS_11[4] = [\"L\", '2700um + 180um']\n",
    "jogsS_11[5] = [\"R\", '0um + 180um']\n",
    "jogsS_11[6] = [\"R\", '700um + 180um']\n",
    "\n",
    "pin_opt_R_11.lead.start_jogged_extension = jogsS_11\n",
    "R_11 = RouteFramed(design, 'R_11', pin_opt_R_11)\n",
    "\n",
    "gui.rebuild()\n",
    "gui.autoscale()"
   ]
  },
  {
   "cell_type": "code",
   "execution_count": 21,
   "metadata": {},
   "outputs": [],
   "source": [
    "# R-PF coupler 11\n",
    "coupler_length_11 = 1e-3\n",
    "\n",
    "T_coupler_PF_11 = LineTee_sqnl(design, 'T_coupler_R_11', options=dict(pos_x='1.280mm', \n",
    "                                                                       pos_y='3.299mm',\n",
    "                                             t_length=coupler_length_11,\n",
    "                                             prime_width = '10um',\n",
    "                                             prime_gap = '10um',\n",
    "                                             second_width = '20um',\n",
    "                                             second_gap = '20um',\n",
    "                                             C_box_width = '100um',\n",
    "                                             C_box_gap = '10um',\n",
    "                                             C_box_height = '20um',\n",
    "                                             C_gap = '30um',\n",
    "                                             orientation = 90\n",
    "                                             ))\n",
    "\n",
    "gui.rebuild()\n",
    "# gui.autoscale()"
   ]
  },
  {
   "cell_type": "markdown",
   "metadata": {},
   "source": [
    "## Control lines"
   ]
  },
  {
   "cell_type": "code",
   "execution_count": 22,
   "metadata": {},
   "outputs": [],
   "source": [
    "design.overwrite_enabled = True\n",
    "\n",
    "options_c = Dict(\n",
    "    total_length='1.5mm',\n",
    "    hfss_wire_bonds = True,\n",
    "    lead=Dict(\n",
    "        start_straight='300um',\n",
    "        end_straight='300um'),\n",
    "    fillet='90um',\n",
    "    trace_width='30um',\n",
    "    trace_gap='18um')\n",
    "\n",
    "control_Q1 = RouteStraight(design, 'control_Q1', options=Dict(\n",
    "    pin_inputs=Dict(\n",
    "        start_pin=Dict(\n",
    "            component='Q_1',\n",
    "            pin='control'),\n",
    "        end_pin=Dict(\n",
    "            component='launch_TL_read_12',\n",
    "            pin='tie')),\n",
    "            **options_c))\n",
    "\n",
    "gui.rebuild()\n",
    "gui.autoscale()"
   ]
  },
  {
   "cell_type": "markdown",
   "metadata": {},
   "source": [
    "# Analyze"
   ]
  },
  {
   "cell_type": "markdown",
   "metadata": {},
   "source": [
    "## Coupler capacitance simulation"
   ]
  },
  {
   "cell_type": "markdown",
   "metadata": {},
   "source": [
    "### Capacitance LOM (qubit)"
   ]
  },
  {
   "cell_type": "code",
   "execution_count": 26,
   "metadata": {},
   "outputs": [],
   "source": [
    "from qiskit_metal.analyses.quantization import LOManalysis\n",
    "c1 = LOManalysis(design, \"q3d\")\n",
    "q3d = c1.sim.renderer\n",
    "q3d.start()\n",
    "q3d.activate_ansys_design(\"reset_q3d_Qubit_capacitance\", 'capacitive')\n",
    "q3d.render_design(['Q_1'], [('Q_1','readout1')])\n",
    "c1.sim.setup.percent_refinement = 100\n",
    "c1.sim.setup.max_passes = 10\n",
    "c1.sim.setup.percent_error = 0.1\n",
    "c1.sim.setup\n",
    "q3d.analyze_setup(\"Setup\")\n",
    "c1.sim.capacitance_matrix, c1.sim.units = q3d.get_capacitance_matrix()\n",
    "c1.sim.capacitance_all_passes, _ = q3d.get_capacitance_all_passes()\n",
    "c1.sim.capacitance_matrix\n",
    "c1.setup.junctions=Dict(Lj=9.33, Cj=2)\n",
    "c1.setup.freq_readout = 6.60\n",
    "c1.setup.freq_bus = [5.258995]\n",
    "\n",
    "c1.run_lom()\n",
    "c1.lumped_oscillator_all\n",
    "c1.sim.capacitance_all_passes"
   ]
  },
  {
   "cell_type": "code",
   "execution_count": 37,
   "metadata": {},
   "outputs": [
    {
     "name": "stdout",
     "output_type": "stream",
     "text": [
      "Warning! 3 COM references still alive\n",
      "Ansys will likely refuse to shut down\n"
     ]
    }
   ],
   "source": [
    "c1.sim.close()"
   ]
  },
  {
   "cell_type": "markdown",
   "metadata": {},
   "source": [
    "### Capacitance (R-PF)"
   ]
  },
  {
   "cell_type": "code",
   "execution_count": 50,
   "metadata": {},
   "outputs": [],
   "source": [
    "from qiskit_metal.analyses.quantization import LOManalysis\n",
    "c1 = LOManalysis(design, \"q3d\")\n",
    "c1.sim.renderer.options['wb_size'] = 3\n",
    "c1.sim.renderer.options['wb_threshold'] = '150um'\n",
    "q3d = c1.sim.renderer\n",
    "q3d.start()\n",
    "q3d.activate_ansys_design(\"reset_q3d_R_PF_capacitance\", 'capacitive')\n",
    "q3d.render_design(['R_11','PF_11','T_coupler_R_11','T_coupler_PF_11'], [('R_11','start'),('PF_11','start')])\n",
    "c1.sim.setup.percent_refinement = 100\n",
    "c1.sim.setup.max_passes = 10\n",
    "c1.sim.setup.percent_error = 0.1\n",
    "c1.sim.setup\n",
    "q3d.analyze_setup(\"Setup\")\n",
    "c1.sim.capacitance_matrix, c1.sim.units = q3d.get_capacitance_matrix()\n",
    "c1.sim.capacitance_all_passes, _ = q3d.get_capacitance_all_passes()\n",
    "c1.sim.capacitance_matrix\n",
    "c1.sim.capacitance_all_passes"
   ]
  },
  {
   "cell_type": "code",
   "execution_count": 49,
   "metadata": {},
   "outputs": [
    {
     "name": "stdout",
     "output_type": "stream",
     "text": [
      "Warning! 6 COM references still alive\n",
      "Ansys will likely refuse to shut down\n"
     ]
    }
   ],
   "source": [
    "c1.sim.close()"
   ]
  },
  {
   "cell_type": "markdown",
   "metadata": {},
   "source": [
    "### Capacitance (PF-TL)"
   ]
  },
  {
   "cell_type": "code",
   "execution_count": 52,
   "metadata": {},
   "outputs": [],
   "source": [
    "from qiskit_metal.analyses.quantization import LOManalysis\n",
    "c1 = LOManalysis(design, \"q3d\")\n",
    "c1.sim.renderer.options['wb_size'] = 3\n",
    "c1.sim.renderer.options['wb_threshold'] = '150um'\n",
    "q3d = c1.sim.renderer\n",
    "q3d.start()\n",
    "q3d.activate_ansys_design(\"reset_q3d_PF_TL_capacitance\", 'capacitive')\n",
    "q3d.render_design(['PF_11','T_coupler_PF_11','highC_PF_TL_11','TL_11'], [('TL_11','end')])\n",
    "c1.sim.setup.percent_refinement = 100\n",
    "c1.sim.setup.max_passes = 10\n",
    "c1.sim.setup.percent_error = 0.1\n",
    "c1.sim.setup\n",
    "q3d.analyze_setup(\"Setup\")\n",
    "c1.sim.capacitance_matrix, c1.sim.units = q3d.get_capacitance_matrix()\n",
    "c1.sim.capacitance_all_passes, _ = q3d.get_capacitance_all_passes()\n",
    "c1.sim.capacitance_matrix\n",
    "c1.sim.capacitance_all_passes"
   ]
  },
  {
   "cell_type": "code",
   "execution_count": 60,
   "metadata": {},
   "outputs": [
    {
     "name": "stdout",
     "output_type": "stream",
     "text": [
      "Warning! 6 COM references still alive\n",
      "Ansys will likely refuse to shut down\n"
     ]
    }
   ],
   "source": [
    "c1.sim.close()"
   ]
  },
  {
   "cell_type": "markdown",
   "metadata": {},
   "source": [
    "## Eigenmode and EPR (Qubit-Readout)"
   ]
  },
  {
   "cell_type": "code",
   "execution_count": 111,
   "metadata": {},
   "outputs": [],
   "source": [
    "from qiskit_metal.analyses.quantization import EPRanalysis\n",
    "eig_qb = EPRanalysis(design, \"hfss\")\n",
    "eig_qb.sim.renderer.options['wb_size'] = 3\n",
    "eig_qb.sim.renderer.options['wb_threshold'] = '150um'\n",
    "eig_qb.sim.renderer.options\n",
    "em_p = eig_qb.sim.setup\n",
    "em_p.name = 'reset_hfss_Q_R_pyEPR_design'\n",
    "em_p.min_freq_ghz = 2\n",
    "em_p.max_freq_ghz = 8\n",
    "em_p.n_modes = 2\n",
    "em_p.max_passes = 8\n",
    "em_p.max_delta_f = 0.03\n",
    "em_p.min_converged = 3\n",
    "em_p.pct_refinement = 100\n",
    "# Design variables can also be added in for direct simulation sweeps.\n",
    "em_p.vars = Dict({'Lj1': '9.33 nH', 'Cj1': '2 fF'})\n",
    "\n",
    "eig_qb.sim.setup\n",
    "eig_qb.sim.run(name=\"reset_hfss_Q_R_pyEPR\", \n",
    "               components=['Q_1', 'R_11', 'T_coupler_R_11'], \n",
    "               open_terminations=[])\n",
    "eig_qb.sim.plot_convergences()\n",
    "eig_qb.del_junction()\n",
    "eig_qb.add_junction('jj1', 'Lj1', 'Cj1', rect='JJ_rect_Lj_Q_1_rect_jj', line='JJ_Lj_Q_1_rect_jj_')\n",
    "# eig_qb.add_junction('jj2', 'Lj2', 'Cj2', rect='JJ_rect_Lj_Q_2_rect_jj', line='JJ_Lj_Q_2_rect_jj_')\n",
    "eig_qb.setup.sweep_variable = 'Lj1'\n",
    "eig_qb.setup\n",
    "eig_qb.run_epr()\n",
    "# (pyEPR allows to switch modes: eprd.set_mode(1))"
   ]
  },
  {
   "cell_type": "code",
   "execution_count": 57,
   "metadata": {},
   "outputs": [],
   "source": [
    "eig_qb.sim.close()\n",
    "\n",
    "# 360"
   ]
  },
  {
   "cell_type": "markdown",
   "metadata": {},
   "source": [
    "## Eigenmode and EPR (Readout-PurcellFilter) - Not recommended"
   ]
  },
  {
   "cell_type": "code",
   "execution_count": 56,
   "metadata": {},
   "outputs": [],
   "source": [
    "from qiskit_metal.analyses.quantization import EPRanalysis\n",
    "eig_qb = EPRanalysis(design, \"hfss\")\n",
    "eig_qb.sim.renderer.options['wb_size'] = 3\n",
    "eig_qb.sim.renderer.options['wb_threshold'] = '150um'\n",
    "\n",
    "eig_qb.sim.renderer.options\n",
    "\n",
    "hfss_rend = eig_qb.sim.renderer"
   ]
  },
  {
   "cell_type": "code",
   "execution_count": 44,
   "metadata": {},
   "outputs": [
    {
     "name": "stderr",
     "output_type": "stream",
     "text": [
      "INFO 04:27PM [connect_project]: Connecting to Ansys Desktop API...\n",
      "INFO 04:27PM [load_ansys_project]: \tOpened Ansys App\n",
      "INFO 04:27PM [load_ansys_project]: \tOpened Ansys Desktop v2021.1.0\n",
      "INFO 04:27PM [load_ansys_project]: \tOpened Ansys Project\n",
      "\tFolder:    C:/Users/Luxcuse/Documents/Ansoft/\n",
      "\tProject:   Project_reset_v5\n",
      "INFO 04:27PM [connect_design]: \tOpened active design\n",
      "\tDesign:    Reset_chip_ver5_1 [Solution type: Eigenmode]\n",
      "INFO 04:27PM [get_setup]: \tOpened setup `Setup`  (<class 'pyEPR.ansys.HfssEMSetup'>)\n",
      "INFO 04:27PM [connect]: \tConnected to project \"Project_reset_v5\" and design \"Reset_chip_ver5_1\" 😀 \n",
      "\n",
      "INFO 04:27PM [connect_design]: \tOpened active design\n",
      "\tDesign:    Reset_chip_ver5_1 [Solution type: Eigenmode]\n"
     ]
    }
   ],
   "source": [
    "hfss_rend.start()\n",
    "hfss_rend.activate_ansys_design(\"Reset_chip_ver5_1\", 'eigenmode')\n",
    "hfss_rend.render_design(['Q_1', 'PF_11', 'R_11', 'T_coupler_R_11', 'T_coupler_PF_11', 'highC_PF_TL_11'], [])"
   ]
  },
  {
   "cell_type": "code",
   "execution_count": 45,
   "metadata": {},
   "outputs": [
    {
     "data": {
      "text/plain": [
       "{'name': 'Reset_chip_ver5_1',\n",
       " 'reuse_selected_design': True,\n",
       " 'reuse_setup': True,\n",
       " 'min_freq_ghz': 5,\n",
       " 'n_modes': 2,\n",
       " 'max_delta_f': 0.03,\n",
       " 'max_passes': 10,\n",
       " 'min_passes': 1,\n",
       " 'min_converged': 3,\n",
       " 'pct_refinement': 30,\n",
       " 'basis_order': 1,\n",
       " 'vars': {'Lj': '10 nH', 'Cj': '0 fF'},\n",
       " 'max_freq_ghz': 8}"
      ]
     },
     "execution_count": 45,
     "metadata": {},
     "output_type": "execute_result"
    }
   ],
   "source": [
    "em_p = eig_qb.sim.setup\n",
    "em_p.name = 'Reset_chip_ver5_1'\n",
    "em_p.min_freq_ghz = 5\n",
    "em_p.max_freq_ghz = 8\n",
    "em_p.n_modes = 2\n",
    "em_p.max_passes = 10\n",
    "em_p.max_delta_f = 0.03\n",
    "em_p.min_converged = 3\n",
    "em_p.pct_refinement = 30\n",
    "# Design variables can also be added in for direct simulation sweeps.\n",
    "# em_p.vars = Dict({'Lj1': '11.2 nH', 'Cj1': '2 fF'})\n",
    "\n",
    "eig_qb.sim.setup"
   ]
  },
  {
   "cell_type": "code",
   "execution_count": 46,
   "metadata": {},
   "outputs": [
    {
     "name": "stderr",
     "output_type": "stream",
     "text": [
      "INFO 04:28PM [get_setup]: \tOpened setup `Setup`  (<class 'pyEPR.ansys.HfssEMSetup'>)\n",
      "INFO 04:28PM [analyze]: Analyzing setup Setup\n"
     ]
    }
   ],
   "source": [
    "hfss_rend.analyze_setup(\"Setup\")"
   ]
  },
  {
   "cell_type": "code",
   "execution_count": 53,
   "metadata": {},
   "outputs": [
    {
     "name": "stderr",
     "output_type": "stream",
     "text": [
      "WARNING:py.warnings:c:\\Users\\Luxcuse\\anaconda3\\envs\\env-metal\\Lib\\site-packages\\pyEPR\\core_distributed_analysis.py:504: FutureWarning: The default dtype for empty Series will be 'object' instead of 'float64' in a future version. Specify a dtype explicitly to silence this warning.\n",
      "  self._hfss_variables[variation] = pd.Series(\n",
      "\n",
      "WARNING:py.warnings:c:\\Users\\Luxcuse\\anaconda3\\envs\\env-metal\\Lib\\site-packages\\pyEPR\\core_distributed_analysis.py:504: FutureWarning: The default dtype for empty Series will be 'object' instead of 'float64' in a future version. Specify a dtype explicitly to silence this warning.\n",
      "  self._hfss_variables[variation] = pd.Series(\n",
      "\n"
     ]
    },
    {
     "name": "stdout",
     "output_type": "stream",
     "text": [
      "Design \"Reset_chip_ver5_1\" info:\n",
      "\t# eigenmodes    1\n",
      "\t# variations    1\n",
      "Design \"Reset_chip_ver5_1\" info:\n",
      "\t# eigenmodes    1\n",
      "\t# variations    1\n"
     ]
    },
    {
     "data": {
      "text/html": [
       "<div>\n",
       "<style scoped>\n",
       "    .dataframe tbody tr th:only-of-type {\n",
       "        vertical-align: middle;\n",
       "    }\n",
       "\n",
       "    .dataframe tbody tr th {\n",
       "        vertical-align: top;\n",
       "    }\n",
       "\n",
       "    .dataframe thead th {\n",
       "        text-align: right;\n",
       "    }\n",
       "</style>\n",
       "<table border=\"1\" class=\"dataframe\">\n",
       "  <thead>\n",
       "    <tr style=\"text-align: right;\">\n",
       "      <th></th>\n",
       "      <th></th>\n",
       "      <th>Freq. (GHz)</th>\n",
       "      <th>Quality Factor</th>\n",
       "    </tr>\n",
       "    <tr>\n",
       "      <th>variation</th>\n",
       "      <th>mode</th>\n",
       "      <th></th>\n",
       "      <th></th>\n",
       "    </tr>\n",
       "  </thead>\n",
       "  <tbody>\n",
       "    <tr>\n",
       "      <th>0</th>\n",
       "      <th>0</th>\n",
       "      <td>6.501411</td>\n",
       "      <td>inf</td>\n",
       "    </tr>\n",
       "  </tbody>\n",
       "</table>\n",
       "</div>"
      ],
      "text/plain": [
       "                Freq. (GHz)  Quality Factor\n",
       "variation mode                             \n",
       "0         0        6.501411             inf"
      ]
     },
     "execution_count": 53,
     "metadata": {},
     "output_type": "execute_result"
    }
   ],
   "source": [
    "eig_qb.get_frequencies()"
   ]
  },
  {
   "cell_type": "code",
   "execution_count": 54,
   "metadata": {},
   "outputs": [
    {
     "data": {
      "text/plain": [
       "{'junctions': {'jj': {'Lj_variable': 'Lj',\n",
       "   'Cj_variable': 'Cj',\n",
       "   'rect': '',\n",
       "   'line': ''}},\n",
       " 'dissipatives': {'dielectrics_bulk': ['main']},\n",
       " 'cos_trunc': 8,\n",
       " 'fock_trunc': 7,\n",
       " 'sweep_variable': 'Lj'}"
      ]
     },
     "execution_count": 54,
     "metadata": {},
     "output_type": "execute_result"
    }
   ],
   "source": [
    "# eig_qb.sim.plot_convergences()\n",
    "eig_qb.setup\n",
    "# eig_qb.get_frequencies()"
   ]
  },
  {
   "cell_type": "code",
   "execution_count": 55,
   "metadata": {},
   "outputs": [],
   "source": [
    "eig_qb.sim.close()"
   ]
  },
  {
   "cell_type": "markdown",
   "metadata": {},
   "source": [
    "## Scattering Impedance analysis - Not recommended"
   ]
  },
  {
   "cell_type": "code",
   "execution_count": 26,
   "metadata": {},
   "outputs": [
    {
     "name": "stderr",
     "output_type": "stream",
     "text": [
      "INFO 04:54PM [connect_project]: Connecting to Ansys Desktop API...\n",
      "INFO 04:54PM [load_ansys_project]: \tOpened Ansys App\n",
      "INFO 04:54PM [load_ansys_project]: \tOpened Ansys Desktop v2021.1.0\n",
      "INFO 04:54PM [load_ansys_project]: \tOpened Ansys Project\n",
      "\tFolder:    C:/Users/Luxcuse/Documents/Ansoft/\n",
      "\tProject:   Project_reset_v5\n",
      "INFO 04:54PM [connect_design]: \tOpened active design\n",
      "\tDesign:    Reset_v5_1 [Solution type: DrivenModal]\n",
      "INFO 04:54PM [get_setup]: \tOpened setup `Setup`  (<class 'pyEPR.ansys.HfssDMSetup'>)\n",
      "INFO 04:54PM [connect]: \tConnected to project \"Project_reset_v5\" and design \"Reset_v5_1\" 😀 \n",
      "\n",
      "INFO 04:54PM [connect_design]: \tOpened active design\n",
      "\tDesign:    Reset_v5_1 [Solution type: DrivenModal]\n"
     ]
    }
   ],
   "source": [
    "from qiskit_metal.analyses.simulation.scattering_impedance import ScatteringImpedanceSim\n",
    "em1 = ScatteringImpedanceSim(design, \"hfss\")\n",
    "Reset_v5 = em1.renderer\n",
    "Reset_v5.start()\n",
    "Reset_v5.activate_ansys_design(\"Reset_v5_1\", 'drivenmodal')\n",
    "Reset_v5.options['x_buffer_width_mm'] = 0.5\n",
    "Reset_v5.options['y_buffer_width_mm'] = 0.5\n",
    "Reset_v5.options['wb_size'] = 3\n",
    "Reset_v5.options['wb_threshold'] = '150um'"
   ]
  },
  {
   "cell_type": "code",
   "execution_count": 27,
   "metadata": {},
   "outputs": [
    {
     "name": "stderr",
     "output_type": "stream",
     "text": [
      "INFO 04:54PM [get_setup]: \tOpened setup `Setup`  (<class 'pyEPR.ansys.HfssDMSetup'>)\n"
     ]
    },
    {
     "data": {
      "text/plain": [
       "<pyEPR.ansys.HfssFrequencySweep at 0x1c89f68ad10>"
      ]
     },
     "execution_count": 27,
     "metadata": {},
     "output_type": "execute_result"
    }
   ],
   "source": [
    "Reset_v5.render_design(['PF_11','T_coupler_PF_11','highC_PF_TL_11','PF_read'], [],\n",
    "                   port_list=[('highC_PF_TL_11','north_end',50),('PF_read','end',50)])\n",
    "# Reset_v5.save_screenshot()\n",
    "Reset_v5.add_sweep(setup_name=\"Setup\",\n",
    "               name=\"Sweep1\",\n",
    "               start_ghz=2,\n",
    "               stop_ghz=10,\n",
    "               count=801,\n",
    "               type=\"Interpolating\"\n",
    "               )"
   ]
  },
  {
   "cell_type": "code",
   "execution_count": 28,
   "metadata": {},
   "outputs": [
    {
     "name": "stderr",
     "output_type": "stream",
     "text": [
      "INFO 04:55PM [get_setup]: \tOpened setup `Setup`  (<class 'pyEPR.ansys.HfssDMSetup'>)\n",
      "INFO 04:55PM [analyze]: Analyzing setup Setup : Sweep1\n"
     ]
    }
   ],
   "source": [
    "Reset_v5.analyze_sweep('Sweep1', 'Setup')\n"
   ]
  },
  {
   "cell_type": "code",
   "execution_count": 30,
   "metadata": {},
   "outputs": [
    {
     "ename": "com_error",
     "evalue": "(-2147352567, '예외가 발생했습니다.', (0, None, None, None, 0, -2147024381), None)",
     "output_type": "error",
     "traceback": [
      "\u001b[1;31m---------------------------------------------------------------------------\u001b[0m",
      "\u001b[1;31mcom_error\u001b[0m                                 Traceback (most recent call last)",
      "Cell \u001b[1;32mIn[30], line 1\u001b[0m\n\u001b[1;32m----> 1\u001b[0m data \u001b[38;5;241m=\u001b[39m \u001b[43mReset_v5\u001b[49m\u001b[38;5;241;43m.\u001b[39;49m\u001b[43mplot_params\u001b[49m\u001b[43m(\u001b[49m\u001b[43m[\u001b[49m\u001b[38;5;124;43m'\u001b[39;49m\u001b[38;5;124;43mS11\u001b[39;49m\u001b[38;5;124;43m'\u001b[39;49m\u001b[43m,\u001b[49m\u001b[38;5;124;43m'\u001b[39;49m\u001b[38;5;124;43mS21\u001b[39;49m\u001b[38;5;124;43m'\u001b[39;49m\u001b[43m]\u001b[49m\u001b[43m)\u001b[49m\n",
      "File \u001b[1;32mc:\\Users\\Luxcuse\\Documents\\GitHub\\qiskit-metal-SQNL\\qiskit_metal\\renderers\\renderer_ansys\\hfss_renderer.py:949\u001b[0m, in \u001b[0;36mQHFSSRenderer.plot_params\u001b[1;34m(self, param_name)\u001b[0m\n\u001b[0;32m    942\u001b[0m \u001b[38;5;28;01mdef\u001b[39;00m \u001b[38;5;21mplot_params\u001b[39m(\u001b[38;5;28mself\u001b[39m, param_name: Union[\u001b[38;5;28mlist\u001b[39m, \u001b[38;5;28;01mNone\u001b[39;00m] \u001b[38;5;241m=\u001b[39m \u001b[38;5;28;01mNone\u001b[39;00m):\n\u001b[0;32m    943\u001b[0m \u001b[38;5;250m    \u001b[39m\u001b[38;5;124;03m\"\"\"Plot one or more parameters (S, Y, or Z) as a function of frequency.\u001b[39;00m\n\u001b[0;32m    944\u001b[0m \u001b[38;5;124;03m    S = scattering matrix, Y = Admittance, Z= impedance.\u001b[39;00m\n\u001b[0;32m    945\u001b[0m \n\u001b[0;32m    946\u001b[0m \u001b[38;5;124;03m    Args:\u001b[39;00m\n\u001b[0;32m    947\u001b[0m \u001b[38;5;124;03m        param_name (Union[list, None], optional): Parameters to plot. Defaults to None.\u001b[39;00m\n\u001b[0;32m    948\u001b[0m \u001b[38;5;124;03m    \"\"\"\u001b[39;00m\n\u001b[1;32m--> 949\u001b[0m     freqs, Pcurves, Pparams \u001b[38;5;241m=\u001b[39m \u001b[38;5;28;43mself\u001b[39;49m\u001b[38;5;241;43m.\u001b[39;49m\u001b[43mget_params\u001b[49m\u001b[43m(\u001b[49m\u001b[43mparam_name\u001b[49m\u001b[43m)\u001b[49m\n\u001b[0;32m    950\u001b[0m     \u001b[38;5;28;01mif\u001b[39;00m Pparams \u001b[38;5;129;01mis\u001b[39;00m \u001b[38;5;129;01mnot\u001b[39;00m \u001b[38;5;28;01mNone\u001b[39;00m:\n\u001b[0;32m    951\u001b[0m         fig, axs \u001b[38;5;241m=\u001b[39m plt\u001b[38;5;241m.\u001b[39msubplots(\u001b[38;5;241m1\u001b[39m, \u001b[38;5;241m2\u001b[39m, figsize\u001b[38;5;241m=\u001b[39m(\u001b[38;5;241m10\u001b[39m, \u001b[38;5;241m6\u001b[39m))\n",
      "File \u001b[1;32mc:\\Users\\Luxcuse\\Documents\\GitHub\\qiskit-metal-SQNL\\qiskit_metal\\renderers\\renderer_ansys\\hfss_renderer.py:905\u001b[0m, in \u001b[0;36mQHFSSRenderer.get_params\u001b[1;34m(self, param_name)\u001b[0m\n\u001b[0;32m    898\u001b[0m \u001b[38;5;250m\u001b[39m\u001b[38;5;124;03m\"\"\"Get one or more parameters (S, Y, or Z) as a function of frequency.\u001b[39;00m\n\u001b[0;32m    899\u001b[0m \n\u001b[0;32m    900\u001b[0m \u001b[38;5;124;03mArgs:\u001b[39;00m\n\u001b[0;32m    901\u001b[0m \u001b[38;5;124;03m    param_name (Union[list, None], optional): Parameters to obtain. Defaults to None.\u001b[39;00m\n\u001b[0;32m    902\u001b[0m \u001b[38;5;124;03m\"\"\"\u001b[39;00m\n\u001b[0;32m    903\u001b[0m \u001b[38;5;28;01mif\u001b[39;00m \u001b[38;5;28mself\u001b[39m\u001b[38;5;241m.\u001b[39mcurrent_sweep:\n\u001b[1;32m--> 905\u001b[0m     freqs, Pcurves \u001b[38;5;241m=\u001b[39m \u001b[38;5;28;43mself\u001b[39;49m\u001b[38;5;241;43m.\u001b[39;49m\u001b[43mcurrent_sweep\u001b[49m\u001b[38;5;241;43m.\u001b[39;49m\u001b[43mget_network_data\u001b[49m\u001b[43m(\u001b[49m\u001b[43mparam_name\u001b[49m\u001b[43m)\u001b[49m\n\u001b[0;32m    906\u001b[0m     Pparams \u001b[38;5;241m=\u001b[39m pd\u001b[38;5;241m.\u001b[39mDataFrame(Pcurves,\n\u001b[0;32m    907\u001b[0m                            columns\u001b[38;5;241m=\u001b[39mfreqs \u001b[38;5;241m/\u001b[39m \u001b[38;5;241m1e9\u001b[39m,\n\u001b[0;32m    908\u001b[0m                            index\u001b[38;5;241m=\u001b[39mparam_name)\u001b[38;5;241m.\u001b[39mtranspose()\n\u001b[0;32m    909\u001b[0m \u001b[38;5;28;01mreturn\u001b[39;00m freqs, Pcurves, Pparams\n",
      "File \u001b[1;32mc:\\Users\\Luxcuse\\anaconda3\\envs\\env-metal\\Lib\\site-packages\\pyEPR\\ansys.py:1802\u001b[0m, in \u001b[0;36mHfssFrequencySweep.get_network_data\u001b[1;34m(self, formats)\u001b[0m\n\u001b[0;32m   1800\u001b[0m \u001b[38;5;28;01mif\u001b[39;00m \u001b[38;5;28mlist\u001b[39m:\n\u001b[0;32m   1801\u001b[0m     fn \u001b[38;5;241m=\u001b[39m tempfile\u001b[38;5;241m.\u001b[39mmktemp()\n\u001b[1;32m-> 1802\u001b[0m     \u001b[38;5;28;43mself\u001b[39;49m\u001b[38;5;241;43m.\u001b[39;49m\u001b[43mparent\u001b[49m\u001b[38;5;241;43m.\u001b[39;49m\u001b[43m_solutions\u001b[49m\u001b[38;5;241;43m.\u001b[39;49m\u001b[43mExportNetworkData\u001b[49m\u001b[43m(\u001b[49m\n\u001b[0;32m   1803\u001b[0m \u001b[43m        \u001b[49m\u001b[43m[\u001b[49m\u001b[43m]\u001b[49m\u001b[43m,\u001b[49m\u001b[43m \u001b[49m\u001b[38;5;28;43mself\u001b[39;49m\u001b[38;5;241;43m.\u001b[39;49m\u001b[43mparent\u001b[49m\u001b[38;5;241;43m.\u001b[39;49m\u001b[43mname\u001b[49m\u001b[43m \u001b[49m\u001b[38;5;241;43m+\u001b[39;49m\u001b[43m \u001b[49m\u001b[38;5;124;43m\"\u001b[39;49m\u001b[38;5;124;43m : \u001b[39;49m\u001b[38;5;124;43m\"\u001b[39;49m\u001b[43m \u001b[49m\u001b[38;5;241;43m+\u001b[39;49m\u001b[43m \u001b[49m\u001b[38;5;28;43mself\u001b[39;49m\u001b[38;5;241;43m.\u001b[39;49m\u001b[43mname\u001b[49m\u001b[43m,\u001b[49m\u001b[43m \u001b[49m\u001b[38;5;241;43m2\u001b[39;49m\u001b[43m,\u001b[49m\u001b[43m \u001b[49m\u001b[43mfn\u001b[49m\u001b[43m,\u001b[49m\u001b[43m \u001b[49m\u001b[43m[\u001b[49m\u001b[38;5;124;43m\"\u001b[39;49m\u001b[38;5;124;43mall\u001b[39;49m\u001b[38;5;124;43m\"\u001b[39;49m\u001b[43m]\u001b[49m\u001b[43m,\u001b[49m\n\u001b[0;32m   1804\u001b[0m \u001b[43m        \u001b[49m\u001b[38;5;28;43;01mFalse\u001b[39;49;00m\u001b[43m,\u001b[49m\u001b[43m \u001b[49m\u001b[38;5;241;43m0\u001b[39;49m\u001b[43m,\u001b[49m\u001b[43m \u001b[49m\u001b[43mdata_type\u001b[49m\u001b[43m,\u001b[49m\u001b[43m \u001b[49m\u001b[38;5;241;43m-\u001b[39;49m\u001b[38;5;241;43m1\u001b[39;49m\u001b[43m,\u001b[49m\u001b[43m \u001b[49m\u001b[38;5;241;43m1\u001b[39;49m\u001b[43m,\u001b[49m\u001b[43m \u001b[49m\u001b[38;5;241;43m15\u001b[39;49m\u001b[43m)\u001b[49m\n\u001b[0;32m   1805\u001b[0m     \u001b[38;5;28;01mwith\u001b[39;00m \u001b[38;5;28mopen\u001b[39m(fn) \u001b[38;5;28;01mas\u001b[39;00m f:\n\u001b[0;32m   1806\u001b[0m         f\u001b[38;5;241m.\u001b[39mreadline()\n",
      "File \u001b[1;32m<COMObject GetModule>:4\u001b[0m, in \u001b[0;36mExportNetworkData\u001b[1;34m(self, theVariationKey, sourceNames, theFormat, theOutputFile, theFreqs, doRenorm, renormImped, dataType, Pass, complexFormat, precision, useExportFreqs, includeGammaComments, supportNonStdExport)\u001b[0m\n",
      "File \u001b[1;32mc:\\Users\\Luxcuse\\anaconda3\\envs\\env-metal\\Lib\\site-packages\\win32com\\client\\dynamic.py:366\u001b[0m, in \u001b[0;36mCDispatch._ApplyTypes_\u001b[1;34m(self, dispid, wFlags, retType, argTypes, user, resultCLSID, *args)\u001b[0m\n\u001b[0;32m    365\u001b[0m \u001b[38;5;28;01mdef\u001b[39;00m \u001b[38;5;21m_ApplyTypes_\u001b[39m(\u001b[38;5;28mself\u001b[39m, dispid, wFlags, retType, argTypes, user, resultCLSID, \u001b[38;5;241m*\u001b[39margs):\n\u001b[1;32m--> 366\u001b[0m     result \u001b[38;5;241m=\u001b[39m \u001b[38;5;28;43mself\u001b[39;49m\u001b[38;5;241;43m.\u001b[39;49m\u001b[43m_oleobj_\u001b[49m\u001b[38;5;241;43m.\u001b[39;49m\u001b[43mInvokeTypes\u001b[49m\u001b[43m(\u001b[49m\n\u001b[0;32m    367\u001b[0m \u001b[43m        \u001b[49m\u001b[38;5;241;43m*\u001b[39;49m\u001b[43m(\u001b[49m\u001b[43mdispid\u001b[49m\u001b[43m,\u001b[49m\u001b[43m \u001b[49m\u001b[43mLCID\u001b[49m\u001b[43m,\u001b[49m\u001b[43m \u001b[49m\u001b[43mwFlags\u001b[49m\u001b[43m,\u001b[49m\u001b[43m \u001b[49m\u001b[43mretType\u001b[49m\u001b[43m,\u001b[49m\u001b[43m \u001b[49m\u001b[43margTypes\u001b[49m\u001b[43m)\u001b[49m\u001b[43m \u001b[49m\u001b[38;5;241;43m+\u001b[39;49m\u001b[43m \u001b[49m\u001b[43margs\u001b[49m\n\u001b[0;32m    368\u001b[0m \u001b[43m    \u001b[49m\u001b[43m)\u001b[49m\n\u001b[0;32m    369\u001b[0m     \u001b[38;5;28;01mreturn\u001b[39;00m \u001b[38;5;28mself\u001b[39m\u001b[38;5;241m.\u001b[39m_get_good_object_(result, user, resultCLSID)\n",
      "\u001b[1;31mcom_error\u001b[0m: (-2147352567, '예외가 발생했습니다.', (0, None, None, None, 0, -2147024381), None)"
     ]
    }
   ],
   "source": [
    "data = Reset_v5.plot_params(['S11','S21'])"
   ]
  },
  {
   "cell_type": "code",
   "execution_count": 75,
   "metadata": {},
   "outputs": [],
   "source": [
    "em1.close()"
   ]
  },
  {
   "cell_type": "markdown",
   "metadata": {},
   "source": [
    "# Calculators"
   ]
  },
  {
   "cell_type": "code",
   "execution_count": null,
   "metadata": {},
   "outputs": [],
   "source": [
    "Phi_0 = 2.067833848e-15\n",
    "Delta_Al = 1.7e-4\n",
    "Lj_test = 9.33\n",
    "Ic_test = Phi_0/2/np.pi/Lj_test/1e-9\n",
    "print(\"When Lj={:.3f}[nH],\".format(Lj_test)+\"Ic={:.3f}[nA]\".format(Ic_test/1e-9))"
   ]
  },
  {
   "cell_type": "code",
   "execution_count": 52,
   "metadata": {},
   "outputs": [
    {
     "name": "stdout",
     "output_type": "stream",
     "text": [
      "Rn=9087.638640720297\n"
     ]
    }
   ],
   "source": [
    "print('Rn={}'.format(np.pi/2*Delta_Al/Ic_test))"
   ]
  },
  {
   "cell_type": "code",
   "execution_count": null,
   "metadata": {},
   "outputs": [
    {
     "name": "stdout",
     "output_type": "stream",
     "text": [
      "RRR=1.019100931606024\n"
     ]
    }
   ],
   "source": [
    "# Calculate RRR\n",
    "R_300K = 11730\n",
    "Ic = 23.2e-9\n",
    "\n",
    "RRR = Ic * R_300K * 2 / np.pi / Delta_Al\n",
    "\n",
    "print('RRR={}'.format(RRR))"
   ]
  }
 ],
 "metadata": {
  "celltoolbar": "Tags",
  "kernelspec": {
   "display_name": "Python 3 (ipykernel)",
   "language": "python",
   "name": "python3"
  },
  "language_info": {
   "codemirror_mode": {
    "name": "ipython",
    "version": 3
   },
   "file_extension": ".py",
   "mimetype": "text/x-python",
   "name": "python",
   "nbconvert_exporter": "python",
   "pygments_lexer": "ipython3",
   "version": "3.11.8"
  }
 },
 "nbformat": 4,
 "nbformat_minor": 4
}
