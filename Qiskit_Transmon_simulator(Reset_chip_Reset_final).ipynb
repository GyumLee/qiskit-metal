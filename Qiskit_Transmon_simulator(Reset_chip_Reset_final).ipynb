{
 "cells": [
  {
   "cell_type": "markdown",
   "metadata": {},
   "source": [
    "# Example full chip design"
   ]
  },
  {
   "cell_type": "code",
   "execution_count": 1,
   "metadata": {},
   "outputs": [],
   "source": [
    "%load_ext autoreload\n",
    "%autoreload 2"
   ]
  },
  {
   "cell_type": "markdown",
   "metadata": {},
   "source": [
    "# Import Modules"
   ]
  },
  {
   "cell_type": "code",
   "execution_count": 2,
   "metadata": {
    "scrolled": true
   },
   "outputs": [],
   "source": [
    "import qiskit_metal as metal\n",
    "from qiskit_metal import designs, draw\n",
    "from qiskit_metal import MetalGUI, Dict, open_docs"
   ]
  },
  {
   "cell_type": "code",
   "execution_count": 3,
   "metadata": {},
   "outputs": [],
   "source": [
    "from qiskit_metal.analyses.em.cpw_calculations import guided_wavelength\n",
    "from qiskit_metal.qlibrary.tlines.meandered import RouteMeander\n",
    "from qiskit_metal.qlibrary.tlines.pathfinder import RoutePathfinder\n",
    "from qiskit_metal.qlibrary.tlines.anchored_path import RouteAnchors\n",
    "\n",
    "from qiskit_metal.qlibrary.lumped.cap_n_interdigital import CapNInterdigital\n",
    "from qiskit_metal.qlibrary.couplers.cap_n_interdigital_tee import CapNInterdigitalTee\n",
    "from qiskit_metal.qlibrary.couplers.coupled_line_tee import CoupledLineTee\n",
    "from qiskit_metal.qlibrary.couplers.line_tee import LineTee\n",
    "\n",
    "from qiskit_metal.qlibrary.terminations.launchpad_wb import LaunchpadWirebond\n",
    "from qiskit_metal.qlibrary.terminations.launchpad_wb_coupled import LaunchpadWirebondCoupled\n",
    "\n",
    "from qiskit_metal.qlibrary.tlines.framed_path import RouteFramed\n",
    "from qiskit_metal.qlibrary.terminations.short_to_ground import ShortToGround\n",
    "from qiskit_metal.qlibrary.terminations.open_to_ground import OpenToGround\n",
    "\n",
    "from collections import OrderedDict\n",
    "\n",
    "from qiskit_metal.qlibrary.tlines.straight_path import RouteStraight"
   ]
  },
  {
   "cell_type": "markdown",
   "metadata": {},
   "source": [
    "## Define \"TransmonPocket_sqnl\""
   ]
  },
  {
   "cell_type": "code",
   "execution_count": 4,
   "metadata": {},
   "outputs": [],
   "source": [
    "from qiskit_metal.qlibrary.core import BaseQubit\n",
    "import numpy as np\n",
    "class TransmonPocket_sqnl(BaseQubit):\n",
    "    default_options = Dict(\n",
    "        pad_gap='30um',\n",
    "        inductor_width='20um',\n",
    "        pad_width='455um',\n",
    "        pad_height='90um',\n",
    "        pocket_width='650um',\n",
    "        pocket_height='650um',\n",
    "        # 90 has dipole aligned along the +X axis,\n",
    "        # while 0 has dipole aligned along the +Y axis\n",
    "        _default_connection_pads=Dict(\n",
    "            connector_type='0',  # 0 = Claw type, 1 = T-shape\n",
    "            pad_width='125um',\n",
    "            pad_height='30um',\n",
    "            pad_cpw_shift='0um',\n",
    "            pad_cpw_extent='25um',\n",
    "            claw_length='30um',\n",
    "            claw_width='10um',\n",
    "            claw_gap='6um',\n",
    "            claw_cpw_length='40um',\n",
    "            claw_cpw_width='10um',\n",
    "            ground_spacing='5um',\n",
    "            connector_location= '0'  # 0~5 means six locations with rotated CCW starting from right-top site\n",
    "        ))\n",
    "    \"\"\"Default drawing options\"\"\"\n",
    "\n",
    "    component_metadata = Dict(short_name='Pocket_claw',\n",
    "                              _qgeometry_table_path='True',\n",
    "                              _qgeometry_table_poly='True',\n",
    "                              _qgeometry_table_junction='True')\n",
    "    \"\"\"Component metadata\"\"\"\n",
    "\n",
    "    TOOLTIP = \"\"\"The base `TransmonPocket_sqnl` class.\"\"\"\n",
    "\n",
    "    def make(self):\n",
    "        \"\"\"Define the way the options are turned into QGeometry.\n",
    "\n",
    "        The make function implements the logic that creates the geoemtry\n",
    "        (poly, path, etc.) from the qcomponent.options dictionary of\n",
    "        parameters, and the adds them to the design, using\n",
    "        qcomponent.add_qgeometry(...), adding in extra needed\n",
    "        information, such as layer, subtract, etc.\n",
    "        \"\"\"\n",
    "        self.make_pocket()\n",
    "        self.make_connection_pads()\n",
    "\n",
    "    def make_pocket(self):\n",
    "        \"\"\"Makes standard transmon in a pocket.\"\"\"\n",
    "\n",
    "        # self.p allows us to directly access parsed values (string -> numbers) form the user option\n",
    "        p = self.p\n",
    "\n",
    "        # extract chip name\n",
    "        chip = p.chip\n",
    "\n",
    "        # since we will reuse these options, parse them once and define them as varaibles\n",
    "        pad_width = p.pad_width\n",
    "        pad_height = p.pad_height\n",
    "        pad_gap = p.pad_gap\n",
    "\n",
    "        # make the pads as rectangles (shapely polygons)\n",
    "        pad = draw.rectangle(pad_width, pad_height)\n",
    "        pad_top = draw.translate(pad, 0, +(pad_height + pad_gap) / 2.)\n",
    "        pad_bot = draw.translate(pad, 0, -(pad_height + pad_gap) / 2.)\n",
    "\n",
    "        rect_jj = draw.LineString([(0, -pad_gap / 2), (0, +pad_gap / 2)])\n",
    "        # the draw.rectangle representing the josephson junction\n",
    "        # rect_jj = draw.rectangle(p.inductor_width, pad_gap)\n",
    "\n",
    "        rect_pk = draw.rectangle(p.pocket_width, p.pocket_height)\n",
    "\n",
    "        # Rotate and translate all qgeometry as needed.\n",
    "        # Done with utility functions in Metal 'draw_utility' for easy rotation/translation\n",
    "        # NOTE: Should modify so rotate/translate accepts qgeometry, would allow for\n",
    "        # smoother implementation.\n",
    "        polys = [rect_jj, pad_top, pad_bot, rect_pk]\n",
    "        polys = draw.rotate(polys, p.orientation, origin=(0, 0))\n",
    "        polys = draw.translate(polys, p.pos_x, p.pos_y)\n",
    "        [rect_jj, pad_top, pad_bot, rect_pk] = polys\n",
    "\n",
    "        # Use the geometry to create Metal qgeometry\n",
    "        self.add_qgeometry('poly',\n",
    "                           dict(pad_top=pad_top, pad_bot=pad_bot),\n",
    "                           chip=chip)\n",
    "        self.add_qgeometry('poly',\n",
    "                           dict(rect_pk=rect_pk),\n",
    "                           subtract=True,\n",
    "                           chip=chip)\n",
    "        # self.add_qgeometry('poly', dict(\n",
    "        #     rect_jj=rect_jj), helper=True)\n",
    "        self.add_qgeometry('junction',\n",
    "                           dict(rect_jj=rect_jj),\n",
    "                           width=p.inductor_width,\n",
    "                           chip=chip)\n",
    "\n",
    "    def make_connection_pads(self):\n",
    "        \"\"\"Makes standard transmon in a pocket.\"\"\"\n",
    "        for name in self.options.connection_pads:\n",
    "            self.make_connection_pad(name)\n",
    "\n",
    "    def make_connection_pad(self, name: str):\n",
    "        \"\"\"Makes n individual connector.\n",
    "\n",
    "        Args:\n",
    "            name (str) : Name of the connector\n",
    "        \"\"\"\n",
    "        # self.p allows us to directly access parsed values (string -> numbers) form the user option\n",
    "        p = self.p\n",
    "        pc = self.p.connection_pads[name]  # parser on connector options\n",
    "        # extract chip name\n",
    "        chip = p.chip\n",
    "    \n",
    "        if pc.connector_type == 0:  # Claw connector\n",
    "            \n",
    "            # define commonly used variables once\n",
    "            pad_width = p.pad_width\n",
    "            pad_height = p.pad_height\n",
    "            pad_gap = p.pad_gap\n",
    "            pocket_width = p.pocket_width\n",
    "            pocket_height = p.pocket_height\n",
    "    \n",
    "            c_g = pc.claw_gap\n",
    "            c_l = pc.claw_length\n",
    "            c_w = pc.claw_width\n",
    "            c_c_w = pc.claw_cpw_width\n",
    "            c_c_l = pc.claw_cpw_length\n",
    "            g_s = pc.ground_spacing\n",
    "            con_loc = pc.connector_location\n",
    "    \n",
    "            claw_cpw = draw.box(-c_w, -c_c_w / 2, -c_c_l - c_w, c_c_w / 2)\n",
    "            if con_loc == 0 or  con_loc == 2 or  con_loc == 3 or  con_loc == 5:\n",
    "                t_claw_height = 2*c_g + 2 * c_w + pad_height  # temp value\n",
    "    \n",
    "                claw_base     = draw.box(-c_w, -(t_claw_height) / 2, c_l, t_claw_height / 2)\n",
    "                claw_subtract = draw.box(0, -t_claw_height / 2 + c_w, c_l, t_claw_height / 2 - c_w)\n",
    "                claw_base = claw_base.difference(claw_subtract)\n",
    "    \n",
    "                connector_arm = draw.shapely.ops.unary_union([claw_base, claw_cpw])\n",
    "                connector_etcher = draw.buffer(connector_arm, c_g)\n",
    "            elif con_loc == 1 or  con_loc == 4:\n",
    "                t_claw_height = 2*c_g + 2 * c_w + pad_width  # temp value\n",
    "    \n",
    "                claw_base     = draw.box(-c_w, -(t_claw_height) / 2, c_l, t_claw_height / 2)\n",
    "                claw_subtract = draw.box(0, -t_claw_height / 2 + c_w, c_l, t_claw_height / 2 - c_w)\n",
    "                claw_base = claw_base.difference(claw_subtract)\n",
    "    \n",
    "                connector_arm = draw.shapely.ops.unary_union([claw_base, claw_cpw])\n",
    "                connector_etcher = draw.buffer(connector_arm, g_s)\n",
    "            else:\n",
    "                print('Not appropriate position of connector')\n",
    "            \n",
    "            port_line = draw.LineString([(- c_w, 0),\n",
    "                                     (-c_c_l - c_w, 0)])\n",
    "\n",
    "            claw_rotate = 0\n",
    "            if con_loc == 0:\n",
    "                claw_rotate = -180\n",
    "            elif con_loc == 1:\n",
    "                claw_rotate = -90\n",
    "            elif con_loc == 2:\n",
    "                claw_rotate = 0\n",
    "            elif con_loc == 3:\n",
    "                claw_rotate = 0\n",
    "            elif con_loc == 4:\n",
    "                claw_rotate = 90\n",
    "            elif con_loc == 5:\n",
    "                claw_rotate = 180\n",
    "    \n",
    "            claw_translate_x = (con_loc==0 or con_loc==5)*(pad_width/2 + c_g) + (con_loc==2 or con_loc==3)*(-pad_width/2 - c_g)\n",
    "            claw_translate_y = (con_loc==0 or con_loc==2)*(pad_height + pad_gap)/2 + (con_loc==5 or con_loc==3)*(-pad_height - pad_gap)/2 + (con_loc==1)*(pad_height + pad_gap/2 + c_g) - (con_loc==4)*(pad_height + pad_gap/2 + c_g)\n",
    "            \n",
    "            # Rotates and translates the connector polygons (and temporary port_line)\n",
    "            polys = [connector_arm, connector_etcher, port_line]\n",
    "            polys = draw.rotate(polys, claw_rotate, origin=(0, 0))\n",
    "            polys = draw.translate(polys, claw_translate_x, claw_translate_y)\n",
    "            #polys = draw.rotate(polys, p.orientation, origin=(0, 0))\n",
    "            polys = draw.translate(polys, p.pos_x, p.pos_y)\n",
    "            [connector_arm, connector_etcher, port_line] = polys\n",
    "    \n",
    "            # Generates qgeometry for the connector pads\n",
    "            self.add_qgeometry('poly', {f'{name}_connector_arm': connector_arm},\n",
    "                               chip=chip)\n",
    "            self.add_qgeometry('poly',\n",
    "                               {f'{name}_connector_etcher': connector_etcher},\n",
    "                               subtract=True,\n",
    "                               chip=chip)\n",
    "    \n",
    "            self.add_pin(name, points=port_line.coords, width=c_c_w,input_as_norm=True)\n",
    "        elif pc.connector_type == 1:  # T-shape connector\n",
    "            \n",
    "            # define commonly used variables once\n",
    "            pad_width = p.pad_width\n",
    "            pad_height = p.pad_height\n",
    "            pad_gap = p.pad_gap\n",
    "            pocket_width = p.pocket_width\n",
    "            pocket_height = p.pocket_height\n",
    "    \n",
    "            c_g = pc.claw_gap\n",
    "            c_l = 0\n",
    "            c_w = pc.claw_width\n",
    "            c_c_w = pc.claw_cpw_width\n",
    "            c_c_l = pc.claw_cpw_length\n",
    "            g_s = pc.ground_spacing\n",
    "            con_loc = pc.connector_location\n",
    "    \n",
    "            claw_cpw = draw.box(-c_w, -c_c_w / 2, -c_c_l - c_w, c_c_w / 2)\n",
    "            if con_loc == 0 or  con_loc == 2 or  con_loc == 3 or  con_loc == 5:\n",
    "                t_claw_height = pc.t_claw_height\n",
    "    \n",
    "                claw_base     = draw.box(-c_w, -(t_claw_height) / 2, c_l, t_claw_height / 2)\n",
    "                claw_subtract = draw.box(0, -t_claw_height / 2 + c_w, c_l, t_claw_height / 2 - c_w)\n",
    "                claw_base = claw_base.difference(claw_subtract)\n",
    "    \n",
    "                connector_arm = draw.shapely.ops.unary_union([claw_base, claw_cpw])\n",
    "                connector_etcher = draw.buffer(connector_arm, c_g)\n",
    "            elif con_loc == 1 or  con_loc == 4:\n",
    "                t_claw_height = pc.t_claw_height\n",
    "    \n",
    "                claw_base     = draw.box(-c_w, -(t_claw_height) / 2, c_l, t_claw_height / 2)\n",
    "                claw_subtract = draw.box(0, -t_claw_height / 2 + c_w, c_l, t_claw_height / 2 - c_w)\n",
    "                claw_base = claw_base.difference(claw_subtract)\n",
    "    \n",
    "                connector_arm = draw.shapely.ops.unary_union([claw_base, claw_cpw])\n",
    "                connector_etcher = draw.buffer(connector_arm, c_g)\n",
    "            else:\n",
    "                print('Not appropriate position of connector')\n",
    "            \n",
    "            port_line = draw.LineString([(- c_w, 0),\n",
    "                                     (-c_c_l - c_w, 0)])\n",
    "\n",
    "            claw_rotate = 0\n",
    "            if con_loc == 0:\n",
    "                claw_rotate = -180\n",
    "            elif con_loc == 1:\n",
    "                claw_rotate = -90\n",
    "            elif con_loc == 2:\n",
    "                claw_rotate = 0\n",
    "            elif con_loc == 3:\n",
    "                claw_rotate = 0\n",
    "            elif con_loc == 4:\n",
    "                claw_rotate = 90\n",
    "            elif con_loc == 5:\n",
    "                claw_rotate = 180\n",
    "    \n",
    "            claw_translate_x = (con_loc==0 or con_loc==5)*(pad_width/2 + g_s) + (con_loc==2 or con_loc==3)*(-pad_width/2 - g_s)\n",
    "            claw_translate_y = (con_loc==0 or con_loc==2)*(pad_height + pad_gap)/2 + (con_loc==5 or con_loc==3)*(-pad_height - pad_gap)/2 + (con_loc==1)*(pad_height + pad_gap/2 + g_s) - (con_loc==4)*(pad_height + pad_gap/2 + g_s)\n",
    "            \n",
    "            # Rotates and translates the connector polygons (and temporary port_line)\n",
    "            polys = [connector_arm, connector_etcher, port_line]\n",
    "            polys = draw.rotate(polys, claw_rotate, origin=(0, 0))\n",
    "            polys = draw.translate(polys, claw_translate_x, claw_translate_y)\n",
    "            polys = draw.rotate(polys, p.orientation, origin=(0, 0))\n",
    "            polys = draw.translate(polys, p.pos_x, p.pos_y)\n",
    "            [connector_arm, connector_etcher, port_line] = polys\n",
    "    \n",
    "            # Generates qgeometry for the connector pads\n",
    "            self.add_qgeometry('poly', {f'{name}_connector_arm': connector_arm},\n",
    "                               chip=chip)\n",
    "            self.add_qgeometry('poly',\n",
    "                               {f'{name}_connector_etcher': connector_etcher},\n",
    "                               subtract=True,\n",
    "                               chip=chip)\n",
    "    \n",
    "            self.add_pin(name, points=port_line.coords, width=c_c_w,input_as_norm=True)\n",
    "\n",
    "        else:\n",
    "            print('Incorrect connector type')\n",
    "            \n",
    "        "
   ]
  },
  {
   "cell_type": "markdown",
   "metadata": {},
   "source": [
    "## Define \"LineTee_sqnl\""
   ]
  },
  {
   "cell_type": "code",
   "execution_count": 5,
   "metadata": {},
   "outputs": [],
   "source": [
    "from qiskit_metal.qlibrary.core import QComponent\n",
    "class LineTee_sqnl(QComponent):\n",
    "    \"\"\"Generates a three pin (+) structure comprised of a primary two pin CPW\n",
    "    transmission line, and a secondary one pin neighboring CPW transmission\n",
    "    line that is capacitively coupled to the primary. Such a structure can be\n",
    "    used, as an example, for generating CPW resonator hangars off of a\n",
    "    transmission line. (0,0) represents the center position of the component.\n",
    "\n",
    "    Inherits QComponent class.\n",
    "\n",
    "    ::\n",
    "\n",
    "                  (0,0)\n",
    "        +--------------------------+\n",
    "                    |\n",
    "                    |\n",
    "                    |\n",
    "                    |\n",
    "                    |\n",
    "                    +\n",
    "\n",
    "    .. image::\n",
    "        LineTee.png\n",
    "\n",
    "    .. meta::\n",
    "        Line Tee\n",
    "\n",
    "    Options:\n",
    "        * prime_width: '10um' -- The width of the trace of the two pin CPW transmission line\n",
    "        * prime_gap: '6um' -- The dielectric gap of the two pin CPW transmission line\n",
    "        * second_width: '10um' -- The width of the trace of the one pin CPW transmission line\n",
    "        * second_gap: '6um' -- The dielectric gap of the one pin CPW transmission line (also for the capacitor)\n",
    "        * t_length: '50um' -- The length for the t branches\n",
    "        * C_box_width: '50um'\n",
    "        * C_box_height: '20um'\n",
    "        * C_box_gap: '20um'\n",
    "        * C_gap: '5um'\n",
    "    \"\"\"\n",
    "    component_metadata = Dict(short_name='cpw', _qgeometry_table_path='True')\n",
    "    \"\"\"Component metadata\"\"\"\n",
    "\n",
    "    #Currently setting the primary CPW length based on the coupling_length\n",
    "    #May want it to be it's own value that the user can control?\n",
    "    default_options = Dict(prime_width='10um',\n",
    "                           prime_gap='6um',\n",
    "                           second_width='10um',\n",
    "                           second_gap='6um',\n",
    "                           t_length='50um')\n",
    "    \"\"\"Default connector options\"\"\"\n",
    "\n",
    "    TOOLTIP = \"\"\"Generates a three pin (+) structure comprised of a primary two pin CPW\n",
    "    transmission line, and a secondary one pin neighboring CPW transmission\n",
    "    line that is capacitively coupled to the primary.\"\"\"\n",
    "\n",
    "    def make(self):\n",
    "        \"\"\"Build the component.\"\"\"\n",
    "        p = self.p\n",
    "        prime_cpw_length = p.t_length * 2\n",
    "        C_box_width = p.C_box_width\n",
    "        C_box_height = p.C_box_height\n",
    "        C_box_gap = p.C_box_gap\n",
    "        C_gap = p.C_gap\n",
    "        \n",
    "        #Primary CPW\n",
    "        prime_cpw = draw.LineString([[-prime_cpw_length / 2, 0],\n",
    "                                     [prime_cpw_length / 2, 0]])\n",
    "\n",
    "        #Secondary CPW\n",
    "        second_cpw = draw.LineString([[0, -p.prime_width / 2], [0,\n",
    "                                                                -p.t_length]])\n",
    "        \n",
    "        #Capacitor\n",
    "        C_box = draw.box(-C_box_width/2,-p.t_length-C_box_height,C_box_width/2,-p.t_length)\n",
    "        C_gap = draw.box(-C_box_width/2-C_box_gap,-p.t_length-C_box_height-C_gap,C_box_width/2+C_box_gap,-p.t_length+C_box_gap)\n",
    "        \n",
    "        #Rotate and Translate\n",
    "        c_items = [prime_cpw, second_cpw]\n",
    "        c_items = draw.rotate(c_items, p.orientation, origin=(0, 0))\n",
    "        c_items = draw.translate(c_items, p.pos_x, p.pos_y)\n",
    "        [prime_cpw, second_cpw] = c_items\n",
    "        \n",
    "        C_boxes = [C_box,C_gap]\n",
    "        C_boxes = draw.rotate(C_boxes, p.orientation, origin=(0, 0))\n",
    "        C_boxes = draw.translate(C_boxes, p.pos_x, p.pos_y)\n",
    "        [C_box,C_gap] = C_boxes\n",
    "        \n",
    "        #Add to qgeometry tables\n",
    "        self.add_qgeometry('path', {'prime_cpw': prime_cpw},\n",
    "                           width=p.prime_width,\n",
    "                           layer=p.layer)\n",
    "        self.add_qgeometry('path', {'prime_cpw_sub': prime_cpw},\n",
    "                           width=p.prime_width + 2 * p.prime_gap,\n",
    "                           subtract=True,\n",
    "                           layer=p.layer)\n",
    "        self.add_qgeometry('path', {'second_cpw': second_cpw},\n",
    "                           width=p.second_width,\n",
    "                           layer=p.layer)\n",
    "        self.add_qgeometry('path', {'second_cpw_sub': second_cpw},\n",
    "                           width=p.second_width + 2 * p.second_gap,\n",
    "                           subtract=True,\n",
    "                           layer=p.layer)\n",
    "        \n",
    "        self.add_qgeometry('poly', {'C_box': C_box},\n",
    "                           layer=p.layer)\n",
    "        self.add_qgeometry('poly', {'C_gap': C_gap},\n",
    "                           subtract=True,\n",
    "                           layer=p.layer)\n",
    "\n",
    "        #Add pins\n",
    "        prime_pin_list = prime_cpw.coords\n",
    "        second_pin_list = second_cpw.coords\n",
    "\n",
    "        self.add_pin('prime_start',\n",
    "                     points=np.array(prime_pin_list[::-1]),\n",
    "                     width=p.prime_width,\n",
    "                     input_as_norm=True)\n",
    "        self.add_pin('prime_end',\n",
    "                     points=np.array(prime_pin_list),\n",
    "                     width=p.prime_width,\n",
    "                     input_as_norm=True)\n",
    "        self.add_pin('second_end',\n",
    "                     points=np.array(second_pin_list),\n",
    "                     width=p.second_width,\n",
    "                     input_as_norm=True)\n"
   ]
  },
  {
   "cell_type": "markdown",
   "metadata": {},
   "source": [
    "## Chip dimensions"
   ]
  },
  {
   "cell_type": "code",
   "execution_count": 6,
   "metadata": {},
   "outputs": [],
   "source": [
    "design = metal.designs.DesignPlanar()\n",
    "\n",
    "gui = metal.MetalGUI(design)"
   ]
  },
  {
   "cell_type": "code",
   "execution_count": 7,
   "metadata": {},
   "outputs": [
    {
     "data": {
      "text/plain": [
       "{'material': 'silicon',\n",
       " 'layer_start': '0',\n",
       " 'layer_end': '2048',\n",
       " 'size': {'center_x': '0.0mm',\n",
       "  'center_y': '0.0mm',\n",
       "  'center_z': '0.0mm',\n",
       "  'size_x': '9mm',\n",
       "  'size_y': '6mm',\n",
       "  'size_z': '-750um',\n",
       "  'sample_holder_top': '890um',\n",
       "  'sample_holder_bottom': '1650um'}}"
      ]
     },
     "execution_count": 7,
     "metadata": {},
     "output_type": "execute_result"
    }
   ],
   "source": [
    "design.overwrite_enabled = True\n",
    "design.chips.main"
   ]
  },
  {
   "cell_type": "code",
   "execution_count": 8,
   "metadata": {},
   "outputs": [
    {
     "data": {
      "text/plain": [
       "{'main': {'material': 'silicon',\n",
       "  'layer_start': '0',\n",
       "  'layer_end': '2048',\n",
       "  'size': {'center_x': '0.0mm',\n",
       "   'center_y': '0.0mm',\n",
       "   'center_z': '0.0mm',\n",
       "   'size_x': '9mm',\n",
       "   'size_y': '6mm',\n",
       "   'size_z': '-750um',\n",
       "   'sample_holder_top': '890um',\n",
       "   'sample_holder_bottom': '1650um'}}}"
      ]
     },
     "execution_count": 8,
     "metadata": {},
     "output_type": "execute_result"
    }
   ],
   "source": [
    "design.chips"
   ]
  },
  {
   "cell_type": "code",
   "execution_count": 9,
   "metadata": {},
   "outputs": [],
   "source": [
    "design.chips.main.size.size_x = '10mm'\n",
    "design.chips.main.size.size_y = '10mm'"
   ]
  },
  {
   "cell_type": "markdown",
   "metadata": {},
   "source": [
    "# Qubits"
   ]
  },
  {
   "cell_type": "code",
   "execution_count": 10,
   "metadata": {},
   "outputs": [
    {
     "data": {
      "text/plain": [
       "{'pos_x': '0.0um',\n",
       " 'pos_y': '0.0um',\n",
       " 'orientation': '0.0',\n",
       " 'chip': 'main',\n",
       " 'layer': '1',\n",
       " 'connection_pads': {},\n",
       " '_default_connection_pads': {'connector_type': '0',\n",
       "  'pad_width': '125um',\n",
       "  'pad_height': '30um',\n",
       "  'pad_cpw_shift': '0um',\n",
       "  'pad_cpw_extent': '25um',\n",
       "  'claw_length': '30um',\n",
       "  'claw_width': '10um',\n",
       "  'claw_gap': '6um',\n",
       "  'claw_cpw_length': '40um',\n",
       "  'claw_cpw_width': '10um',\n",
       "  'ground_spacing': '5um',\n",
       "  'connector_location': '0'},\n",
       " 'pad_gap': '30um',\n",
       " 'inductor_width': '20um',\n",
       " 'pad_width': '455um',\n",
       " 'pad_height': '90um',\n",
       " 'pocket_width': '650um',\n",
       " 'pocket_height': '650um',\n",
       " 'hfss_wire_bonds': False,\n",
       " 'q3d_wire_bonds': False,\n",
       " 'aedt_q3d_wire_bonds': False,\n",
       " 'aedt_hfss_wire_bonds': False,\n",
       " 'hfss_inductance': '10nH',\n",
       " 'hfss_capacitance': 0,\n",
       " 'hfss_resistance': 0,\n",
       " 'hfss_mesh_kw_jj': 7e-06,\n",
       " 'q3d_inductance': '10nH',\n",
       " 'q3d_capacitance': 0,\n",
       " 'q3d_resistance': 0,\n",
       " 'q3d_mesh_kw_jj': 7e-06,\n",
       " 'gds_cell_name': 'my_other_junction',\n",
       " 'aedt_q3d_inductance': 1e-08,\n",
       " 'aedt_q3d_capacitance': 0,\n",
       " 'aedt_hfss_inductance': 1e-08,\n",
       " 'aedt_hfss_capacitance': 0}"
      ]
     },
     "execution_count": 10,
     "metadata": {},
     "output_type": "execute_result"
    }
   ],
   "source": [
    "TransmonPocket_sqnl.get_template_options(design)"
   ]
  },
  {
   "cell_type": "code",
   "execution_count": 52,
   "metadata": {},
   "outputs": [],
   "source": [
    "options_1 =  dict(\n",
    "    pad_width = '540 um', \n",
    "    pad_height = '132.5 um',\n",
    "    pad_gap = '65 um', \n",
    "    pocket_width = '740 um',\n",
    "    pocket_height = '530 um',\n",
    "    connection_pads=dict(\n",
    "        readout1 = dict(connector_type='0',  # 0 = Claw type, 1 = T-shape type\n",
    "                       t_claw_height = '400um',\n",
    "                       ground_spacing='10um',\n",
    "                       claw_width='20um',\n",
    "                       claw_gap='25um',\n",
    "                       claw_cpw_length='100um',\n",
    "                       claw_cpw_width='20um',\n",
    "                       connector_location=\n",
    "                       '0'  # 0 => 'west' arm, 90 => 'north' arm, 180 => 'east' arm\n",
    "                       ) ,\n",
    "        control = dict(connector_type='1',  # 0 = Claw type, 1 = T-shape type\n",
    "                       t_claw_height = '30um',\n",
    "                       ground_spacing='100um',\n",
    "                       claw_width='30um',\n",
    "                       claw_gap='18um',\n",
    "                       claw_cpw_length='100um',\n",
    "                       claw_cpw_width='30um',\n",
    "                       connector_location=\n",
    "                       '1'  # 0 => 'west' arm, 90 => 'north' arm, 180 => 'east' arm\n",
    "                       ) \n",
    "    ))"
   ]
  },
  {
   "cell_type": "code",
   "execution_count": 53,
   "metadata": {},
   "outputs": [],
   "source": [
    "q_1 = TransmonPocket_sqnl(design,'Q_1', options = dict(\n",
    "        pos_x='0mm', \n",
    "        pos_y='2.5mm', \n",
    "        gds_cell_name ='FakeJunction_01',\n",
    "        hfss_inductance ='14nH',\n",
    "        **options_1))\n",
    "gui.rebuild()\n",
    "gui.autoscale()"
   ]
  },
  {
   "cell_type": "markdown",
   "metadata": {},
   "source": [
    "# Resoantors"
   ]
  },
  {
   "cell_type": "markdown",
   "metadata": {},
   "source": [
    "## Launch Pads"
   ]
  },
  {
   "cell_type": "code",
   "execution_count": 13,
   "metadata": {},
   "outputs": [],
   "source": [
    "launch_TL_read_11 = LaunchpadWirebond(design, \n",
    "                                   'launch_TL_read_11', \n",
    "                                   options = dict(\n",
    "                                       pos_x = '2.5mm', \n",
    "                                       pos_y ='4.3mm', \n",
    "                                       orientation = '270',\n",
    "                                       trace_gap = '10um',\n",
    "                                       trace_width = '20um',\n",
    "                                       taper_height = '375um',\n",
    "                                       pad_width='250um',\n",
    "                                       pad_height='300um',\n",
    "                                       pad_gap = '100um'\n",
    "                                   ))\n",
    "launch_TL_read_12 = LaunchpadWirebond(design, \n",
    "                                   'launch_TL_read_12', \n",
    "                                   options = dict(\n",
    "                                       pos_x = '0mm', \n",
    "                                       pos_y ='4.3mm', \n",
    "                                       orientation = '270',\n",
    "                                       trace_gap = '18um',\n",
    "                                       trace_width = '30um',\n",
    "                                       taper_height = '375um',\n",
    "                                       pad_width='250um',\n",
    "                                       pad_height='300um',\n",
    "                                       pad_gap = '100um'\n",
    "                                   ))\n",
    "\n",
    "# Launch Pad for testing Purcell filter S21 simulation\n",
    "launch_PF_reading = LaunchpadWirebond(design, \n",
    "                                   'launch_PF_reading', \n",
    "                                   options = dict(\n",
    "                                       pos_x = '1.8465mm', \n",
    "                                       pos_y ='0.8mm', \n",
    "                                       orientation = '90',\n",
    "                                       trace_gap = '10um',\n",
    "                                       trace_width = '20um',\n",
    "                                       taper_height = '375um',\n",
    "                                       pad_width='250um',\n",
    "                                       pad_height='300um',\n",
    "                                       pad_gap = '100um'\n",
    "                                   ))\n",
    "\n",
    "gui.rebuild()\n",
    "gui.autoscale()"
   ]
  },
  {
   "cell_type": "code",
   "execution_count": 14,
   "metadata": {},
   "outputs": [
    {
     "data": {
      "text/plain": [
       "{'pos_x': '0.0um',\n",
       " 'pos_y': '0.0um',\n",
       " 'orientation': '0.0',\n",
       " 'chip': 'main',\n",
       " 'layer': '1',\n",
       " 'north_width': '10um',\n",
       " 'north_gap': '6um',\n",
       " 'south_width': '10um',\n",
       " 'south_gap': '6um',\n",
       " 'cap_width': '10um',\n",
       " 'cap_gap': '6um',\n",
       " 'cap_gap_ground': '6um',\n",
       " 'finger_length': '20um',\n",
       " 'finger_count': '5',\n",
       " 'cap_distance': '50um',\n",
       " 'hfss_wire_bonds': False,\n",
       " 'q3d_wire_bonds': False,\n",
       " 'aedt_q3d_wire_bonds': False,\n",
       " 'aedt_hfss_wire_bonds': False}"
      ]
     },
     "execution_count": 14,
     "metadata": {},
     "output_type": "execute_result"
    }
   ],
   "source": [
    "CapNInterdigital.get_template_options(design)"
   ]
  },
  {
   "cell_type": "markdown",
   "metadata": {},
   "source": [
    "## IDCs"
   ]
  },
  {
   "cell_type": "markdown",
   "metadata": {},
   "source": [
    "### Definition"
   ]
  },
  {
   "cell_type": "code",
   "execution_count": 15,
   "metadata": {},
   "outputs": [],
   "source": [
    "from qiskit_metal.qlibrary.core import QComponent\n",
    "class CapNInterdigital_sqnl(QComponent):\n",
    "    \n",
    "    component_metadata = Dict(short_name='cpw',\n",
    "                              _qgeometry_table_poly='True',\n",
    "                              _qgeometry_table_path='True')\n",
    "    \"\"\"Component metadata\"\"\"\n",
    "\n",
    "    #Currently setting the primary CPW length based on the coupling_length\n",
    "    #May want it to be it's own value that the user can control?\n",
    "    default_options = Dict(north_width='10um',\n",
    "                           north_gap='6um',\n",
    "                           south_width='10um',\n",
    "                           south_gap='6um',\n",
    "                           cap_width='10um',\n",
    "                           cap_gap='6um',\n",
    "                           cap_gap_ground='6um',\n",
    "                           finger_length='20um',\n",
    "                           finger_count='5',\n",
    "                           cap_distance='50um',\n",
    "                           taper_length='200um'\n",
    "                          )\n",
    "    \"\"\"Default connector options\"\"\"\n",
    "\n",
    "    TOOLTIP = \"\"\"Generates a two pin (+) structure\n",
    "     comprised of a north CPW transmission line, \n",
    "     and a south transmission line, coupled \n",
    "     together via a finger capacitor.\"\"\"\n",
    "\n",
    "    def make(self):\n",
    "        \"\"\"Build the component.\"\"\"\n",
    "        p = self.p\n",
    "        N = int(p.finger_count)\n",
    "\n",
    "        #Finger Capacitor\n",
    "        cap_box = draw.Polygon([[(N * p.cap_width + (N - 1) * p.cap_gap)/2, (p.cap_gap + 2 * p.cap_width + p.finger_length)/2],\n",
    "                                [p.north_width/2, (p.cap_gap + 2 * p.cap_width + p.finger_length)/2 + p.taper_length],\n",
    "                                [-p.north_width/2, (p.cap_gap + 2 * p.cap_width + p.finger_length)/2 + p.taper_length],\n",
    "                                [-(N * p.cap_width + (N - 1) * p.cap_gap)/2, (p.cap_gap + 2 * p.cap_width + p.finger_length)/2],\n",
    "                                [-(N * p.cap_width + (N - 1) * p.cap_gap)/2, -(p.cap_gap + 2 * p.cap_width + p.finger_length)/2],\n",
    "                                [-p.south_width/2, -(p.cap_gap + 2 * p.cap_width + p.finger_length)/2 - p.taper_length],\n",
    "                                [p.south_width/2, -(p.cap_gap + 2 * p.cap_width + p.finger_length)/2 - p.taper_length],\n",
    "                                [(N * p.cap_width + (N - 1) * p.cap_gap)/2, -(p.cap_gap + 2 * p.cap_width + p.finger_length)/2]\n",
    "                               ])\n",
    "        make_cut_list = []\n",
    "        make_cut_list.append([0, (p.finger_length) / 2])\n",
    "        make_cut_list.append([(p.cap_width) + (p.cap_gap / 2),\n",
    "                              (p.finger_length) / 2])\n",
    "        flip = -1\n",
    "\n",
    "        for i in range(1, N):\n",
    "            make_cut_list.append([\n",
    "                i * (p.cap_width) + (2 * i - 1) * (p.cap_gap / 2),\n",
    "                flip * (p.finger_length) / 2\n",
    "            ])\n",
    "            make_cut_list.append([\n",
    "                (i + 1) * (p.cap_width) + (2 * i + 1) * (p.cap_gap / 2),\n",
    "                flip * (p.finger_length) / 2\n",
    "            ])\n",
    "            flip = flip * -1\n",
    "\n",
    "        cap_cut = draw.LineString(make_cut_list).buffer(p.cap_gap / 2,\n",
    "                                                        cap_style=2,\n",
    "                                                        join_style=2)\n",
    "        cap_cut = draw.translate(cap_cut,\n",
    "                                 -(N * p.cap_width + (N - 1) * p.cap_gap) / 2,\n",
    "                                 0)\n",
    "\n",
    "        cap_body = draw.subtract(cap_box, cap_cut)\n",
    "        cap_body = draw.translate(\n",
    "            cap_body, 0, -p.cap_distance -\n",
    "            (p.cap_gap + 2 * p.cap_width + p.finger_length) / 2)\n",
    "\n",
    "        cap_etch = draw.Polygon([[(N * p.cap_width + (N - 1) * p.cap_gap)/2+p.cap_gap_ground, (p.cap_gap + 2 * p.cap_width + p.finger_length)/2],\n",
    "                                [p.north_width/2+p.north_gap, (p.cap_gap + 2 * p.cap_width + p.finger_length)/2 + p.taper_length],\n",
    "                                [-p.north_width/2-p.north_gap, (p.cap_gap + 2 * p.cap_width + p.finger_length)/2 + p.taper_length],\n",
    "                                [-(N * p.cap_width + (N - 1) * p.cap_gap)/2-p.cap_gap_ground, (p.cap_gap + 2 * p.cap_width + p.finger_length)/2],\n",
    "                                [-(N * p.cap_width + (N - 1) * p.cap_gap)/2-p.cap_gap_ground, -(p.cap_gap + 2 * p.cap_width + p.finger_length)/2],\n",
    "                                [-p.south_width/2-p.south_gap, -(p.cap_gap + 2 * p.cap_width + p.finger_length)/2 - p.taper_length],\n",
    "                                [p.south_width/2+p.south_gap, -(p.cap_gap + 2 * p.cap_width + p.finger_length)/2 - p.taper_length],\n",
    "                                [(N * p.cap_width + (N - 1) * p.cap_gap)/2+p.cap_gap_ground, -(p.cap_gap + 2 * p.cap_width + p.finger_length)/2]\n",
    "                               ])\n",
    "\n",
    "        cap_etch = draw.translate(\n",
    "            cap_etch, 0, -p.cap_distance -\n",
    "            (p.cap_gap + 2 * p.cap_width + p.finger_length) / 2)\n",
    "\n",
    "        #CPW\n",
    "        north_cpw = draw.LineString([[0, p.taper_length], [0, p.taper_length-p.cap_distance]])\n",
    "\n",
    "        south_cpw = draw.LineString(\n",
    "            [[\n",
    "                0, -p.taper_length-p.cap_distance -\n",
    "                (p.cap_gap + 2 * p.cap_width + p.finger_length)\n",
    "            ],\n",
    "             [\n",
    "                 0, -p.taper_length-2 * p.cap_distance -\n",
    "                 (p.cap_gap + 2 * p.cap_width + p.finger_length)\n",
    "             ]])\n",
    "\n",
    "        #Rotate and Translate\n",
    "        c_items = [north_cpw, south_cpw, cap_body, cap_etch]\n",
    "        c_items = draw.rotate(c_items, p.orientation, origin=(0, 0))\n",
    "        c_items = draw.translate(c_items, p.pos_x, p.pos_y)\n",
    "        [north_cpw, south_cpw, cap_body, cap_etch] = c_items\n",
    "\n",
    "        #Add to qgeometry tables\n",
    "        self.add_qgeometry('path', {'north_cpw': north_cpw},\n",
    "                           width=p.north_width,\n",
    "                           layer=p.layer)\n",
    "        self.add_qgeometry('path', {'north_cpw_sub': north_cpw},\n",
    "                           width=p.north_width + 2 * p.north_gap,\n",
    "                           layer=p.layer,\n",
    "                           subtract=True)\n",
    "\n",
    "        self.add_qgeometry('path', {'south_cpw': south_cpw},\n",
    "                           width=p.south_width,\n",
    "                           layer=p.layer)\n",
    "        self.add_qgeometry('path', {'south_cpw_sub': south_cpw},\n",
    "                           width=p.south_width + 2 * p.south_gap,\n",
    "                           layer=p.layer,\n",
    "                           subtract=True)\n",
    "\n",
    "        self.add_qgeometry('poly', {'cap_body': cap_body}, layer=p.layer)\n",
    "        self.add_qgeometry('poly', {'cap_etch': cap_etch},\n",
    "                           layer=p.layer,\n",
    "                           subtract=True)\n",
    "\n",
    "        #Add pins\n",
    "        north_pin_list = north_cpw.coords\n",
    "        south_pin_list = south_cpw.coords\n",
    "\n",
    "        self.add_pin('north_end',\n",
    "                     points=np.array(north_pin_list[::-1]),\n",
    "                     width=p.north_width,\n",
    "                     input_as_norm=True)\n",
    "        self.add_pin('south_end',\n",
    "                     points=np.array(south_pin_list),\n",
    "                     width=p.south_width,\n",
    "                     input_as_norm=True)"
   ]
  },
  {
   "cell_type": "markdown",
   "metadata": {},
   "source": [
    "### Draw"
   ]
  },
  {
   "cell_type": "code",
   "execution_count": 16,
   "metadata": {},
   "outputs": [],
   "source": [
    "highC_PF_TL_11 = CapNInterdigital_sqnl(design, \n",
    "                               'highC_PF_TL_11', \n",
    "                               options = dict(\n",
    "                                   pos_x = '2.5mm',\n",
    "                                   pos_y = '3.9mm',\n",
    "                                   orientation = '0',\n",
    "                                   north_width = '20um', \n",
    "                                   north_gap   = '10um', \n",
    "                                   south_width = '20um', \n",
    "                                   south_gap   = '10um', \n",
    "                                   cap_width   = '5um', \n",
    "                                   cap_gap   = '5um', \n",
    "                                   cap_gap_ground   = '44um', \n",
    "                                   finger_length   = '200um', \n",
    "                                   finger_count   = '8', \n",
    "                                   cap_distance   = '50um',\n",
    "                                   taper_length   = '200um'\n",
    "                               ))\n",
    "\n",
    "gui.rebuild()\n",
    "gui.autoscale()"
   ]
  },
  {
   "cell_type": "code",
   "execution_count": 17,
   "metadata": {},
   "outputs": [],
   "source": [
    "option_TL_11 = Dict(hfss_wire_bonds = True,\n",
    "              pin_inputs=Dict(\n",
    "                 start_pin=Dict(\n",
    "                     component='highC_PF_TL_11',\n",
    "                     pin='north_end'),\n",
    "                 end_pin=Dict(\n",
    "                     component='launch_TL_read_11',\n",
    "                     pin='tie')),\n",
    "              trace_width='20um',\n",
    "              trace_gap='10um',qgeometry_types='poly'\n",
    "             )\n",
    "\n",
    "otg_PF_read = OpenToGround(design, 'otg_PF_read', \n",
    "                       options=dict(\n",
    "                           pos_x = '1.8465mm', \n",
    "                           pos_y ='1.95mm', \n",
    "                           width='20um',\n",
    "                           gap='10um',\n",
    "                           orientation=90))\n",
    "\n",
    "option_PF_read = Dict(hfss_wire_bonds = True,\n",
    "              pin_inputs=Dict(\n",
    "                 start_pin=Dict(\n",
    "                     component='otg_PF_read',\n",
    "                     pin='open'),\n",
    "                 end_pin=Dict(\n",
    "                     component='launch_PF_reading',\n",
    "                     pin='tie')),\n",
    "              trace_width='20um',\n",
    "              trace_gap='10um',qgeometry_types='poly'\n",
    "             )\n",
    "\n",
    "\n",
    "TL_11 = RouteStraight(design, 'TL_11', options=option_TL_11)\n",
    "PF_read = RouteStraight(design, 'PF_read', options=option_PF_read)\n",
    "\n",
    "\n",
    "gui.rebuild()\n",
    "gui.autoscale()"
   ]
  },
  {
   "cell_type": "markdown",
   "metadata": {},
   "source": [
    "## Purcell filters"
   ]
  },
  {
   "cell_type": "markdown",
   "metadata": {},
   "source": [
    "### PF_11"
   ]
  },
  {
   "cell_type": "code",
   "execution_count": 18,
   "metadata": {},
   "outputs": [],
   "source": [
    "pin_opt_PF_11 = Dict(pin_inputs=Dict(start_pin=Dict(\n",
    "                                    component='highC_PF_TL_11',\n",
    "                                    pin='south_end'),\n",
    "                                    end_pin=Dict(\n",
    "                                    component='PF_11_open',\n",
    "                                    pin='open')),\n",
    "               fillet='89um',\n",
    "               trace_width='20um',\n",
    "               trace_gap='10um',\n",
    "               hfss_wire_bonds = True,\n",
    "               wb_threshold = '10um',\n",
    "               wb_offset ='10um'\n",
    "              )\n",
    "\n",
    "\n",
    "otg_PF_11 = OpenToGround(design, 'PF_11_open', \n",
    "                       options=dict(\n",
    "                           pos_x='1.320mm', \n",
    "                           pos_y='2.299mm',\n",
    "                           width='20um',\n",
    "                           gap='10um',\n",
    "                           orientation=180))\n",
    "\n",
    "pin_opt_PF_11.pin_inputs.start_pin.component = 'highC_PF_TL_11'\n",
    "pin_opt_PF_11.pin_inputs.end_pin.component = 'PF_11_open'\n",
    "\n",
    "# the first step is always stright, let's define by how much (minimum is half the route width):\n",
    "pin_opt_PF_11.lead.start_straight = '400um + 90um'\n",
    "pin_opt_PF_11.lead.end_straight = '0um'\n",
    "\n",
    "# any subsequent step of the lead_start\n",
    "jogsS_11 = OrderedDict()\n",
    "jogsS_11[0] = [\"R\", '200um + 180um']\n",
    "jogsS_11[1] = [\"R\", '1400um + 180um']\n",
    "jogsS_11[2] = [\"L\", '0um + 180um']\n",
    "jogsS_11[3] = [\"L\", '2330um + 180um']\n",
    "jogsS_11[4] = [\"R\", '0um + 180um']\n",
    "jogsS_11[5] = [\"R\", '2230um + 180um']\n",
    "jogsS_11[6] = [\"L\", '0um + 180um']\n",
    "jogsS_11[7] = [\"L\", '700um + 180um']\n",
    "\n",
    "pin_opt_PF_11.lead.start_jogged_extension = jogsS_11\n",
    "PF_11 = RouteFramed(design, 'PF_11', pin_opt_PF_11)\n",
    "\n",
    "gui.rebuild()\n",
    "gui.autoscale()"
   ]
  },
  {
   "cell_type": "code",
   "execution_count": 19,
   "metadata": {},
   "outputs": [],
   "source": [
    "# PF-R coupler 11\n",
    "coupler_length_11 = 1e-3\n",
    "\n",
    "T_coupler_PF_11 = LineTee_sqnl(design, 'T_coupler_PF_11', options=dict(pos_x='1.335mm', \n",
    "                                                                       pos_y='2.299mm',\n",
    "                                             t_length=coupler_length_11,\n",
    "                                             prime_width = '10um',\n",
    "                                             prime_gap = '10um',\n",
    "                                             second_width = '20um',\n",
    "                                             second_gap = '20um',\n",
    "                                             C_box_width = '60um',\n",
    "                                             C_box_gap = '10um',\n",
    "                                             C_box_height = '20um',\n",
    "                                             C_gap = '30um',\n",
    "                                             orientation = -90\n",
    "                                             ))\n",
    "\n",
    "gui.rebuild()\n",
    "gui.autoscale()"
   ]
  },
  {
   "cell_type": "markdown",
   "metadata": {},
   "source": [
    "## Readout resonators"
   ]
  },
  {
   "cell_type": "markdown",
   "metadata": {},
   "source": [
    "### R_11"
   ]
  },
  {
   "cell_type": "code",
   "execution_count": 20,
   "metadata": {},
   "outputs": [],
   "source": [
    "pin_opt_R_11 = Dict(pin_inputs=Dict(start_pin=Dict(\n",
    "                                    component='Q_1',\n",
    "                                    pin='readout1'),\n",
    "                                end_pin=Dict(\n",
    "                                    component='R_11_open',\n",
    "                                    pin='open')),\n",
    "               fillet='89um',\n",
    "               trace_width='20um',\n",
    "               trace_gap='10um',\n",
    "               hfss_wire_bonds = True,\n",
    "               wb_threshold = '10um',\n",
    "               wb_offset ='10um'\n",
    "              )\n",
    "\n",
    "otg_R_11 = OpenToGround(design, 'R_11_open', \n",
    "                       options=dict(\n",
    "                           pos_x='1.296mm', \n",
    "                           pos_y='2.299mm',\n",
    "                           width='20um',\n",
    "                           gap='10um',\n",
    "                           orientation=0))\n",
    "\n",
    "pin_opt_R_11.pin_inputs.start_pin.component = 'Q_1'\n",
    "pin_opt_R_11.pin_inputs.end_pin.component = 'R_11_open'\n",
    "\n",
    "# the first step is always stright, let's define by how much (minimum is half the route width):\n",
    "pin_opt_R_11.lead.start_straight = '0um + 90um'\n",
    "pin_opt_R_11.lead.end_straight = '50um'\n",
    "\n",
    "# any subsequent step of the lead_start\n",
    "jogsS_11 = OrderedDict()\n",
    "jogsS_11[0] = [\"L\", '1700um + 180um']\n",
    "jogsS_11[1] = [\"R\", '0um + 180um']\n",
    "jogsS_11[2] = [\"R\", '2900um + 180um']\n",
    "jogsS_11[3] = [\"L\", '0um + 180um']\n",
    "jogsS_11[4] = [\"L\", '2700um + 180um']\n",
    "jogsS_11[5] = [\"R\", '0um + 180um']\n",
    "jogsS_11[6] = [\"R\", '700um + 180um']\n",
    "\n",
    "pin_opt_R_11.lead.start_jogged_extension = jogsS_11\n",
    "R_11 = RouteFramed(design, 'R_11', pin_opt_R_11)\n",
    "\n",
    "gui.rebuild()\n",
    "gui.autoscale()"
   ]
  },
  {
   "cell_type": "code",
   "execution_count": 21,
   "metadata": {},
   "outputs": [],
   "source": [
    "# R-PF coupler 11\n",
    "coupler_length_11 = 1e-3\n",
    "\n",
    "T_coupler_PF_11 = LineTee_sqnl(design, 'T_coupler_R_11', options=dict(pos_x='1.280mm', \n",
    "                                                                       pos_y='2.299mm',\n",
    "                                             t_length=coupler_length_11,\n",
    "                                             prime_width = '10um',\n",
    "                                             prime_gap = '10um',\n",
    "                                             second_width = '20um',\n",
    "                                             second_gap = '20um',\n",
    "                                             C_box_width = '60um',\n",
    "                                             C_box_gap = '10um',\n",
    "                                             C_box_height = '20um',\n",
    "                                             C_gap = '30um',\n",
    "                                             orientation = 90\n",
    "                                             ))\n",
    "\n",
    "gui.rebuild()\n",
    "gui.autoscale()"
   ]
  },
  {
   "cell_type": "markdown",
   "metadata": {},
   "source": [
    "## Control lines"
   ]
  },
  {
   "cell_type": "code",
   "execution_count": 22,
   "metadata": {},
   "outputs": [],
   "source": [
    "design.overwrite_enabled = True\n",
    "\n",
    "options_c = Dict(\n",
    "    total_length='1.5mm',\n",
    "    hfss_wire_bonds = True,\n",
    "    lead=Dict(\n",
    "        start_straight='300um',\n",
    "        end_straight='300um'),\n",
    "    fillet='90um',\n",
    "    trace_width='30um',\n",
    "    trace_gap='18um')\n",
    "\n",
    "control_Q1 = RouteStraight(design, 'control_Q1', options=Dict(\n",
    "    pin_inputs=Dict(\n",
    "        start_pin=Dict(\n",
    "            component='Q_1',\n",
    "            pin='control'),\n",
    "        end_pin=Dict(\n",
    "            component='launch_TL_read_12',\n",
    "            pin='tie')),\n",
    "            **options_c))\n",
    "\n",
    "gui.rebuild()\n",
    "gui.autoscale()"
   ]
  },
  {
   "cell_type": "markdown",
   "metadata": {},
   "source": [
    "# Analyze"
   ]
  },
  {
   "cell_type": "markdown",
   "metadata": {},
   "source": [
    "## 1. C-sim"
   ]
  },
  {
   "cell_type": "markdown",
   "metadata": {},
   "source": [
    "### (C-Q-R) Control-Qubit-Readout"
   ]
  },
  {
   "cell_type": "code",
   "execution_count": 54,
   "metadata": {},
   "outputs": [
    {
     "name": "stderr",
     "output_type": "stream",
     "text": [
      "INFO 01:32AM [connect_project]: Connecting to Ansys Desktop API...\n",
      "INFO 01:32AM [load_ansys_project]: \tOpened Ansys App\n",
      "INFO 01:32AM [load_ansys_project]: \tOpened Ansys Desktop v2021.1.0\n",
      "INFO 01:32AM [load_ansys_project]: \tOpened Ansys Project\n",
      "\tFolder:    C:/Users/Luxcuse/Documents/Ansoft/\n",
      "\tProject:   Project21\n",
      "INFO 01:32AM [connect_design]: No active design found (or error getting active design).\n",
      "INFO 01:32AM [connect]: \t Connected to project \"Project21\". No design detected\n",
      "01:32AM 06s WARNING [activate_ansys_design]: The design_name=reset_q3d_Qubit_capacitance was not in active project.  Designs in active project are: \n",
      "[].  A new design will be added to the project.  \n",
      "INFO 01:32AM [connect_design]: \tOpened active design\n",
      "\tDesign:    reset_q3d_Qubit_capacitance [Solution type: Q3D]\n",
      "WARNING 01:32AM [connect_setup]: \tNo design setup detected.\n",
      "WARNING 01:32AM [connect_setup]: \tCreating Q3D default setup.\n",
      "INFO 01:32AM [get_setup]: \tOpened setup `Setup`  (<class 'pyEPR.ansys.AnsysQ3DSetup'>)\n"
     ]
    }
   ],
   "source": [
    "from qiskit_metal.analyses.quantization import LOManalysis\n",
    "c1 = LOManalysis(design, \"q3d\")\n",
    "q3d = c1.sim.renderer\n",
    "q3d.start()\n",
    "q3d.activate_ansys_design(\"reset_q3d_Qubit_capacitance\", 'capacitive')"
   ]
  },
  {
   "cell_type": "code",
   "execution_count": 55,
   "metadata": {},
   "outputs": [],
   "source": [
    "q3d.render_design(['Q_1'], [('Q_1','readout1')])"
   ]
  },
  {
   "cell_type": "code",
   "execution_count": 56,
   "metadata": {},
   "outputs": [],
   "source": [
    "c1.sim.setup.percent_refinement = 30\n",
    "c1.sim.setup.max_passes = 15\n",
    "c1.sim.setup.percent_error = 0.1\n",
    "# c1.sim.setup"
   ]
  },
  {
   "cell_type": "code",
   "execution_count": 57,
   "metadata": {},
   "outputs": [
    {
     "name": "stderr",
     "output_type": "stream",
     "text": [
      "INFO 01:32AM [get_setup]: \tOpened setup `Setup`  (<class 'pyEPR.ansys.AnsysQ3DSetup'>)\n",
      "INFO 01:32AM [analyze]: Analyzing setup Setup\n"
     ]
    }
   ],
   "source": [
    "q3d.analyze_setup(\"Setup\")"
   ]
  },
  {
   "cell_type": "code",
   "execution_count": 58,
   "metadata": {},
   "outputs": [
    {
     "name": "stderr",
     "output_type": "stream",
     "text": [
      "INFO 01:33AM [get_matrix]: Exporting matrix data to (C:\\Users\\Luxcuse\\AppData\\Local\\Temp\\tmpxs96oyex.txt, C, , Setup:LastAdaptive, \"Original\", \"ohm\", \"nH\", \"fF\", \"mSie\", 5000000000, Maxwell, 1, False\n"
     ]
    },
    {
     "data": {
      "text/html": [
       "<div>\n",
       "<style scoped>\n",
       "    .dataframe tbody tr th:only-of-type {\n",
       "        vertical-align: middle;\n",
       "    }\n",
       "\n",
       "    .dataframe tbody tr th {\n",
       "        vertical-align: top;\n",
       "    }\n",
       "\n",
       "    .dataframe thead th {\n",
       "        text-align: right;\n",
       "    }\n",
       "</style>\n",
       "<table border=\"1\" class=\"dataframe\">\n",
       "  <thead>\n",
       "    <tr style=\"text-align: right;\">\n",
       "      <th></th>\n",
       "      <th>control_connector_arm_Q_1</th>\n",
       "      <th>ground_main_plane</th>\n",
       "      <th>pad_bot_Q_1</th>\n",
       "      <th>pad_top_Q_1</th>\n",
       "      <th>readout1_connector_arm_Q_1</th>\n",
       "    </tr>\n",
       "  </thead>\n",
       "  <tbody>\n",
       "    <tr>\n",
       "      <th>control_connector_arm_Q_1</th>\n",
       "      <td>26.24640</td>\n",
       "      <td>-23.50284</td>\n",
       "      <td>-0.33566</td>\n",
       "      <td>-2.02413</td>\n",
       "      <td>-0.08850</td>\n",
       "    </tr>\n",
       "    <tr>\n",
       "      <th>ground_main_plane</th>\n",
       "      <td>-23.50284</td>\n",
       "      <td>246.34076</td>\n",
       "      <td>-71.82019</td>\n",
       "      <td>-65.86564</td>\n",
       "      <td>-27.63529</td>\n",
       "    </tr>\n",
       "    <tr>\n",
       "      <th>pad_bot_Q_1</th>\n",
       "      <td>-0.33566</td>\n",
       "      <td>-71.82019</td>\n",
       "      <td>112.22284</td>\n",
       "      <td>-31.33231</td>\n",
       "      <td>-4.40681</td>\n",
       "    </tr>\n",
       "    <tr>\n",
       "      <th>pad_top_Q_1</th>\n",
       "      <td>-2.02413</td>\n",
       "      <td>-65.86564</td>\n",
       "      <td>-31.33231</td>\n",
       "      <td>116.31158</td>\n",
       "      <td>-12.97579</td>\n",
       "    </tr>\n",
       "    <tr>\n",
       "      <th>readout1_connector_arm_Q_1</th>\n",
       "      <td>-0.08850</td>\n",
       "      <td>-27.63529</td>\n",
       "      <td>-4.40681</td>\n",
       "      <td>-12.97579</td>\n",
       "      <td>45.87765</td>\n",
       "    </tr>\n",
       "  </tbody>\n",
       "</table>\n",
       "</div>"
      ],
      "text/plain": [
       "                            control_connector_arm_Q_1  ground_main_plane  \\\n",
       "control_connector_arm_Q_1                    26.24640          -23.50284   \n",
       "ground_main_plane                           -23.50284          246.34076   \n",
       "pad_bot_Q_1                                  -0.33566          -71.82019   \n",
       "pad_top_Q_1                                  -2.02413          -65.86564   \n",
       "readout1_connector_arm_Q_1                   -0.08850          -27.63529   \n",
       "\n",
       "                            pad_bot_Q_1  pad_top_Q_1  \\\n",
       "control_connector_arm_Q_1      -0.33566     -2.02413   \n",
       "ground_main_plane             -71.82019    -65.86564   \n",
       "pad_bot_Q_1                   112.22284    -31.33231   \n",
       "pad_top_Q_1                   -31.33231    116.31158   \n",
       "readout1_connector_arm_Q_1     -4.40681    -12.97579   \n",
       "\n",
       "                            readout1_connector_arm_Q_1  \n",
       "control_connector_arm_Q_1                     -0.08850  \n",
       "ground_main_plane                            -27.63529  \n",
       "pad_bot_Q_1                                   -4.40681  \n",
       "pad_top_Q_1                                  -12.97579  \n",
       "readout1_connector_arm_Q_1                    45.87765  "
      ]
     },
     "execution_count": 58,
     "metadata": {},
     "output_type": "execute_result"
    }
   ],
   "source": [
    "c1.sim.capacitance_matrix, c1.sim.units = q3d.get_capacitance_matrix()\n",
    "# c1.sim.capacitance_all_passes, _ = q3d.get_capacitance_all_passes()\n",
    "c1.sim.capacitance_matrix"
   ]
  },
  {
   "cell_type": "code",
   "execution_count": 59,
   "metadata": {},
   "outputs": [
    {
     "data": {
      "text/plain": [
       "-4.40681"
      ]
     },
     "execution_count": 59,
     "metadata": {},
     "output_type": "execute_result"
    }
   ],
   "source": [
    "c1.sim.capacitance_matrix.pad_bot_Q_1.readout1_connector_arm_Q_1"
   ]
  },
  {
   "cell_type": "code",
   "execution_count": 60,
   "metadata": {},
   "outputs": [
    {
     "name": "stdout",
     "output_type": "stream",
     "text": [
      "-112.19787000000001\n",
      "-107.89497\n"
     ]
    }
   ],
   "source": [
    "print(c1.sim.capacitance_matrix.pad_top_Q_1.control_connector_arm_Q_1\n",
    "+c1.sim.capacitance_matrix.pad_top_Q_1.ground_main_plane\n",
    "+c1.sim.capacitance_matrix.pad_top_Q_1.pad_bot_Q_1\n",
    "+c1.sim.capacitance_matrix.pad_top_Q_1.readout1_connector_arm_Q_1)\n",
    "\n",
    "print(c1.sim.capacitance_matrix.pad_bot_Q_1.control_connector_arm_Q_1\n",
    "+c1.sim.capacitance_matrix.pad_bot_Q_1.ground_main_plane\n",
    "+c1.sim.capacitance_matrix.pad_bot_Q_1.pad_top_Q_1\n",
    "+c1.sim.capacitance_matrix.pad_bot_Q_1.readout1_connector_arm_Q_1)"
   ]
  },
  {
   "cell_type": "code",
   "execution_count": 61,
   "metadata": {},
   "outputs": [
    {
     "name": "stdout",
     "output_type": "stream",
     "text": [
      "-39.34068500890409\n"
     ]
    }
   ],
   "source": [
    "# Calculate effective total capacitance\n",
    "CP=c1.sim.capacitance_matrix.pad_bot_Q_1.pad_top_Q_1\n",
    "Cg1=c1.sim.capacitance_matrix.pad_top_Q_1.ground_main_plane\n",
    "Cc1=c1.sim.capacitance_matrix.pad_top_Q_1.control_connector_arm_Q_1\n",
    "Cr1=c1.sim.capacitance_matrix.pad_top_Q_1.readout1_connector_arm_Q_1\n",
    "Cg2=c1.sim.capacitance_matrix.pad_bot_Q_1.ground_main_plane\n",
    "Cc2=c1.sim.capacitance_matrix.pad_bot_Q_1.control_connector_arm_Q_1\n",
    "Cr2=c1.sim.capacitance_matrix.pad_bot_Q_1.readout1_connector_arm_Q_1\n",
    "\n",
    "# C11=CP+Cg1\n",
    "# C22=CP+Cg2\n",
    "# C21=CP\n",
    "# C12=CP\n",
    "\n",
    "C11=CP+Cg1+Cc1+Cr1\n",
    "C22=CP+Cg2+Cc2+Cr2\n",
    "C21=CP\n",
    "C12=CP\n",
    "\n",
    "C_eff=(C11*C22-C12*C21)/(C11+C12+C21+C22)\n",
    "\n",
    "print(C_eff)"
   ]
  },
  {
   "cell_type": "code",
   "execution_count": 62,
   "metadata": {},
   "outputs": [],
   "source": [
    "c1.setup.junctions=Dict(Lj=9, Cj=2)\n",
    "c1.setup.freq_readout = 6.53472\n",
    "c1.setup.freq_bus = [4.258995]"
   ]
  },
  {
   "cell_type": "code",
   "execution_count": 63,
   "metadata": {},
   "outputs": [
    {
     "ename": "KeyError",
     "evalue": "0",
     "output_type": "error",
     "traceback": [
      "\u001b[1;31m---------------------------------------------------------------------------\u001b[0m",
      "\u001b[1;31mKeyError\u001b[0m                                  Traceback (most recent call last)",
      "Cell \u001b[1;32mIn[63], line 1\u001b[0m\n\u001b[1;32m----> 1\u001b[0m \u001b[43mc1\u001b[49m\u001b[38;5;241;43m.\u001b[39;49m\u001b[43mrun_lom\u001b[49m\u001b[43m(\u001b[49m\u001b[43m)\u001b[49m\n\u001b[0;32m      2\u001b[0m \u001b[38;5;66;03m# c1.lumped_oscillator_all\u001b[39;00m\n\u001b[0;32m      3\u001b[0m \u001b[38;5;66;03m# c1.sim.capacitance_all_passes\u001b[39;00m\n",
      "File \u001b[1;32mc:\\Users\\Luxcuse\\Documents\\GitHub\\qiskit-metal-SQNL\\qiskit_metal\\analyses\\quantization\\lumped_oscillator_model.py:182\u001b[0m, in \u001b[0;36mLOManalysis.run_lom\u001b[1;34m(self)\u001b[0m\n\u001b[0;32m    171\u001b[0m     res \u001b[38;5;241m=\u001b[39m extract_transmon_coupled_Noscillator(\n\u001b[0;32m    172\u001b[0m         df_cmat,\n\u001b[0;32m    173\u001b[0m         ic_amps,\n\u001b[1;32m   (...)\u001b[0m\n\u001b[0;32m    179\u001b[0m         print_info\u001b[38;5;241m=\u001b[39m\u001b[38;5;28mbool\u001b[39m(\n\u001b[0;32m    180\u001b[0m             idx_cmat \u001b[38;5;241m==\u001b[39m \u001b[38;5;28mlen\u001b[39m(\u001b[38;5;28mself\u001b[39m\u001b[38;5;241m.\u001b[39msim\u001b[38;5;241m.\u001b[39mcapacitance_all_passes)))\n\u001b[0;32m    181\u001b[0m     all_res[idx_cmat] \u001b[38;5;241m=\u001b[39m res\n\u001b[1;32m--> 182\u001b[0m \u001b[38;5;28mself\u001b[39m\u001b[38;5;241m.\u001b[39mlumped_oscillator \u001b[38;5;241m=\u001b[39m \u001b[43mall_res\u001b[49m\u001b[43m[\u001b[49m\u001b[38;5;28;43mlen\u001b[39;49m\u001b[43m(\u001b[49m\u001b[38;5;28;43mself\u001b[39;49m\u001b[38;5;241;43m.\u001b[39;49m\u001b[43msim\u001b[49m\u001b[38;5;241;43m.\u001b[39;49m\u001b[43mcapacitance_all_passes\u001b[49m\u001b[43m)\u001b[49m\u001b[43m]\u001b[49m\n\u001b[0;32m    183\u001b[0m all_res \u001b[38;5;241m=\u001b[39m pd\u001b[38;5;241m.\u001b[39mDataFrame(all_res)\u001b[38;5;241m.\u001b[39mtranspose()\n\u001b[0;32m    184\u001b[0m all_res[\u001b[38;5;124m'\u001b[39m\u001b[38;5;124mχr MHz\u001b[39m\u001b[38;5;124m'\u001b[39m] \u001b[38;5;241m=\u001b[39m \u001b[38;5;28mabs\u001b[39m(all_res[\u001b[38;5;124m'\u001b[39m\u001b[38;5;124mchi_in_MHz\u001b[39m\u001b[38;5;124m'\u001b[39m]\u001b[38;5;241m.\u001b[39mapply(\u001b[38;5;28;01mlambda\u001b[39;00m x: x[\u001b[38;5;241m0\u001b[39m]))\n",
      "\u001b[1;31mKeyError\u001b[0m: 0"
     ]
    }
   ],
   "source": [
    "c1.run_lom()\n",
    "# c1.lumped_oscillator_all\n",
    "# c1.sim.capacitance_all_passes"
   ]
  },
  {
   "cell_type": "code",
   "execution_count": 64,
   "metadata": {},
   "outputs": [],
   "source": [
    "c1.sim.close()"
   ]
  },
  {
   "cell_type": "markdown",
   "metadata": {},
   "source": [
    "### (R-PF-TL) Readout-Purcell_fitler-Transmission_Line"
   ]
  },
  {
   "cell_type": "code",
   "execution_count": 65,
   "metadata": {},
   "outputs": [
    {
     "name": "stderr",
     "output_type": "stream",
     "text": [
      "INFO 01:34AM [connect_project]: Connecting to Ansys Desktop API...\n",
      "INFO 01:34AM [load_ansys_project]: \tOpened Ansys App\n",
      "INFO 01:34AM [load_ansys_project]: \tOpened Ansys Desktop v2021.1.0\n",
      "INFO 01:34AM [load_ansys_project]: \tOpened Ansys Project\n",
      "\tFolder:    C:/Users/Luxcuse/Documents/Ansoft/\n",
      "\tProject:   Project21\n",
      "INFO 01:34AM [connect_design]: \tOpened active design\n",
      "\tDesign:    reset_q3d_Qubit_capacitance [Solution type: Q3D]\n",
      "INFO 01:34AM [get_setup]: \tOpened setup `Setup`  (<class 'pyEPR.ansys.AnsysQ3DSetup'>)\n",
      "INFO 01:34AM [connect]: \tConnected to project \"Project21\" and design \"reset_q3d_Qubit_capacitance\" 😀 \n",
      "\n",
      "01:34AM 01s WARNING [activate_ansys_design]: The design_name=reset_q3d_R_PF_capacitance was not in active project.  Designs in active project are: \n",
      "['reset_q3d_Qubit_capacitance'].  A new design will be added to the project.  \n",
      "INFO 01:34AM [connect_design]: \tOpened active design\n",
      "\tDesign:    reset_q3d_R_PF_capacitance [Solution type: Q3D]\n",
      "WARNING 01:34AM [connect_setup]: \tNo design setup detected.\n",
      "WARNING 01:34AM [connect_setup]: \tCreating Q3D default setup.\n",
      "INFO 01:34AM [get_setup]: \tOpened setup `Setup`  (<class 'pyEPR.ansys.AnsysQ3DSetup'>)\n"
     ]
    }
   ],
   "source": [
    "from qiskit_metal.analyses.quantization import LOManalysis\n",
    "c1 = LOManalysis(design, \"q3d\")\n",
    "c1.sim.renderer.options['wb_size'] = 3\n",
    "c1.sim.renderer.options['wb_threshold'] = '150um'\n",
    "q3d = c1.sim.renderer\n",
    "q3d.start()\n",
    "q3d.activate_ansys_design(\"reset_q3d_R_PF_capacitance\", 'capacitive')"
   ]
  },
  {
   "cell_type": "code",
   "execution_count": 66,
   "metadata": {},
   "outputs": [],
   "source": [
    "q3d.render_design(['Q_1','R_11','PF_11','T_coupler_R_11','T_coupler_PF_11', 'highC_PF_TL_11'], [('highC_PF_TL_11','north_end')])"
   ]
  },
  {
   "cell_type": "code",
   "execution_count": 67,
   "metadata": {},
   "outputs": [
    {
     "data": {
      "text/plain": [
       "{'name': 'Setup',\n",
       " 'reuse_selected_design': True,\n",
       " 'reuse_setup': True,\n",
       " 'freq_ghz': 5.0,\n",
       " 'save_fields': False,\n",
       " 'enabled': True,\n",
       " 'max_passes': 14,\n",
       " 'min_passes': 2,\n",
       " 'min_converged_passes': 2,\n",
       " 'percent_error': 0.1,\n",
       " 'percent_refinement': 30,\n",
       " 'auto_increase_solution_order': True,\n",
       " 'solution_order': 'High',\n",
       " 'solver_type': 'Iterative'}"
      ]
     },
     "execution_count": 67,
     "metadata": {},
     "output_type": "execute_result"
    }
   ],
   "source": [
    "c1.sim.setup.percent_refinement = 30\n",
    "c1.sim.setup.max_passes = 14\n",
    "c1.sim.setup.percent_error = 0.1\n",
    "c1.sim.setup"
   ]
  },
  {
   "cell_type": "code",
   "execution_count": 68,
   "metadata": {},
   "outputs": [
    {
     "name": "stderr",
     "output_type": "stream",
     "text": [
      "INFO 01:34AM [get_setup]: \tOpened setup `Setup`  (<class 'pyEPR.ansys.AnsysQ3DSetup'>)\n",
      "INFO 01:34AM [analyze]: Analyzing setup Setup\n"
     ]
    }
   ],
   "source": [
    "q3d.analyze_setup(\"Setup\")"
   ]
  },
  {
   "cell_type": "code",
   "execution_count": 69,
   "metadata": {},
   "outputs": [
    {
     "name": "stderr",
     "output_type": "stream",
     "text": [
      "INFO 01:40AM [get_matrix]: Exporting matrix data to (C:\\Users\\Luxcuse\\AppData\\Local\\Temp\\tmpw2e9p0fl.txt, C, , Setup:LastAdaptive, \"Original\", \"ohm\", \"nH\", \"fF\", \"mSie\", 5000000000, Maxwell, 1, False\n"
     ]
    },
    {
     "data": {
      "text/html": [
       "<div>\n",
       "<style scoped>\n",
       "    .dataframe tbody tr th:only-of-type {\n",
       "        vertical-align: middle;\n",
       "    }\n",
       "\n",
       "    .dataframe tbody tr th {\n",
       "        vertical-align: top;\n",
       "    }\n",
       "\n",
       "    .dataframe thead th {\n",
       "        text-align: right;\n",
       "    }\n",
       "</style>\n",
       "<table border=\"1\" class=\"dataframe\">\n",
       "  <thead>\n",
       "    <tr style=\"text-align: right;\">\n",
       "      <th></th>\n",
       "      <th>C_box_T_coupler_PF_11</th>\n",
       "      <th>C_box_T_coupler_R_11</th>\n",
       "      <th>cap_body_0_highC_PF_TL_11</th>\n",
       "      <th>control_connector_arm_Q_1</th>\n",
       "      <th>g_wb</th>\n",
       "      <th>pad_bot_Q_1</th>\n",
       "      <th>pad_top_Q_1</th>\n",
       "    </tr>\n",
       "  </thead>\n",
       "  <tbody>\n",
       "    <tr>\n",
       "      <th>C_box_T_coupler_PF_11</th>\n",
       "      <td>1874.47784</td>\n",
       "      <td>-4.46393</td>\n",
       "      <td>-79.05118</td>\n",
       "      <td>-0.00641</td>\n",
       "      <td>-1788.07695</td>\n",
       "      <td>-0.09261</td>\n",
       "      <td>-0.09455</td>\n",
       "    </tr>\n",
       "    <tr>\n",
       "      <th>C_box_T_coupler_R_11</th>\n",
       "      <td>-4.46393</td>\n",
       "      <td>1863.22112</td>\n",
       "      <td>-0.03238</td>\n",
       "      <td>-0.14367</td>\n",
       "      <td>-1836.74287</td>\n",
       "      <td>-5.23983</td>\n",
       "      <td>-14.15609</td>\n",
       "    </tr>\n",
       "    <tr>\n",
       "      <th>cap_body_0_highC_PF_TL_11</th>\n",
       "      <td>-79.05118</td>\n",
       "      <td>-0.03238</td>\n",
       "      <td>142.89103</td>\n",
       "      <td>-0.00024</td>\n",
       "      <td>-63.41645</td>\n",
       "      <td>-0.00308</td>\n",
       "      <td>-0.00323</td>\n",
       "    </tr>\n",
       "    <tr>\n",
       "      <th>control_connector_arm_Q_1</th>\n",
       "      <td>-0.00641</td>\n",
       "      <td>-0.14367</td>\n",
       "      <td>-0.00024</td>\n",
       "      <td>26.69312</td>\n",
       "      <td>-24.21714</td>\n",
       "      <td>-0.27457</td>\n",
       "      <td>-1.96551</td>\n",
       "    </tr>\n",
       "    <tr>\n",
       "      <th>g_wb</th>\n",
       "      <td>-1788.07695</td>\n",
       "      <td>-1836.74287</td>\n",
       "      <td>-63.41645</td>\n",
       "      <td>-24.21714</td>\n",
       "      <td>4017.74063</td>\n",
       "      <td>-76.69372</td>\n",
       "      <td>-69.71778</td>\n",
       "    </tr>\n",
       "    <tr>\n",
       "      <th>pad_bot_Q_1</th>\n",
       "      <td>-0.09261</td>\n",
       "      <td>-5.23983</td>\n",
       "      <td>-0.00308</td>\n",
       "      <td>-0.27457</td>\n",
       "      <td>-76.69372</td>\n",
       "      <td>114.26833</td>\n",
       "      <td>-30.68056</td>\n",
       "    </tr>\n",
       "    <tr>\n",
       "      <th>pad_top_Q_1</th>\n",
       "      <td>-0.09455</td>\n",
       "      <td>-14.15609</td>\n",
       "      <td>-0.00323</td>\n",
       "      <td>-1.96551</td>\n",
       "      <td>-69.71778</td>\n",
       "      <td>-30.68056</td>\n",
       "      <td>117.83200</td>\n",
       "    </tr>\n",
       "  </tbody>\n",
       "</table>\n",
       "</div>"
      ],
      "text/plain": [
       "                           C_box_T_coupler_PF_11  C_box_T_coupler_R_11  \\\n",
       "C_box_T_coupler_PF_11                 1874.47784              -4.46393   \n",
       "C_box_T_coupler_R_11                    -4.46393            1863.22112   \n",
       "cap_body_0_highC_PF_TL_11              -79.05118              -0.03238   \n",
       "control_connector_arm_Q_1               -0.00641              -0.14367   \n",
       "g_wb                                 -1788.07695           -1836.74287   \n",
       "pad_bot_Q_1                             -0.09261              -5.23983   \n",
       "pad_top_Q_1                             -0.09455             -14.15609   \n",
       "\n",
       "                           cap_body_0_highC_PF_TL_11  \\\n",
       "C_box_T_coupler_PF_11                      -79.05118   \n",
       "C_box_T_coupler_R_11                        -0.03238   \n",
       "cap_body_0_highC_PF_TL_11                  142.89103   \n",
       "control_connector_arm_Q_1                   -0.00024   \n",
       "g_wb                                       -63.41645   \n",
       "pad_bot_Q_1                                 -0.00308   \n",
       "pad_top_Q_1                                 -0.00323   \n",
       "\n",
       "                           control_connector_arm_Q_1        g_wb  pad_bot_Q_1  \\\n",
       "C_box_T_coupler_PF_11                       -0.00641 -1788.07695     -0.09261   \n",
       "C_box_T_coupler_R_11                        -0.14367 -1836.74287     -5.23983   \n",
       "cap_body_0_highC_PF_TL_11                   -0.00024   -63.41645     -0.00308   \n",
       "control_connector_arm_Q_1                   26.69312   -24.21714     -0.27457   \n",
       "g_wb                                       -24.21714  4017.74063    -76.69372   \n",
       "pad_bot_Q_1                                 -0.27457   -76.69372    114.26833   \n",
       "pad_top_Q_1                                 -1.96551   -69.71778    -30.68056   \n",
       "\n",
       "                           pad_top_Q_1  \n",
       "C_box_T_coupler_PF_11         -0.09455  \n",
       "C_box_T_coupler_R_11         -14.15609  \n",
       "cap_body_0_highC_PF_TL_11     -0.00323  \n",
       "control_connector_arm_Q_1     -1.96551  \n",
       "g_wb                         -69.71778  \n",
       "pad_bot_Q_1                  -30.68056  \n",
       "pad_top_Q_1                  117.83200  "
      ]
     },
     "execution_count": 69,
     "metadata": {},
     "output_type": "execute_result"
    }
   ],
   "source": [
    "c1.sim.capacitance_matrix, c1.sim.units = q3d.get_capacitance_matrix()\n",
    "# c1.sim.capacitance_all_passes, _ = q3d.get_capacitance_all_passes()\n",
    "c1.sim.capacitance_matrix\n",
    "# c1.sim.capacitance_all_passes"
   ]
  },
  {
   "cell_type": "code",
   "execution_count": 70,
   "metadata": {},
   "outputs": [],
   "source": [
    "c1.sim.close()"
   ]
  },
  {
   "cell_type": "markdown",
   "metadata": {},
   "source": [
    "## 2. Eigenmode and EPR (Qubit-Readout)"
   ]
  },
  {
   "cell_type": "code",
   "execution_count": 71,
   "metadata": {},
   "outputs": [
    {
     "data": {
      "text/plain": [
       "{'name': 'reset_hfss_Q_R_pyEPR_design',\n",
       " 'reuse_selected_design': True,\n",
       " 'reuse_setup': True,\n",
       " 'min_freq_ghz': 3,\n",
       " 'n_modes': 2,\n",
       " 'max_delta_f': 0.03,\n",
       " 'max_passes': 14,\n",
       " 'min_passes': 1,\n",
       " 'min_converged': 3,\n",
       " 'pct_refinement': 30,\n",
       " 'basis_order': 1,\n",
       " 'vars': {'Lj1': '9.0 nH', 'Cj1': '2 fF'},\n",
       " 'max_freq_ghz': 8}"
      ]
     },
     "execution_count": 71,
     "metadata": {},
     "output_type": "execute_result"
    }
   ],
   "source": [
    "from qiskit_metal.analyses.quantization import EPRanalysis\n",
    "eig_qb = EPRanalysis(design, \"hfss\")\n",
    "eig_qb.sim.renderer.options['wb_size'] = 3\n",
    "eig_qb.sim.renderer.options['wb_threshold'] = '150um'\n",
    "eig_qb.sim.renderer.options\n",
    "em_p = eig_qb.sim.setup\n",
    "em_p.name = 'reset_hfss_Q_R_pyEPR_design'\n",
    "em_p.min_freq_ghz = 3\n",
    "em_p.max_freq_ghz = 8\n",
    "em_p.n_modes = 2\n",
    "em_p.max_passes = 14\n",
    "em_p.max_delta_f = 0.03\n",
    "em_p.min_converged = 3\n",
    "em_p.pct_refinement = 30\n",
    "# Design variables can also be added in for direct simulation sweeps.\n",
    "em_p.vars = Dict({'Lj1': '9.0 nH', 'Cj1': '2 fF'})\n",
    "\n",
    "eig_qb.sim.setup"
   ]
  },
  {
   "cell_type": "code",
   "execution_count": 72,
   "metadata": {},
   "outputs": [
    {
     "name": "stderr",
     "output_type": "stream",
     "text": [
      "INFO 01:41AM [connect_project]: Connecting to Ansys Desktop API...\n",
      "INFO 01:41AM [load_ansys_project]: \tOpened Ansys App\n",
      "INFO 01:41AM [load_ansys_project]: \tOpened Ansys Desktop v2021.1.0\n",
      "INFO 01:41AM [load_ansys_project]: \tOpened Ansys Project\n",
      "\tFolder:    C:/Users/Luxcuse/Documents/Ansoft/\n",
      "\tProject:   Project21\n",
      "INFO 01:41AM [connect_design]: \tOpened active design\n",
      "\tDesign:    reset_q3d_R_PF_capacitance [Solution type: Q3D]\n",
      "INFO 01:41AM [get_setup]: \tOpened setup `Setup`  (<class 'pyEPR.ansys.AnsysQ3DSetup'>)\n",
      "INFO 01:41AM [connect]: \tConnected to project \"Project21\" and design \"reset_q3d_R_PF_capacitance\" 😀 \n",
      "\n",
      "INFO 01:41AM [connect_design]: \tOpened active design\n",
      "\tDesign:    reset_hfss_Q_R_pyEPR_hfss [Solution type: Eigenmode]\n",
      "WARNING 01:41AM [connect_setup]: \tNo design setup detected.\n",
      "WARNING 01:41AM [connect_setup]: \tCreating eigenmode default setup.\n",
      "INFO 01:41AM [get_setup]: \tOpened setup `Setup`  (<class 'pyEPR.ansys.HfssEMSetup'>)\n",
      "INFO 01:41AM [get_setup]: \tOpened setup `reset_hfss_Q_R_pyEPR_design`  (<class 'pyEPR.ansys.HfssEMSetup'>)\n",
      "INFO 01:41AM [analyze]: Analyzing setup reset_hfss_Q_R_pyEPR_design\n",
      "01:57AM 36s INFO [get_f_convergence]: Saved convergences to c:\\Users\\Luxcuse\\Documents\\GitHub\\qiskit-metal-SQNL\\hfss_eig_f_convergence.csv\n"
     ]
    },
    {
     "data": {
      "text/plain": [
       "{'junctions': {'jj1': {'Lj_variable': 'Lj1',\n",
       "   'Cj_variable': 'Cj1',\n",
       "   'rect': 'JJ_rect_Lj_Q_1_rect_jj',\n",
       "   'line': 'JJ_Lj_Q_1_rect_jj_'}},\n",
       " 'dissipatives': {'dielectrics_bulk': ['main']},\n",
       " 'cos_trunc': 8,\n",
       " 'fock_trunc': 7,\n",
       " 'sweep_variable': 'Lj1'}"
      ]
     },
     "execution_count": 72,
     "metadata": {},
     "output_type": "execute_result"
    }
   ],
   "source": [
    "eig_qb.sim.run(name=\"reset_hfss_Q_R_pyEPR\", \n",
    "               components=['Q_1', 'R_11', 'T_coupler_R_11'], \n",
    "               open_terminations=[])\n",
    "eig_qb.sim.plot_convergences()\n",
    "eig_qb.del_junction()\n",
    "eig_qb.add_junction('jj1', 'Lj1', 'Cj1', rect='JJ_rect_Lj_Q_1_rect_jj', line='JJ_Lj_Q_1_rect_jj_')\n",
    "# eig_qb.add_junction('jj2', 'Lj2', 'Cj2', rect='JJ_rect_Lj_Q_2_rect_jj', line='JJ_Lj_Q_2_rect_jj_')\n",
    "eig_qb.setup.sweep_variable = 'Lj1'\n",
    "eig_qb.setup"
   ]
  },
  {
   "cell_type": "code",
   "execution_count": 73,
   "metadata": {},
   "outputs": [
    {
     "name": "stdout",
     "output_type": "stream",
     "text": [
      "Design \"reset_hfss_Q_R_pyEPR_hfss\" info:\n",
      "\t# eigenmodes    2\n",
      "\t# variations    1\n",
      "Design \"reset_hfss_Q_R_pyEPR_hfss\" info:\n",
      "\t# eigenmodes    2\n",
      "\t# variations    1\n",
      "\n",
      "        energy_elec_all       = 1.15672630109135e-24\n",
      "        energy_elec_substrate = 1.06623603919684e-24\n",
      "        EPR of substrate = 92.2%\n",
      "\n",
      "        energy_mag    = 1.27593760223264e-26\n",
      "        energy_mag % of energy_elec_all  = 1.1%\n",
      "        \n",
      "\n",
      "Variation 0  [1/1]\n",
      "\n",
      "  \u001b[1mMode 0 at 4.90 GHz   [1/2]\u001b[0m\n",
      "    Calculating ℰ_magnetic,ℰ_electric\n",
      "       (ℰ_E-ℰ_H)/ℰ_E       ℰ_E       ℰ_H\n",
      "               98.9%  5.784e-25  6.38e-27\n",
      "\n",
      "    Calculating junction energy participation ration (EPR)\n",
      "\tmethod=`line_voltage`. First estimates:\n",
      "\tjunction        EPR p_0j   sign s_0j    (p_capacitive)\n",
      "\t\tEnergy fraction (Lj over Lj&Cj)= 98.32%\n",
      "\tjj1              1.53768  (+)        0.0262753\n",
      "\t\t(U_tot_cap-U_tot_ind)/mean=-20.29%\n",
      "WARNING: This simulation must not have converged well!!!                The difference in the total cap and ind energies is larger than 10%.                Proceed with caution.\n",
      "Calculating Qdielectric_main for mode 0 (0/1)\n",
      "p_dielectric_main_0 = 0.9217703774789818\n",
      "\n",
      "  \u001b[1mMode 1 at 5.57 GHz   [2/2]\u001b[0m\n",
      "    Calculating ℰ_magnetic,ℰ_electric\n",
      "       (ℰ_E-ℰ_H)/ℰ_E       ℰ_E       ℰ_H\n",
      "                0.4%  1.138e-24 1.134e-24\n",
      "\n",
      "    Calculating junction energy participation ration (EPR)\n",
      "\tmethod=`line_voltage`. First estimates:\n",
      "\tjunction        EPR p_1j   sign s_1j    (p_capacitive)\n",
      "\t\tEnergy fraction (Lj over Lj&Cj)= 97.84%\n",
      "\tjj1             0.00640151  (+)        0.000141136\n",
      "\t\t(U_tot_cap-U_tot_ind)/mean=-0.11%\n",
      "Calculating Qdielectric_main for mode 1 (1/1)\n",
      "p_dielectric_main_1 = 0.9192604828642282\n"
     ]
    },
    {
     "name": "stderr",
     "output_type": "stream",
     "text": [
      "WARNING 01:58AM [__init__]: <p>Error: <class 'IndexError'></p>\n",
      "ERROR 01:58AM [_get_participation_normalized]: WARNING: U_tot_cap-U_tot_ind / mean = 40.6% is > 15%.                     \n",
      "Is the simulation converged? Proceed with caution\n",
      "ERROR 01:58AM [_get_participation_normalized]: WARNING: U_tot_cap-U_tot_ind / mean = 40.6% is > 15%.                     \n",
      "Is the simulation converged? Proceed with caution\n",
      "WARNING:py.warnings:c:\\Users\\Luxcuse\\anaconda3\\envs\\env-metal\\Lib\\site-packages\\pyEPR\\core_quantum_analysis.py:711: FutureWarning: Support for multi-dimensional indexing (e.g. `obj[:, None]`) is deprecated and will be removed in a future version.  Convert to a numpy array before indexing instead.\n",
      "  result['Q_coupling'] = self.Qm_coupling[variation][self.Qm_coupling[variation].columns[junctions]][modes]#TODO change the columns to junctions\n",
      "\n",
      "WARNING:py.warnings:c:\\Users\\Luxcuse\\anaconda3\\envs\\env-metal\\Lib\\site-packages\\pyEPR\\core_quantum_analysis.py:716: FutureWarning: Support for multi-dimensional indexing (e.g. `obj[:, None]`) is deprecated and will be removed in a future version.  Convert to a numpy array before indexing instead.\n",
      "  result['Qs'] = self.Qs[variation][self.PM[variation].columns[junctions]][modes] #TODO change the columns to junctions\n",
      "\n"
     ]
    },
    {
     "name": "stdout",
     "output_type": "stream",
     "text": [
      "\n",
      "ANALYSIS DONE. Data saved to:\n",
      "\n",
      "C:\\data-pyEPR\\Project21\\reset_hfss_Q_R_pyEPR_hfss\\2024-04-03 01-57-38.npz\n",
      "\n",
      "\n",
      "\t Differences in variations:\n",
      "\n",
      "\n",
      "\n",
      " . . . . . . . . . . . . . . . . . . . . . . . . . . . . . . . . . . . . . . . . \n",
      "Variation 0\n",
      "\n",
      "Starting the diagonalization\n",
      "Finished the diagonalization\n",
      "Pm_norm=\n",
      "modes\n",
      "0    0.661700\n",
      "1    0.831709\n",
      "dtype: float64\n",
      "\n",
      "Pm_norm idx =\n",
      "     jj1\n",
      "0   True\n",
      "1  False\n",
      "*** P (participation matrix, not normlz.)\n",
      "        jj1\n",
      "0  1.498312\n",
      "1  0.006401\n",
      "\n",
      "*** S (sign-bit matrix)\n",
      "   s_jj1\n",
      "0     -1\n",
      "1     -1\n",
      "*** P (participation matrix, normalized.)\n",
      "      0.99\n",
      "    0.0064\n",
      "\n",
      "*** Chi matrix O1 PT (MHz)\n",
      "    Diag is anharmonicity, off diag is full cross-Kerr.\n",
      "       163     2.39\n",
      "      2.39  0.00875\n",
      "\n",
      "*** Chi matrix ND (MHz) \n",
      "       177     1.36\n",
      "      1.36  0.00344\n",
      "\n",
      "*** Frequencies O1 PT (MHz)\n",
      "0    4739.844809\n",
      "1    5568.886442\n",
      "dtype: float64\n",
      "\n",
      "*** Frequencies ND (MHz)\n",
      "0    4733.612858\n",
      "1    5569.095876\n",
      "dtype: float64\n",
      "\n",
      "*** Q_coupling\n",
      "Empty DataFrame\n",
      "Columns: []\n",
      "Index: [0, 1]\n"
     ]
    },
    {
     "name": "stderr",
     "output_type": "stream",
     "text": [
      "INFO 01:58AM [__del__]: Disconnected from Ansys HFSS\n",
      "INFO 01:58AM [__del__]: Disconnected from Ansys HFSS\n",
      "INFO 01:58AM [__del__]: Disconnected from Ansys HFSS\n",
      "INFO 01:58AM [__del__]: Disconnected from Ansys HFSS\n"
     ]
    },
    {
     "data": {
      "text/markdown": [
       "#### Mode frequencies (MHz)"
      ],
      "text/plain": [
       "<IPython.core.display.Markdown object>"
      ]
     },
     "metadata": {},
     "output_type": "display_data"
    },
    {
     "data": {
      "text/markdown": [
       "###### Numerical diagonalization"
      ],
      "text/plain": [
       "<IPython.core.display.Markdown object>"
      ]
     },
     "metadata": {},
     "output_type": "display_data"
    },
    {
     "data": {
      "text/html": [
       "<div>\n",
       "<style scoped>\n",
       "    .dataframe tbody tr th:only-of-type {\n",
       "        vertical-align: middle;\n",
       "    }\n",
       "\n",
       "    .dataframe tbody tr th {\n",
       "        vertical-align: top;\n",
       "    }\n",
       "\n",
       "    .dataframe thead th {\n",
       "        text-align: right;\n",
       "    }\n",
       "</style>\n",
       "<table border=\"1\" class=\"dataframe\">\n",
       "  <thead>\n",
       "    <tr style=\"text-align: right;\">\n",
       "      <th>Lj1</th>\n",
       "      <th>9</th>\n",
       "    </tr>\n",
       "  </thead>\n",
       "  <tbody>\n",
       "    <tr>\n",
       "      <th>0</th>\n",
       "      <td>4733.61</td>\n",
       "    </tr>\n",
       "    <tr>\n",
       "      <th>1</th>\n",
       "      <td>5569.10</td>\n",
       "    </tr>\n",
       "  </tbody>\n",
       "</table>\n",
       "</div>"
      ],
      "text/plain": [
       "Lj1        9\n",
       "0    4733.61\n",
       "1    5569.10"
      ]
     },
     "metadata": {},
     "output_type": "display_data"
    },
    {
     "data": {
      "text/markdown": [
       "#### Kerr Non-linear coefficient table (MHz)"
      ],
      "text/plain": [
       "<IPython.core.display.Markdown object>"
      ]
     },
     "metadata": {},
     "output_type": "display_data"
    },
    {
     "data": {
      "text/markdown": [
       "###### Numerical diagonalization"
      ],
      "text/plain": [
       "<IPython.core.display.Markdown object>"
      ]
     },
     "metadata": {},
     "output_type": "display_data"
    },
    {
     "data": {
      "text/html": [
       "<div>\n",
       "<style scoped>\n",
       "    .dataframe tbody tr th:only-of-type {\n",
       "        vertical-align: middle;\n",
       "    }\n",
       "\n",
       "    .dataframe tbody tr th {\n",
       "        vertical-align: top;\n",
       "    }\n",
       "\n",
       "    .dataframe thead th {\n",
       "        text-align: right;\n",
       "    }\n",
       "</style>\n",
       "<table border=\"1\" class=\"dataframe\">\n",
       "  <thead>\n",
       "    <tr style=\"text-align: right;\">\n",
       "      <th></th>\n",
       "      <th></th>\n",
       "      <th>0</th>\n",
       "      <th>1</th>\n",
       "    </tr>\n",
       "    <tr>\n",
       "      <th>Lj1</th>\n",
       "      <th></th>\n",
       "      <th></th>\n",
       "      <th></th>\n",
       "    </tr>\n",
       "  </thead>\n",
       "  <tbody>\n",
       "    <tr>\n",
       "      <th rowspan=\"2\" valign=\"top\">9</th>\n",
       "      <th>0</th>\n",
       "      <td>176.77</td>\n",
       "      <td>1.36e+00</td>\n",
       "    </tr>\n",
       "    <tr>\n",
       "      <th>1</th>\n",
       "      <td>1.36</td>\n",
       "      <td>3.44e-03</td>\n",
       "    </tr>\n",
       "  </tbody>\n",
       "</table>\n",
       "</div>"
      ],
      "text/plain": [
       "            0         1\n",
       "Lj1                    \n",
       "9   0  176.77  1.36e+00\n",
       "    1    1.36  3.44e-03"
      ]
     },
     "metadata": {},
     "output_type": "display_data"
    }
   ],
   "source": [
    "eig_qb.run_epr()\n",
    "# (pyEPR allows to switch modes: eprd.set_mode(1))"
   ]
  },
  {
   "cell_type": "code",
   "execution_count": 74,
   "metadata": {},
   "outputs": [],
   "source": [
    "eig_qb.sim.close()\n",
    "\n",
    "# 360"
   ]
  },
  {
   "cell_type": "markdown",
   "metadata": {},
   "source": [
    "## 3. Scattering Impedance analysis"
   ]
  },
  {
   "cell_type": "code",
   "execution_count": 46,
   "metadata": {},
   "outputs": [
    {
     "name": "stderr",
     "output_type": "stream",
     "text": [
      "INFO 12:56AM [connect_project]: Connecting to Ansys Desktop API...\n",
      "INFO 12:56AM [load_ansys_project]: \tOpened Ansys App\n",
      "INFO 12:56AM [load_ansys_project]: \tOpened Ansys Desktop v2021.1.0\n",
      "INFO 12:56AM [load_ansys_project]: \tOpened Ansys Project\n",
      "\tFolder:    C:/Users/Luxcuse/Documents/Ansoft/\n",
      "\tProject:   Project21\n",
      "INFO 12:56AM [connect_design]: \tOpened active design\n",
      "\tDesign:    reset_hfss_Q_R_pyEPR_hfss [Solution type: Eigenmode]\n",
      "INFO 12:56AM [get_setup]: \tOpened setup `Setup`  (<class 'pyEPR.ansys.HfssEMSetup'>)\n",
      "INFO 12:56AM [connect]: \tConnected to project \"Project21\" and design \"reset_hfss_Q_R_pyEPR_hfss\" 😀 \n",
      "\n",
      "12:56AM 28s WARNING [activate_ansys_design]: The design_name=Reset_v5_1_R-PF was not in active project.  Designs in active project are: \n",
      "['reset_q3d_Qubit_capacitance', 'reset_q3d_R_PF_capacitance', 'reset_hfss_Q_R_pyEPR_hfss'].  A new design will be added to the project.  \n",
      "INFO 12:56AM [connect_design]: \tOpened active design\n",
      "\tDesign:    Reset_v5_1_R-PF [Solution type: DrivenModal]\n",
      "WARNING 12:56AM [connect_setup]: \tNo design setup detected.\n",
      "WARNING 12:56AM [connect_setup]: \tCreating driven modal default setup.\n",
      "INFO 12:56AM [get_setup]: \tOpened setup `Setup`  (<class 'pyEPR.ansys.HfssDMSetup'>)\n"
     ]
    }
   ],
   "source": [
    "from qiskit_metal.analyses.simulation.scattering_impedance import ScatteringImpedanceSim\n",
    "em1 = ScatteringImpedanceSim(design, \"hfss\")\n",
    "Reset_v5 = em1.renderer\n",
    "Reset_v5.start()\n",
    "Reset_v5.activate_ansys_design(\"Reset_v5_1_R-PF\", 'drivenmodal')\n",
    "Reset_v5.options['x_buffer_width_mm'] = 0.5\n",
    "Reset_v5.options['y_buffer_width_mm'] = 0.5\n",
    "Reset_v5.options['wb_size'] = 3\n",
    "Reset_v5.options['wb_threshold'] = '150um'"
   ]
  },
  {
   "cell_type": "code",
   "execution_count": 47,
   "metadata": {},
   "outputs": [],
   "source": [
    "Reset_v5.render_design(['PF_11','T_coupler_PF_11', 'highC_PF_TL_11','PF_read'], [],\n",
    "                   port_list=[('highC_PF_TL_11','north_end',50),('PF_read','end',50)])\n",
    "# Reset_v5.save_screenshot()"
   ]
  },
  {
   "cell_type": "markdown",
   "metadata": {},
   "source": [
    "### ----Externaly change geometry (if you added qubit for complete desing of readout resonator) ----"
   ]
  },
  {
   "cell_type": "markdown",
   "metadata": {},
   "source": [
    "1. Add mesh for CPW -> maximum element size 40um\n",
    "2. Modify Setup : Broadband --> Low/High freq"
   ]
  },
  {
   "cell_type": "code",
   "execution_count": 48,
   "metadata": {},
   "outputs": [
    {
     "name": "stderr",
     "output_type": "stream",
     "text": [
      "INFO 12:58AM [get_setup]: \tOpened setup `Setup`  (<class 'pyEPR.ansys.HfssDMSetup'>)\n"
     ]
    },
    {
     "data": {
      "text/plain": [
       "<pyEPR.ansys.HfssFrequencySweep at 0x24e4f0107d0>"
      ]
     },
     "execution_count": 48,
     "metadata": {},
     "output_type": "execute_result"
    }
   ],
   "source": [
    "Reset_v5.add_sweep(setup_name=\"Setup\",\n",
    "               name=\"Sweep1\",\n",
    "               start_ghz=5.2,\n",
    "               stop_ghz=5.8,\n",
    "               count=1201,\n",
    "               type=\"Interpolating\"\n",
    "               )"
   ]
  },
  {
   "cell_type": "code",
   "execution_count": 49,
   "metadata": {},
   "outputs": [
    {
     "name": "stderr",
     "output_type": "stream",
     "text": [
      "INFO 12:59AM [get_setup]: \tOpened setup `Setup`  (<class 'pyEPR.ansys.HfssDMSetup'>)\n",
      "INFO 12:59AM [analyze]: Analyzing setup Setup : Sweep1\n"
     ]
    }
   ],
   "source": [
    "Reset_v5.analyze_sweep('Sweep1', 'Setup')"
   ]
  },
  {
   "cell_type": "code",
   "execution_count": 50,
   "metadata": {},
   "outputs": [],
   "source": [
    "data = Reset_v5.plot_params(['S11','S21'])"
   ]
  },
  {
   "cell_type": "code",
   "execution_count": 51,
   "metadata": {},
   "outputs": [],
   "source": [
    "em1.close()"
   ]
  },
  {
   "cell_type": "markdown",
   "metadata": {},
   "source": [
    "# Calculators"
   ]
  },
  {
   "cell_type": "code",
   "execution_count": null,
   "metadata": {},
   "outputs": [],
   "source": [
    "Phi_0 = 2.067833848e-15\n",
    "Delta_Al = 1.7e-4\n",
    "Lj_test = 9.33\n",
    "Ic_test = Phi_0/2/np.pi/Lj_test/1e-9\n",
    "print(\"When Lj={:.3f}[nH],\".format(Lj_test)+\"Ic={:.3f}[nA]\".format(Ic_test/1e-9))"
   ]
  },
  {
   "cell_type": "code",
   "execution_count": 52,
   "metadata": {},
   "outputs": [
    {
     "name": "stdout",
     "output_type": "stream",
     "text": [
      "Rn=9087.638640720297\n"
     ]
    }
   ],
   "source": [
    "print('Rn={}'.format(np.pi/2*Delta_Al/Ic_test))"
   ]
  },
  {
   "cell_type": "code",
   "execution_count": null,
   "metadata": {},
   "outputs": [
    {
     "name": "stdout",
     "output_type": "stream",
     "text": [
      "RRR=1.019100931606024\n"
     ]
    }
   ],
   "source": [
    "# Calculate RRR\n",
    "R_300K = 11730\n",
    "Ic = 23.2e-9\n",
    "\n",
    "RRR = Ic * R_300K * 2 / np.pi / Delta_Al\n",
    "\n",
    "print('RRR={}'.format(RRR))"
   ]
  }
 ],
 "metadata": {
  "celltoolbar": "Tags",
  "kernelspec": {
   "display_name": "Python 3 (ipykernel)",
   "language": "python",
   "name": "python3"
  },
  "language_info": {
   "codemirror_mode": {
    "name": "ipython",
    "version": 3
   },
   "file_extension": ".py",
   "mimetype": "text/x-python",
   "name": "python",
   "nbconvert_exporter": "python",
   "pygments_lexer": "ipython3",
   "version": "3.11.8"
  }
 },
 "nbformat": 4,
 "nbformat_minor": 4
}
