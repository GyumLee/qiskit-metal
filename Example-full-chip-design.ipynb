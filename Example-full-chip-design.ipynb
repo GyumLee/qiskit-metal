{
 "cells": [
  {
   "cell_type": "markdown",
   "metadata": {},
   "source": [
    "# Example full chip design"
   ]
  },
  {
   "cell_type": "code",
   "execution_count": 3,
   "metadata": {},
   "outputs": [
    {
     "name": "stdout",
     "output_type": "stream",
     "text": [
      "The autoreload extension is already loaded. To reload it, use:\n",
      "  %reload_ext autoreload\n"
     ]
    }
   ],
   "source": [
    "%load_ext autoreload\n",
    "%autoreload 2"
   ]
  },
  {
   "cell_type": "markdown",
   "metadata": {},
   "source": [
    "*Make sure to have the right kernel selected!*"
   ]
  },
  {
   "cell_type": "code",
   "execution_count": 4,
   "metadata": {},
   "outputs": [
    {
     "data": {
      "text/html": [
       "\n",
       "    <h1 style=\"\n",
       "        background: #12c2e9;  /* fallback for old browsers */\n",
       "        background: -webkit-linear-gradient(to right, #d4418e 0%, #0652c5 74%);  /* Chrome 10-25, Safari 5.1-6 */\n",
       "        background: linear-gradient(315deg, #d4418e 0%, #0652c5 74%); /* W3C, IE 10+/ Edge, Firefox 16+, Chrome 26+, Opera 12+, Safari 7+ */\n",
       "        margin-top: 50px;\n",
       "        border-style: outset;\n",
       "        padding-top:100px;\n",
       "        padding-bottom:50px;\n",
       "        padding-left:25px;\n",
       "        color: white;\n",
       "    \"> Welcome to Qiskit Metal! <h1>\n",
       "        "
      ],
      "text/plain": [
       "<IPython.core.display.HTML object>"
      ]
     },
     "metadata": {},
     "output_type": "display_data"
    }
   ],
   "source": [
    "import qiskit_metal as metal\n",
    "from qiskit_metal import designs, draw\n",
    "from qiskit_metal import MetalGUI, Dict, open_docs\n",
    "\n",
    "%metal_heading Welcome to Qiskit Metal!"
   ]
  },
  {
   "cell_type": "markdown",
   "metadata": {},
   "source": [
    "Welcome to Qiskit Metal! \n",
    "\n",
    "For this example tutorial, we will attempt to create a multi qubit chip with a variety of components. We will want to generate the layout, simulate/analyze and tune the chip to hit the parameters we are wanting, finally rendering to a GDS file.\n",
    "\n",
    "One could generate subsections of the layout and tune individual components first, but in this case we will create all of the layout. We will be using both transmon pockets and crossmons, meandered and simple transmission lines, capacitive couplers, and launchers for wirebond connections. So we will import these, and also create a design instance and launch the GUI."
   ]
  },
  {
   "cell_type": "markdown",
   "metadata": {},
   "source": [
    "# Layout"
   ]
  },
  {
   "cell_type": "code",
   "execution_count": 5,
   "metadata": {},
   "outputs": [],
   "source": [
    "from qiskit_metal.qlibrary.qubits.transmon_pocket_6 import TransmonPocket6\n",
    "from qiskit_metal.qlibrary.qubits.transmon_cross_fl import TransmonCrossFL\n",
    "\n",
    "from qiskit_metal.qlibrary.couplers.tunable_coupler_01 import TunableCoupler01\n",
    "\n",
    "from qiskit_metal.qlibrary.tlines.meandered import RouteMeander\n",
    "from qiskit_metal.qlibrary.tlines.pathfinder import RoutePathfinder\n",
    "from qiskit_metal.qlibrary.tlines.anchored_path import RouteAnchors\n",
    "\n",
    "from qiskit_metal.qlibrary.lumped.cap_n_interdigital import CapNInterdigital\n",
    "from qiskit_metal.qlibrary.couplers.cap_n_interdigital_tee import CapNInterdigitalTee\n",
    "from qiskit_metal.qlibrary.couplers.coupled_line_tee import CoupledLineTee\n",
    "\n",
    "from qiskit_metal.qlibrary.terminations.launchpad_wb import LaunchpadWirebond\n",
    "from qiskit_metal.qlibrary.terminations.launchpad_wb_coupled import LaunchpadWirebondCoupled"
   ]
  },
  {
   "cell_type": "code",
   "execution_count": 6,
   "metadata": {},
   "outputs": [],
   "source": [
    "design = metal.designs.DesignPlanar()\n",
    "\n",
    "gui = metal.MetalGUI(design)"
   ]
  },
  {
   "cell_type": "markdown",
   "metadata": {},
   "source": [
    "Since we are likely to be making many changes while tuning and modifying our design, we will enable overwriting. We can also check all of the chip properties to see if we want to change the size or any other parameter."
   ]
  },
  {
   "cell_type": "code",
   "execution_count": 7,
   "metadata": {},
   "outputs": [
    {
     "data": {
      "text/plain": [
       "{'material': 'silicon',\n",
       " 'layer_start': '0',\n",
       " 'layer_end': '2048',\n",
       " 'size': {'center_x': '0.0mm',\n",
       "  'center_y': '0.0mm',\n",
       "  'center_z': '0.0mm',\n",
       "  'size_x': '9mm',\n",
       "  'size_y': '6mm',\n",
       "  'size_z': '-750um',\n",
       "  'sample_holder_top': '890um',\n",
       "  'sample_holder_bottom': '1650um'}}"
      ]
     },
     "execution_count": 7,
     "metadata": {},
     "output_type": "execute_result"
    }
   ],
   "source": [
    "design.overwrite_enabled = True\n",
    "design.chips.main"
   ]
  },
  {
   "cell_type": "code",
   "execution_count": 8,
   "metadata": {},
   "outputs": [],
   "source": [
    "design.chips.main.size.size_x = '11mm'\n",
    "design.chips.main.size.size_y = '9mm'"
   ]
  },
  {
   "cell_type": "markdown",
   "metadata": {},
   "source": [
    "#### The Qubits"
   ]
  },
  {
   "cell_type": "markdown",
   "metadata": {},
   "source": [
    "We will add a collection of qubits. First we will place a transmon pocket with six connection pads. We can see any options the qubit qcomponent has to figure out what we might want to modify when creating the component. This will include the components default options (which the component designer included) as well as renderer options (which are added based on what renderers are present in Metal)."
   ]
  },
  {
   "cell_type": "code",
   "execution_count": 9,
   "metadata": {},
   "outputs": [
    {
     "data": {
      "text/plain": [
       "{'pos_x': '0.0um',\n",
       " 'pos_y': '0.0um',\n",
       " 'orientation': '0.0',\n",
       " 'chip': 'main',\n",
       " 'layer': '1',\n",
       " 'connection_pads': {},\n",
       " '_default_connection_pads': {'pad_gap': '15um',\n",
       "  'pad_width': '125um',\n",
       "  'pad_height': '30um',\n",
       "  'pad_cpw_shift': '0um',\n",
       "  'pad_cpw_extent': '25um',\n",
       "  'cpw_width': '10um',\n",
       "  'cpw_gap': '6um',\n",
       "  'cpw_extend': '100um',\n",
       "  'pocket_extent': '5um',\n",
       "  'pocket_rise': '0um',\n",
       "  'loc_W': '+1',\n",
       "  'loc_H': '+1'},\n",
       " 'pad_gap': '30um',\n",
       " 'inductor_width': '20um',\n",
       " 'pad_width': '455um',\n",
       " 'pad_height': '90um',\n",
       " 'pocket_width': '650um',\n",
       " 'pocket_height': '650um',\n",
       " 'hfss_wire_bonds': False,\n",
       " 'q3d_wire_bonds': False,\n",
       " 'aedt_q3d_wire_bonds': False,\n",
       " 'aedt_hfss_wire_bonds': False,\n",
       " 'hfss_inductance': '10nH',\n",
       " 'hfss_capacitance': 0,\n",
       " 'hfss_resistance': 0,\n",
       " 'hfss_mesh_kw_jj': 7e-06,\n",
       " 'q3d_inductance': '10nH',\n",
       " 'q3d_capacitance': 0,\n",
       " 'q3d_resistance': 0,\n",
       " 'q3d_mesh_kw_jj': 7e-06,\n",
       " 'gds_cell_name': 'my_other_junction',\n",
       " 'aedt_q3d_inductance': 1e-08,\n",
       " 'aedt_q3d_capacitance': 0,\n",
       " 'aedt_hfss_inductance': 1e-08,\n",
       " 'aedt_hfss_capacitance': 0}"
      ]
     },
     "execution_count": 9,
     "metadata": {},
     "output_type": "execute_result"
    }
   ],
   "source": [
    "TransmonPocket6.get_template_options(design)"
   ]
  },
  {
   "cell_type": "code",
   "execution_count": 10,
   "metadata": {},
   "outputs": [],
   "source": [
    "options =  dict(\n",
    "    pad_width = '425 um', \n",
    "    pocket_height = '650um',\n",
    "    connection_pads=dict(\n",
    "        readout = dict(loc_W=0, loc_H=-1, pad_width = '80um', pad_gap = '50um'),\n",
    "        bus_01 = dict(loc_W=-1, loc_H=-1, pad_width = '60um', pad_gap = '10um'),\n",
    "        bus_02 = dict(loc_W=-1, loc_H=+1, pad_width = '60um', pad_gap = '10um'),\n",
    "        bus_03 = dict(loc_W=0, loc_H=+1, pad_width = '90um', pad_gap = '30um'),\n",
    "        bus_04 = dict(loc_W=+1, loc_H=+1, pad_width = '60um', pad_gap = '10um'),\n",
    "        bus_05 = dict(loc_W=+1, loc_H=-1, pad_width = '60um', pad_gap = '10um')        \n",
    "    ))\n",
    "\n",
    "q_main = TransmonPocket6(design,'Q_Main', options = dict(\n",
    "        pos_x='0mm', \n",
    "        pos_y='-1mm', \n",
    "        gds_cell_name ='FakeJunction_01',\n",
    "        hfss_inductance ='14nH',\n",
    "        **options))\n",
    "\n",
    "gui.rebuild()\n",
    "gui.autoscale()"
   ]
  },
  {
   "cell_type": "markdown",
   "metadata": {},
   "source": [
    "We then will add a mixture of additional qubits. This is not (though do not let me stop any experimental investigation) a design one would normally create for any experiment of computational purpose, but allows for having a mixture of different components on one chip."
   ]
  },
  {
   "cell_type": "code",
   "execution_count": 11,
   "metadata": {},
   "outputs": [
    {
     "data": {
      "text/plain": [
       "{'pos_x': '0.0um',\n",
       " 'pos_y': '0.0um',\n",
       " 'orientation': '0.0',\n",
       " 'chip': 'main',\n",
       " 'layer': '1',\n",
       " 'connection_pads': {},\n",
       " '_default_connection_pads': {'connector_type': '0',\n",
       "  'claw_length': '30um',\n",
       "  'ground_spacing': '5um',\n",
       "  'claw_width': '10um',\n",
       "  'claw_gap': '6um',\n",
       "  'claw_cpw_length': '40um',\n",
       "  'claw_cpw_width': '10um',\n",
       "  'connector_location': '0'},\n",
       " 'cross_width': '20um',\n",
       " 'cross_length': '200um',\n",
       " 'cross_gap': '20um',\n",
       " 'make_fl': True,\n",
       " 'fl_options': {'t_top': '15um',\n",
       "  't_offset': '0um',\n",
       "  't_inductive_gap': '3um',\n",
       "  't_width': '5um',\n",
       "  't_gap': '3um'},\n",
       " 'hfss_wire_bonds': False,\n",
       " 'q3d_wire_bonds': False,\n",
       " 'aedt_q3d_wire_bonds': False,\n",
       " 'aedt_hfss_wire_bonds': False,\n",
       " 'hfss_inductance': '10nH',\n",
       " 'hfss_capacitance': 0,\n",
       " 'hfss_resistance': 0,\n",
       " 'hfss_mesh_kw_jj': 7e-06,\n",
       " 'q3d_inductance': '10nH',\n",
       " 'q3d_capacitance': 0,\n",
       " 'q3d_resistance': 0,\n",
       " 'q3d_mesh_kw_jj': 7e-06,\n",
       " 'gds_cell_name': 'my_other_junction',\n",
       " 'aedt_q3d_inductance': 1e-08,\n",
       " 'aedt_q3d_capacitance': 0,\n",
       " 'aedt_hfss_inductance': 1e-08,\n",
       " 'aedt_hfss_capacitance': 0}"
      ]
     },
     "execution_count": 11,
     "metadata": {},
     "output_type": "execute_result"
    }
   ],
   "source": [
    "TransmonCrossFL.get_template_options(design)"
   ]
  },
  {
   "cell_type": "markdown",
   "metadata": {},
   "source": [
    "We will add two crossmons with flux lines to the west side of the chip, which we will couple to each other using a tunable coupler. To make sure the various readout and control lines will have space to connect to launchers at the chip edge, we have to be mindful of where we place them, and making sure we have enough space for routing while avoiding cross talk."
   ]
  },
  {
   "cell_type": "code",
   "execution_count": 12,
   "metadata": {},
   "outputs": [],
   "source": [
    "Q1 = TransmonCrossFL(design, 'Q1', options = dict(pos_x = '-2.75mm', pos_y='-1.8mm',\n",
    "                                                 connection_pads = dict(\n",
    "                                                     bus_01 = dict(connector_location = '180',claw_length ='95um'),\n",
    "                                                     readout = dict(connector_location = '0')),\n",
    "                                                 fl_options = dict()))\n",
    "\n",
    "Q2 = TransmonCrossFL(design, 'Q2', options = dict(pos_x = '-2.75mm', pos_y='-1.2mm', orientation = '180',\n",
    "                                                 connection_pads = dict(\n",
    "                                                     bus_02 = dict(connector_location = '0',claw_length ='95um'),\n",
    "                                                     readout = dict(connector_location = '180')),\n",
    "                                                 fl_options = dict()))\n",
    "\n",
    "\n",
    "tune_c_Q12 = TunableCoupler01(design,'Tune_C_Q12', options = dict(pos_x = '-2.81mm', pos_y = '-1.5mm', \n",
    "                                                                  orientation=90, c_width='500um'))\n",
    "\n",
    "gui.rebuild()\n",
    "gui.autoscale()"
   ]
  },
  {
   "cell_type": "markdown",
   "metadata": {},
   "source": [
    "We then will add three transmon pockets to the north side of the chip, with the intention of having them in a linear series of coupling to each other, as well as the 'main' qubit to the south."
   ]
  },
  {
   "cell_type": "code",
   "execution_count": 13,
   "metadata": {},
   "outputs": [],
   "source": [
    "Q3 = TransmonPocket6(design,'Q3', options = dict(\n",
    "        pos_x='-3mm', \n",
    "        pos_y='0.5mm', \n",
    "        gds_cell_name ='FakeJunction_01',\n",
    "        hfss_inductance ='14nH',\n",
    "        connection_pads = dict(\n",
    "            bus_03 = dict(loc_W=0, loc_H=-1, pad_width = '80um', pad_gap = '15um'),\n",
    "            bus_q3_q4 = dict(loc_W=1, loc_H=-1, pad_width = '80um', pad_gap = '15um'),\n",
    "            readout = dict(loc_W=0, loc_H=1, pad_width = '80um', pad_gap = '50um'))))\n",
    "\n",
    "Q4 = TransmonPocket6(design,'Q4', options = dict(\n",
    "        pos_x='0mm', \n",
    "        pos_y='1mm', \n",
    "        gds_cell_name ='FakeJunction_01',\n",
    "        hfss_inductance ='14nH',\n",
    "        connection_pads = dict(\n",
    "            bus_04 = dict(loc_W=0, loc_H=-1, pad_width = '80um', pad_gap = '15um'),\n",
    "            bus_q3_q4 = dict(loc_W=-1, loc_H=-1, pad_width = '80um', pad_gap = '15um'),\n",
    "            bus_q4_q5 = dict(loc_W=1, loc_H=-1, pad_width = '80um', pad_gap = '15um'),\n",
    "            readout = dict(loc_W=0, loc_H=1, pad_width = '80um', pad_gap = '50um'))))\n",
    "\n",
    "Q5 = TransmonPocket6(design,'Q5', options = dict(\n",
    "        pos_x='3mm', \n",
    "        pos_y='0.5mm', \n",
    "        gds_cell_name ='FakeJunction_01',\n",
    "        hfss_inductance ='14nH',\n",
    "        connection_pads = dict(\n",
    "            bus_05 = dict(loc_W=0, loc_H=-1, pad_width = '80um', pad_gap = '15um'),\n",
    "            bus_q4_q5 = dict(loc_W=-1, loc_H=-1, pad_width = '80um', pad_gap = '15um'),\n",
    "            readout = dict(loc_W=0, loc_H=1, pad_width = '80um', pad_gap = '50um'))))"
   ]
  },
  {
   "cell_type": "markdown",
   "metadata": {},
   "source": [
    "#### The Busses"
   ]
  },
  {
   "cell_type": "markdown",
   "metadata": {},
   "source": [
    "We now couple the qubits to each other, primarily using RouteMeander. Although one needs to run simulations to properly tune the line lengths for target frequencies, an initial estimate could be determined from the below method;"
   ]
  },
  {
   "cell_type": "code",
   "execution_count": 14,
   "metadata": {},
   "outputs": [],
   "source": [
    "from qiskit_metal.analyses.em.cpw_calculations import guided_wavelength\n",
    "\n",
    "def find_resonator_length(frequency, line_width, line_gap, N): \n",
    "    #frequency in GHz\n",
    "    #line_width/line_gap in um\n",
    "    #N -> 2 for lambda/2, 4 for lambda/4\n",
    "    \n",
    "    [lambdaG, etfSqrt, q] = guided_wavelength(frequency*10**9, line_width*10**-6,\n",
    "                                              line_gap*10**-6, 750*10**-6, 200*10**-9)\n",
    "    return str(lambdaG/N*10**3)+\" mm\""
   ]
  },
  {
   "cell_type": "markdown",
   "metadata": {},
   "source": [
    "As we are not worried about a creating a functional chip in this tutorial, we will give the resonators somewhat arbitraty lengths. First coupling the two crossmons to Q_Main."
   ]
  },
  {
   "cell_type": "code",
   "execution_count": 15,
   "metadata": {},
   "outputs": [],
   "source": [
    "bus_01 = RouteMeander(design,'Bus_01', options = dict(hfss_wire_bonds = True, \n",
    "                                            pin_inputs=Dict(\n",
    "                                                start_pin=Dict(\n",
    "                                                    component='Q_Main',\n",
    "                                                    pin='bus_01'),\n",
    "                                                end_pin=Dict(\n",
    "                                                    component='Q1',\n",
    "                                                    pin='bus_01')\n",
    "                                            ),\n",
    "                                            lead=Dict(\n",
    "                                                start_straight='125um',\n",
    "                                                end_straight = '225um'\n",
    "                                            ),\n",
    "                                            meander=Dict(\n",
    "                                                asymmetry = '1305um'),\n",
    "                                            fillet = \"99um\",\n",
    "                                            total_length = '6mm'))\n",
    "\n",
    "bus_02 = RouteMeander(design,'Bus_02', options = dict(hfss_wire_bonds = True, \n",
    "                                            pin_inputs=Dict(\n",
    "                                                start_pin=Dict(\n",
    "                                                    component='Q_Main',\n",
    "                                                    pin='bus_02'),\n",
    "                                                end_pin=Dict(\n",
    "                                                    component='Q2',\n",
    "                                                    pin='bus_02')\n",
    "                                            ),\n",
    "                                            lead=Dict(\n",
    "                                                start_straight='325um',\n",
    "                                                end_straight = '125um'\n",
    "                                            ),\n",
    "                                            meander=Dict(\n",
    "                                                asymmetry = '450um'),\n",
    "                                            fillet = \"99um\",\n",
    "                                            total_length = '6.4mm'))\n",
    "\n",
    "\n",
    "gui.rebuild()"
   ]
  },
  {
   "cell_type": "markdown",
   "metadata": {},
   "source": [
    "Then the three transmon pockets on the north side to Q_Main."
   ]
  },
  {
   "cell_type": "code",
   "execution_count": 16,
   "metadata": {},
   "outputs": [],
   "source": [
    "bus_03 = RouteMeander(design,'Bus_03', options = dict(hfss_wire_bonds = True, \n",
    "                                            pin_inputs=Dict(\n",
    "                                                start_pin=Dict(\n",
    "                                                    component='Q_Main',\n",
    "                                                    pin='bus_03'),\n",
    "                                                end_pin=Dict(\n",
    "                                                    component='Q3',\n",
    "                                                    pin='bus_03')\n",
    "                                            ),\n",
    "                                            lead=Dict(\n",
    "                                                start_straight='225um',\n",
    "                                                end_straight = '25um'\n",
    "                                            ),\n",
    "                                            meander=Dict(\n",
    "                                                asymmetry = '50um'),\n",
    "                                            fillet = \"99um\",\n",
    "                                            total_length = '6.8mm'))\n",
    "\n",
    "#To help set the right spacing, jogs can be used to set some initially controlled routing paths\n",
    "from collections import OrderedDict\n",
    "jogs_start = OrderedDict()\n",
    "jogs_start[0] = [\"L\", '250um']\n",
    "jogs_start[1] = [\"R\", '200um']\n",
    "\n",
    "jogs_end = OrderedDict()\n",
    "jogs_end[0] = [\"L\", '600um']\n",
    "\n",
    "bus_04 = RouteMeander(design,'Bus_04', options = dict(hfss_wire_bonds = True, \n",
    "                                            pin_inputs=Dict(\n",
    "                                                start_pin=Dict(\n",
    "                                                    component='Q_Main',\n",
    "                                                    pin='bus_04'),\n",
    "                                                end_pin=Dict(\n",
    "                                                    component='Q4',\n",
    "                                                    pin='bus_04')\n",
    "                                            ),\n",
    "                                            lead=Dict(\n",
    "                                                start_straight='225um',\n",
    "                                                #end_straight = '25um',\n",
    "                                                start_jogged_extension=jogs_start,\n",
    "                                                #end_jogged_extension = jogs_end\n",
    "                                            ),\n",
    "                                            meander=Dict(\n",
    "                                                asymmetry = '150um'),\n",
    "                                            fillet = \"99um\",\n",
    "                                            total_length = '7.2mm'))\n",
    "\n",
    "bus_05 = RouteMeander(design,'Bus_05', options = dict(hfss_wire_bonds = True, \n",
    "                                            pin_inputs=Dict(\n",
    "                                                start_pin=Dict(\n",
    "                                                    component='Q_Main',\n",
    "                                                    pin='bus_05'),\n",
    "                                                end_pin=Dict(\n",
    "                                                    component='Q5',\n",
    "                                                    pin='bus_05')\n",
    "                                            ),\n",
    "                                            lead=Dict(\n",
    "                                                start_straight='225um',\n",
    "                                                end_straight = '25um'\n",
    "                                            ),\n",
    "                                            meander=Dict(\n",
    "                                                asymmetry = '50um'),\n",
    "                                            fillet = \"99um\",\n",
    "                                            total_length = '7.6mm'))\n",
    "\n",
    "gui.rebuild()"
   ]
  },
  {
   "cell_type": "markdown",
   "metadata": {},
   "source": [
    "Finally the three transmon pockets on the north side to each other. This concludes the interconnectivity between the qubits."
   ]
  },
  {
   "cell_type": "code",
   "execution_count": 17,
   "metadata": {},
   "outputs": [],
   "source": [
    "bus_q3_q4 = RouteMeander(design,'Bus_Q3_Q4', options = dict(hfss_wire_bonds = True, \n",
    "                                            pin_inputs=Dict(\n",
    "                                                start_pin=Dict(\n",
    "                                                    component='Q3',\n",
    "                                                    pin='bus_q3_q4'),\n",
    "                                                end_pin=Dict(\n",
    "                                                    component='Q4',\n",
    "                                                    pin='bus_q3_q4')\n",
    "                                            ),\n",
    "                                            lead=Dict(\n",
    "                                                start_straight='125um',\n",
    "                                                end_straight = '125um'\n",
    "                                            ),\n",
    "                                            meander=Dict(\n",
    "                                                asymmetry = '50um'),\n",
    "                                            fillet = \"99um\",\n",
    "                                            total_length = '6.4mm'))\n",
    "\n",
    "bus_q4_q5 = RouteMeander(design,'Bus_Q4_Q5', options = dict(hfss_wire_bonds = True, \n",
    "                                            pin_inputs=Dict(\n",
    "                                                start_pin=Dict(\n",
    "                                                    component='Q4',\n",
    "                                                    pin='bus_q4_q5'),\n",
    "                                                end_pin=Dict(\n",
    "                                                    component='Q5',\n",
    "                                                    pin='bus_q4_q5')\n",
    "                                            ),\n",
    "                                            lead=Dict(\n",
    "                                                start_straight='125um',\n",
    "                                                end_straight = '25um'\n",
    "                                            ),\n",
    "                                            meander=Dict(\n",
    "                                                asymmetry = '50um'),\n",
    "                                            fillet = \"99um\",\n",
    "                                            total_length = '6.8mm'))\n",
    "\n",
    "gui.rebuild()"
   ]
  },
  {
   "cell_type": "markdown",
   "metadata": {},
   "source": [
    "#### The Readouts and Control Lines\n",
    "\n",
    "The intention for this design is to have the three north transmon pockets be multiplexed to one readout line. The crossmons to their own readouts, as well as Q_Main. The tunable coupler, and the two crossmons also have flux lines which need to be connected to launchers.\n",
    "First we will place the wirebond launchers at the edges of the chip."
   ]
  },
  {
   "cell_type": "code",
   "execution_count": 18,
   "metadata": {},
   "outputs": [],
   "source": [
    "launch_qmain_read = LaunchpadWirebond(design, 'Launch_QMain_Read', options = dict(pos_x = '2mm', pos_y ='-4mm', orientation = '90'))\n",
    "\n",
    "launch_q1_fl = LaunchpadWirebond(design, 'Launch_Q1_FL', options = dict(pos_x = '0mm', pos_y ='-4mm', orientation = '90', \n",
    "                                                                        trace_width = '5um',\n",
    "                                                                        trace_gap = '3um',))\n",
    "launch_q1_read = LaunchpadWirebondCoupled(design, 'Launch_Q1_Read', options = dict(pos_x = '-2mm', pos_y ='-4mm', orientation = '90'))\n",
    "\n",
    "launch_tcoup_fl = LaunchpadWirebond(design, 'Launch_TuneC_FL', options = dict(pos_x = '-4mm', pos_y ='-4mm', orientation = '90',\n",
    "                                                                             trace_width = '5um',\n",
    "                                                                             trace_gap = '3um',))\n",
    "launch_tcoup_read = LaunchpadWirebondCoupled(design, 'Launch_TuneC_Read', options = dict(pos_x = '-5mm', pos_y ='-3mm', orientation = '0'))\n",
    "\n",
    "launch_q2_read = LaunchpadWirebondCoupled(design, 'Launch_Q2_Read', options = dict(pos_x = '-5mm', pos_y ='-1mm', orientation = '0'))\n",
    "launch_q2_fl = LaunchpadWirebond(design, 'Launch_Q2_FL', options = dict(pos_x = '-5mm', pos_y ='1mm', orientation = '0',\n",
    "                                                                       trace_width = '5um',\n",
    "                                                                        trace_gap = '3um',))\n",
    "\n",
    "launch_nw = LaunchpadWirebond(design, 'Launch_NW',options = dict(pos_x = '-5mm', pos_y='3mm', orientation=0))\n",
    "launch_ne = LaunchpadWirebond(design, 'Launch_NE',options = dict(pos_x = '5mm', pos_y='3mm', orientation=180))\n",
    "\n",
    "\n",
    "gui.rebuild()"
   ]
  },
  {
   "cell_type": "markdown",
   "metadata": {},
   "source": [
    "We then will add in the readout resonators for Q_Main, Q1, Q2 and the tuneable coupler.\n",
    "We will add a finger capacitor for the Q_Main readout, instead of just using the LaunchpadWirebondCoupled."
   ]
  },
  {
   "cell_type": "code",
   "execution_count": 19,
   "metadata": {},
   "outputs": [],
   "source": [
    "#Main Readout\n",
    "\n",
    "\n",
    "read_q_main_cap = CapNInterdigital(design,'Read_Q_Main_Cap', options = dict(pos_x = '2mm', pos_y ='-3.5mm', orientation = '0'))\n",
    "\n",
    "jogs_end = OrderedDict()\n",
    "jogs_end[0] = [\"L\", '600um']\n",
    "\n",
    "jogs_start = OrderedDict()\n",
    "jogs_start[0] = [\"L\", '250um']\n",
    "\n",
    "read_q_main = RouteMeander(design,'Read_Q_Main', options = dict(hfss_wire_bonds = True, \n",
    "                                            pin_inputs=Dict(\n",
    "                                                start_pin=Dict(\n",
    "                                                    component='Q_Main',\n",
    "                                                    pin='readout'),\n",
    "                                                end_pin=Dict(\n",
    "                                                    component='Read_Q_Main_Cap',\n",
    "                                                    pin='north_end')\n",
    "                                            ),\n",
    "                                            lead=Dict(\n",
    "                                                start_straight='725um',\n",
    "                                                end_straight = '625um',\n",
    "                                                start_jogged_extension = jogs_start,\n",
    "                                                end_jogged_extension = jogs_end\n",
    "                                            ),\n",
    "                                            meander=Dict(\n",
    "                                                asymmetry = '50um'),\n",
    "                                            fillet = \"99um\",\n",
    "                                            total_length = '5.6mm'))\n",
    "\n",
    "read_q_main_cap_launch = RoutePathfinder(design, 'Read_Q_Main_Cap_Launch', options = dict(hfss_wire_bonds = True,\n",
    "                                                    pin_inputs = dict(\n",
    "                                                        start_pin=Dict(\n",
    "                                                    component='Read_Q_Main_Cap',\n",
    "                                                    pin='south_end'),\n",
    "                                                end_pin=Dict(\n",
    "                                                    component='Launch_QMain_Read',\n",
    "                                                    pin='tie')),\n",
    "                                                lead=Dict(\n",
    "                                                start_straight='0um',\n",
    "                                                end_straight = '0um',\n",
    "                                                #start_jogged_extension = jogs_start,\n",
    "                                                #end_jogged_extension = jogs_end\n",
    "                                            )))\n",
    "    \n",
    "\n",
    "\n",
    "gui.rebuild()"
   ]
  },
  {
   "cell_type": "code",
   "execution_count": 20,
   "metadata": {},
   "outputs": [],
   "source": [
    "#Crossmon's Readouts\n",
    "\n",
    "jogs_end = OrderedDict()\n",
    "jogs_end[0] = [\"L\", '600um']\n",
    "\n",
    "jogs_start = OrderedDict()\n",
    "jogs_start[0] = [\"L\", '250um']\n",
    "\n",
    "read_q1 = RouteMeander(design,'Read_Q1', options = dict(hfss_wire_bonds = True, \n",
    "                                            pin_inputs=Dict(\n",
    "                                                start_pin=Dict(\n",
    "                                                    component='Q1',\n",
    "                                                    pin='readout'),\n",
    "                                                end_pin=Dict(\n",
    "                                                    component='Launch_Q1_Read',\n",
    "                                                    pin='tie')\n",
    "                                            ),\n",
    "                                            lead=Dict(\n",
    "                                                start_straight='250um',\n",
    "                                                end_straight = '25um',\n",
    "                                                #start_jogged_extension = jogs_start,\n",
    "                                                #end_jogged_extension = jogs_end\n",
    "                                            ),\n",
    "                                            meander=Dict(\n",
    "                                                asymmetry = '50um'),\n",
    "                                            fillet = \"99um\",\n",
    "                                            total_length = '6.8mm'))\n",
    "\n",
    "\n",
    "jogs_end = OrderedDict()\n",
    "jogs_end[0] = [\"L\", '600um']\n",
    "\n",
    "jogs_start = OrderedDict()\n",
    "jogs_start[0] = [\"L\", '250um']\n",
    "\n",
    "read_tunec = RouteMeander(design,'Read_TuneC', options = dict(hfss_wire_bonds = True, \n",
    "                                            pin_inputs=Dict(\n",
    "                                                start_pin=Dict(\n",
    "                                                    component='Tune_C_Q12',\n",
    "                                                    pin='Control'),\n",
    "                                                end_pin=Dict(\n",
    "                                                    component='Launch_TuneC_Read',\n",
    "                                                    pin='tie')\n",
    "                                            ),\n",
    "                                            lead=Dict(\n",
    "                                                start_straight='1525um',\n",
    "                                                end_straight = '125um',\n",
    "                                                #start_jogged_extension = jogs_start,\n",
    "                                                #end_jogged_extension = jogs_end\n",
    "                                            ),\n",
    "                                            meander=Dict(\n",
    "                                                asymmetry = '50um'),\n",
    "                                            fillet = \"99um\",\n",
    "                                            total_length = '5.8mm'))\n",
    "\n",
    "jogs_end = OrderedDict()\n",
    "jogs_end[0] = [\"L\", '600um']\n",
    "\n",
    "jogs_start = OrderedDict()\n",
    "jogs_start[0] = [\"L\", '250um']\n",
    "\n",
    "\n",
    "\n",
    "read_q2 = RouteMeander(design,'Read_Q2', options = dict(hfss_wire_bonds = True, \n",
    "                                            pin_inputs=Dict(\n",
    "                                                start_pin=Dict(\n",
    "                                                    component='Q2',\n",
    "                                                    pin='readout'),\n",
    "                                                end_pin=Dict(\n",
    "                                                    component='Launch_Q2_Read',\n",
    "                                                    pin='tie')\n",
    "                                            ),\n",
    "                                            lead=Dict(\n",
    "                                                start_straight='350um',\n",
    "                                                end_straight = '0um',\n",
    "                                                #start_jogged_extension = jogs_start,\n",
    "                                                #end_jogged_extension = jogs_end\n",
    "                                            ),\n",
    "                                            meander=Dict(\n",
    "                                                asymmetry = '-450um'),\n",
    "                                            fillet = \"99um\",\n",
    "                                            total_length = '5.4mm'))\n",
    "\n",
    "\n",
    "gui.rebuild()"
   ]
  },
  {
   "cell_type": "markdown",
   "metadata": {},
   "source": [
    "Finishing off this section of the chip by connecting the flux lines to appropraite wirebond launch pads."
   ]
  },
  {
   "cell_type": "code",
   "execution_count": 21,
   "metadata": {},
   "outputs": [],
   "source": [
    "#Crossmon flux lines\n",
    "\n",
    "flux_line_Q1 = RoutePathfinder(design,'Flux_Line_Q1', options = dict(hfss_wire_bonds = True,\n",
    "                                            pin_inputs=Dict(\n",
    "                                                start_pin=Dict(\n",
    "                                                    component='Q1',\n",
    "                                                    pin='flux_line'),\n",
    "                                                end_pin=Dict(\n",
    "                                                    component='Launch_Q1_FL',\n",
    "                                                    pin='tie')),\n",
    "                                            fillet = '99um',\n",
    "                                            trace_width = '5um',\n",
    "                                            trace_gap = '3um',\n",
    "                                            #anchors = anchors\n",
    "                                            ))\n",
    "\n",
    "\n",
    "jogs_start = OrderedDict()\n",
    "jogs_start[0] = [\"L\", '750um']\n",
    "\n",
    "flux_line_tunec = RoutePathfinder(design,'Flux_Line_TuneC', options = dict(hfss_wire_bonds = True,\n",
    "                                            pin_inputs=Dict(\n",
    "                                                start_pin=Dict(\n",
    "                                                    component='Tune_C_Q12',\n",
    "                                                    pin='Flux'),\n",
    "                                                end_pin=Dict(\n",
    "                                                    component='Launch_TuneC_FL',\n",
    "                                                    pin='tie')),\n",
    "                                            lead=Dict(\n",
    "                                                start_straight='875um',\n",
    "                                                end_straight = '350um',\n",
    "                                                start_jogged_extension = jogs_start,\n",
    "                                                #end_jogged_extension = jogs_end\n",
    "                                            ),\n",
    "                                            fillet = '99um',\n",
    "                                            trace_width = '5um',\n",
    "                                            trace_gap = '3um',\n",
    "                                            #anchors = anchors\n",
    "                                            ))\n",
    "\n",
    "\n",
    "jogs_start = OrderedDict()\n",
    "jogs_start[0] = [\"L\", '525um']\n",
    "jogs_start[1] = [\"R\", '625um']\n",
    "\n",
    "flux_line_Q2 = RoutePathfinder(design,'Flux_Line_Q2', options = dict(hfss_wire_bonds = True,\n",
    "                                            pin_inputs=Dict(\n",
    "                                                start_pin=Dict(\n",
    "                                                    component='Q2',\n",
    "                                                    pin='flux_line'),\n",
    "                                                end_pin=Dict(\n",
    "                                                    component='Launch_Q2_FL',\n",
    "                                                    pin='tie')),\n",
    "                                            lead=Dict(\n",
    "                                                start_straight='175um',\n",
    "                                                end_straight = '150um',\n",
    "                                                start_jogged_extension = jogs_start,\n",
    "                                                #end_jogged_extension = jogs_end\n",
    "                                            ),\n",
    "                                            fillet = '99um',\n",
    "                                            trace_width = '5um',\n",
    "                                            trace_gap = '3um',\n",
    "                                            #anchors = anchors\n",
    "                                            ))\n",
    "\n",
    "gui.rebuild()"
   ]
  },
  {
   "cell_type": "markdown",
   "metadata": {},
   "source": [
    "Shifting our focus now to the three transmon pockets in the north. As we want these to be multiplexed to a single readout line, we will add in a few three port components, such as the CoupledLineTee and CapNInterdigitalTee.\n",
    "Q3 will have an inductive coupling to the readout line (as we want a lambda/4 resonator), Q4 will have a simple gap capacitor, and Q5 will have an interdigitated capacitor."
   ]
  },
  {
   "cell_type": "code",
   "execution_count": 22,
   "metadata": {},
   "outputs": [],
   "source": [
    "q3_read_T = CoupledLineTee(design,'Q3_Read_T', options=dict(pos_x = '-3mm', pos_y = '3mm', \n",
    "                                                        orientation = '0', \n",
    "                                                        coupling_length = '200um',\n",
    "                                                        open_termination = False))\n",
    "#We use finger count to set the width of the gap capacitance, -> N*cap_width + (N-1)*cap_gap\n",
    "q4_read_T = CapNInterdigitalTee(design,'Q4_Read_T', options=dict(pos_x = '0mm', pos_y = '3mm', \n",
    "                                                           orientation = '0', \n",
    "                                                           finger_length = '0um', \n",
    "                                                           finger_count = '8'))\n",
    "q5_read_T = CapNInterdigitalTee(design,'Q5_Read_T', options=dict(pos_x = '3mm', pos_y = '3mm', \n",
    "                                                           orientation = '0', \n",
    "                                                           finger_length = '50um', \n",
    "                                                           finger_count = '11'))\n",
    "\n",
    "gui.rebuild()"
   ]
  },
  {
   "cell_type": "markdown",
   "metadata": {},
   "source": [
    "We add in the readout resonators to each respective qubit."
   ]
  },
  {
   "cell_type": "code",
   "execution_count": 23,
   "metadata": {},
   "outputs": [],
   "source": [
    "read_q3 = RouteMeander(design,'Read_Q3', options = dict(hfss_wire_bonds = True, \n",
    "                                            pin_inputs=Dict(\n",
    "                                                start_pin=Dict(\n",
    "                                                    component='Q3',\n",
    "                                                    pin='readout'),\n",
    "                                                end_pin=Dict(\n",
    "                                                    component='Q3_Read_T',\n",
    "                                                    pin='second_end')\n",
    "                                            ),\n",
    "                                            lead=Dict(\n",
    "                                                start_straight='150um',\n",
    "                                                end_straight = '150um',\n",
    "                                                #start_jogged_extension = jogs_start,\n",
    "                                                #end_jogged_extension = jogs_end\n",
    "                                            ),\n",
    "                                            meander=Dict(\n",
    "                                                asymmetry = '0um'),\n",
    "                                            fillet = \"99um\",\n",
    "                                            total_length = '5mm'))\n",
    "\n",
    "read_q4 = RouteMeander(design,'Read_Q4', options = dict(hfss_wire_bonds = True, \n",
    "                                            pin_inputs=Dict(\n",
    "                                                start_pin=Dict(\n",
    "                                                    component='Q4',\n",
    "                                                    pin='readout'),\n",
    "                                                end_pin=Dict(\n",
    "                                                    component='Q4_Read_T',\n",
    "                                                    pin='second_end')\n",
    "                                            ),\n",
    "                                            lead=Dict(\n",
    "                                                start_straight='125um',\n",
    "                                                end_straight = '125um',\n",
    "                                                #start_jogged_extension = jogs_start,\n",
    "                                                #end_jogged_extension = jogs_end\n",
    "                                            ),\n",
    "                                            meander=Dict(\n",
    "                                                asymmetry = '0um'),\n",
    "                                            fillet = \"99um\",\n",
    "                                            total_length = '5.8mm'))\n",
    "\n",
    "read_q5 = RouteMeander(design,'Read_Q5', options = dict(hfss_wire_bonds = True, \n",
    "                                            pin_inputs=Dict(\n",
    "                                                start_pin=Dict(\n",
    "                                                    component='Q5',\n",
    "                                                    pin='readout'),\n",
    "                                                end_pin=Dict(\n",
    "                                                    component='Q5_Read_T',\n",
    "                                                    pin='second_end')\n",
    "                                            ),\n",
    "                                            lead=Dict(\n",
    "                                                start_straight='125um',\n",
    "                                                end_straight = '125um',\n",
    "                                                #start_jogged_extension = jogs_start,\n",
    "                                                #end_jogged_extension = jogs_end\n",
    "                                            ),\n",
    "                                            meander=Dict(\n",
    "                                                asymmetry = '0um'),\n",
    "                                            fillet = \"99um\",\n",
    "                                            total_length = '5.4mm'))\n",
    "\n",
    "gui.rebuild()"
   ]
  },
  {
   "cell_type": "markdown",
   "metadata": {},
   "source": [
    "We complete the layout by connecting the multiplexed readout line to the launchpads on either side of the chip."
   ]
  },
  {
   "cell_type": "code",
   "execution_count": 24,
   "metadata": {},
   "outputs": [],
   "source": [
    "mp_tl_01 = RoutePathfinder(design, 'ML_TL_01', options = dict(hfss_wire_bonds = True,\n",
    "                                                    pin_inputs = dict(\n",
    "                                                    start_pin=Dict(\n",
    "                                                        component='Launch_NW',\n",
    "                                                        pin='tie'),\n",
    "                                                    end_pin=Dict(\n",
    "                                                        component='Q3_Read_T',\n",
    "                                                        pin='prime_start'))\n",
    "                                            ))\n",
    "\n",
    "mp_tl_02 = RoutePathfinder(design, 'ML_TL_02', options = dict(hfss_wire_bonds = True,\n",
    "                                                    pin_inputs = dict(\n",
    "                                                    start_pin=Dict(\n",
    "                                                        component='Q3_Read_T',\n",
    "                                                        pin='prime_end'),\n",
    "                                                    end_pin=Dict(\n",
    "                                                        component='Q4_Read_T',\n",
    "                                                        pin='prime_start'))\n",
    "                                            ))\n",
    "\n",
    "mp_tl_03 = RoutePathfinder(design, 'ML_TL_03', options = dict(hfss_wire_bonds = True,\n",
    "                                                    pin_inputs = dict(\n",
    "                                                    start_pin=Dict(\n",
    "                                                        component='Q4_Read_T',\n",
    "                                                        pin='prime_end'),\n",
    "                                                    end_pin=Dict(\n",
    "                                                        component='Q5_Read_T',\n",
    "                                                        pin='prime_start'))\n",
    "                                            ))\n",
    "\n",
    "mp_tl_04 = RoutePathfinder(design, 'ML_TL_04', options = dict(hfss_wire_bonds = True,\n",
    "                                                    pin_inputs = dict(\n",
    "                                                    start_pin=Dict(\n",
    "                                                        component='Q5_Read_T',\n",
    "                                                        pin='prime_end'),\n",
    "                                                    end_pin=Dict(\n",
    "                                                        component='Launch_NE',\n",
    "                                                        pin='tie'))\n",
    "                                            ))\n",
    "\n",
    "gui.rebuild()"
   ]
  },
  {
   "cell_type": "markdown",
   "metadata": {},
   "source": [
    "With this, we have completed the construction of our layout. \n",
    "\n",
    "Now, anyone familiar with chip design might find some of the location choices to be sub-optimal, with large sections of your chip left unused, or perhaps some CPW transmission lines running a bit closer to each other than would be ideal for avoiding cross talk concerns. These could be address by shifting the origin of your chip, or modifying component options to better compact your layout and alleviate crosstalk concerns.\n",
    "\n",
    "For this tutorial, we aren't too concerned how much space we may use up on our fictional chip, so we will instead continue on to analysis and tuning."
   ]
  },
  {
   "cell_type": "code",
   "execution_count": 25,
   "metadata": {
    "tags": [
     "nbsphinx-thumbnail"
    ]
   },
   "outputs": [
    {
     "data": {
      "image/png": "[encoded data removed]",
      "text/plain": [
       "<IPython.core.display.Image object>"
      ]
     },
     "metadata": {
      "image/png": {
       "width": 500
      }
     },
     "output_type": "display_data"
    }
   ],
   "source": [
    "gui.autoscale()\n",
    "gui.screenshot()"
   ]
  },
  {
   "cell_type": "markdown",
   "metadata": {},
   "source": [
    "# Analyze\n",
    "## Capacitance Extraction and LOM"
   ]
  },
  {
   "cell_type": "markdown",
   "metadata": {},
   "source": [
    "First we want to quickly look at the qubit parameters. Initial simulation and analysis is to use a lumped element approximation, by extracting the capacitance matrix of the qubit. We first analyze the qubit `Q_Main`, by first extracting the matrix and then using LOM analysis on it.\n",
    "\n",
    "For starters, let's select the appropriate QAnalysis class."
   ]
  },
  {
   "cell_type": "code",
   "execution_count": 27,
   "metadata": {},
   "outputs": [],
   "source": [
    "from qiskit_metal.analyses.quantization import LOManalysis\n",
    "c1 = LOManalysis(design, \"q3d\")"
   ]
  },
  {
   "cell_type": "markdown",
   "metadata": {},
   "source": [
    "We can check if we wish to change any of the default options for the analysis. You should modify the number of passes and convergence based on the accuracy you require for your simulation.\n",
    "\n",
    "Depending on the complexity of the simulation, it could take a minute, or multiple hours. It is generally best to start with a small number of `max_passes` if you are unsure, so can you get a sense on the timing. As each adaptive pass adds additional tetrahedrons, the simulation time per pass will increase significantly (as well as the amount of system memory necessary)."
   ]
  },
  {
   "cell_type": "code",
   "execution_count": 28,
   "metadata": {
    "scrolled": true
   },
   "outputs": [
    {
     "data": {
      "text/plain": [
       "{'name': 'Setup',\n",
       " 'reuse_selected_design': True,\n",
       " 'reuse_setup': True,\n",
       " 'freq_ghz': 5.0,\n",
       " 'save_fields': False,\n",
       " 'enabled': True,\n",
       " 'max_passes': 15,\n",
       " 'min_passes': 2,\n",
       " 'min_converged_passes': 2,\n",
       " 'percent_error': 0.5,\n",
       " 'percent_refinement': 30,\n",
       " 'auto_increase_solution_order': True,\n",
       " 'solution_order': 'High',\n",
       " 'solver_type': 'Iterative'}"
      ]
     },
     "execution_count": 28,
     "metadata": {},
     "output_type": "execute_result"
    }
   ],
   "source": [
    "c1.sim.setup"
   ]
  },
  {
   "cell_type": "code",
   "execution_count": 29,
   "metadata": {},
   "outputs": [
    {
     "data": {
      "text/plain": [
       "{'name': 'Tune_Q_Main',\n",
       " 'reuse_selected_design': True,\n",
       " 'reuse_setup': True,\n",
       " 'freq_ghz': 5.0,\n",
       " 'save_fields': False,\n",
       " 'enabled': True,\n",
       " 'max_passes': 16,\n",
       " 'min_passes': 2,\n",
       " 'min_converged_passes': 2,\n",
       " 'percent_error': 0.05,\n",
       " 'percent_refinement': 30,\n",
       " 'auto_increase_solution_order': True,\n",
       " 'solution_order': 'High',\n",
       " 'solver_type': 'Iterative'}"
      ]
     },
     "execution_count": 29,
     "metadata": {},
     "output_type": "execute_result"
    }
   ],
   "source": [
    "c1.sim.setup.name = 'Tune_Q_Main'\n",
    "c1.sim.setup.max_passes = 16\n",
    "c1.sim.setup.min_converged_passes = 2\n",
    "c1.sim.setup.percent_error = 0.05\n",
    "c1.sim.setup"
   ]
  },
  {
   "cell_type": "markdown",
   "metadata": {},
   "source": [
    "Next we will want to run the simulation for Q_Main. To obtain the complete capacitance matrix from this simulation, we will want to terminate the unconnected pins of Q_Main with opens, so that they are regarded as isolated charge islands in the simulation. You will need to list all of the pin names in the call. To recall them, one can look at the GUI, or check the pin dictionary attached to Q_Main: `q_main.pins.keys()`."
   ]
  },
  {
   "cell_type": "code",
   "execution_count": 30,
   "metadata": {},
   "outputs": [
    {
     "name": "stderr",
     "output_type": "stream",
     "text": [
      "INFO 01:28PM [connect_project]: Connecting to Ansys Desktop API...\n",
      "INFO 01:28PM [load_ansys_project]: \tOpened Ansys App\n",
      "INFO 01:28PM [load_ansys_project]: \tOpened Ansys Desktop v2021.1.0\n",
      "INFO 01:28PM [load_ansys_project]: \tOpened Ansys Project\n",
      "\tFolder:    C:/Users/Luxcuse/Documents/Ansoft/\n",
      "\tProject:   Project5\n",
      "INFO 01:28PM [connect_design]: \tOpened active design\n",
      "\tDesign:    QMain_Q5_Bus05_hfss [Solution type: Eigenmode]\n",
      "INFO 01:28PM [get_setup]: \tOpened setup `Setup`  (<class 'pyEPR.ansys.HfssEMSetup'>)\n",
      "INFO 01:28PM [connect]: \tConnected to project \"Project5\" and design \"QMain_Q5_Bus05_hfss\" 😀 \n",
      "\n",
      "INFO 01:28PM [connect_design]: \tOpened active design\n",
      "\tDesign:    Q_Main_q3d [Solution type: Q3D]\n",
      "INFO 01:28PM [get_setup]: \tOpened setup `Tune_Q_Main`  (<class 'pyEPR.ansys.AnsysQ3DSetup'>)\n",
      "INFO 01:28PM [analyze]: Analyzing setup Tune_Q_Main\n",
      "INFO 01:31PM [get_matrix]: Exporting matrix data to (C:\\Users\\Luxcuse\\AppData\\Local\\Temp\\tmpz0lyvpj7.txt, C, , Tune_Q_Main:LastAdaptive, \"Original\", \"ohm\", \"nH\", \"fF\", \"mSie\", 5000000000, Maxwell, 1, False\n",
      "INFO 01:31PM [get_matrix]: Exporting matrix data to (C:\\Users\\Luxcuse\\AppData\\Local\\Temp\\tmpznx_42uc.txt, C, , Tune_Q_Main:AdaptivePass, \"Original\", \"ohm\", \"nH\", \"fF\", \"mSie\", 5000000000, Maxwell, 1, False\n",
      "INFO 01:31PM [get_matrix]: Exporting matrix data to (C:\\Users\\Luxcuse\\AppData\\Local\\Temp\\tmp9wccr6m7.txt, C, , Tune_Q_Main:AdaptivePass, \"Original\", \"ohm\", \"nH\", \"fF\", \"mSie\", 5000000000, Maxwell, 2, False\n",
      "INFO 01:31PM [get_matrix]: Exporting matrix data to (C:\\Users\\Luxcuse\\AppData\\Local\\Temp\\tmpmy4oo7_a.txt, C, , Tune_Q_Main:AdaptivePass, \"Original\", \"ohm\", \"nH\", \"fF\", \"mSie\", 5000000000, Maxwell, 3, False\n",
      "INFO 01:31PM [get_matrix]: Exporting matrix data to (C:\\Users\\Luxcuse\\AppData\\Local\\Temp\\tmpk91ew_t7.txt, C, , Tune_Q_Main:AdaptivePass, \"Original\", \"ohm\", \"nH\", \"fF\", \"mSie\", 5000000000, Maxwell, 4, False\n",
      "INFO 01:31PM [get_matrix]: Exporting matrix data to (C:\\Users\\Luxcuse\\AppData\\Local\\Temp\\tmptty6kqpa.txt, C, , Tune_Q_Main:AdaptivePass, \"Original\", \"ohm\", \"nH\", \"fF\", \"mSie\", 5000000000, Maxwell, 5, False\n",
      "INFO 01:31PM [get_matrix]: Exporting matrix data to (C:\\Users\\Luxcuse\\AppData\\Local\\Temp\\tmpl7z4gjc5.txt, C, , Tune_Q_Main:AdaptivePass, \"Original\", \"ohm\", \"nH\", \"fF\", \"mSie\", 5000000000, Maxwell, 6, False\n",
      "INFO 01:31PM [get_matrix]: Exporting matrix data to (C:\\Users\\Luxcuse\\AppData\\Local\\Temp\\tmpfi1u5gyf.txt, C, , Tune_Q_Main:AdaptivePass, \"Original\", \"ohm\", \"nH\", \"fF\", \"mSie\", 5000000000, Maxwell, 7, False\n",
      "INFO 01:31PM [get_matrix]: Exporting matrix data to (C:\\Users\\Luxcuse\\AppData\\Local\\Temp\\tmpzr9j9q_i.txt, C, , Tune_Q_Main:AdaptivePass, \"Original\", \"ohm\", \"nH\", \"fF\", \"mSie\", 5000000000, Maxwell, 8, False\n",
      "INFO 01:31PM [get_matrix]: Exporting matrix data to (C:\\Users\\Luxcuse\\AppData\\Local\\Temp\\tmpvzxmj_j0.txt, C, , Tune_Q_Main:AdaptivePass, \"Original\", \"ohm\", \"nH\", \"fF\", \"mSie\", 5000000000, Maxwell, 9, False\n",
      "INFO 01:31PM [get_matrix]: Exporting matrix data to (C:\\Users\\Luxcuse\\AppData\\Local\\Temp\\tmp9qf75qym.txt, C, , Tune_Q_Main:AdaptivePass, \"Original\", \"ohm\", \"nH\", \"fF\", \"mSie\", 5000000000, Maxwell, 10, False\n",
      "INFO 01:31PM [get_matrix]: Exporting matrix data to (C:\\Users\\Luxcuse\\AppData\\Local\\Temp\\tmpkjfzsncc.txt, C, , Tune_Q_Main:AdaptivePass, \"Original\", \"ohm\", \"nH\", \"fF\", \"mSie\", 5000000000, Maxwell, 11, False\n",
      "INFO 01:31PM [get_matrix]: Exporting matrix data to (C:\\Users\\Luxcuse\\AppData\\Local\\Temp\\tmpuq4jzb4y.txt, C, , Tune_Q_Main:AdaptivePass, \"Original\", \"ohm\", \"nH\", \"fF\", \"mSie\", 5000000000, Maxwell, 12, False\n",
      "INFO 01:31PM [get_matrix]: Exporting matrix data to (C:\\Users\\Luxcuse\\AppData\\Local\\Temp\\tmp_4cr6e1e.txt, C, , Tune_Q_Main:AdaptivePass, \"Original\", \"ohm\", \"nH\", \"fF\", \"mSie\", 5000000000, Maxwell, 13, False\n",
      "INFO 01:31PM [get_matrix]: Exporting matrix data to (C:\\Users\\Luxcuse\\AppData\\Local\\Temp\\tmp8oj5gy1b.txt, C, , Tune_Q_Main:AdaptivePass, \"Original\", \"ohm\", \"nH\", \"fF\", \"mSie\", 5000000000, Maxwell, 14, False\n",
      "INFO 01:31PM [get_matrix]: Exporting matrix data to (C:\\Users\\Luxcuse\\AppData\\Local\\Temp\\tmptc8qst8c.txt, C, , Tune_Q_Main:AdaptivePass, \"Original\", \"ohm\", \"nH\", \"fF\", \"mSie\", 5000000000, Maxwell, 15, False\n",
      "INFO 01:31PM [get_matrix]: Exporting matrix data to (C:\\Users\\Luxcuse\\AppData\\Local\\Temp\\tmptc2axrwn.txt, C, , Tune_Q_Main:AdaptivePass, \"Original\", \"ohm\", \"nH\", \"fF\", \"mSie\", 5000000000, Maxwell, 16, False\n",
      "INFO 01:31PM [get_matrix]: Exporting matrix data to (C:\\Users\\Luxcuse\\AppData\\Local\\Temp\\tmpotd76f55.txt, C, , Tune_Q_Main:AdaptivePass, \"Original\", \"ohm\", \"nH\", \"fF\", \"mSie\", 5000000000, Maxwell, 17, False\n"
     ]
    }
   ],
   "source": [
    "c1.sim.run(name=\"Q_Main\", components=['Q_Main'], open_terminations=[('Q_Main', 'readout'), ('Q_Main', 'bus_01'),('Q_Main', 'bus_02'),('Q_Main', 'bus_03'),\n",
    "                                      ('Q_Main', 'bus_04'), ('Q_Main', 'bus_05')])"
   ]
  },
  {
   "cell_type": "markdown",
   "metadata": {},
   "source": [
    "With the simulation completed, we can look at the capacitance matrix."
   ]
  },
  {
   "cell_type": "code",
   "execution_count": 31,
   "metadata": {},
   "outputs": [
    {
     "data": {
      "text/html": [
       "<div>\n",
       "<style scoped>\n",
       "    .dataframe tbody tr th:only-of-type {\n",
       "        vertical-align: middle;\n",
       "    }\n",
       "\n",
       "    .dataframe tbody tr th {\n",
       "        vertical-align: top;\n",
       "    }\n",
       "\n",
       "    .dataframe thead th {\n",
       "        text-align: right;\n",
       "    }\n",
       "</style>\n",
       "<table border=\"1\" class=\"dataframe\">\n",
       "  <thead>\n",
       "    <tr style=\"text-align: right;\">\n",
       "      <th></th>\n",
       "      <th>bus_01_connector_pad_Q_Main</th>\n",
       "      <th>bus_02_connector_pad_Q_Main</th>\n",
       "      <th>bus_03_connector_pad_Q_Main</th>\n",
       "      <th>bus_04_connector_pad_Q_Main</th>\n",
       "      <th>bus_05_connector_pad_Q_Main</th>\n",
       "      <th>ground_main_plane</th>\n",
       "      <th>pad_bot_Q_Main</th>\n",
       "      <th>pad_top_Q_Main</th>\n",
       "      <th>readout_connector_pad_Q_Main</th>\n",
       "    </tr>\n",
       "  </thead>\n",
       "  <tbody>\n",
       "    <tr>\n",
       "      <th>bus_01_connector_pad_Q_Main</th>\n",
       "      <td>41.02179</td>\n",
       "      <td>-0.24027</td>\n",
       "      <td>-0.11712</td>\n",
       "      <td>-0.04489</td>\n",
       "      <td>-0.07876</td>\n",
       "      <td>-29.00745</td>\n",
       "      <td>-9.27008</td>\n",
       "      <td>-1.06798</td>\n",
       "      <td>-0.69748</td>\n",
       "    </tr>\n",
       "    <tr>\n",
       "      <th>bus_02_connector_pad_Q_Main</th>\n",
       "      <td>-0.24027</td>\n",
       "      <td>41.00034</td>\n",
       "      <td>-0.75942</td>\n",
       "      <td>-0.07821</td>\n",
       "      <td>-0.04489</td>\n",
       "      <td>-28.98621</td>\n",
       "      <td>-1.07389</td>\n",
       "      <td>-9.21367</td>\n",
       "      <td>-0.10636</td>\n",
       "    </tr>\n",
       "    <tr>\n",
       "      <th>bus_03_connector_pad_Q_Main</th>\n",
       "      <td>-0.11712</td>\n",
       "      <td>-0.75942</td>\n",
       "      <td>45.49461</td>\n",
       "      <td>-0.75955</td>\n",
       "      <td>-0.11703</td>\n",
       "      <td>-31.95114</td>\n",
       "      <td>-1.30929</td>\n",
       "      <td>-9.60359</td>\n",
       "      <td>-0.15773</td>\n",
       "    </tr>\n",
       "    <tr>\n",
       "      <th>bus_04_connector_pad_Q_Main</th>\n",
       "      <td>-0.04489</td>\n",
       "      <td>-0.07821</td>\n",
       "      <td>-0.75955</td>\n",
       "      <td>41.02309</td>\n",
       "      <td>-0.24026</td>\n",
       "      <td>-29.00584</td>\n",
       "      <td>-1.07396</td>\n",
       "      <td>-9.21829</td>\n",
       "      <td>-0.10634</td>\n",
       "    </tr>\n",
       "    <tr>\n",
       "      <th>bus_05_connector_pad_Q_Main</th>\n",
       "      <td>-0.07876</td>\n",
       "      <td>-0.04489</td>\n",
       "      <td>-0.11703</td>\n",
       "      <td>-0.24026</td>\n",
       "      <td>41.00035</td>\n",
       "      <td>-28.98731</td>\n",
       "      <td>-9.27003</td>\n",
       "      <td>-1.06797</td>\n",
       "      <td>-0.69732</td>\n",
       "    </tr>\n",
       "    <tr>\n",
       "      <th>ground_main_plane</th>\n",
       "      <td>-29.00745</td>\n",
       "      <td>-28.98621</td>\n",
       "      <td>-31.95114</td>\n",
       "      <td>-29.00584</td>\n",
       "      <td>-28.98731</td>\n",
       "      <td>308.85307</td>\n",
       "      <td>-33.31362</td>\n",
       "      <td>-32.77839</td>\n",
       "      <td>-31.47950</td>\n",
       "    </tr>\n",
       "    <tr>\n",
       "      <th>pad_bot_Q_Main</th>\n",
       "      <td>-9.27008</td>\n",
       "      <td>-1.07389</td>\n",
       "      <td>-1.30929</td>\n",
       "      <td>-1.07396</td>\n",
       "      <td>-9.27003</td>\n",
       "      <td>-33.31362</td>\n",
       "      <td>95.77614</td>\n",
       "      <td>-31.23410</td>\n",
       "      <td>-7.05086</td>\n",
       "    </tr>\n",
       "    <tr>\n",
       "      <th>pad_top_Q_Main</th>\n",
       "      <td>-1.06798</td>\n",
       "      <td>-9.21367</td>\n",
       "      <td>-9.60359</td>\n",
       "      <td>-9.21829</td>\n",
       "      <td>-1.06797</td>\n",
       "      <td>-32.77839</td>\n",
       "      <td>-31.23410</td>\n",
       "      <td>97.45769</td>\n",
       "      <td>-1.13196</td>\n",
       "    </tr>\n",
       "    <tr>\n",
       "      <th>readout_connector_pad_Q_Main</th>\n",
       "      <td>-0.69748</td>\n",
       "      <td>-0.10636</td>\n",
       "      <td>-0.15773</td>\n",
       "      <td>-0.10634</td>\n",
       "      <td>-0.69732</td>\n",
       "      <td>-31.47950</td>\n",
       "      <td>-7.05086</td>\n",
       "      <td>-1.13196</td>\n",
       "      <td>42.10853</td>\n",
       "    </tr>\n",
       "  </tbody>\n",
       "</table>\n",
       "</div>"
      ],
      "text/plain": [
       "                              bus_01_connector_pad_Q_Main  \\\n",
       "bus_01_connector_pad_Q_Main                      41.02179   \n",
       "bus_02_connector_pad_Q_Main                      -0.24027   \n",
       "bus_03_connector_pad_Q_Main                      -0.11712   \n",
       "bus_04_connector_pad_Q_Main                      -0.04489   \n",
       "bus_05_connector_pad_Q_Main                      -0.07876   \n",
       "ground_main_plane                               -29.00745   \n",
       "pad_bot_Q_Main                                   -9.27008   \n",
       "pad_top_Q_Main                                   -1.06798   \n",
       "readout_connector_pad_Q_Main                     -0.69748   \n",
       "\n",
       "                              bus_02_connector_pad_Q_Main  \\\n",
       "bus_01_connector_pad_Q_Main                      -0.24027   \n",
       "bus_02_connector_pad_Q_Main                      41.00034   \n",
       "bus_03_connector_pad_Q_Main                      -0.75942   \n",
       "bus_04_connector_pad_Q_Main                      -0.07821   \n",
       "bus_05_connector_pad_Q_Main                      -0.04489   \n",
       "ground_main_plane                               -28.98621   \n",
       "pad_bot_Q_Main                                   -1.07389   \n",
       "pad_top_Q_Main                                   -9.21367   \n",
       "readout_connector_pad_Q_Main                     -0.10636   \n",
       "\n",
       "                              bus_03_connector_pad_Q_Main  \\\n",
       "bus_01_connector_pad_Q_Main                      -0.11712   \n",
       "bus_02_connector_pad_Q_Main                      -0.75942   \n",
       "bus_03_connector_pad_Q_Main                      45.49461   \n",
       "bus_04_connector_pad_Q_Main                      -0.75955   \n",
       "bus_05_connector_pad_Q_Main                      -0.11703   \n",
       "ground_main_plane                               -31.95114   \n",
       "pad_bot_Q_Main                                   -1.30929   \n",
       "pad_top_Q_Main                                   -9.60359   \n",
       "readout_connector_pad_Q_Main                     -0.15773   \n",
       "\n",
       "                              bus_04_connector_pad_Q_Main  \\\n",
       "bus_01_connector_pad_Q_Main                      -0.04489   \n",
       "bus_02_connector_pad_Q_Main                      -0.07821   \n",
       "bus_03_connector_pad_Q_Main                      -0.75955   \n",
       "bus_04_connector_pad_Q_Main                      41.02309   \n",
       "bus_05_connector_pad_Q_Main                      -0.24026   \n",
       "ground_main_plane                               -29.00584   \n",
       "pad_bot_Q_Main                                   -1.07396   \n",
       "pad_top_Q_Main                                   -9.21829   \n",
       "readout_connector_pad_Q_Main                     -0.10634   \n",
       "\n",
       "                              bus_05_connector_pad_Q_Main  ground_main_plane  \\\n",
       "bus_01_connector_pad_Q_Main                      -0.07876          -29.00745   \n",
       "bus_02_connector_pad_Q_Main                      -0.04489          -28.98621   \n",
       "bus_03_connector_pad_Q_Main                      -0.11703          -31.95114   \n",
       "bus_04_connector_pad_Q_Main                      -0.24026          -29.00584   \n",
       "bus_05_connector_pad_Q_Main                      41.00035          -28.98731   \n",
       "ground_main_plane                               -28.98731          308.85307   \n",
       "pad_bot_Q_Main                                   -9.27003          -33.31362   \n",
       "pad_top_Q_Main                                   -1.06797          -32.77839   \n",
       "readout_connector_pad_Q_Main                     -0.69732          -31.47950   \n",
       "\n",
       "                              pad_bot_Q_Main  pad_top_Q_Main  \\\n",
       "bus_01_connector_pad_Q_Main         -9.27008        -1.06798   \n",
       "bus_02_connector_pad_Q_Main         -1.07389        -9.21367   \n",
       "bus_03_connector_pad_Q_Main         -1.30929        -9.60359   \n",
       "bus_04_connector_pad_Q_Main         -1.07396        -9.21829   \n",
       "bus_05_connector_pad_Q_Main         -9.27003        -1.06797   \n",
       "ground_main_plane                  -33.31362       -32.77839   \n",
       "pad_bot_Q_Main                      95.77614       -31.23410   \n",
       "pad_top_Q_Main                     -31.23410        97.45769   \n",
       "readout_connector_pad_Q_Main        -7.05086        -1.13196   \n",
       "\n",
       "                              readout_connector_pad_Q_Main  \n",
       "bus_01_connector_pad_Q_Main                       -0.69748  \n",
       "bus_02_connector_pad_Q_Main                       -0.10636  \n",
       "bus_03_connector_pad_Q_Main                       -0.15773  \n",
       "bus_04_connector_pad_Q_Main                       -0.10634  \n",
       "bus_05_connector_pad_Q_Main                       -0.69732  \n",
       "ground_main_plane                                -31.47950  \n",
       "pad_bot_Q_Main                                    -7.05086  \n",
       "pad_top_Q_Main                                    -1.13196  \n",
       "readout_connector_pad_Q_Main                      42.10853  "
      ]
     },
     "execution_count": 31,
     "metadata": {},
     "output_type": "execute_result"
    }
   ],
   "source": [
    "c1.sim.capacitance_matrix"
   ]
  },
  {
   "cell_type": "markdown",
   "metadata": {},
   "source": [
    "But more importantly, we can use that matrix to run LOM analysis."
   ]
  },
  {
   "cell_type": "code",
   "execution_count": 32,
   "metadata": {},
   "outputs": [
    {
     "name": "stdout",
     "output_type": "stream",
     "text": [
      "[6, 7] [8 0 1 2 3 4]\n",
      "Predicted Values\n",
      "\n",
      "Transmon Properties\n",
      "f_Q 4.963637 [GHz]\n",
      "EC 298.742806 [MHz]\n",
      "EJ 11.671114 [GHz]\n",
      "alpha -351.478217 [MHz]\n",
      "dispersion 85.777325 [KHz]\n",
      "Lq 13.994355 [nH]\n",
      "Cq 64.839145 [fF]\n",
      "T1 139.246486 [us]\n",
      "\n",
      "**Coupling Properties**\n",
      "\n",
      "tCqbus1 3.015109 [fF]\n",
      "gbus1_in_MHz 43.814178 [MHz]\n",
      "χ_bus1 -0.287235 [MHz]\n",
      "1/T1bus1 223.126123 [Hz]\n",
      "T1bus1 713.295874 [us]\n",
      "\n",
      "tCqbus2 4.171369 [fF]\n",
      "gbus2_in_MHz 48.507908 [MHz]\n",
      "χ_bus2 -2.646577 [MHz]\n",
      "1/T1bus2 287.366415 [Hz]\n",
      "T1bus2 553.839749 [us]\n",
      "\n",
      "tCqbus3 -3.999915 [fF]\n",
      "gbus3_in_MHz -47.342110 [MHz]\n",
      "χ_bus3 -1.981153 [MHz]\n",
      "1/T1bus3 204.190329 [Hz]\n",
      "T1bus3 779.444080 [us]\n",
      "\n",
      "tCqbus4 -4.072921 [fF]\n",
      "gbus4_in_MHz -49.032459 [MHz]\n",
      "χ_bus4 -1.716229 [MHz]\n",
      "1/T1bus4 169.569362 [Hz]\n",
      "T1bus4 938.583135 [us]\n",
      "\n",
      "tCqbus5 -4.002158 [fF]\n",
      "gbus5_in_MHz -49.025487 [MHz]\n",
      "χ_bus5 -1.415883 [MHz]\n",
      "1/T1bus5 135.056860 [Hz]\n",
      "T1bus5 1178.429168 [us]\n",
      "\n",
      "tCqbus6 4.171348 [fF]\n",
      "gbus6_in_MHz 51.961553 [MHz]\n",
      "χ_bus6 -1.335908 [MHz]\n",
      "1/T1bus6 123.663691 [Hz]\n",
      "T1bus6 1286.998163 [us]\n",
      "Bus-Bus Couplings\n",
      "gbus1_2 3.326058 [MHz]\n",
      "gbus1_3 1.912467 [MHz]\n",
      "gbus1_4 2.174028 [MHz]\n",
      "gbus1_5 1.979453 [MHz]\n",
      "gbus1_6 3.560204 [MHz]\n",
      "gbus2_3 2.145395 [MHz]\n",
      "gbus2_4 2.034405 [MHz]\n",
      "gbus2_5 1.819461 [MHz]\n",
      "gbus2_6 1.928432 [MHz]\n",
      "gbus3_4 3.378746 [MHz]\n",
      "gbus3_5 1.912558 [MHz]\n",
      "gbus3_6 1.881732 [MHz]\n",
      "gbus4_5 3.496941 [MHz]\n",
      "gbus4_6 2.177677 [MHz]\n",
      "gbus5_6 2.377083 [MHz]\n"
     ]
    },
    {
     "data": {
      "text/html": [
       "<div>\n",
       "<style scoped>\n",
       "    .dataframe tbody tr th:only-of-type {\n",
       "        vertical-align: middle;\n",
       "    }\n",
       "\n",
       "    .dataframe tbody tr th {\n",
       "        vertical-align: top;\n",
       "    }\n",
       "\n",
       "    .dataframe thead th {\n",
       "        text-align: right;\n",
       "    }\n",
       "</style>\n",
       "<table border=\"1\" class=\"dataframe\">\n",
       "  <thead>\n",
       "    <tr style=\"text-align: right;\">\n",
       "      <th></th>\n",
       "      <th>fQ</th>\n",
       "      <th>EC</th>\n",
       "      <th>EJ</th>\n",
       "      <th>alpha</th>\n",
       "      <th>dispersion</th>\n",
       "      <th>gbus</th>\n",
       "      <th>chi_in_MHz</th>\n",
       "      <th>χr MHz</th>\n",
       "      <th>gr MHz</th>\n",
       "    </tr>\n",
       "  </thead>\n",
       "  <tbody>\n",
       "    <tr>\n",
       "      <th>1</th>\n",
       "      <td>5.334856</td>\n",
       "      <td>349.017036</td>\n",
       "      <td>11.671114</td>\n",
       "      <td>-418.169804</td>\n",
       "      <td>304.17916</td>\n",
       "      <td>[46.33925002733205, 44.187331992065, -42.60569...</td>\n",
       "      <td>[-0.5299131495471545, -9.02735544083127, -5.32...</td>\n",
       "      <td>0.529913</td>\n",
       "      <td>46.339250</td>\n",
       "    </tr>\n",
       "    <tr>\n",
       "      <th>2</th>\n",
       "      <td>5.293486</td>\n",
       "      <td>343.186424</td>\n",
       "      <td>11.671114</td>\n",
       "      <td>-410.317793</td>\n",
       "      <td>266.537713</td>\n",
       "      <td>[44.48190013581558, 43.9097832625843, -40.5561...</td>\n",
       "      <td>[-0.46060589157200166, -7.215069673870146, -4....</td>\n",
       "      <td>0.460606</td>\n",
       "      <td>44.481900</td>\n",
       "    </tr>\n",
       "    <tr>\n",
       "      <th>3</th>\n",
       "      <td>5.170921</td>\n",
       "      <td>326.250564</td>\n",
       "      <td>11.671114</td>\n",
       "      <td>-387.687432</td>\n",
       "      <td>177.943713</td>\n",
       "      <td>[43.070010461135595, 44.950130211698436, -42.4...</td>\n",
       "      <td>[-0.3647685645613965, -4.484323434442411, -2.8...</td>\n",
       "      <td>0.364769</td>\n",
       "      <td>43.070010</td>\n",
       "    </tr>\n",
       "    <tr>\n",
       "      <th>4</th>\n",
       "      <td>5.108395</td>\n",
       "      <td>317.803973</td>\n",
       "      <td>11.671114</td>\n",
       "      <td>-376.49766</td>\n",
       "      <td>143.698638</td>\n",
       "      <td>[43.128746946780105, 43.3020975816099, -44.088...</td>\n",
       "      <td>[-0.3363220268367257, -3.321199119066178, -2.5...</td>\n",
       "      <td>0.336322</td>\n",
       "      <td>43.128747</td>\n",
       "    </tr>\n",
       "    <tr>\n",
       "      <th>5</th>\n",
       "      <td>5.074637</td>\n",
       "      <td>313.297364</td>\n",
       "      <td>11.671114</td>\n",
       "      <td>-370.553464</td>\n",
       "      <td>127.750448</td>\n",
       "      <td>[43.277211774574475, 45.4498856522491, -43.978...</td>\n",
       "      <td>[-0.32382251882452795, -3.2664350246174823, -2...</td>\n",
       "      <td>0.323823</td>\n",
       "      <td>43.277212</td>\n",
       "    </tr>\n",
       "    <tr>\n",
       "      <th>6</th>\n",
       "      <td>5.041406</td>\n",
       "      <td>308.897758</td>\n",
       "      <td>11.671114</td>\n",
       "      <td>-364.767731</td>\n",
       "      <td>113.602526</td>\n",
       "      <td>[43.12968437237925, 46.33851082613851, -45.263...</td>\n",
       "      <td>[-0.3078723786904762, -3.051448513496476, -2.2...</td>\n",
       "      <td>0.307872</td>\n",
       "      <td>43.129684</td>\n",
       "    </tr>\n",
       "    <tr>\n",
       "      <th>7</th>\n",
       "      <td>5.023694</td>\n",
       "      <td>306.567572</td>\n",
       "      <td>11.671114</td>\n",
       "      <td>-361.710305</td>\n",
       "      <td>106.644275</td>\n",
       "      <td>[43.190474282623434, 46.65712432971795, -45.44...</td>\n",
       "      <td>[-0.3016793191774154, -2.927597876284356, -2.1...</td>\n",
       "      <td>0.301679</td>\n",
       "      <td>43.190474</td>\n",
       "    </tr>\n",
       "    <tr>\n",
       "      <th>8</th>\n",
       "      <td>5.008635</td>\n",
       "      <td>304.594557</td>\n",
       "      <td>11.671114</td>\n",
       "      <td>-359.125242</td>\n",
       "      <td>101.028478</td>\n",
       "      <td>[43.35493959753043, 46.995759005248786, -46.25...</td>\n",
       "      <td>[-0.2980828734310885, -2.836806564548636, -2.1...</td>\n",
       "      <td>0.298083</td>\n",
       "      <td>43.354940</td>\n",
       "    </tr>\n",
       "    <tr>\n",
       "      <th>9</th>\n",
       "      <td>4.995091</td>\n",
       "      <td>302.826242</td>\n",
       "      <td>11.671114</td>\n",
       "      <td>-356.811273</td>\n",
       "      <td>96.203036</td>\n",
       "      <td>[43.47569091277017, 47.45057200957456, -46.472...</td>\n",
       "      <td>[-0.29452657186777476, -2.776741009808275, -2....</td>\n",
       "      <td>0.294527</td>\n",
       "      <td>43.475691</td>\n",
       "    </tr>\n",
       "    <tr>\n",
       "      <th>10</th>\n",
       "      <td>4.98964</td>\n",
       "      <td>302.116229</td>\n",
       "      <td>11.671114</td>\n",
       "      <td>-355.882938</td>\n",
       "      <td>94.319384</td>\n",
       "      <td>[43.606098675367605, 47.65723072332207, -46.59...</td>\n",
       "      <td>[-0.29421347042011875, -2.7559975245671153, -2...</td>\n",
       "      <td>0.294213</td>\n",
       "      <td>43.606099</td>\n",
       "    </tr>\n",
       "    <tr>\n",
       "      <th>11</th>\n",
       "      <td>4.981478</td>\n",
       "      <td>301.055081</td>\n",
       "      <td>11.671114</td>\n",
       "      <td>-354.496316</td>\n",
       "      <td>91.560532</td>\n",
       "      <td>[43.55634738584644, 48.016354210912205, -46.89...</td>\n",
       "      <td>[-0.29046378745995977, -2.7311960600854865, -2...</td>\n",
       "      <td>0.290464</td>\n",
       "      <td>43.556347</td>\n",
       "    </tr>\n",
       "    <tr>\n",
       "      <th>12</th>\n",
       "      <td>4.975885</td>\n",
       "      <td>300.329093</td>\n",
       "      <td>11.671114</td>\n",
       "      <td>-353.548218</td>\n",
       "      <td>89.7114</td>\n",
       "      <td>[43.68660605498832, 48.10583433159432, -47.066...</td>\n",
       "      <td>[-0.2901032105362317, -2.6968993396981946, -2....</td>\n",
       "      <td>0.290103</td>\n",
       "      <td>43.686606</td>\n",
       "    </tr>\n",
       "    <tr>\n",
       "      <th>13</th>\n",
       "      <td>4.973096</td>\n",
       "      <td>299.967474</td>\n",
       "      <td>11.671114</td>\n",
       "      <td>-353.076136</td>\n",
       "      <td>88.801814</td>\n",
       "      <td>[43.746778902681584, 48.26677251908293, -47.10...</td>\n",
       "      <td>[-0.28985933658433194, -2.6930167136225878, -2...</td>\n",
       "      <td>0.289859</td>\n",
       "      <td>43.746779</td>\n",
       "    </tr>\n",
       "    <tr>\n",
       "      <th>14</th>\n",
       "      <td>4.96929</td>\n",
       "      <td>299.474293</td>\n",
       "      <td>11.671114</td>\n",
       "      <td>-352.432488</td>\n",
       "      <td>87.573499</td>\n",
       "      <td>[43.735873331646786, 48.38748642443916, -47.22...</td>\n",
       "      <td>[-0.2882982149111859, -2.6767764506663867, -2....</td>\n",
       "      <td>0.288298</td>\n",
       "      <td>43.735873</td>\n",
       "    </tr>\n",
       "    <tr>\n",
       "      <th>15</th>\n",
       "      <td>4.966912</td>\n",
       "      <td>299.166511</td>\n",
       "      <td>11.671114</td>\n",
       "      <td>-352.03091</td>\n",
       "      <td>86.814019</td>\n",
       "      <td>[43.77852598535995, 48.45958068743581, -47.341...</td>\n",
       "      <td>[-0.2879784579481617, -2.666364595454419, -1.9...</td>\n",
       "      <td>0.287978</td>\n",
       "      <td>43.778526</td>\n",
       "    </tr>\n",
       "    <tr>\n",
       "      <th>16</th>\n",
       "      <td>4.963637</td>\n",
       "      <td>298.742806</td>\n",
       "      <td>11.671114</td>\n",
       "      <td>-351.478217</td>\n",
       "      <td>85.777325</td>\n",
       "      <td>[43.81417796220179, 48.507907819556124, -47.34...</td>\n",
       "      <td>[-0.28723537101637553, -2.6465771196526644, -1...</td>\n",
       "      <td>0.287235</td>\n",
       "      <td>43.814178</td>\n",
       "    </tr>\n",
       "  </tbody>\n",
       "</table>\n",
       "</div>"
      ],
      "text/plain": [
       "          fQ          EC         EJ       alpha  dispersion  \\\n",
       "1   5.334856  349.017036  11.671114 -418.169804   304.17916   \n",
       "2   5.293486  343.186424  11.671114 -410.317793  266.537713   \n",
       "3   5.170921  326.250564  11.671114 -387.687432  177.943713   \n",
       "4   5.108395  317.803973  11.671114  -376.49766  143.698638   \n",
       "5   5.074637  313.297364  11.671114 -370.553464  127.750448   \n",
       "6   5.041406  308.897758  11.671114 -364.767731  113.602526   \n",
       "7   5.023694  306.567572  11.671114 -361.710305  106.644275   \n",
       "8   5.008635  304.594557  11.671114 -359.125242  101.028478   \n",
       "9   4.995091  302.826242  11.671114 -356.811273   96.203036   \n",
       "10   4.98964  302.116229  11.671114 -355.882938   94.319384   \n",
       "11  4.981478  301.055081  11.671114 -354.496316   91.560532   \n",
       "12  4.975885  300.329093  11.671114 -353.548218     89.7114   \n",
       "13  4.973096  299.967474  11.671114 -353.076136   88.801814   \n",
       "14   4.96929  299.474293  11.671114 -352.432488   87.573499   \n",
       "15  4.966912  299.166511  11.671114  -352.03091   86.814019   \n",
       "16  4.963637  298.742806  11.671114 -351.478217   85.777325   \n",
       "\n",
       "                                                 gbus  \\\n",
       "1   [46.33925002733205, 44.187331992065, -42.60569...   \n",
       "2   [44.48190013581558, 43.9097832625843, -40.5561...   \n",
       "3   [43.070010461135595, 44.950130211698436, -42.4...   \n",
       "4   [43.128746946780105, 43.3020975816099, -44.088...   \n",
       "5   [43.277211774574475, 45.4498856522491, -43.978...   \n",
       "6   [43.12968437237925, 46.33851082613851, -45.263...   \n",
       "7   [43.190474282623434, 46.65712432971795, -45.44...   \n",
       "8   [43.35493959753043, 46.995759005248786, -46.25...   \n",
       "9   [43.47569091277017, 47.45057200957456, -46.472...   \n",
       "10  [43.606098675367605, 47.65723072332207, -46.59...   \n",
       "11  [43.55634738584644, 48.016354210912205, -46.89...   \n",
       "12  [43.68660605498832, 48.10583433159432, -47.066...   \n",
       "13  [43.746778902681584, 48.26677251908293, -47.10...   \n",
       "14  [43.735873331646786, 48.38748642443916, -47.22...   \n",
       "15  [43.77852598535995, 48.45958068743581, -47.341...   \n",
       "16  [43.81417796220179, 48.507907819556124, -47.34...   \n",
       "\n",
       "                                           chi_in_MHz    χr MHz     gr MHz  \n",
       "1   [-0.5299131495471545, -9.02735544083127, -5.32...  0.529913  46.339250  \n",
       "2   [-0.46060589157200166, -7.215069673870146, -4....  0.460606  44.481900  \n",
       "3   [-0.3647685645613965, -4.484323434442411, -2.8...  0.364769  43.070010  \n",
       "4   [-0.3363220268367257, -3.321199119066178, -2.5...  0.336322  43.128747  \n",
       "5   [-0.32382251882452795, -3.2664350246174823, -2...  0.323823  43.277212  \n",
       "6   [-0.3078723786904762, -3.051448513496476, -2.2...  0.307872  43.129684  \n",
       "7   [-0.3016793191774154, -2.927597876284356, -2.1...  0.301679  43.190474  \n",
       "8   [-0.2980828734310885, -2.836806564548636, -2.1...  0.298083  43.354940  \n",
       "9   [-0.29452657186777476, -2.776741009808275, -2....  0.294527  43.475691  \n",
       "10  [-0.29421347042011875, -2.7559975245671153, -2...  0.294213  43.606099  \n",
       "11  [-0.29046378745995977, -2.7311960600854865, -2...  0.290464  43.556347  \n",
       "12  [-0.2901032105362317, -2.6968993396981946, -2....  0.290103  43.686606  \n",
       "13  [-0.28985933658433194, -2.6930167136225878, -2...  0.289859  43.746779  \n",
       "14  [-0.2882982149111859, -2.6767764506663867, -2....  0.288298  43.735873  \n",
       "15  [-0.2879784579481617, -2.666364595454419, -1.9...  0.287978  43.778526  \n",
       "16  [-0.28723537101637553, -2.6465771196526644, -1...  0.287235  43.814178  "
      ]
     },
     "execution_count": 32,
     "metadata": {},
     "output_type": "execute_result"
    }
   ],
   "source": [
    "c1.setup.junctions = Dict({'Lj': 14, 'Cj': 2})\n",
    "c1.setup.freq_readout = 7.0\n",
    "c1.setup.freq_bus = [5.6, 5.7, 5.8, 5.9, 6.0]  # list of the bus frequencies\n",
    "\n",
    "c1.run_lom()\n",
    "c1.lumped_oscillator_all"
   ]
  },
  {
   "cell_type": "markdown",
   "metadata": {},
   "source": [
    "Which gives us the qubits frequency, anharmonicity, and coupling strength to the different connection pads.\n",
    "\n",
    "We can further check if these parameters converged well. If they have not, we may want to modify our simulation in order to get a more accurate result. We then will want to make modifications to our qubit options, such as `pad_gap` of the qubit, or modifying the size of the connection pads, in order to hit the desired qubit anharmonicity or readout chi values respectively."
   ]
  },
  {
   "cell_type": "code",
   "execution_count": 33,
   "metadata": {},
   "outputs": [
    {
     "name": "stdout",
     "output_type": "stream",
     "text": [
      "Design \"Q_Main_q3d\" info:\n",
      "\t# eigenmodes    0\n",
      "\t# variations    1\n"
     ]
    },
    {
     "name": "stderr",
     "output_type": "stream",
     "text": [
      "INFO 01:31PM [hfss_report_full_convergence]: Creating report for variation 0\n"
     ]
    }
   ],
   "source": [
    "c1.plot_convergence();\n",
    "c1.plot_convergence_chi()"
   ]
  },
  {
   "cell_type": "markdown",
   "metadata": {},
   "source": [
    "Once the analysis and tuning is complete, we can stop the analysis and the renderer."
   ]
  },
  {
   "cell_type": "code",
   "execution_count": 34,
   "metadata": {},
   "outputs": [],
   "source": [
    "c1.sim.close()"
   ]
  },
  {
   "cell_type": "markdown",
   "metadata": {},
   "source": [
    "## Eigenmode and EPR\n",
    "\n",
    "Once each of our qubits have been run through LOM, we can begin to look at the resonant busses and readouts, and larger coupled sections of the chip. One such case could be looking at Q_Main, Q5, and Bus_05. This allows us not only to look at some of the parameters of the individual qubits, but also the bus frequency and if the qubits are coupled (via the bus) to the degree we wish.\n",
    "\n",
    "#### Preparations\n",
    "We will setup the design and simulation in the same manner as we did previously, but with the methods needed for an eigenmode simulation."
   ]
  },
  {
   "cell_type": "code",
   "execution_count": 26,
   "metadata": {},
   "outputs": [],
   "source": [
    "from qiskit_metal.analyses.quantization import EPRanalysis\n",
    "eig_qb = EPRanalysis(design, \"hfss\")"
   ]
  },
  {
   "cell_type": "markdown",
   "metadata": {},
   "source": [
    "(optional) you can tune the wirebond size by directly modifying the renderer options."
   ]
  },
  {
   "cell_type": "code",
   "execution_count": 27,
   "metadata": {},
   "outputs": [],
   "source": [
    "eig_qb.sim.renderer.options['wb_size'] = 5"
   ]
  },
  {
   "cell_type": "markdown",
   "metadata": {},
   "source": [
    "Review and update the simulation setup by executing following two cells."
   ]
  },
  {
   "cell_type": "code",
   "execution_count": 28,
   "metadata": {},
   "outputs": [],
   "source": [
    "em_p = eig_qb.sim.setup"
   ]
  },
  {
   "cell_type": "code",
   "execution_count": 29,
   "metadata": {},
   "outputs": [
    {
     "data": {
      "text/plain": [
       "{'name': '3Modes',\n",
       " 'reuse_selected_design': True,\n",
       " 'reuse_setup': True,\n",
       " 'min_freq_ghz': 4,\n",
       " 'n_modes': 3,\n",
       " 'max_delta_f': 0.1,\n",
       " 'max_passes': 10,\n",
       " 'min_passes': 1,\n",
       " 'min_converged': 2,\n",
       " 'pct_refinement': 30,\n",
       " 'basis_order': 1,\n",
       " 'vars': {'Lj1': '13 nH', 'Cj1': '0 fF', 'Lj2': '15 nH', 'Cj2': '0 fF'}}"
      ]
     },
     "execution_count": 29,
     "metadata": {},
     "output_type": "execute_result"
    }
   ],
   "source": [
    "em_p.name = '3Modes'\n",
    "em_p.min_freq_ghz = 4\n",
    "em_p.n_modes = 3\n",
    "em_p.max_passes = 10\n",
    "em_p.max_delta_f = 0.1\n",
    "em_p.min_converged = 2\n",
    "# Design variables can also be added in for direct simulation sweeps.\n",
    "em_p.vars = Dict({'Lj1': '13 nH', 'Cj1': '0 fF', 'Lj2': '15 nH', 'Cj2': '0 fF'})\n",
    "\n",
    "eig_qb.sim.setup"
   ]
  },
  {
   "cell_type": "markdown",
   "metadata": {},
   "source": [
    "Before we execute the analysis, we want to update the design if needed. For example we may want to modify the junction inductance of the two qubits based on the previous LOM analysis, so they are near the desired frequency. Further, one may want to change the length of the bus after initial simulations to get it to the target frequency:"
   ]
  },
  {
   "cell_type": "code",
   "execution_count": 30,
   "metadata": {},
   "outputs": [
    {
     "data": {
      "text/plain": [
       "'14nH'"
      ]
     },
     "execution_count": 30,
     "metadata": {},
     "output_type": "execute_result"
    }
   ],
   "source": [
    "q_main.options.hfss_inductance"
   ]
  },
  {
   "cell_type": "code",
   "execution_count": 31,
   "metadata": {},
   "outputs": [
    {
     "data": {
      "text/plain": [
       "'14nH'"
      ]
     },
     "execution_count": 31,
     "metadata": {},
     "output_type": "execute_result"
    }
   ],
   "source": [
    "Q5.options.hfss_inductance"
   ]
  },
  {
   "cell_type": "code",
   "execution_count": 32,
   "metadata": {},
   "outputs": [],
   "source": [
    "q_main.options.hfss_inductance = '13nH'\n",
    "Q5.options.hfss_inductance = '15nH'\n",
    "bus_05.options.total_length = '7.5mm'\n",
    "\n",
    "gui.rebuild()"
   ]
  },
  {
   "cell_type": "markdown",
   "metadata": {},
   "source": [
    "We can now run the simulation on the specified layout. All unconnected pins are left as shorts, as we are only concerned about simulating the resonant mode of the three components listed."
   ]
  },
  {
   "cell_type": "code",
   "execution_count": 33,
   "metadata": {},
   "outputs": [
    {
     "name": "stderr",
     "output_type": "stream",
     "text": [
      "INFO 03:16PM [connect_project]: Connecting to Ansys Desktop API...\n",
      "INFO 03:16PM [load_ansys_project]: \tOpened Ansys App\n",
      "INFO 03:16PM [load_ansys_project]: \tOpened Ansys Desktop v2021.1.0\n",
      "INFO 03:16PM [load_ansys_project]: \tOpened Ansys Project\n",
      "\tFolder:    C:/Users/Luxcuse/Documents/Ansoft/\n",
      "\tProject:   Project5\n",
      "INFO 03:16PM [connect_design]: \tOpened active design\n",
      "\tDesign:    QMain_Q5_Bus05_hfss [Solution type: Eigenmode]\n",
      "INFO 03:16PM [get_setup]: \tOpened setup `Setup`  (<class 'pyEPR.ansys.HfssEMSetup'>)\n",
      "INFO 03:16PM [connect]: \tConnected to project \"Project5\" and design \"QMain_Q5_Bus05_hfss\" 😀 \n",
      "\n",
      "INFO 03:16PM [connect_design]: \tOpened active design\n",
      "\tDesign:    QMain_Q5_Bus05_hfss [Solution type: Eigenmode]\n",
      "INFO 03:16PM [get_setup]: \tOpened setup `3Modes`  (<class 'pyEPR.ansys.HfssEMSetup'>)\n",
      "INFO 03:16PM [analyze]: Analyzing setup 3Modes\n",
      "03:19PM 01s INFO [get_f_convergence]: Saved convergences to C:\\Users\\Luxcuse\\Documents\\GitHub\\qiskit-metal\\hfss_eig_f_convergence.csv\n"
     ]
    }
   ],
   "source": [
    "eig_qb.sim.run(name=\"QMain_Q5_Bus05\", components=['Q_Main', 'Q5','Bus_05'], open_terminations=[])"
   ]
  },
  {
   "cell_type": "markdown",
   "metadata": {},
   "source": [
    "Once the simulation is complete, we can check to see if the convergence was good."
   ]
  },
  {
   "cell_type": "code",
   "execution_count": 34,
   "metadata": {},
   "outputs": [],
   "source": [
    "eig_qb.sim.plot_convergences()"
   ]
  },
  {
   "cell_type": "markdown",
   "metadata": {},
   "source": [
    "With the eigenmode simulation complete (and nicely converged) we can run some EPR analysis on the result.\n",
    "\n",
    "At first we need to define the junctions in terms of name, inductance_variable, capacitance_variable, rectancle that was defined in the rendering to represent the junction `port` and line that was defined in the rendering to represent the direction of the current thorugh the junction."
   ]
  },
  {
   "cell_type": "code",
   "execution_count": 35,
   "metadata": {},
   "outputs": [
    {
     "data": {
      "text/plain": [
       "{'junctions': {'jj1': {'Lj_variable': 'Lj1',\n",
       "   'Cj_variable': 'Cj1',\n",
       "   'rect': 'JJ_rect_Lj_Q_Main_rect_jj',\n",
       "   'line': 'JJ_Lj_Q_Main_rect_jj_'},\n",
       "  'jj2': {'Lj_variable': 'Lj2',\n",
       "   'Cj_variable': 'Cj2',\n",
       "   'rect': 'JJ_rect_Lj_Q5_rect_jj',\n",
       "   'line': 'JJ_Lj_Q5_rect_jj_'}},\n",
       " 'dissipatives': {'dielectrics_bulk': ['main']},\n",
       " 'cos_trunc': 8,\n",
       " 'fock_trunc': 7,\n",
       " 'sweep_variable': 'Lj1'}"
      ]
     },
     "execution_count": 35,
     "metadata": {},
     "output_type": "execute_result"
    }
   ],
   "source": [
    "eig_qb.del_junction()\n",
    "eig_qb.add_junction('jj1', 'Lj1', 'Cj1', rect='JJ_rect_Lj_Q_Main_rect_jj', line='JJ_Lj_Q_Main_rect_jj_')\n",
    "eig_qb.add_junction('jj2', 'Lj2', 'Cj2', rect='JJ_rect_Lj_Q5_rect_jj', line='JJ_Lj_Q5_rect_jj_')\n",
    "eig_qb.setup.sweep_variable = 'Lj1'\n",
    "eig_qb.setup"
   ]
  },
  {
   "cell_type": "markdown",
   "metadata": {},
   "source": [
    "Note in the previous cell output that the dissipatives have alrady been defined by default.\n",
    "\n",
    "Now we can start looking at the EPR values. First we look at the electric field and subtrate participation. Then extract the kerr matrix."
   ]
  },
  {
   "cell_type": "code",
   "execution_count": 36,
   "metadata": {},
   "outputs": [
    {
     "name": "stdout",
     "output_type": "stream",
     "text": [
      "Design \"QMain_Q5_Bus05_hfss\" info:\n",
      "\t# eigenmodes    3\n",
      "\t# variations    1\n",
      "Design \"QMain_Q5_Bus05_hfss\" info:\n",
      "\t# eigenmodes    3\n",
      "\t# variations    1\n",
      "\n",
      "        energy_elec_all       = 1.0180119028248e-23\n",
      "        energy_elec_substrate = 9.25444719838751e-24\n",
      "        EPR of substrate = 90.9%\n",
      "\n",
      "        energy_mag    = 4.37880325042344e-26\n",
      "        energy_mag % of energy_elec_all  = 0.4%\n",
      "        \n",
      "\n",
      "Variation 0  [1/1]\n",
      "\n",
      "  \u001b[1mMode 0 at 4.45 GHz   [1/3]\u001b[0m\n",
      "    Calculating ℰ_magnetic,ℰ_electric\n",
      "       (ℰ_E-ℰ_H)/ℰ_E       ℰ_E       ℰ_H\n",
      "               99.6%   5.09e-24 2.189e-26\n",
      "\n",
      "    Calculating junction energy participation ration (EPR)\n",
      "\tmethod=`line_voltage`. First estimates:\n",
      "\tjunction        EPR p_0j   sign s_0j    (p_capacitive)\n",
      "\t\tEnergy fraction (Lj over Lj&Cj)= 98.01%\n",
      "\tjj1             5.01351e-06  (+)        1.01805e-07\n",
      "\t\tEnergy fraction (Lj over Lj&Cj)= 97.71%\n",
      "\tjj2             0.994474  (+)        0.0233006\n",
      "\t\t(U_tot_cap-U_tot_ind)/mean=1.21%\n",
      "Calculating Qdielectric_main for mode 0 (0/2)\n"
     ]
    },
    {
     "name": "stderr",
     "output_type": "stream",
     "text": [
      "WARNING:py.warnings:C:\\Users\\Luxcuse\\anaconda3\\envs\\qiskit_series\\lib\\site-packages\\pyEPR\\core_distributed_analysis.py:1307: FutureWarning: The series.append method is deprecated and will be removed from pandas in a future version. Use pandas.concat instead.\n",
      "  sol = sol.append(self.get_Qdielectric(\n",
      "\n"
     ]
    },
    {
     "name": "stdout",
     "output_type": "stream",
     "text": [
      "p_dielectric_main_0 = 0.909070628025869\n",
      "\n",
      "  \u001b[1mMode 1 at 7.39 GHz   [2/3]\u001b[0m\n",
      "    Calculating ℰ_magnetic,ℰ_electric\n",
      "       (ℰ_E-ℰ_H)/ℰ_E       ℰ_E       ℰ_H\n",
      "                0.1%  2.419e-24 2.418e-24\n",
      "\n",
      "    Calculating junction energy participation ration (EPR)\n",
      "\tmethod=`line_voltage`. First estimates:\n",
      "\tjunction        EPR p_1j   sign s_1j    (p_capacitive)\n",
      "\t\tEnergy fraction (Lj over Lj&Cj)= 94.69%\n",
      "\tjj1             0.000256675  (+)        1.44055e-05\n",
      "\t\tEnergy fraction (Lj over Lj&Cj)= 93.92%\n",
      "\tjj2             0.000465055  (+)        3.01161e-05\n",
      "\t\t(U_tot_cap-U_tot_ind)/mean=0.00%\n",
      "Calculating Qdielectric_main for mode 1 (1/2)\n"
     ]
    },
    {
     "name": "stderr",
     "output_type": "stream",
     "text": [
      "WARNING:py.warnings:C:\\Users\\Luxcuse\\anaconda3\\envs\\qiskit_series\\lib\\site-packages\\pyEPR\\core_distributed_analysis.py:1307: FutureWarning: The series.append method is deprecated and will be removed from pandas in a future version. Use pandas.concat instead.\n",
      "  sol = sol.append(self.get_Qdielectric(\n",
      "\n"
     ]
    },
    {
     "name": "stdout",
     "output_type": "stream",
     "text": [
      "p_dielectric_main_1 = 0.9182842165753434\n",
      "\n",
      "  \u001b[1mMode 2 at 14.81 GHz   [3/3]\u001b[0m\n",
      "    Calculating ℰ_magnetic,ℰ_electric\n",
      "       (ℰ_E-ℰ_H)/ℰ_E       ℰ_E       ℰ_H\n",
      "                0.0%  2.691e-24 2.691e-24\n",
      "\n",
      "    Calculating junction energy participation ration (EPR)\n",
      "\tmethod=`line_voltage`. First estimates:\n",
      "\tjunction        EPR p_2j   sign s_2j    (p_capacitive)\n",
      "\t\tEnergy fraction (Lj over Lj&Cj)= 81.62%\n",
      "\tjj1             3.54384e-05  (+)        7.97953e-06\n",
      "\t\tEnergy fraction (Lj over Lj&Cj)= 79.38%\n",
      "\tjj2             6.24207e-05  (+)        1.62173e-05\n",
      "\t\t(U_tot_cap-U_tot_ind)/mean=0.00%\n",
      "Calculating Qdielectric_main for mode 2 (2/2)\n"
     ]
    },
    {
     "name": "stderr",
     "output_type": "stream",
     "text": [
      "WARNING:py.warnings:C:\\Users\\Luxcuse\\anaconda3\\envs\\qiskit_series\\lib\\site-packages\\pyEPR\\core_distributed_analysis.py:1307: FutureWarning: The series.append method is deprecated and will be removed from pandas in a future version. Use pandas.concat instead.\n",
      "  sol = sol.append(self.get_Qdielectric(\n",
      "\n"
     ]
    },
    {
     "name": "stdout",
     "output_type": "stream",
     "text": [
      "p_dielectric_main_2 = 0.9173083517148192\n"
     ]
    },
    {
     "name": "stderr",
     "output_type": "stream",
     "text": [
      "WARNING 03:19PM [__init__]: <p>Error: <class 'IndexError'></p>\n"
     ]
    },
    {
     "name": "stdout",
     "output_type": "stream",
     "text": [
      "\n",
      "ANALYSIS DONE. Data saved to:\n",
      "\n",
      "C:\\data-pyEPR\\Project5\\QMain_Q5_Bus05_hfss\\2024-02-28 15-19-16.npz\n",
      "\n",
      "\n",
      "\t Differences in variations:\n",
      "\n",
      "\n",
      "\n",
      " . . . . . . . . . . . . . . . . . . . . . . . . . . . . . . . . . . . . . . . . \n",
      "Variation 0\n",
      "\n",
      "Starting the diagonalization\n",
      "Finished the diagonalization\n"
     ]
    },
    {
     "name": "stderr",
     "output_type": "stream",
     "text": [
      "WARNING:py.warnings:C:\\Users\\Luxcuse\\anaconda3\\envs\\qiskit_series\\lib\\site-packages\\pyEPR\\core_quantum_analysis.py:712: FutureWarning: Support for multi-dimensional indexing (e.g. `obj[:, None]`) is deprecated and will be removed in a future version.  Convert to a numpy array before indexing instead.\n",
      "  result['Q_coupling'] = self.Qm_coupling[variation][self.Qm_coupling[variation].columns[junctions]][modes]#TODO change the columns to junctions\n",
      "\n",
      "WARNING:py.warnings:C:\\Users\\Luxcuse\\anaconda3\\envs\\qiskit_series\\lib\\site-packages\\pyEPR\\core_quantum_analysis.py:717: FutureWarning: Support for multi-dimensional indexing (e.g. `obj[:, None]`) is deprecated and will be removed in a future version.  Convert to a numpy array before indexing instead.\n",
      "  result['Qs'] = self.Qs[variation][self.PM[variation].columns[junctions]][modes] #TODO change the columns to junctions\n",
      "\n"
     ]
    },
    {
     "name": "stdout",
     "output_type": "stream",
     "text": [
      "Pm_norm=\n",
      "modes\n",
      "0    1.024604\n",
      "1    1.031409\n",
      "2    1.124277\n",
      "dtype: float64\n",
      "\n",
      "Pm_norm idx =\n",
      "     jj1    jj2\n",
      "0  False   True\n",
      "1  False  False\n",
      "2  False  False\n",
      "*** P (participation matrix, not normlz.)\n",
      "        jj1       jj2\n",
      "0  0.000005  0.971830\n",
      "1  0.000257  0.000465\n",
      "2  0.000035  0.000062\n",
      "\n",
      "*** S (sign-bit matrix)\n",
      "   s_jj1  s_jj2\n",
      "0      1      1\n",
      "1      1     -1\n",
      "2      1      1\n",
      "*** P (participation matrix, normalized.)\n",
      "   4.9e-06        1\n",
      "   0.00026  0.00047\n",
      "   3.5e-05  6.2e-05\n",
      "\n",
      "*** Chi matrix O1 PT (MHz)\n",
      "    Diag is anharmonicity, off diag is full cross-Kerr.\n",
      "       225    0.349   0.0939\n",
      "     0.349 0.000171 9.27e-05\n",
      "    0.0939 9.27e-05 1.25e-05\n",
      "\n",
      "*** Chi matrix ND (MHz) \n",
      "       252    0.317   0.0863\n",
      "     0.317 0.000145 9.33e-05\n",
      "    0.0863 9.33e-05 1.25e-05\n",
      "\n",
      "*** Frequencies O1 PT (MHz)\n",
      "0     4222.599535\n",
      "1     7394.282684\n",
      "2    14810.973507\n",
      "dtype: float64\n",
      "\n",
      "*** Frequencies ND (MHz)\n",
      "0     4209.696564\n",
      "1     7394.285542\n",
      "2    14810.976075\n",
      "dtype: float64\n",
      "\n",
      "*** Q_coupling\n",
      "Empty DataFrame\n",
      "Columns: []\n",
      "Index: [0, 1, 2]\n"
     ]
    },
    {
     "data": {
      "text/markdown": [
       "#### Mode frequencies (MHz)"
      ],
      "text/plain": [
       "<IPython.core.display.Markdown object>"
      ]
     },
     "metadata": {},
     "output_type": "display_data"
    },
    {
     "data": {
      "text/markdown": [
       "###### Numerical diagonalization"
      ],
      "text/plain": [
       "<IPython.core.display.Markdown object>"
      ]
     },
     "metadata": {},
     "output_type": "display_data"
    },
    {
     "data": {
      "text/html": [
       "<div>\n",
       "<style scoped>\n",
       "    .dataframe tbody tr th:only-of-type {\n",
       "        vertical-align: middle;\n",
       "    }\n",
       "\n",
       "    .dataframe tbody tr th {\n",
       "        vertical-align: top;\n",
       "    }\n",
       "\n",
       "    .dataframe thead th {\n",
       "        text-align: right;\n",
       "    }\n",
       "</style>\n",
       "<table border=\"1\" class=\"dataframe\">\n",
       "  <thead>\n",
       "    <tr style=\"text-align: right;\">\n",
       "      <th>Lj1</th>\n",
       "      <th>13</th>\n",
       "    </tr>\n",
       "  </thead>\n",
       "  <tbody>\n",
       "    <tr>\n",
       "      <th>0</th>\n",
       "      <td>4209.70</td>\n",
       "    </tr>\n",
       "    <tr>\n",
       "      <th>1</th>\n",
       "      <td>7394.29</td>\n",
       "    </tr>\n",
       "    <tr>\n",
       "      <th>2</th>\n",
       "      <td>14810.98</td>\n",
       "    </tr>\n",
       "  </tbody>\n",
       "</table>\n",
       "</div>"
      ],
      "text/plain": [
       "Lj1        13\n",
       "0     4209.70\n",
       "1     7394.29\n",
       "2    14810.98"
      ]
     },
     "metadata": {},
     "output_type": "display_data"
    },
    {
     "data": {
      "text/markdown": [
       "#### Kerr Non-linear coefficient table (MHz)"
      ],
      "text/plain": [
       "<IPython.core.display.Markdown object>"
      ]
     },
     "metadata": {},
     "output_type": "display_data"
    },
    {
     "data": {
      "text/markdown": [
       "###### Numerical diagonalization"
      ],
      "text/plain": [
       "<IPython.core.display.Markdown object>"
      ]
     },
     "metadata": {},
     "output_type": "display_data"
    },
    {
     "data": {
      "text/html": [
       "<div>\n",
       "<style scoped>\n",
       "    .dataframe tbody tr th:only-of-type {\n",
       "        vertical-align: middle;\n",
       "    }\n",
       "\n",
       "    .dataframe tbody tr th {\n",
       "        vertical-align: top;\n",
       "    }\n",
       "\n",
       "    .dataframe thead th {\n",
       "        text-align: right;\n",
       "    }\n",
       "</style>\n",
       "<table border=\"1\" class=\"dataframe\">\n",
       "  <thead>\n",
       "    <tr style=\"text-align: right;\">\n",
       "      <th></th>\n",
       "      <th></th>\n",
       "      <th>0</th>\n",
       "      <th>1</th>\n",
       "      <th>2</th>\n",
       "    </tr>\n",
       "    <tr>\n",
       "      <th>Lj1</th>\n",
       "      <th></th>\n",
       "      <th></th>\n",
       "      <th></th>\n",
       "      <th></th>\n",
       "    </tr>\n",
       "  </thead>\n",
       "  <tbody>\n",
       "    <tr>\n",
       "      <th rowspan=\"3\" valign=\"top\">13</th>\n",
       "      <th>0</th>\n",
       "      <td>251.89</td>\n",
       "      <td>3.17e-01</td>\n",
       "      <td>8.63e-02</td>\n",
       "    </tr>\n",
       "    <tr>\n",
       "      <th>1</th>\n",
       "      <td>0.32</td>\n",
       "      <td>1.45e-04</td>\n",
       "      <td>9.33e-05</td>\n",
       "    </tr>\n",
       "    <tr>\n",
       "      <th>2</th>\n",
       "      <td>0.09</td>\n",
       "      <td>9.33e-05</td>\n",
       "      <td>1.25e-05</td>\n",
       "    </tr>\n",
       "  </tbody>\n",
       "</table>\n",
       "</div>"
      ],
      "text/plain": [
       "            0         1         2\n",
       "Lj1                              \n",
       "13  0  251.89  3.17e-01  8.63e-02\n",
       "    1    0.32  1.45e-04  9.33e-05\n",
       "    2    0.09  9.33e-05  1.25e-05"
      ]
     },
     "metadata": {},
     "output_type": "display_data"
    }
   ],
   "source": [
    "eig_qb.run_epr()\n",
    "# (pyEPR allows to switch modes: eprd.set_mode(1))"
   ]
  },
  {
   "cell_type": "markdown",
   "metadata": {},
   "source": [
    "From the analysis results we can determine the qubits anharmonicities and coupling strength.\n",
    "Once the analysis and tuning is complete, we can close the connection to Ansys."
   ]
  },
  {
   "cell_type": "code",
   "execution_count": 43,
   "metadata": {},
   "outputs": [],
   "source": [
    "eig_qb.sim.close()"
   ]
  },
  {
   "cell_type": "markdown",
   "metadata": {},
   "source": [
    "### Rendering to a GDS File"
   ]
  },
  {
   "cell_type": "markdown",
   "metadata": {},
   "source": [
    "Once all of the tuning is complete, we will want to prepare a GDS file so we can create a mask and fabricate our chip. We first create a gds render instance."
   ]
  },
  {
   "cell_type": "code",
   "execution_count": 44,
   "metadata": {},
   "outputs": [],
   "source": [
    "full_chip_gds = design.renderers.gds"
   ]
  },
  {
   "cell_type": "markdown",
   "metadata": {},
   "source": [
    "The various options for the gds renderer can also be checked and changed as necessary. A key option is the gds file which holds the cells for your junction ebeam design. Make sure this is pointing at the correct file so they are placed in your final mask at the appropriate locations."
   ]
  },
  {
   "cell_type": "code",
   "execution_count": 45,
   "metadata": {},
   "outputs": [
    {
     "data": {
      "text/plain": [
       "{'short_segments_to_not_fillet': 'True',\n",
       " 'check_short_segments_by_scaling_fillet': '2.0',\n",
       " 'gds_unit': 0.001,\n",
       " 'ground_plane': 'True',\n",
       " 'negative_mask': {'main': []},\n",
       " 'corners': 'circular bend',\n",
       " 'tolerance': '0.00001',\n",
       " 'precision': '0.000000001',\n",
       " 'width_LineString': '10um',\n",
       " 'path_filename': '../resources/Fake_Junctions.GDS',\n",
       " 'junction_pad_overlap': '5um',\n",
       " 'max_points': '199',\n",
       " 'cheese': {'datatype': '100',\n",
       "  'shape': '0',\n",
       "  'cheese_0_x': '25um',\n",
       "  'cheese_0_y': '25um',\n",
       "  'cheese_1_radius': '100um',\n",
       "  'view_in_file': {'main': {1: True}},\n",
       "  'delta_x': '100um',\n",
       "  'delta_y': '100um',\n",
       "  'edge_nocheese': '200um'},\n",
       " 'no_cheese': {'datatype': '99',\n",
       "  'buffer': '25um',\n",
       "  'cap_style': '2',\n",
       "  'join_style': '2',\n",
       "  'view_in_file': {'main': {1: True}}},\n",
       " 'bounding_box_scale_x': '1.2',\n",
       " 'bounding_box_scale_y': '1.2'}"
      ]
     },
     "execution_count": 45,
     "metadata": {},
     "output_type": "execute_result"
    }
   ],
   "source": [
    "full_chip_gds.options"
   ]
  },
  {
   "cell_type": "code",
   "execution_count": 46,
   "metadata": {},
   "outputs": [],
   "source": [
    "full_chip_gds.options['path_filename'] ='../resources/Fake_Junctions.GDS'\n",
    "full_chip_gds.options['no_cheese']['buffer']='50um'"
   ]
  },
  {
   "cell_type": "code",
   "execution_count": 47,
   "metadata": {},
   "outputs": [
    {
     "data": {
      "text/plain": [
       "1"
      ]
     },
     "execution_count": 47,
     "metadata": {},
     "output_type": "execute_result"
    }
   ],
   "source": [
    "full_chip_gds.export_to_gds('Full_Chip_01.gds')"
   ]
  },
  {
   "cell_type": "markdown",
   "metadata": {},
   "source": [
    "(optional) With the design complete, we can close the GUI."
   ]
  },
  {
   "cell_type": "code",
   "execution_count": 48,
   "metadata": {},
   "outputs": [],
   "source": [
    "# gui.main_window.close()"
   ]
  }
 ],
 "metadata": {
  "celltoolbar": "Tags",
  "kernelspec": {
   "display_name": "Python 3 (ipykernel)",
   "language": "python",
   "name": "python3"
  },
  "language_info": {
   "codemirror_mode": {
    "name": "ipython",
    "version": 3
   },
   "file_extension": ".py",
   "mimetype": "text/x-python",
   "name": "python",
   "nbconvert_exporter": "python",
   "pygments_lexer": "ipython3",
   "version": "3.10.10"
  }
 },
 "nbformat": 4,
 "nbformat_minor": 4
}
