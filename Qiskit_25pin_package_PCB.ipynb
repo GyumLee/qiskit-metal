{
 "cells": [
  {
   "cell_type": "markdown",
   "metadata": {},
   "source": [
    "# Example full chip design"
   ]
  },
  {
   "cell_type": "code",
   "execution_count": 1,
   "metadata": {},
   "outputs": [],
   "source": [
    "%load_ext autoreload\n",
    "%autoreload 2"
   ]
  },
  {
   "cell_type": "markdown",
   "metadata": {},
   "source": [
    "# Import Modules"
   ]
  },
  {
   "cell_type": "code",
   "execution_count": 2,
   "metadata": {
    "scrolled": true
   },
   "outputs": [],
   "source": [
    "import qiskit_metal as metal\n",
    "from qiskit_metal import designs, draw\n",
    "from qiskit_metal import MetalGUI, Dict, open_docs"
   ]
  },
  {
   "cell_type": "code",
   "execution_count": 3,
   "metadata": {},
   "outputs": [],
   "source": [
    "from qiskit_metal.analyses.em.cpw_calculations import guided_wavelength\n",
    "from qiskit_metal.qlibrary.tlines.meandered import RouteMeander\n",
    "from qiskit_metal.qlibrary.tlines.pathfinder import RoutePathfinder\n",
    "from qiskit_metal.qlibrary.tlines.anchored_path import RouteAnchors\n",
    "\n",
    "from qiskit_metal.qlibrary.lumped.cap_n_interdigital import CapNInterdigital\n",
    "from qiskit_metal.qlibrary.couplers.cap_n_interdigital_tee import CapNInterdigitalTee\n",
    "from qiskit_metal.qlibrary.couplers.coupled_line_tee import CoupledLineTee\n",
    "from qiskit_metal.qlibrary.couplers.line_tee import LineTee\n",
    "\n",
    "from qiskit_metal.qlibrary.terminations.launchpad_wb import LaunchpadWirebond\n",
    "from qiskit_metal.qlibrary.terminations.launchpad_wb_coupled import LaunchpadWirebondCoupled\n",
    "\n",
    "from qiskit_metal.qlibrary.tlines.framed_path import RouteFramed\n",
    "from qiskit_metal.qlibrary.terminations.short_to_ground import ShortToGround\n",
    "from qiskit_metal.qlibrary.terminations.open_to_ground import OpenToGround\n",
    "\n",
    "from collections import OrderedDict\n",
    "\n",
    "from qiskit_metal.qlibrary.tlines.straight_path import RouteStraight"
   ]
  },
  {
   "cell_type": "markdown",
   "metadata": {},
   "source": [
    "## Chip dimensions"
   ]
  },
  {
   "cell_type": "code",
   "execution_count": 4,
   "metadata": {},
   "outputs": [],
   "source": [
    "design = metal.designs.DesignPlanar()\n",
    "\n",
    "gui = metal.MetalGUI(design)"
   ]
  },
  {
   "cell_type": "code",
   "execution_count": 5,
   "metadata": {},
   "outputs": [
    {
     "data": {
      "text/plain": [
       "{'material': 'silicon',\n",
       " 'layer_start': '0',\n",
       " 'layer_end': '2048',\n",
       " 'size': {'center_x': '0.0mm',\n",
       "  'center_y': '0.0mm',\n",
       "  'center_z': '0.0mm',\n",
       "  'size_x': '9mm',\n",
       "  'size_y': '6mm',\n",
       "  'size_z': '-750um',\n",
       "  'sample_holder_top': '890um',\n",
       "  'sample_holder_bottom': '1650um'}}"
      ]
     },
     "execution_count": 5,
     "metadata": {},
     "output_type": "execute_result"
    }
   ],
   "source": [
    "design.overwrite_enabled = True\n",
    "design.chips.main"
   ]
  },
  {
   "cell_type": "code",
   "execution_count": 6,
   "metadata": {},
   "outputs": [
    {
     "data": {
      "text/plain": [
       "{'main': {'material': 'silicon',\n",
       "  'layer_start': '0',\n",
       "  'layer_end': '2048',\n",
       "  'size': {'center_x': '0.0mm',\n",
       "   'center_y': '0.0mm',\n",
       "   'center_z': '0.0mm',\n",
       "   'size_x': '9mm',\n",
       "   'size_y': '6mm',\n",
       "   'size_z': '-750um',\n",
       "   'sample_holder_top': '890um',\n",
       "   'sample_holder_bottom': '1650um'}}}"
      ]
     },
     "execution_count": 6,
     "metadata": {},
     "output_type": "execute_result"
    }
   ],
   "source": [
    "design.chips"
   ]
  },
  {
   "cell_type": "code",
   "execution_count": 7,
   "metadata": {},
   "outputs": [],
   "source": [
    "design.chips.main.size.size_x = '50mm'\n",
    "design.chips.main.size.size_y = '50mm'"
   ]
  },
  {
   "cell_type": "markdown",
   "metadata": {},
   "source": [
    "## Launch Pads"
   ]
  },
  {
   "cell_type": "code",
   "execution_count": 8,
   "metadata": {},
   "outputs": [],
   "source": [
    "launch_TL_read_11 = LaunchpadWirebond(design, \n",
    "                                   'launch_TL_read_11', \n",
    "                                   options = dict(\n",
    "                                       pos_x = '20mm', \n",
    "                                       pos_y ='-12mm', \n",
    "                                       orientation = '180',\n",
    "                                       trace_gap = '275um',\n",
    "                                       trace_width = '400um',\n",
    "                                       taper_height = '3000um',\n",
    "                                       pad_width='1000um',\n",
    "                                       pad_height='5000um',\n",
    "                                       pad_gap = '1900um'\n",
    "                                   ))\n",
    "stg_11 = ShortToGround(design, 'stg_11', options=dict(pos_x='5mm', pos_y='-2.5mm', orientation='180', gap='400um', width='275um'))\n",
    "TL_end_11 = RouteStraight(design, 'TL_end_11', Dict(\n",
    "    hfss_wire_bonds = True,\n",
    "    pin_inputs=Dict(\n",
    "        start_pin=Dict(component='launch_TL_read_11', pin='tie'),\n",
    "        end_pin=Dict(component='stg_11', pin='short')\n",
    "    ),\n",
    "    lead=Dict(\n",
    "        start_straight='1mm',\n",
    "        end_straight='2mm'\n",
    "    ),\n",
    "    trace_width='400um',\n",
    "    trace_gap='275um',\n",
    "    fillet='1mm'\n",
    "))\n",
    "\n",
    "gui.rebuild()\n",
    "gui.autoscale()"
   ]
  },
  {
   "cell_type": "code",
   "execution_count": 9,
   "metadata": {},
   "outputs": [],
   "source": [
    "launch_TL_read_12 = LaunchpadWirebond(design, \n",
    "                                   'launch_TL_read_12', \n",
    "                                   options = dict(\n",
    "                                       pos_x = '20mm', \n",
    "                                       pos_y ='-6mm', \n",
    "                                       orientation = '180',\n",
    "                                       trace_gap = '275um',\n",
    "                                       trace_width = '400um',\n",
    "                                       taper_height = '3000um',\n",
    "                                       pad_width='1000um',\n",
    "                                       pad_height='5000um',\n",
    "                                       pad_gap = '1900um'\n",
    "                                   ))\n",
    "stg_12 = ShortToGround(design, 'stg_12', options=dict(pos_x='5mm', pos_y='-1.25mm', orientation='180', gap='400um', width='275um'))\n",
    "TL_end_12 = RouteStraight(design, 'TL_end_12', Dict(\n",
    "    hfss_wire_bonds = True,\n",
    "    pin_inputs=Dict(\n",
    "        start_pin=Dict(component='launch_TL_read_12', pin='tie'),\n",
    "        end_pin=Dict(component='stg_12', pin='short')\n",
    "    ),\n",
    "    lead=Dict(\n",
    "        start_straight='1mm',\n",
    "        end_straight='3mm'\n",
    "    ),\n",
    "    trace_width='400um',\n",
    "    trace_gap='275um',\n",
    "    fillet='1mm'\n",
    "))\n",
    "\n",
    "gui.rebuild()\n",
    "gui.autoscale()\n"
   ]
  },
  {
   "cell_type": "code",
   "execution_count": 10,
   "metadata": {},
   "outputs": [],
   "source": [
    "launch_TL_read_13 = LaunchpadWirebond(design, \n",
    "                                   'launch_TL_read_13', \n",
    "                                   options = dict(\n",
    "                                       pos_x = '20mm', \n",
    "                                       pos_y ='0mm', \n",
    "                                       orientation = '180',\n",
    "                                       trace_gap = '275um',\n",
    "                                       trace_width = '400um',\n",
    "                                       taper_height = '3000um',\n",
    "                                       pad_width='1000um',\n",
    "                                       pad_height='5000um',\n",
    "                                       pad_gap = '1900um'\n",
    "                                   ))\n",
    "stg_13 = ShortToGround(design, 'stg_13', options=dict(pos_x='5mm', pos_y='0mm', orientation='180', gap='400um', width='275um'))\n",
    "TL_end_13 = RouteStraight(design, 'TL_end_13', Dict(\n",
    "    hfss_wire_bonds = True,\n",
    "    pin_inputs=Dict(\n",
    "        start_pin=Dict(component='launch_TL_read_13', pin='tie'),\n",
    "        end_pin=Dict(component='stg_13', pin='short')\n",
    "    ),\n",
    "    lead=Dict(\n",
    "        start_straight='1mm',\n",
    "        end_straight='2mm'\n",
    "    ),\n",
    "    trace_width='400um',\n",
    "    trace_gap='275um',\n",
    "    fillet='1mm'\n",
    "))\n",
    "\n",
    "gui.rebuild()\n",
    "gui.autoscale()\n"
   ]
  },
  {
   "cell_type": "code",
   "execution_count": 11,
   "metadata": {},
   "outputs": [],
   "source": [
    "launch_TL_read_14 = LaunchpadWirebond(design, \n",
    "                                   'launch_TL_read_14', \n",
    "                                   options = dict(\n",
    "                                       pos_x = '20mm', \n",
    "                                       pos_y ='6mm', \n",
    "                                       orientation = '180',\n",
    "                                       trace_gap = '275um',\n",
    "                                       trace_width = '400um',\n",
    "                                       taper_height = '3000um',\n",
    "                                       pad_width='1000um',\n",
    "                                       pad_height='5000um',\n",
    "                                       pad_gap = '1900um'\n",
    "                                   ))\n",
    "stg_14 = ShortToGround(design, 'stg_14', options=dict(pos_x='5mm', pos_y='1.25mm', orientation='180', gap='400um', width='275um'))\n",
    "TL_end_14 = RouteStraight(design, 'TL_end_14', Dict(\n",
    "    hfss_wire_bonds = True,\n",
    "    pin_inputs=Dict(\n",
    "        start_pin=Dict(component='launch_TL_read_14', pin='tie'),\n",
    "        end_pin=Dict(component='stg_14', pin='short')\n",
    "    ),\n",
    "    lead=Dict(\n",
    "        start_straight='1mm',\n",
    "        end_straight='3mm'\n",
    "    ),\n",
    "    trace_width='400um',\n",
    "    trace_gap='275um',\n",
    "    fillet='1mm'\n",
    "))\n",
    "\n",
    "gui.rebuild()\n",
    "gui.autoscale()\n"
   ]
  },
  {
   "cell_type": "code",
   "execution_count": 12,
   "metadata": {},
   "outputs": [],
   "source": [
    "launch_TL_read_15 = LaunchpadWirebond(design, \n",
    "                                   'launch_TL_read_15', \n",
    "                                   options = dict(\n",
    "                                       pos_x = '20mm', \n",
    "                                       pos_y ='12mm', \n",
    "                                       orientation = '180',\n",
    "                                       trace_gap = '275um',\n",
    "                                       trace_width = '400um',\n",
    "                                       taper_height = '3000um',\n",
    "                                       pad_width='1000um',\n",
    "                                       pad_height='5000um',\n",
    "                                       pad_gap = '1900um'\n",
    "                                   ))\n",
    "stg_15 = ShortToGround(design, 'stg_15', options=dict(pos_x='5mm', pos_y='2.5mm', orientation='180', gap='400um', width='275um'))\n",
    "TL_end_15 = RouteStraight(design, 'TL_end_15', Dict(\n",
    "    hfss_wire_bonds = True,\n",
    "    pin_inputs=Dict(\n",
    "        start_pin=Dict(component='launch_TL_read_15', pin='tie'),\n",
    "        end_pin=Dict(component='stg_15', pin='short')\n",
    "    ),\n",
    "    lead=Dict(\n",
    "        start_straight='1mm',\n",
    "        end_straight='2mm'\n",
    "    ),\n",
    "    trace_width='400um',\n",
    "    trace_gap='275um',\n",
    "    fillet='1mm'\n",
    "))\n",
    "\n",
    "gui.rebuild()\n",
    "gui.autoscale()\n"
   ]
  },
  {
   "cell_type": "code",
   "execution_count": 13,
   "metadata": {},
   "outputs": [],
   "source": [
    "launch_TL_read_21 = LaunchpadWirebond(design, \n",
    "                                   'launch_TL_read_21', \n",
    "                                   options = dict(\n",
    "                                       pos_x = '12mm', \n",
    "                                       pos_y ='20mm', \n",
    "                                       orientation = '270',\n",
    "                                       trace_gap = '275um',\n",
    "                                       trace_width = '400um',\n",
    "                                       taper_height = '3000um',\n",
    "                                       pad_width='1000um',\n",
    "                                       pad_height='5000um',\n",
    "                                       pad_gap = '1900um'\n",
    "                                   ))\n",
    "stg_21 = ShortToGround(design, 'stg_21', options=dict(pos_x='2.5mm', pos_y='5mm', orientation='270', gap='400um', width='275um'))\n",
    "TL_end_21 = RouteStraight(design, 'TL_end_21', Dict(\n",
    "    hfss_wire_bonds = True,\n",
    "    pin_inputs=Dict(\n",
    "        start_pin=Dict(component='launch_TL_read_21', pin='tie'),\n",
    "        end_pin=Dict(component='stg_21', pin='short')\n",
    "    ),\n",
    "    lead=Dict(\n",
    "        start_straight='1mm',\n",
    "        end_straight='2mm'\n",
    "    ),\n",
    "    trace_width='400um',\n",
    "    trace_gap='275um',\n",
    "    fillet='1mm'\n",
    "))\n",
    "\n",
    "gui.rebuild()\n",
    "gui.autoscale()\n"
   ]
  },
  {
   "cell_type": "code",
   "execution_count": 14,
   "metadata": {},
   "outputs": [],
   "source": [
    "launch_TL_read_22 = LaunchpadWirebond(design, \n",
    "                                   'launch_TL_read_22', \n",
    "                                   options = dict(\n",
    "                                       pos_x = '6mm', \n",
    "                                       pos_y ='20mm', \n",
    "                                       orientation = '270',\n",
    "                                       trace_gap = '275um',\n",
    "                                       trace_width = '400um',\n",
    "                                       taper_height = '3000um',\n",
    "                                       pad_width='1000um',\n",
    "                                       pad_height='5000um',\n",
    "                                       pad_gap = '1900um'\n",
    "                                   ))\n",
    "stg_22 = ShortToGround(design, 'stg_22', options=dict(pos_x='1.25mm', pos_y='5mm', orientation='270', gap='400um', width='275um'))\n",
    "TL_end_22 = RouteStraight(design, 'TL_end_22', Dict(\n",
    "    hfss_wire_bonds = True,\n",
    "    pin_inputs=Dict(\n",
    "        start_pin=Dict(component='launch_TL_read_22', pin='tie'),\n",
    "        end_pin=Dict(component='stg_22', pin='short')\n",
    "    ),\n",
    "    lead=Dict(\n",
    "        start_straight='1mm',\n",
    "        end_straight='3mm'\n",
    "    ),\n",
    "    trace_width='400um',\n",
    "    trace_gap='275um',\n",
    "    fillet='1mm'\n",
    "))\n",
    "\n",
    "gui.rebuild()\n",
    "gui.autoscale()"
   ]
  },
  {
   "cell_type": "code",
   "execution_count": 15,
   "metadata": {},
   "outputs": [],
   "source": [
    "launch_TL_read_23 = LaunchpadWirebond(design, \n",
    "                                   'launch_TL_read_23', \n",
    "                                   options = dict(\n",
    "                                       pos_x = '0mm', \n",
    "                                       pos_y ='20mm', \n",
    "                                       orientation = '270',\n",
    "                                       trace_gap = '275um',\n",
    "                                       trace_width = '400um',\n",
    "                                       taper_height = '3000um',\n",
    "                                       pad_width='1000um',\n",
    "                                       pad_height='5000um',\n",
    "                                       pad_gap = '1900um'\n",
    "                                   ))\n",
    "stg_23 = ShortToGround(design, 'stg_23', options=dict(pos_x='0mm', pos_y='5mm', orientation='270', gap='400um', width='275um'))\n",
    "TL_end_23 = RouteStraight(design, 'TL_end_23', Dict(\n",
    "    hfss_wire_bonds = True,\n",
    "    pin_inputs=Dict(\n",
    "        start_pin=Dict(component='launch_TL_read_23', pin='tie'),\n",
    "        end_pin=Dict(component='stg_23', pin='short')\n",
    "    ),\n",
    "    lead=Dict(\n",
    "        start_straight='1mm',\n",
    "        end_straight='2mm'\n",
    "    ),\n",
    "    trace_width='400um',\n",
    "    trace_gap='275um',\n",
    "    fillet='1mm'\n",
    "))\n",
    "\n",
    "gui.rebuild()\n",
    "gui.autoscale()"
   ]
  },
  {
   "cell_type": "code",
   "execution_count": 16,
   "metadata": {},
   "outputs": [],
   "source": [
    "launch_TL_read_24 = LaunchpadWirebond(design, \n",
    "                                   'launch_TL_read_24', \n",
    "                                   options = dict(\n",
    "                                       pos_x = '-6mm', \n",
    "                                       pos_y ='20mm', \n",
    "                                       orientation = '270',\n",
    "                                       trace_gap = '275um',\n",
    "                                       trace_width = '400um',\n",
    "                                       taper_height = '3000um',\n",
    "                                       pad_width='1000um',\n",
    "                                       pad_height='5000um',\n",
    "                                       pad_gap = '1900um'\n",
    "                                   ))\n",
    "stg_24 = ShortToGround(design, 'stg_24', options=dict(pos_x='-1.25mm', pos_y='5mm', orientation='270', gap='400um', width='275um'))\n",
    "TL_end_24 = RouteStraight(design, 'TL_end_24', Dict(\n",
    "    hfss_wire_bonds = True,\n",
    "    pin_inputs=Dict(\n",
    "        start_pin=Dict(component='launch_TL_read_24', pin='tie'),\n",
    "        end_pin=Dict(component='stg_24', pin='short')\n",
    "    ),\n",
    "    lead=Dict(\n",
    "        start_straight='1mm',\n",
    "        end_straight='3mm'\n",
    "    ),\n",
    "    trace_width='400um',\n",
    "    trace_gap='275um',\n",
    "    fillet='1mm'\n",
    "))\n",
    "\n",
    "gui.rebuild()\n",
    "gui.autoscale()"
   ]
  },
  {
   "cell_type": "code",
   "execution_count": 17,
   "metadata": {},
   "outputs": [],
   "source": [
    "launch_TL_read_25 = LaunchpadWirebond(design, \n",
    "                                   'launch_TL_read_25', \n",
    "                                   options = dict(\n",
    "                                       pos_x = '-12mm', \n",
    "                                       pos_y ='20mm', \n",
    "                                       orientation = '270',\n",
    "                                       trace_gap = '275um',\n",
    "                                       trace_width = '400um',\n",
    "                                       taper_height = '3000um',\n",
    "                                       pad_width='1000um',\n",
    "                                       pad_height='5000um',\n",
    "                                       pad_gap = '1900um'\n",
    "                                   ))\n",
    "stg_25 = ShortToGround(design, 'stg_25', options=dict(pos_x='-2.5mm', pos_y='5mm', orientation='270', gap='400um', width='275um'))\n",
    "TL_end_25 = RouteStraight(design, 'TL_end_25', Dict(\n",
    "    hfss_wire_bonds = True,\n",
    "    pin_inputs=Dict(\n",
    "        start_pin=Dict(component='launch_TL_read_25', pin='tie'),\n",
    "        end_pin=Dict(component='stg_25', pin='short')\n",
    "    ),\n",
    "    lead=Dict(\n",
    "        start_straight='1mm',\n",
    "        end_straight='2mm'\n",
    "    ),\n",
    "    trace_width='400um',\n",
    "    trace_gap='275um',\n",
    "    fillet='1mm'\n",
    "))\n",
    "\n",
    "gui.rebuild()\n",
    "gui.autoscale()"
   ]
  },
  {
   "cell_type": "code",
   "execution_count": 18,
   "metadata": {},
   "outputs": [],
   "source": [
    "launch_TL_read_31 = LaunchpadWirebond(design, \n",
    "                                   'launch_TL_read_31', \n",
    "                                   options = dict(\n",
    "                                       pos_x = '-20mm', \n",
    "                                       pos_y ='12mm', \n",
    "                                       orientation = '0',\n",
    "                                       trace_gap = '275um',\n",
    "                                       trace_width = '400um',\n",
    "                                       taper_height = '3000um',\n",
    "                                       pad_width='1000um',\n",
    "                                       pad_height='5000um',\n",
    "                                       pad_gap = '1900um'\n",
    "                                   ))\n",
    "stg_31 = ShortToGround(design, 'stg_31', options=dict(pos_x='-5mm', pos_y='2.5mm', orientation='0', gap='400um', width='275um'))\n",
    "TL_end_31 = RouteStraight(design, 'TL_end_31', Dict(\n",
    "    hfss_wire_bonds = True,\n",
    "    pin_inputs=Dict(\n",
    "        start_pin=Dict(component='launch_TL_read_31', pin='tie'),\n",
    "        end_pin=Dict(component='stg_31', pin='short')\n",
    "    ),\n",
    "    lead=Dict(\n",
    "        start_straight='1mm',\n",
    "        end_straight='2mm'\n",
    "    ),\n",
    "    trace_width='400um',\n",
    "    trace_gap='275um',\n",
    "    fillet='1mm'\n",
    "))\n",
    "\n",
    "gui.rebuild()\n",
    "gui.autoscale()"
   ]
  },
  {
   "cell_type": "code",
   "execution_count": 19,
   "metadata": {},
   "outputs": [],
   "source": [
    "launch_TL_read_32 = LaunchpadWirebond(design, \n",
    "                                   'launch_TL_read_32', \n",
    "                                   options = dict(\n",
    "                                       pos_x = '-20mm', \n",
    "                                       pos_y ='6mm', \n",
    "                                       orientation = '0',\n",
    "                                       trace_gap = '275um',\n",
    "                                       trace_width = '400um',\n",
    "                                       taper_height = '3000um',\n",
    "                                       pad_width='1000um',\n",
    "                                       pad_height='5000um',\n",
    "                                       pad_gap = '1900um'\n",
    "                                   ))\n",
    "stg_32 = ShortToGround(design, 'stg_32', options=dict(pos_x='-5mm', pos_y='1.25mm', orientation='0', gap='400um', width='275um'))\n",
    "TL_end_32 = RouteStraight(design, 'TL_end_32', Dict(\n",
    "    hfss_wire_bonds = True,\n",
    "    pin_inputs=Dict(\n",
    "        start_pin=Dict(component='launch_TL_read_32', pin='tie'),\n",
    "        end_pin=Dict(component='stg_32', pin='short')\n",
    "    ),\n",
    "    lead=Dict(\n",
    "        start_straight='1mm',\n",
    "        end_straight='3mm'\n",
    "    ),\n",
    "    trace_width='400um',\n",
    "    trace_gap='275um',\n",
    "    fillet='1mm'\n",
    "))\n",
    "\n",
    "gui.rebuild()\n",
    "gui.autoscale()"
   ]
  },
  {
   "cell_type": "code",
   "execution_count": 20,
   "metadata": {},
   "outputs": [],
   "source": [
    "launch_TL_read_33 = LaunchpadWirebond(design, \n",
    "                                   'launch_TL_read_33', \n",
    "                                   options = dict(\n",
    "                                       pos_x = '-20mm', \n",
    "                                       pos_y ='0mm', \n",
    "                                       orientation = '0',\n",
    "                                       trace_gap = '275um',\n",
    "                                       trace_width = '400um',\n",
    "                                       taper_height = '3000um',\n",
    "                                       pad_width='1000um',\n",
    "                                       pad_height='5000um',\n",
    "                                       pad_gap = '1900um'\n",
    "                                   ))\n",
    "stg_33 = ShortToGround(design, 'stg_33', options=dict(pos_x='-5mm', pos_y='0mm', orientation='0', gap='400um', width='275um'))\n",
    "TL_end_33 = RouteStraight(design, 'TL_end_33', Dict(\n",
    "    hfss_wire_bonds = True,\n",
    "    pin_inputs=Dict(\n",
    "        start_pin=Dict(component='launch_TL_read_33', pin='tie'),\n",
    "        end_pin=Dict(component='stg_33', pin='short')\n",
    "    ),\n",
    "    lead=Dict(\n",
    "        start_straight='1mm',\n",
    "        end_straight='2mm'\n",
    "    ),\n",
    "    trace_width='400um',\n",
    "    trace_gap='275um',\n",
    "    fillet='1mm'\n",
    "))\n",
    "\n",
    "gui.rebuild()\n",
    "gui.autoscale()"
   ]
  },
  {
   "cell_type": "code",
   "execution_count": 21,
   "metadata": {},
   "outputs": [],
   "source": [
    "launch_TL_read_34 = LaunchpadWirebond(design, \n",
    "                                   'launch_TL_read_34', \n",
    "                                   options = dict(\n",
    "                                       pos_x = '-20mm', \n",
    "                                       pos_y ='-6mm', \n",
    "                                       orientation = '0',\n",
    "                                       trace_gap = '275um',\n",
    "                                       trace_width = '400um',\n",
    "                                       taper_height = '3000um',\n",
    "                                       pad_width='1000um',\n",
    "                                       pad_height='5000um',\n",
    "                                       pad_gap = '1900um'\n",
    "                                   ))\n",
    "stg_34 = ShortToGround(design, 'stg_34', options=dict(pos_x='-5mm', pos_y='-1.25mm', orientation='0', gap='400um', width='275um'))\n",
    "TL_end_34 = RouteStraight(design, 'TL_end_34', Dict(\n",
    "    hfss_wire_bonds = True,\n",
    "    pin_inputs=Dict(\n",
    "        start_pin=Dict(component='launch_TL_read_34', pin='tie'),\n",
    "        end_pin=Dict(component='stg_34', pin='short')\n",
    "    ),\n",
    "    lead=Dict(\n",
    "        start_straight='1mm',\n",
    "        end_straight='3mm'\n",
    "    ),\n",
    "    trace_width='400um',\n",
    "    trace_gap='275um',\n",
    "    fillet='1mm'\n",
    "))\n",
    "\n",
    "gui.rebuild()\n",
    "gui.autoscale()"
   ]
  },
  {
   "cell_type": "code",
   "execution_count": 22,
   "metadata": {},
   "outputs": [],
   "source": [
    "launch_TL_read_35 = LaunchpadWirebond(design, \n",
    "                                   'launch_TL_read_35', \n",
    "                                   options = dict(\n",
    "                                       pos_x = '-20mm', \n",
    "                                       pos_y ='-12mm', \n",
    "                                       orientation = '0',\n",
    "                                       trace_gap = '275um',\n",
    "                                       trace_width = '400um',\n",
    "                                       taper_height = '3000um',\n",
    "                                       pad_width='1000um',\n",
    "                                       pad_height='5000um',\n",
    "                                       pad_gap = '1900um'\n",
    "                                   ))\n",
    "stg_35 = ShortToGround(design, 'stg_35', options=dict(pos_x='-5mm', pos_y='-2.5mm', orientation='0', gap='400um', width='275um'))\n",
    "TL_end_35 = RouteStraight(design, 'TL_end_35', Dict(\n",
    "    hfss_wire_bonds = True,\n",
    "    pin_inputs=Dict(\n",
    "        start_pin=Dict(component='launch_TL_read_35', pin='tie'),\n",
    "        end_pin=Dict(component='stg_35', pin='short')\n",
    "    ),\n",
    "    lead=Dict(\n",
    "        start_straight='1mm',\n",
    "        end_straight='2mm'\n",
    "    ),\n",
    "    trace_width='400um',\n",
    "    trace_gap='275um',\n",
    "    fillet='1mm'\n",
    "))\n",
    "\n",
    "gui.rebuild()\n",
    "gui.autoscale()"
   ]
  },
  {
   "cell_type": "code",
   "execution_count": 23,
   "metadata": {},
   "outputs": [],
   "source": [
    "launch_TL_read_41 = LaunchpadWirebond(design, \n",
    "                                   'launch_TL_read_41', \n",
    "                                   options = dict(\n",
    "                                       pos_x = '-12mm', \n",
    "                                       pos_y ='-20mm', \n",
    "                                       orientation = '90',\n",
    "                                       trace_gap = '275um',\n",
    "                                       trace_width = '400um',\n",
    "                                       taper_height = '3000um',\n",
    "                                       pad_width='1000um',\n",
    "                                       pad_height='5000um',\n",
    "                                       pad_gap = '1900um'\n",
    "                                   ))\n",
    "stg_41 = ShortToGround(design, 'stg_41', options=dict(pos_x='-2.5mm', pos_y='-5mm', orientation='90', gap='400um', width='275um'))\n",
    "TL_end_41 = RouteStraight(design, 'TL_end_41', Dict(\n",
    "    hfss_wire_bonds = True,\n",
    "    pin_inputs=Dict(\n",
    "        start_pin=Dict(component='launch_TL_read_41', pin='tie'),\n",
    "        end_pin=Dict(component='stg_41', pin='short')\n",
    "    ),\n",
    "    lead=Dict(\n",
    "        start_straight='1mm',\n",
    "        end_straight='2mm'\n",
    "    ),\n",
    "    trace_width='400um',\n",
    "    trace_gap='275um',\n",
    "    fillet='1mm'\n",
    "))\n",
    "\n",
    "gui.rebuild()\n",
    "gui.autoscale()"
   ]
  },
  {
   "cell_type": "code",
   "execution_count": 24,
   "metadata": {},
   "outputs": [],
   "source": [
    "launch_TL_read_42 = LaunchpadWirebond(design, \n",
    "                                   'launch_TL_read_42', \n",
    "                                   options = dict(\n",
    "                                       pos_x = '-6mm', \n",
    "                                       pos_y ='-20mm', \n",
    "                                       orientation = '90',\n",
    "                                       trace_gap = '275um',\n",
    "                                       trace_width = '400um',\n",
    "                                       taper_height = '3000um',\n",
    "                                       pad_width='1000um',\n",
    "                                       pad_height='5000um',\n",
    "                                       pad_gap = '1900um'\n",
    "                                   ))\n",
    "stg_42 = ShortToGround(design, 'stg_42', options=dict(pos_x='-1.25mm', pos_y='-5mm', orientation='90', gap='400um', width='275um'))\n",
    "TL_end_42 = RouteStraight(design, 'TL_end_42', Dict(\n",
    "    hfss_wire_bonds = True,\n",
    "    pin_inputs=Dict(\n",
    "        start_pin=Dict(component='launch_TL_read_42', pin='tie'),\n",
    "        end_pin=Dict(component='stg_42', pin='short')\n",
    "    ),\n",
    "    lead=Dict(\n",
    "        start_straight='1mm',\n",
    "        end_straight='3mm'\n",
    "    ),\n",
    "    trace_width='400um',\n",
    "    trace_gap='275um',\n",
    "    fillet='1mm'\n",
    "))\n",
    "\n",
    "gui.rebuild()\n",
    "gui.autoscale()"
   ]
  },
  {
   "cell_type": "code",
   "execution_count": 25,
   "metadata": {},
   "outputs": [],
   "source": [
    "launch_TL_read_43 = LaunchpadWirebond(design, \n",
    "                                   'launch_TL_read_43', \n",
    "                                   options = dict(\n",
    "                                       pos_x = '0mm', \n",
    "                                       pos_y ='-20mm', \n",
    "                                       orientation = '90',\n",
    "                                       trace_gap = '275um',\n",
    "                                       trace_width = '400um',\n",
    "                                       taper_height = '3000um',\n",
    "                                       pad_width='1000um',\n",
    "                                       pad_height='5000um',\n",
    "                                       pad_gap = '1900um'\n",
    "                                   ))\n",
    "stg_43 = ShortToGround(design, 'stg_43', options=dict(pos_x='0mm', pos_y='-5mm', orientation='90', gap='400um', width='275um'))\n",
    "TL_end_43 = RouteStraight(design, 'TL_end_43', Dict(\n",
    "    hfss_wire_bonds = True,\n",
    "    pin_inputs=Dict(\n",
    "        start_pin=Dict(component='launch_TL_read_43', pin='tie'),\n",
    "        end_pin=Dict(component='stg_43', pin='short')\n",
    "    ),\n",
    "    lead=Dict(\n",
    "        start_straight='1mm',\n",
    "        end_straight='2mm'\n",
    "    ),\n",
    "    trace_width='400um',\n",
    "    trace_gap='275um',\n",
    "    fillet='1mm'\n",
    "))\n",
    "\n",
    "gui.rebuild()\n",
    "gui.autoscale()"
   ]
  },
  {
   "cell_type": "code",
   "execution_count": 26,
   "metadata": {},
   "outputs": [],
   "source": [
    "launch_TL_read_44 = LaunchpadWirebond(design, \n",
    "                                   'launch_TL_read_44', \n",
    "                                   options = dict(\n",
    "                                       pos_x = '6mm', \n",
    "                                       pos_y ='-20mm', \n",
    "                                       orientation = '90',\n",
    "                                       trace_gap = '275um',\n",
    "                                       trace_width = '400um',\n",
    "                                       taper_height = '3000um',\n",
    "                                       pad_width='1000um',\n",
    "                                       pad_height='5000um',\n",
    "                                       pad_gap = '1900um'\n",
    "                                   ))\n",
    "stg_44 = ShortToGround(design, 'stg_44', options=dict(pos_x='1.25mm', pos_y='-5mm', orientation='90', gap='400um', width='275um'))\n",
    "TL_end_44 = RouteStraight(design, 'TL_end_44', Dict(\n",
    "    hfss_wire_bonds = True,\n",
    "    pin_inputs=Dict(\n",
    "        start_pin=Dict(component='launch_TL_read_44', pin='tie'),\n",
    "        end_pin=Dict(component='stg_44', pin='short')\n",
    "    ),\n",
    "    lead=Dict(\n",
    "        start_straight='1mm',\n",
    "        end_straight='3mm'\n",
    "    ),\n",
    "    trace_width='400um',\n",
    "    trace_gap='275um',\n",
    "    fillet='1mm'\n",
    "))\n",
    "\n",
    "gui.rebuild()\n",
    "gui.autoscale()"
   ]
  },
  {
   "cell_type": "code",
   "execution_count": 27,
   "metadata": {},
   "outputs": [],
   "source": [
    "launch_TL_read_45 = LaunchpadWirebond(design, \n",
    "                                   'launch_TL_read_45', \n",
    "                                   options = dict(\n",
    "                                       pos_x = '12mm', \n",
    "                                       pos_y ='-20mm', \n",
    "                                       orientation = '90',\n",
    "                                       trace_gap = '275um',\n",
    "                                       trace_width = '400um',\n",
    "                                       taper_height = '3000um',\n",
    "                                       pad_width='1000um',\n",
    "                                       pad_height='5000um',\n",
    "                                       pad_gap = '1900um'\n",
    "                                   ))\n",
    "stg_45 = ShortToGround(design, 'stg_45', options=dict(pos_x='2.5mm', pos_y='-5mm', orientation='90', gap='400um', width='275um'))\n",
    "TL_end_45 = RouteStraight(design, 'TL_end_45', Dict(\n",
    "    hfss_wire_bonds = True,\n",
    "    pin_inputs=Dict(\n",
    "        start_pin=Dict(component='launch_TL_read_45', pin='tie'),\n",
    "        end_pin=Dict(component='stg_45', pin='short')\n",
    "    ),\n",
    "    lead=Dict(\n",
    "        start_straight='1mm',\n",
    "        end_straight='2mm'\n",
    "    ),\n",
    "    trace_width='400um',\n",
    "    trace_gap='275um',\n",
    "    fillet='1mm'\n",
    "))\n",
    "\n",
    "gui.rebuild()\n",
    "gui.autoscale()"
   ]
  },
  {
   "cell_type": "markdown",
   "metadata": {},
   "source": [
    "## 3. Scattering Impedance analysis"
   ]
  },
  {
   "cell_type": "code",
   "execution_count": 46,
   "metadata": {},
   "outputs": [
    {
     "name": "stderr",
     "output_type": "stream",
     "text": [
      "INFO 03:56PM [connect_project]: Connecting to Ansys Desktop API...\n",
      "INFO 03:56PM [load_ansys_project]: \tOpened Ansys App\n",
      "INFO 03:56PM [load_ansys_project]: \tOpened Ansys Desktop v2021.1.0\n",
      "INFO 03:56PM [load_ansys_project]: \tOpened Ansys Project\n",
      "\tFolder:    C:/Users/Luxcuse/Documents/Ansoft/\n",
      "\tProject:   Project22\n",
      "INFO 03:56PM [connect_design]: \tOpened active design\n",
      "\tDesign:    PCB2 [Solution type: DrivenModal]\n",
      "WARNING 03:56PM [connect_setup]: \tNo design setup detected.\n",
      "WARNING 03:56PM [connect_setup]: \tCreating driven modal default setup.\n",
      "INFO 03:56PM [get_setup]: \tOpened setup `Setup`  (<class 'pyEPR.ansys.HfssDMSetup'>)\n",
      "INFO 03:56PM [connect]: \tConnected to project \"Project22\" and design \"PCB2\" 😀 \n",
      "\n",
      "INFO 03:56PM [connect_design]: \tOpened active design\n",
      "\tDesign:    PCB2 [Solution type: DrivenModal]\n"
     ]
    }
   ],
   "source": [
    "from qiskit_metal.analyses.simulation.scattering_impedance import ScatteringImpedanceSim\n",
    "em1 = ScatteringImpedanceSim(design, \"hfss\")\n",
    "Reset_v5 = em1.renderer\n",
    "Reset_v5.start()\n",
    "Reset_v5.activate_ansys_design(\"PCB2\", 'drivenmodal')\n",
    "Reset_v5.options['x_buffer_width_mm'] = 3\n",
    "Reset_v5.options['y_buffer_width_mm'] = 3"
   ]
  },
  {
   "cell_type": "code",
   "execution_count": 44,
   "metadata": {},
   "outputs": [
    {
     "name": "stderr",
     "output_type": "stream",
     "text": [
      "INFO 03:37PM [__del__]: Disconnected from Ansys HFSS\n",
      "INFO 03:37PM [__del__]: Disconnected from Ansys HFSS\n"
     ]
    }
   ],
   "source": [
    "Reset_v5.render_design(['TL_end_21', 'TL_end_22', 'TL_end_23', 'TL_end_24', 'TL_end_25'], [],\n",
    "                   port_list=[('TL_end_21','start',50),('TL_end_21','end',50),\n",
    "                              ('TL_end_22','start',50),('TL_end_22','end',50),\n",
    "                              ('TL_end_23','start',50),('TL_end_23','end',50),\n",
    "                              ('TL_end_24','start',50),('TL_end_24','end',50),\n",
    "                              ('TL_end_25','start',50),('TL_end_25','end',50)])\n",
    "# Reset_v5.save_screenshot()"
   ]
  },
  {
   "cell_type": "code",
   "execution_count": 47,
   "metadata": {},
   "outputs": [
    {
     "name": "stderr",
     "output_type": "stream",
     "text": [
      "INFO 03:56PM [get_setup]: \tOpened setup `Setup`  (<class 'pyEPR.ansys.HfssDMSetup'>)\n"
     ]
    },
    {
     "data": {
      "text/plain": [
       "<pyEPR.ansys.HfssFrequencySweep at 0x216f8ab2bd0>"
      ]
     },
     "execution_count": 47,
     "metadata": {},
     "output_type": "execute_result"
    }
   ],
   "source": [
    "Reset_v5.add_sweep(setup_name=\"Setup\",\n",
    "               name=\"Sweep1\",\n",
    "               start_ghz=2,\n",
    "               stop_ghz=15,\n",
    "               count=1201,\n",
    "               type=\"Interpolating\"\n",
    "               )"
   ]
  },
  {
   "cell_type": "code",
   "execution_count": 48,
   "metadata": {},
   "outputs": [
    {
     "name": "stderr",
     "output_type": "stream",
     "text": [
      "INFO 03:56PM [get_setup]: \tOpened setup `Setup`  (<class 'pyEPR.ansys.HfssDMSetup'>)\n",
      "INFO 03:56PM [analyze]: Analyzing setup Setup : Sweep1\n"
     ]
    },
    {
     "name": "stderr",
     "output_type": "stream",
     "text": [
      "04:18PM 07s CRITICAL [_qt_message_handler]: line: 0, func: None(), file: None  CRITICAL: QEventDispatcherWin32::wakeUp: Failed to post a message (사용 가능한 할당량이 부족하여 이 명령을 처리할 수 없습니다.)\n",
      "\n"
     ]
    }
   ],
   "source": [
    "Reset_v5.analyze_sweep('Sweep1', 'Setup')"
   ]
  },
  {
   "cell_type": "code",
   "execution_count": 49,
   "metadata": {},
   "outputs": [],
   "source": [
    "data = Reset_v5.plot_params(['S11','S21'])"
   ]
  },
  {
   "cell_type": "code",
   "execution_count": null,
   "metadata": {},
   "outputs": [
    {
     "name": "stdout",
     "output_type": "stream",
     "text": [
      "Warning! 3 COM references still alive\n",
      "Ansys will likely refuse to shut down\n"
     ]
    },
    {
     "name": "stderr",
     "output_type": "stream",
     "text": [
      "05:20PM 20s CRITICAL [_qt_message_handler]: line: 0, func: None(), file: None  WARNING: QWindowsNativeFileDialogBase::selectNameFilter: Invalid parameter '*.gds' not found in 'All Files (*)'.\n",
      "\n",
      "05:20PM 20s CRITICAL [_qt_message_handler]: line: 0, func: None(), file: None  WARNING: QWindowsNativeFileDialogBase::selectNameFilter: Invalid parameter '*.gds' not found in 'All Files (*)'.\n",
      "\n",
      "05:20PM 44s WARNING [_import_junction_gds_file]: Not able to find file:\"../resources/Fake_Junctions.GDS\".  Not used to replace junction. Checked directory:\"c:\\Users\\Luxcuse\\Documents\\GitHub\\resources\".\n",
      "05:20PM 44s WARNING [_cheese_buffer_maker]: The bounding box for no-cheese is outside of chip size.\n",
      "Bounding box for chip is (-25.0, -25.0, 25.0, 25.0).\n",
      "Bounding box with no_cheese buffer is (-29.924999999999997, -29.924999999999997, 29.924999999999997, 29.924999999999997).\n",
      "INFO 05:20PM [__del__]: Disconnected from Ansys HFSS\n",
      "INFO 05:20PM [__del__]: Disconnected from Ansys HFSS\n"
     ]
    }
   ],
   "source": [
    "em1.close()"
   ]
  },
  {
   "cell_type": "code",
   "execution_count": null,
   "metadata": {},
   "outputs": [],
   "source": []
  }
 ],
 "metadata": {
  "celltoolbar": "Tags",
  "kernelspec": {
   "display_name": "Python 3 (ipykernel)",
   "language": "python",
   "name": "python3"
  },
  "language_info": {
   "codemirror_mode": {
    "name": "ipython",
    "version": 3
   },
   "file_extension": ".py",
   "mimetype": "text/x-python",
   "name": "python",
   "nbconvert_exporter": "python",
   "pygments_lexer": "ipython3",
   "version": "3.11.8"
  }
 },
 "nbformat": 4,
 "nbformat_minor": 4
}
